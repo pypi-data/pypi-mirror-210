{
 "cells": [
  {
   "cell_type": "markdown",
   "id": "c5c7aa2b",
   "metadata": {},
   "source": [
    "# Suncal API User Manual: Reproducibility and Analysis of Variance\n",
    "\n",
    "Suncal's `datasets` module provides methods for computing repeatability, reproducibility, and analysis of variance on \"2-dimensional\" sets of measurement data.\n",
    "For example, when a device is measured 10 times, every day for 5 days, the repeatability metric describes the variation within one day, while the reproducibility describes variation between days.\n",
    "Analysis of variance helps determine whether the reproducibility is significant.\n",
    "\n",
    "Note when using suncal's uncertainty propagation calculation `suncal.Model`, the `measure()` method can be given a 2D array and will take care of these calculations automatically to determine the Type A uncertainty in a variable.\n",
    "The `datasets` module provides access to these functions for other calculations.\n"
   ]
  },
  {
   "cell_type": "code",
   "execution_count": 1,
   "id": "9ecb0520",
   "metadata": {},
   "outputs": [],
   "source": [
    "import numpy as np\n",
    "import matplotlib.pyplot as plt\n",
    "plt.rcParams['figure.figsize'] = (4,3)\n",
    "\n",
    "from suncal import datasets"
   ]
  },
  {
   "cell_type": "markdown",
   "id": "8c8bf73d",
   "metadata": {},
   "source": [
    "## Repeatability and Reproducibility\n",
    "\n",
    "Here, we start by making up some fake data. The \"groups\", or days, in this instance are the first dimension of the array, while the repeats each day are the second axis/dimension."
   ]
  },
  {
   "cell_type": "code",
   "execution_count": 2,
   "id": "6166c2a4",
   "metadata": {},
   "outputs": [],
   "source": [
    "data = np.random.normal(loc=10, scale=.5, size=(5, 10))"
   ]
  },
  {
   "cell_type": "markdown",
   "id": "aee44904",
   "metadata": {},
   "source": [
    "The `datasets.group_stats` method provides statistics for each group. It simply finds the mean, variance, and standard error of each column independently, and provides a namedtuple with this information."
   ]
  },
  {
   "cell_type": "code",
   "execution_count": 3,
   "id": "3daae989",
   "metadata": {},
   "outputs": [
    {
     "data": {
      "text/plain": [
       "GroupStats(mean=array([10.0948166 , 10.13165555,  9.75769313, 10.00092707, 10.23280703]), variance=array([0.35917108, 0.18556837, 0.29856083, 0.29844546, 0.26771381]), standarddev=array([0.59930884, 0.43077648, 0.5464072 , 0.54630162, 0.51741067]), standarderror=array([0.1895181 , 0.13622348, 0.17278913, 0.17275574, 0.16361962]), N=array([10, 10, 10, 10, 10], dtype=int64), degf=array([9, 9, 9, 9, 9], dtype=int64))"
      ]
     },
     "execution_count": 3,
     "metadata": {},
     "output_type": "execute_result"
    }
   ],
   "source": [
    "datasets.group_stats(data)"
   ]
  },
  {
   "cell_type": "markdown",
   "id": "951a529f",
   "metadata": {},
   "source": [
    "The `datasets.pooled_stats` method computes repeatability and reproducibility. Refer to Appendix H.5 of JCGM 100 for mathematical details of the calculation."
   ]
  },
  {
   "cell_type": "code",
   "execution_count": 4,
   "id": "9ca8d1a5",
   "metadata": {},
   "outputs": [
    {
     "data": {
      "text/plain": [
       "PooledStats(mean=10.043579876861624, reproducibility=0.1800971498125482, repeatability=0.5309349398060842, reproducibility_degf=4, repeatability_degf=45)"
      ]
     },
     "execution_count": 4,
     "metadata": {},
     "output_type": "execute_result"
    }
   ],
   "source": [
    "datasets.pooled_stats(data)"
   ]
  },
  {
   "cell_type": "markdown",
   "id": "000984e0",
   "metadata": {},
   "source": [
    "Analysis of variance is computed using `datasets.anova`. It determines whether reproducibility is significant using an F-test and p-test.\n",
    "The tuple returned includes the F and P metrics, the critical F value, and sum-of-squares between groups (days in our example) and within groups.\n",
    "The boolean `reprod_significant` indicates whether reproducibility is statistically significant in the data."
   ]
  },
  {
   "cell_type": "code",
   "execution_count": 5,
   "id": "38edc666",
   "metadata": {},
   "outputs": [
    {
     "data": {
      "text/plain": [
       "AnovaResult(F=1.1506177433503535, P=0.34521814565887626, Fcrit=2.5787391843115586, reprod_significant=True, SSbet=1.2973993348241373, SSwit=12.685135963810062, MSbet=0.3243498337060343, MSwit=0.28189191030689026)"
      ]
     },
     "execution_count": 5,
     "metadata": {},
     "output_type": "execute_result"
    }
   ],
   "source": [
    "datasets.anova(data)"
   ]
  },
  {
   "cell_type": "markdown",
   "id": "1952a60c",
   "metadata": {},
   "source": [
    "Typically in metrology, the ANOVA is used to determine an estimate of standard error to use in an uncertainty evaluation. The `datasets.standarderror` combines the above calculations by calculating repeatability, reproducibility, and anova, then computes the best estimate of uncertainty (standard error of the mean) of that set of data.\n",
    "This is the method used by the `measure` method of `suncal.Model` when given a 2D array."
   ]
  },
  {
   "cell_type": "code",
   "execution_count": 6,
   "id": "3f3bd437",
   "metadata": {},
   "outputs": [
    {
     "data": {
      "text/plain": [
       "StandardError(standarderror=0.07554572962615858, degf=49, standarddeviation=0.5341889770834218, reprod_significant=False)"
      ]
     },
     "execution_count": 6,
     "metadata": {},
     "output_type": "execute_result"
    }
   ],
   "source": [
    "datasets.standarderror(data)"
   ]
  },
  {
   "cell_type": "markdown",
   "id": "de108a97",
   "metadata": {},
   "source": [
    "## Autocorrelation\n",
    "\n",
    "When multiple samples are measured over a short period of time, the values may be correlated with each other in time. This is known as autocorrelation.\n",
    "This autocorrelation may affect the standard deviation of the values.\n",
    "\n",
    "As an example, we load the 'flicker.dat' example data used by the NIST handbook: https://www.itl.nist.gov/div898/handbook/eda/section3/eda35c.htm\n",
    "\n",
    "A histogram of this data looks relatively normal, and taking the standard error of the mean produces one estimate of the Type A uncertainty."
   ]
  },
  {
   "cell_type": "code",
   "execution_count": 7,
   "id": "fb723ee4",
   "metadata": {},
   "outputs": [
    {
     "data": {
      "image/png": "[encoded data removed]",
      "text/plain": [
       "<Figure size 400x300 with 1 Axes>"
      ]
     },
     "metadata": {
      "needs_background": "light"
     },
     "output_type": "display_data"
    }
   ],
   "source": [
    "data = np.genfromtxt('../Examples/Data/flicker.dat', skip_header=25)\n",
    "plt.hist(data, bins=40);"
   ]
  },
  {
   "cell_type": "code",
   "execution_count": 8,
   "id": "c0593d2d",
   "metadata": {},
   "outputs": [
    {
     "data": {
      "text/plain": [
       "0.00018909621121798552"
      ]
     },
     "execution_count": 8,
     "metadata": {},
     "output_type": "execute_result"
    }
   ],
   "source": [
    "data.std(ddof=1) / np.sqrt(len(data))  # Typical Type A uncertainty evaluation"
   ]
  },
  {
   "cell_type": "markdown",
   "id": "b0829865",
   "metadata": {},
   "source": [
    "However, the data points in this array are correlated in time.\n",
    "The `datasets.autocorrelation` method computes the autocorrelation versus lag array, which can be used to generate the autocorrelaion plot."
   ]
  },
  {
   "cell_type": "code",
   "execution_count": 9,
   "id": "b0262a04",
   "metadata": {
    "scrolled": false
   },
   "outputs": [
    {
     "data": {
      "image/png": "[encoded data removed]",
      "text/plain": [
       "<Figure size 400x300 with 1 Axes>"
      ]
     },
     "metadata": {
      "needs_background": "light"
     },
     "output_type": "display_data"
    }
   ],
   "source": [
    "autocor = datasets.autocorrelation(data)\n",
    "plt.plot(autocor)\n",
    "plt.xlabel('Lag')\n",
    "plt.ylabel('Autocorrelation');"
   ]
  },
  {
   "cell_type": "markdown",
   "id": "4001ae27",
   "metadata": {},
   "source": [
    "Accounting for this autocorrelation, the estimate of uncertainty may be computed using `datasets.uncert_autocorrelated`.\n",
    "This results in a much larger estimate of uncertainty.\n",
    "In the resulting tuple, the `uncert` parameter is the uncertainty estimate, while `r` is the multiplier used to expand the computed variance, and `r_unc` the multiplier to expand the computed uncertainty, to account for autocorrelation.\n",
    "In this example, the uncertainty is 7.2 times higher than the typical Type A evaluation done above. `nc` is the cut-off lag, the lag at which autocorrelation becomes insignificant."
   ]
  },
  {
   "cell_type": "code",
   "execution_count": 10,
   "id": "602680bb",
   "metadata": {},
   "outputs": [
    {
     "data": {
      "text/plain": [
       "AutoCorrUncert(uncert=0.0013550704920251779, r=51.352089762522546, r_unc=7.16603724261342, nc=57)"
      ]
     },
     "execution_count": 10,
     "metadata": {},
     "output_type": "execute_result"
    }
   ],
   "source": [
    "datasets.uncert_autocorrelated(data)"
   ]
  },
  {
   "cell_type": "markdown",
   "id": "5ee44834",
   "metadata": {},
   "source": [
    "Refer to the paper by Nien Fan Zhang in Metrologia 43 (2006) for mathematical details of the calculation."
   ]
  },
  {
   "cell_type": "code",
   "execution_count": null,
   "id": "d17d66c2",
   "metadata": {},
   "outputs": [],
   "source": []
  }
 ],
 "metadata": {
  "kernelspec": {
   "display_name": "Python 3 (ipykernel)",
   "language": "python",
   "name": "python3"
  },
  "language_info": {
   "codemirror_mode": {
    "name": "ipython",
    "version": 3
   },
   "file_extension": ".py",
   "mimetype": "text/x-python",
   "name": "python",
   "nbconvert_exporter": "python",
   "pygments_lexer": "ipython3",
   "version": "3.11.0"
  }
 },
 "nbformat": 4,
 "nbformat_minor": 5
}
