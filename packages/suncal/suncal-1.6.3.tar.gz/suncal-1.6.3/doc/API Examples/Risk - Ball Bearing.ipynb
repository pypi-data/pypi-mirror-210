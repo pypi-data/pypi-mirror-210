{
 "cells": [
  {
   "cell_type": "markdown",
   "id": "938461f6",
   "metadata": {},
   "source": [
    "## False Accept Risk in Ball Bearing Manufacturing\n",
    "\n",
    "Example from JCGM 106, section 9.5.4:\n",
    "\n",
    "\"A manufacturer produces large numbers of precision ball bearings. The performance specification for these bearings (the items) requires that, for each of them, the radial error motion (the property of interest) be less than 2 $\\mu$m. Radial error motion of a bearing is undesired motion perpendicular to the axis of rotation. For a perfect bearing, the radial error motion would be zero; any real bearing will have a positive radial error motion.\""
   ]
  },
  {
   "cell_type": "code",
   "execution_count": 1,
   "id": "a6db96cb",
   "metadata": {},
   "outputs": [],
   "source": [
    "from scipy import stats\n",
    "import numpy as np\n",
    "import matplotlib.pyplot as plt\n",
    "plt.rcParams['figure.figsize'] = (4, 3)\n",
    "\n",
    "from suncal import risk"
   ]
  },
  {
   "cell_type": "markdown",
   "id": "f84bc259",
   "metadata": {},
   "source": [
    "Start by defining the product distribution. JCGM 106 recommends a gamma distribution because the raidal error motion is close to zero, but must be positive."
   ]
  },
  {
   "cell_type": "code",
   "execution_count": 2,
   "id": "ee1dd26d",
   "metadata": {},
   "outputs": [],
   "source": [
    "UL = 2  # Upper Tolerance of 2\n",
    "products = stats.gamma(a=4, scale=1/4)  # Note stats.gamma uses 'scale' parameter, which is 1/b"
   ]
  },
  {
   "cell_type": "markdown",
   "id": "c61803af",
   "metadata": {},
   "source": [
    "What is risk that any bearing, with no inspection, falls OOT? Use `risk.specific_risk`."
   ]
  },
  {
   "cell_type": "code",
   "execution_count": 3,
   "id": "2ba9762f",
   "metadata": {},
   "outputs": [
    {
     "data": {
      "text/plain": [
       "0.04238011199168401"
      ]
     },
     "execution_count": 3,
     "metadata": {},
     "output_type": "execute_result"
    }
   ],
   "source": [
    "risk.specific_risk(products, UL=UL, LL=0).total"
   ]
  },
  {
   "cell_type": "code",
   "execution_count": 4,
   "id": "e64aa06f",
   "metadata": {},
   "outputs": [
    {
     "data": {
      "text/plain": [
       "<matplotlib.lines.Line2D at 0x28778245c50>"
      ]
     },
     "execution_count": 4,
     "metadata": {},
     "output_type": "execute_result"
    },
    {
     "data": {
      "image/png": "[encoded data removed]",
      "text/plain": [
       "<Figure size 400x300 with 1 Axes>"
      ]
     },
     "metadata": {
      "needs_background": "light"
     },
     "output_type": "display_data"
    }
   ],
   "source": [
    "# Recreate JCGM Figure 14\n",
    "x = np.linspace(0, 3, num=200)\n",
    "y = products.pdf(x)\n",
    "plt.plot(x, y)\n",
    "plt.fill_between(x, y, where=(x>UL), alpha=.5)\n",
    "plt.axvline(UL, ls='--', color='black');\n",
    "plt.axvline(products.mean(), ls=':')"
   ]
  },
  {
   "cell_type": "markdown",
   "id": "01a7e28b",
   "metadata": {},
   "source": [
    "The 4.2% risk of OOT is too high to be acceptable. Each bearing should be inspected and accepted/rejected to reduce this risk.\n",
    "Adding a measurement with uncertainty of 0.25 um, results in a false accept risk of 0.8%."
   ]
  },
  {
   "cell_type": "code",
   "execution_count": 5,
   "id": "d63b4c86",
   "metadata": {},
   "outputs": [
    {
     "data": {
      "text/plain": [
       "0.008019111884286617"
      ]
     },
     "execution_count": 5,
     "metadata": {},
     "output_type": "execute_result"
    }
   ],
   "source": [
    "measure = stats.norm(scale=0.25)\n",
    "risk.PFA(products, measure, LL=0, UL=UL)"
   ]
  },
  {
   "cell_type": "markdown",
   "id": "f3b48ec1",
   "metadata": {},
   "source": [
    "The customer requirements specify a false accept rate no greater than 0.1%, so guardbanding is necessary. Using `risk.guardband`, determine the acceptance limit to give us 0.1% PFA.\n"
   ]
  },
  {
   "cell_type": "code",
   "execution_count": 6,
   "id": "5ecf5955",
   "metadata": {},
   "outputs": [
    {
     "data": {
      "text/plain": [
       "0.32817122843913177"
      ]
     },
     "execution_count": 6,
     "metadata": {},
     "output_type": "execute_result"
    }
   ],
   "source": [
    "gb = risk.guardband(products, measure, LL=0, UL=UL, target_PFA=0.001)\n",
    "gb"
   ]
  },
  {
   "cell_type": "markdown",
   "id": "71a11ab3",
   "metadata": {},
   "source": [
    "The result is the absolute guardband to subtract from the upper limit, so the new reduced acceptance limit is:"
   ]
  },
  {
   "cell_type": "code",
   "execution_count": 7,
   "id": "17007515",
   "metadata": {},
   "outputs": [
    {
     "data": {
      "text/plain": [
       "1.6718287715608682"
      ]
     },
     "execution_count": 7,
     "metadata": {},
     "output_type": "execute_result"
    }
   ],
   "source": [
    "UL - gb"
   ]
  },
  {
   "cell_type": "code",
   "execution_count": null,
   "id": "39a77497",
   "metadata": {},
   "outputs": [],
   "source": []
  }
 ],
 "metadata": {
  "kernelspec": {
   "display_name": "Python 3 (ipykernel)",
   "language": "python",
   "name": "python3"
  },
  "language_info": {
   "codemirror_mode": {
    "name": "ipython",
    "version": 3
   },
   "file_extension": ".py",
   "mimetype": "text/x-python",
   "name": "python",
   "nbconvert_exporter": "python",
   "pygments_lexer": "ipython3",
   "version": "3.11.0"
  }
 },
 "nbformat": 4,
 "nbformat_minor": 5
}
