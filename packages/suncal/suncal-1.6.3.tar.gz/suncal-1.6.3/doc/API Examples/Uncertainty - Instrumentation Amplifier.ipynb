{
 "cells": [
  {
   "cell_type": "markdown",
   "metadata": {},
   "source": [
    "# Instrumentation amplifier\n",
    "\n",
    "Problem: Choose resistors to minimize the uncertainty of the amplifier gain.\n",
    "\n",
    "(Ref: Figure 5-12 in Thackray, Electronic Design)\n",
    "\n",
    "![Amplifier](inst_amp.png)\n",
    "\n",
    "The textbook equation for gain is $-\\frac{R_4}{R_3}(1+\\frac{2 R_2}{R_1})$. However, the resistor pairs (e.g. both $R_2$'s) will not be identical, but pulled from the same distribution. We need to re-derive the gain expression keeping the resistor pairs separate. Instead of doing a bunch of ugly algebra, we can set up the current equations and use Sympy to solve the system."
   ]
  },
  {
   "cell_type": "code",
   "execution_count": 1,
   "metadata": {},
   "outputs": [],
   "source": [
    "import sympy\n",
    "import numpy as np\n",
    "import matplotlib.pyplot as plt\n",
    "\n",
    "import suncal"
   ]
  },
  {
   "cell_type": "code",
   "execution_count": 2,
   "metadata": {},
   "outputs": [
    {
     "data": {
      "text/latex": [
       "$\\displaystyle \\frac{R_{1} R_{3a} R_{4b} v_{s2} - R_{1} R_{3b} R_{4a} v_{s1} - R_{1} R_{4a} R_{4b} v_{s1} + R_{1} R_{4a} R_{4b} v_{s2} - R_{21} R_{3a} R_{4b} v_{s1} + R_{21} R_{3a} R_{4b} v_{s2} - R_{21} R_{4a} R_{4b} v_{s1} + R_{21} R_{4a} R_{4b} v_{s2} - R_{22} R_{3b} R_{4a} v_{s1} + R_{22} R_{3b} R_{4a} v_{s2} - R_{22} R_{4a} R_{4b} v_{s1} + R_{22} R_{4a} R_{4b} v_{s2}}{R_{1} R_{3a} \\left(R_{3b} + R_{4b}\\right)}$"
      ],
      "text/plain": [
       "(R_1*R_3a*R_4b*v_s2 - R_1*R_3b*R_4a*v_s1 - R_1*R_4a*R_4b*v_s1 + R_1*R_4a*R_4b*v_s2 - R_21*R_3a*R_4b*v_s1 + R_21*R_3a*R_4b*v_s2 - R_21*R_4a*R_4b*v_s1 + R_21*R_4a*R_4b*v_s2 - R_22*R_3b*R_4a*v_s1 + R_22*R_3b*R_4a*v_s2 - R_22*R_4a*R_4b*v_s1 + R_22*R_4a*R_4b*v_s2)/(R_1*R_3a*(R_3b + R_4b))"
      ]
     },
     "execution_count": 2,
     "metadata": {},
     "output_type": "execute_result"
    }
   ],
   "source": [
    "vs1, vs2, vo1, vo2 = sympy.symbols(['v_s1', 'v_s2', 'v_o1','v_o2'])\n",
    "R22, R21, R3a, R3b, R4a, R4b = sympy.symbols(['R_21', 'R_22', 'R_3a','R_3b','R_4a','R_4b'])\n",
    "a3, vo, R1, R2, R3, R4 = sympy.symbols(['a3', 'vo', 'R_1', 'R_2','R_3', 'R_4'])\n",
    "eqn1 = sympy.Eq((vo1-a3)/R3a, (a3-vo)/R4a)\n",
    "eqn2 = sympy.Eq((vo2-a3)/R3b,  a3/R4b)\n",
    "eqn3 = sympy.Eq((vo1-vs1)/R21, (vs1-vs2)/R1)\n",
    "eqn4 = sympy.Eq((vo2-vs2)/R22, (vs2-vs1)/R1)\n",
    "vout = sympy.solve((eqn1, eqn2, eqn3, eqn4), (a3,vo1,vo2,vo))\n",
    "vout = vout[vo].simplify()\n",
    "vout"
   ]
  },
  {
   "cell_type": "markdown",
   "metadata": {},
   "source": [
    "Double check: if the resistor pairs are equal (R_1a == R1b, etc), the expression should reduce to $-\\frac{R_4}{R_3}(1+\\frac{2 R_2}{R_1})(v_{s1}-v_{s2})$."
   ]
  },
  {
   "cell_type": "code",
   "execution_count": 3,
   "metadata": {},
   "outputs": [
    {
     "data": {
      "text/latex": [
       "$\\displaystyle - \\frac{R_{4} \\left(R_{1} + 2 R_{2}\\right) \\left(v_{s1} - v_{s2}\\right)}{R_{1} R_{3}}$"
      ],
      "text/plain": [
       "-R_4*(R_1 + 2*R_2)*(v_s1 - v_s2)/(R_1*R_3)"
      ]
     },
     "execution_count": 3,
     "metadata": {},
     "output_type": "execute_result"
    }
   ],
   "source": [
    "vout_simp = vout.subs({'R_3a':R3,'R_3b':R3,'R_4a':R4,'R_4b':R4, 'R_22':R2, 'R_21':R2}).factor()\n",
    "vout_simp"
   ]
  },
  {
   "cell_type": "markdown",
   "metadata": {},
   "source": [
    "Now that we have our expression, send it in to the calculator. Make up some resistor values, and start with all 5% tolerance. This is assuming that 5% is normally distributed, which may or may not be valid.\n",
    "\n",
    "Report the sensitivity coefficients to see which resistor has the most influence."
   ]
  },
  {
   "cell_type": "code",
   "execution_count": 4,
   "metadata": {},
   "outputs": [
    {
     "data": {
      "text/markdown": [
       "## $f_{1}$\n",
       "\n",
       "\n",
       "|Variable   | Sensitivity   | Proportion  |\n",
       "|----------|-------------|------------|\n",
       "|$R_{1}$   | 0.000019      | 33.00%      |\n",
       "|$R_{21}$   | -2.0e-06      | 8.25%       |\n",
       "|$R_{22}$   | -2.0e-06      | 8.25%       |\n",
       "|$R_{3a}$   | 7.1e-06      | 22.72%      |\n",
       "|$R_{3b}$   | 2.4e-06      | 2.52%       |\n",
       "|$R_{4a}$   | -7.1e-06      | 22.72%      |\n",
       "|$R_{4b}$   | -2.4e-06      | 2.52%       |\n",
       "|$v_{s1}$   | -10.4      | 0.00%       |\n",
       "|$v_{s2}$   | 10.4      | 0.00%       |\n",
       "\n",
       "\n",
       "## $gain$\n",
       "\n",
       "\n",
       "|Variable   | Sensitivity   | Proportion  |\n",
       "|----------|-------------|------------|\n",
       "|$R_{1}$  | 0.00094      | 33.00%      |\n",
       "|$R_{21}$  | -0.00010     | 8.25%       |\n",
       "|$R_{22}$  | -0.00010     | 8.25%       |\n",
       "|$R_{3a}$  | 0.00035     | 22.72%      |\n",
       "|$R_{3b}$  | 0.00012     | 2.52%       |\n",
       "|$R_{4a}$  | -0.00035     | 22.72%      |\n",
       "|$R_{4b}$  | -0.00012     | 2.52%       |\n",
       "|$v_{s1}$  | 0.0     | 0.00%       |\n",
       "|$v_{s2}$  | 0.0     | 0.00%       |"
      ],
      "text/plain": [
       "<suncal.common.report.Report at 0x1749780f890>"
      ]
     },
     "execution_count": 4,
     "metadata": {},
     "output_type": "execute_result"
    }
   ],
   "source": [
    "model = suncal.Model(vout, 'gain=f1/(v_s1-v_s2)')\n",
    "model.var('R_1').measure(10000).typeb(unc='5%')\n",
    "model.var('R_21').measure(47000).typeb(unc='5%')\n",
    "model.var('R_22').measure(47000).typeb(unc='5%')\n",
    "model.var('R_3a').measure(22000).typeb(unc='5%')\n",
    "model.var('R_3b').measure(22000).typeb(unc='5%')\n",
    "model.var('R_4a').measure(22000).typeb(unc='5%')\n",
    "model.var('R_4b').measure(22000).typeb(unc='5%')\n",
    "model.var('v_s1').measure(0.010).typeb(unc='1E-6')\n",
    "model.var('v_s2').measure(-0.010).typeb(unc='1E-6')\n",
    "result = model.calculate_gum()\n",
    "result.report.sensitivity()"
   ]
  },
  {
   "cell_type": "markdown",
   "metadata": {},
   "source": [
    "R1 is most of uncertainty. Change it to 1% and see how it looks."
   ]
  },
  {
   "cell_type": "code",
   "execution_count": 5,
   "metadata": {},
   "outputs": [
    {
     "data": {
      "text/markdown": [
       "## $f_{1}$\n",
       "\n",
       "\n",
       "|Variable   | Sensitivity   | Proportion  |\n",
       "|----------|-------------|------------|\n",
       "|$R_{1}$   | 0.000019      | 1.93%       |\n",
       "|$R_{21}$   | -2.0e-06      | 12.08%      |\n",
       "|$R_{22}$   | -2.0e-06      | 12.08%      |\n",
       "|$R_{3a}$   | 7.1e-06      | 33.26%      |\n",
       "|$R_{3b}$   | 2.4e-06      | 3.70%       |\n",
       "|$R_{4a}$   | -7.1e-06      | 33.26%      |\n",
       "|$R_{4b}$   | -2.4e-06      | 3.70%       |\n",
       "|$v_{s1}$   | -10.4      | 0.00%       |\n",
       "|$v_{s2}$   | 10.4      | 0.00%       |\n",
       "\n",
       "\n",
       "## $gain$\n",
       "\n",
       "\n",
       "|Variable   | Sensitivity   | Proportion  |\n",
       "|----------|-------------|------------|\n",
       "|$R_{1}$  | 0.00094      | 1.93%       |\n",
       "|$R_{21}$  | -0.00010     | 12.08%      |\n",
       "|$R_{22}$  | -0.00010     | 12.08%      |\n",
       "|$R_{3a}$  | 0.00035     | 33.26%      |\n",
       "|$R_{3b}$  | 0.00012     | 3.70%       |\n",
       "|$R_{4a}$  | -0.00035     | 33.26%      |\n",
       "|$R_{4b}$  | -0.00012     | 3.70%       |\n",
       "|$v_{s1}$  | 0.0     | 0.00%       |\n",
       "|$v_{s2}$  | 0.0     | 0.00%       |"
      ],
      "text/plain": [
       "<suncal.common.report.Report at 0x1749778f890>"
      ]
     },
     "execution_count": 5,
     "metadata": {},
     "output_type": "execute_result"
    }
   ],
   "source": [
    "model.var('R_1').clear_typeb().typeb(unc='1%')\n",
    "result = model.calculate_gum()\n",
    "result.report.sensitivity()"
   ]
  },
  {
   "cell_type": "markdown",
   "metadata": {},
   "source": [
    "### Optimize stages\n",
    "\n",
    "The amplifier has two stages. For constant gain $A = A_1 \\times A_2$. Does it matter where we set each stage to for uncertainty purposes?\n",
    "\n",
    "Here we'll loop the solution, changing resistor values over a range of possible gain combinations."
   ]
  },
  {
   "cell_type": "code",
   "execution_count": 6,
   "metadata": {},
   "outputs": [],
   "source": [
    "Atot = 100\n",
    "A1list = np.linspace(1,Atot*.99,num=50)\n",
    "percent_uncert = np.zeros_like(A1list)\n",
    "for i, A1 in enumerate(A1list):\n",
    "    R1 = 10000\n",
    "    R3 = 22000\n",
    "    A2 = Atot/A1\n",
    "    R4 = A1 * R3\n",
    "    R2 = (A2 - 1) * R1 / 2\n",
    "\n",
    "    model = suncal.Model(vout)\n",
    "    model.var('R_1').measure(R1).typeb(unc='5%')\n",
    "    model.var('R_21').measure(R2).typeb(unc='5%')\n",
    "    model.var('R_22').measure(R2).typeb(unc='5%')\n",
    "    model.var('R_3a').measure(R3).typeb(unc='5%')\n",
    "    model.var('R_3b').measure(R3).typeb(unc='5%')\n",
    "    model.var('R_4a').measure(R4).typeb(unc='5%')\n",
    "    model.var('R_4b').measure(R4).typeb(unc='5%')\n",
    "    model.var('v_s1').measure(0.010).typeb(unc='1E-6')\n",
    "    model.var('v_s2').measure(-0.010).typeb(unc='1E-6')\n",
    "    result = model.calculate_gum()\n",
    "    percent_uncert[i] = abs(result.uncertainty['f1'] / result.expected['f1'])"
   ]
  },
  {
   "cell_type": "code",
   "execution_count": 7,
   "metadata": {},
   "outputs": [
    {
     "data": {
      "image/png": "[encoded data removed]",
      "text/plain": [
       "<Figure size 640x480 with 1 Axes>"
      ]
     },
     "metadata": {
      "needs_background": "light"
     },
     "output_type": "display_data"
    }
   ],
   "source": [
    "plt.plot(A1list, percent_uncert*100, lw=2)\n",
    "plt.xlabel('Stage 1 Gain')\n",
    "plt.ylabel('Uncertainty %')\n",
    "plt.tight_layout()"
   ]
  },
  {
   "cell_type": "code",
   "execution_count": null,
   "metadata": {},
   "outputs": [],
   "source": []
  }
 ],
 "metadata": {
  "kernelspec": {
   "display_name": "Python 3 (ipykernel)",
   "language": "python",
   "name": "python3"
  },
  "language_info": {
   "codemirror_mode": {
    "name": "ipython",
    "version": 3
   },
   "file_extension": ".py",
   "mimetype": "text/x-python",
   "name": "python",
   "nbconvert_exporter": "python",
   "pygments_lexer": "ipython3",
   "version": "3.11.0"
  }
 },
 "nbformat": 4,
 "nbformat_minor": 4
}
