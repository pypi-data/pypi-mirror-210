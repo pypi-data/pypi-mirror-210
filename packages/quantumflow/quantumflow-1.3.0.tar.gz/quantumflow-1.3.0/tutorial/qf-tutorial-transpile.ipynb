{
  "nbformat": 4,
  "nbformat_minor": 0,
  "metadata": {
    "colab": {
      "name": "qf-example-translate.ipynb",
      "provenance": [],
      "collapsed_sections": [],
      "authorship_tag": "ABX9TyOH/tvWgfwHxEQqbeqqqvx7",
      "include_colab_link": true
    },
    "kernelspec": {
      "name": "python3",
      "display_name": "Python 3"
    },
    "language_info": {
      "name": "python"
    }
  },
  "cells": [
    {
      "cell_type": "markdown",
      "metadata": {
        "id": "view-in-github",
        "colab_type": "text"
      },
      "source": [
        "<a href=\"https://colab.research.google.com/github/gecrooks/quantumflow-dev/blob/colab/notebooks/qf-tutorial-transpiling.ipynb\" target=\"_parent\"><img src=\"https://colab.research.google.com/assets/colab-badge.svg\" alt=\"Open In Colab\"/></a>"
      ]
    },
    {
      "cell_type": "markdown",
      "metadata": {
        "id": "zEYEt6mowqNl"
      },
      "source": [
        "# QuantumFlow Tutorial: Transpiling"
      ]
    },
    {
      "cell_type": "markdown",
      "metadata": {
        "id": "1BFW58kYsOpA"
      },
      "source": [
        "[QuantumFlow](https://https://github.com/gecrooks/quantumflow-dev) can convert circuits between a number of popular quantum libraries, such as `qiskit`, `braket`, and `cirq`. These additional libaries can be installed with the `[ext]` or `[dev]` options, e.g. `pip install quantumflow[ext]`"
      ]
    },
    {
      "cell_type": "code",
      "metadata": {
        "id": "fDQE3APeC0tU",
        "colab": {
          "base_uri": "https://localhost:8080/"
        },
        "outputId": "7bd6dfe0-893e-41d0-b19d-a9426d1e86d7"
      },
      "source": [
        "!pip install -qqq git+https://github.com/gecrooks/quantumflow.git#egg=quantumflow[ext]"
      ],
      "execution_count": 21,
      "outputs": [
        {
          "output_type": "stream",
          "name": "stdout",
          "text": [
            "  Installing build dependencies ... \u001b[?25l\u001b[?25hdone\n",
            "  Getting requirements to build wheel ... \u001b[?25l\u001b[?25hdone\n",
            "    Preparing wheel metadata ... \u001b[?25l\u001b[?25hdone\n"
          ]
        }
      ]
    },
    {
      "cell_type": "markdown",
      "metadata": {
        "id": "fUZYiTJ3LdRX"
      },
      "source": [
        "Let's built a simple quantum circuit to make a 5 qubit Bell state using IBM's `qiskit`."
      ]
    },
    {
      "cell_type": "code",
      "metadata": {
        "colab": {
          "base_uri": "https://localhost:8080/"
        },
        "id": "k1_BE9ATsDqi",
        "outputId": "b798d729-809d-4924-df69-f1d5e4a14701"
      },
      "source": [
        "import qiskit\n",
        "qr = qiskit.QuantumRegister(5)\n",
        "qiskit_circuit = qiskit.QuantumCircuit(qr)\n",
        "qiskit_circuit.h(qr[0])\n",
        "qiskit_circuit.cx(qr[0], qr[1])\n",
        "qiskit_circuit.cx(qr[1], qr[2])\n",
        "qiskit_circuit.cx(qr[2], qr[3])\n",
        "qiskit_circuit.cx(qr[3], qr[4])\n",
        "print(qiskit_circuit)\n"
      ],
      "execution_count": 22,
      "outputs": [
        {
          "output_type": "stream",
          "name": "stdout",
          "text": [
            "      ┌───┐                    \n",
            "q2_0: ┤ H ├──■─────────────────\n",
            "      └───┘┌─┴─┐               \n",
            "q2_1: ─────┤ X ├──■────────────\n",
            "           └───┘┌─┴─┐          \n",
            "q2_2: ──────────┤ X ├──■───────\n",
            "                └───┘┌─┴─┐     \n",
            "q2_3: ───────────────┤ X ├──■──\n",
            "                     └───┘┌─┴─┐\n",
            "q2_4: ────────────────────┤ X ├\n",
            "                          └───┘\n"
          ]
        }
      ]
    },
    {
      "cell_type": "markdown",
      "metadata": {
        "id": "r1SjOHsULjib"
      },
      "source": [
        "We can then convert this `qiskit` circuit to native `quantumflow`,"
      ]
    },
    {
      "cell_type": "code",
      "metadata": {
        "id": "aJ10xHQwQqpf",
        "colab": {
          "base_uri": "https://localhost:8080/",
          "height": 130
        },
        "outputId": "2c8d6d18-7d41-44a2-be82-8fa5faa57a85"
      },
      "source": [
        "import quantumflow as qf\n",
        "qf_circuit = qf.transpile(qiskit_circuit)\n",
        "qf_circuit"
      ],
      "execution_count": 23,
      "outputs": [
        {
          "output_type": "execute_result",
          "data": {
            "text/html": [
              "<pre style=\"line-height: 90%\">0: ───H───●───────────────\n",
              "          │               \n",
              "1: ───────X───●───────────\n",
              "              │           \n",
              "2: ───────────X───●───────\n",
              "                  │       \n",
              "3: ───────────────X───●───\n",
              "                      │   \n",
              "4: ───────────────────X───\n",
              "</pre>"
            ],
            "text/plain": [
              "<quantumflow.circuits.Circuit at 0x7f5ccefa3410>"
            ]
          },
          "metadata": {},
          "execution_count": 23
        }
      ]
    },
    {
      "cell_type": "markdown",
      "metadata": {
        "id": "9CNwk7OyLqD0"
      },
      "source": [
        "or to Google's `cirq`,"
      ]
    },
    {
      "cell_type": "code",
      "metadata": {
        "id": "gwr77x22Qqdi",
        "colab": {
          "base_uri": "https://localhost:8080/",
          "height": 173
        },
        "outputId": "02ab33a5-70da-4fd8-a284-a1ab7a906a60"
      },
      "source": [
        "cirq_circuit = qf.transpile(qiskit_circuit, output_format=\"cirq\")\n",
        "cirq_circuit"
      ],
      "execution_count": 24,
      "outputs": [
        {
          "output_type": "execute_result",
          "data": {
            "text/html": [
              "<pre style=\"overflow: auto; white-space: pre;\">0: ───H───@───────────────\n",
              "          │\n",
              "1: ───────X───@───────────\n",
              "              │\n",
              "2: ───────────X───@───────\n",
              "                  │\n",
              "3: ───────────────X───@───\n",
              "                      │\n",
              "4: ───────────────────X───</pre>"
            ],
            "text/plain": [
              "0: ───H───@───────────────\n",
              "          │\n",
              "1: ───────X───@───────────\n",
              "              │\n",
              "2: ───────────X───@───────\n",
              "                  │\n",
              "3: ───────────────X───@───\n",
              "                      │\n",
              "4: ───────────────────X───"
            ]
          },
          "metadata": {},
          "execution_count": 24
        }
      ]
    },
    {
      "cell_type": "markdown",
      "metadata": {
        "id": "Zzf1nMj6LtgH"
      },
      "source": [
        "or Amazon's `braket`."
      ]
    },
    {
      "cell_type": "code",
      "metadata": {
        "id": "QbMemDfhQqE3",
        "colab": {
          "base_uri": "https://localhost:8080/"
        },
        "outputId": "497bee4e-477c-46d3-a0c0-4995e567f533"
      },
      "source": [
        "braket_circuit = qf.transpile(qiskit_circuit, output_format=\"braket\")\n",
        "print(braket_circuit)"
      ],
      "execution_count": 25,
      "outputs": [
        {
          "output_type": "stream",
          "name": "stdout",
          "text": [
            "T  : |0|1|2|3|4|\n",
            "                \n",
            "q0 : -H-C-------\n",
            "        |       \n",
            "q1 : ---X-C-----\n",
            "          |     \n",
            "q2 : -----X-C---\n",
            "            |   \n",
            "q3 : -------X-C-\n",
            "              | \n",
            "q4 : ---------X-\n",
            "\n",
            "T  : |0|1|2|3|4|\n"
          ]
        }
      ]
    },
    {
      "cell_type": "markdown",
      "metadata": {
        "id": "R6WXcmQVL1Nb"
      },
      "source": [
        "We can also transpile to `quirk`. Click on the link below to load the circuit in the web editor."
      ]
    },
    {
      "cell_type": "code",
      "metadata": {
        "id": "n336uzkvRKOR",
        "colab": {
          "base_uri": "https://localhost:8080/"
        },
        "outputId": "4c5773da-c009-49f9-cb67-63637a5278b5"
      },
      "source": [
        "quirk_circuit = qf.transpile(qiskit_circuit, output_format=\"quirk\")\n",
        "print(quirk_circuit)"
      ],
      "execution_count": 26,
      "outputs": [
        {
          "output_type": "stream",
          "name": "stdout",
          "text": [
            "{\"cols\":[[\"H\"],[\"•\",\"X\"],[1,\"•\",\"X\"],[1,1,\"•\",\"X\"],[1,1,1,\"•\",\"X\"]]}\n"
          ]
        }
      ]
    },
    {
      "cell_type": "code",
      "metadata": {
        "id": "KqlhwjdORKLT",
        "colab": {
          "base_uri": "https://localhost:8080/"
        },
        "outputId": "d65b8e39-87f0-4bb4-88dd-d49dfb329fe8"
      },
      "source": [
        "from quantumflow import xquirk\n",
        "print(xquirk.quirk_url(quirk_circuit, escape=\"True\"))"
      ],
      "execution_count": 27,
      "outputs": [
        {
          "output_type": "stream",
          "name": "stdout",
          "text": [
            "https://algassert.com/quirk#circuit=%7B%22cols%22%3A%5B%5B%22H%22%5D%2C%5B%22%E2%80%A2%22%2C%22X%22%5D%2C%5B1%2C%22%E2%80%A2%22%2C%22X%22%5D%2C%5B1%2C1%2C%22%E2%80%A2%22%2C%22X%22%5D%2C%5B1%2C1%2C1%2C%22%E2%80%A2%22%2C%22X%22%5D%5D%7D\n"
          ]
        }
      ]
    },
    {
      "cell_type": "markdown",
      "metadata": {
        "id": "j6B-XoTaNSNH"
      },
      "source": [
        "There are a couple of complications to transpiling circuits between libraries. The first problem is the labelling of qubits. QuantumFlow allows a wide variety of labels, including integers, strings, and tuples of integers or strings. In general any hashable, sortable python type. (But you shouldn't mix qubit label types in the same circuit.) However, other libraries are less flexible. Your best bet is to stick to non-negative integers.\n",
        "\n",
        "The second complication is that different quantum libraries implement different sets of quantum gates. For instance, lets add a controlled-Hadamard gate to our initial qiskit circuit,"
      ]
    },
    {
      "cell_type": "code",
      "metadata": {
        "id": "zyVnlpF0NR_e",
        "colab": {
          "base_uri": "https://localhost:8080/"
        },
        "outputId": "c770dcc0-8d68-41bf-f548-3d5c97d09b24"
      },
      "source": [
        "qiskit_circuit.ch(qr[3], qr[4])\n",
        "print(qiskit_circuit)"
      ],
      "execution_count": 28,
      "outputs": [
        {
          "output_type": "stream",
          "name": "stdout",
          "text": [
            "      ┌───┐                         \n",
            "q2_0: ┤ H ├──■──────────────────────\n",
            "      └───┘┌─┴─┐                    \n",
            "q2_1: ─────┤ X ├──■─────────────────\n",
            "           └───┘┌─┴─┐               \n",
            "q2_2: ──────────┤ X ├──■────────────\n",
            "                └───┘┌─┴─┐          \n",
            "q2_3: ───────────────┤ X ├──■────■──\n",
            "                     └───┘┌─┴─┐┌─┴─┐\n",
            "q2_4: ────────────────────┤ X ├┤ H ├\n",
            "                          └───┘└───┘\n"
          ]
        }
      ]
    },
    {
      "cell_type": "markdown",
      "metadata": {
        "id": "uskxicrQOZE5"
      },
      "source": [
        "and then transpile to `cirq`."
      ]
    },
    {
      "cell_type": "code",
      "metadata": {
        "id": "dd5gLCFXOfYG",
        "colab": {
          "base_uri": "https://localhost:8080/",
          "height": 173
        },
        "outputId": "8a3cb639-509b-44b8-d744-c1a28cf39766"
      },
      "source": [
        "cirq_circuit = qf.transpile(qiskit_circuit, output_format=\"cirq\")\n",
        "cirq_circuit"
      ],
      "execution_count": 29,
      "outputs": [
        {
          "output_type": "execute_result",
          "data": {
            "text/html": [
              "<pre style=\"overflow: auto; white-space: pre;\">0: ───H───@─────────────────────────────────────────────────\n",
              "          │\n",
              "1: ───────X───@─────────────────────────────────────────────\n",
              "              │\n",
              "2: ───────────X───@─────────────────────────────────────────\n",
              "                  │\n",
              "3: ───────────────X───@───────────────@─────────────────────\n",
              "                      │               │\n",
              "4: ───────────────────X───S───H───T───X───T^-1───H───S^-1───</pre>"
            ],
            "text/plain": [
              "0: ───H───@─────────────────────────────────────────────────\n",
              "          │\n",
              "1: ───────X───@─────────────────────────────────────────────\n",
              "              │\n",
              "2: ───────────X───@─────────────────────────────────────────\n",
              "                  │\n",
              "3: ───────────────X───@───────────────@─────────────────────\n",
              "                      │               │\n",
              "4: ───────────────────X───S───H───T───X───T^-1───H───S^-1───"
            ]
          },
          "metadata": {},
          "execution_count": 29
        }
      ]
    },
    {
      "cell_type": "markdown",
      "metadata": {
        "id": "6j_lkrm2Otev"
      },
      "source": [
        "Google's `cirq` does not implement the controlled-Hadamard gate (CH), so QuantumFlow translates the CH gate into an equivalant sequence of gates that `cirq` does understand.\n",
        "\n",
        "QuantumFlow contains a rich set of gates, so that transpiling to QF is generally a direct literal gate-for-gate translation.\n",
        "\n",
        "The collection of currently supported transpiled formats can be found in `qf.TRANSPILE_FORMATS`."
      ]
    },
    {
      "cell_type": "code",
      "metadata": {
        "id": "M4N2znjoOtLS",
        "colab": {
          "base_uri": "https://localhost:8080/"
        },
        "outputId": "e7571e00-fc3a-48d2-c8f6-57c1980a4dc9"
      },
      "source": [
        "qf.TRANSPILE_FORMATS"
      ],
      "execution_count": 30,
      "outputs": [
        {
          "output_type": "execute_result",
          "data": {
            "text/plain": [
              "('qasm',\n",
              " 'cirq',\n",
              " 'braket',\n",
              " 'pyquil',\n",
              " 'qiskit',\n",
              " 'quirk',\n",
              " 'qsim',\n",
              " 'quantumflow',\n",
              " 'qutip')"
            ]
          },
          "metadata": {},
          "execution_count": 30
        }
      ]
    }
  ]
}
