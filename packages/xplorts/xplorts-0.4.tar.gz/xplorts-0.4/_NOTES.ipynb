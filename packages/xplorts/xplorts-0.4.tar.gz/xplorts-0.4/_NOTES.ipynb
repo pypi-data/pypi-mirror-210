{
 "cells": [
  {
   "cell_type": "markdown",
   "id": "aefb7274",
   "metadata": {},
   "source": [
    "# Notes on preparing xplorts package\n",
    "1. Prepare the package"
   ]
  },
  {
   "cell_type": "code",
   "execution_count": 5,
   "id": "30028d3e",
   "metadata": {},
   "outputs": [],
   "source": [
    "# (Terminal)\n",
    "#> cd xplor_time_series\n",
    "#> conda activate python36_plus_hv2\n",
    "#> rm dist/*  # clear out old distributions"
   ]
  },
  {
   "cell_type": "markdown",
   "id": "4fe81d54",
   "metadata": {},
   "source": [
    "2. Build the package and upload to PyPI or testpypi"
   ]
  },
  {
   "cell_type": "code",
   "execution_count": 6,
   "id": "02452ac6",
   "metadata": {},
   "outputs": [],
   "source": [
    "#> python3 -m build\n",
    "#> python3 -m twine upload --repository testpipy dist/*\n",
    "\n",
    "## Username:  __token__\n",
    "## Password:  <paste in token>"
   ]
  },
  {
   "cell_type": "markdown",
   "id": "d36b1af5",
   "metadata": {},
   "source": [
    "3. Make test environment and install package"
   ]
  },
  {
   "cell_type": "code",
   "execution_count": 7,
   "id": "ec9e8760",
   "metadata": {},
   "outputs": [],
   "source": [
    "#> conda env create -n xplorts \"python=3.6\"\n",
    "#> conda activate xplorts"
   ]
  },
  {
   "cell_type": "code",
   "execution_count": null,
   "id": "f2548b2e",
   "metadata": {},
   "outputs": [],
   "source": [
    "# does note work...\n",
    "#xplorts> pip install \"bokeh>=2.3.2\" \"numpy>=1.19.2\" \"pandas>=1.1.5\" \"yaml>=0.2.5\"\n",
    "\n",
    "# jury is out...\n",
    "#xplorts> pip install \"bokeh>=2.3.2\" \"numpy>=1.19.2\" \"pandas>=1.1.5\" \"pyyaml>=5.4.1\"\n",
    "#xplorts> pip install yaml  ## Use PyYAML instead? (seems to come with other packages above)"
   ]
  }
 ],
 "metadata": {
  "kernelspec": {
   "display_name": "Python 3",
   "language": "python",
   "name": "python3"
  },
  "language_info": {
   "codemirror_mode": {
    "name": "ipython",
    "version": 3
   },
   "file_extension": ".py",
   "mimetype": "text/x-python",
   "name": "python",
   "nbconvert_exporter": "python",
   "pygments_lexer": "ipython3",
   "version": "3.6.13"
  }
 },
 "nbformat": 4,
 "nbformat_minor": 5
}
