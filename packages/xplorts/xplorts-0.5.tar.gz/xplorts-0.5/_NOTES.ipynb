{
 "cells": [
  {
   "cell_type": "markdown",
   "id": "a531217d",
   "metadata": {},
   "source": [
    "# Notes on preparing xplorts package\n",
    "1. Prepare the package"
   ]
  },
  {
   "cell_type": "code",
   "execution_count": 5,
   "id": "38ef467d",
   "metadata": {},
   "outputs": [],
   "source": [
    "# (Terminal)\n",
    "#> cd xplor_time_series\n",
    "#> conda activate python36_plus_hv2\n",
    "#> rm dist/*  # clear out old distributions"
   ]
  },
  {
   "cell_type": "markdown",
   "id": "bb906b02",
   "metadata": {},
   "source": [
    "2. Build the package and upload to PyPI or testpypi"
   ]
  },
  {
   "cell_type": "code",
   "execution_count": 6,
   "id": "27b12926",
   "metadata": {},
   "outputs": [],
   "source": [
    "#> python3 -m build\n",
    "#> python3 -m twine upload --repository testpipy dist/*\n",
    "\n",
    "## Username:  __token__\n",
    "## Password:  <paste in token>"
   ]
  },
  {
   "cell_type": "markdown",
   "id": "5bd4bc96",
   "metadata": {},
   "source": [
    "3. Update pip (Mac only, maybe no longer required)"
   ]
  },
  {
   "cell_type": "code",
   "execution_count": null,
   "id": "a667ff1b",
   "metadata": {},
   "outputs": [],
   "source": [
    "## If pip is not at least 9.0.3\n",
    "## If you are running macOS/OS X version 10.12 or older, then you ought to upgrade to the latest pip (9.0.3) \n",
    "## https://stackoverflow.com/questions/49748063/pip-install-fails-for-every-package-could-not-find-a-version-that-satisfies#49748494\n",
    "#> curl https://bootstrap.pypa.io/get-pip.py | python\n",
    "#> pip install --upgrade setuptools"
   ]
  },
  {
   "cell_type": "markdown",
   "id": "fecb4eed",
   "metadata": {},
   "source": [
    "4. Make test environment and install package"
   ]
  },
  {
   "cell_type": "code",
   "execution_count": 7,
   "id": "40cebda5",
   "metadata": {},
   "outputs": [],
   "source": [
    "#> conda env create -n xplorts \"python=3.6\"\n",
    "#> conda activate xplorts"
   ]
  },
  {
   "cell_type": "code",
   "execution_count": 8,
   "id": "b4998559",
   "metadata": {},
   "outputs": [],
   "source": [
    "#xplorts> pip install \"bokeh>=2.3.2\" \"numpy>=1.19.2\" \"pandas>=1.1.5\" \"pyyaml>=5.4.1\"\n",
    "#xplorts> pip install --index-url https://test.pypi.org/simple/ --no-deps xplorts"
   ]
  },
  {
   "cell_type": "code",
   "execution_count": null,
   "id": "3cc0d311",
   "metadata": {},
   "outputs": [],
   "source": [
    "# does note work...\n",
    "#xplorts> pip install \"bokeh>=2.3.2\" \"numpy>=1.19.2\" \"pandas>=1.1.5\" \"yaml>=0.2.5\"\n"
   ]
  }
 ],
 "metadata": {
  "kernelspec": {
   "display_name": "Python 3",
   "language": "python",
   "name": "python3"
  },
  "language_info": {
   "codemirror_mode": {
    "name": "ipython",
    "version": 3
   },
   "file_extension": ".py",
   "mimetype": "text/x-python",
   "name": "python",
   "nbconvert_exporter": "python",
   "pygments_lexer": "ipython3",
   "version": "3.6.13"
  }
 },
 "nbformat": 4,
 "nbformat_minor": 5
}
