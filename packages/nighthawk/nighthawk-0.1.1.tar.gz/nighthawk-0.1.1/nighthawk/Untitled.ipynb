{
 "cells": [
  {
   "cell_type": "code",
   "execution_count": 1,
   "id": "3fb90ea1-7442-4f7d-9d6a-7788e7e7322a",
   "metadata": {},
   "outputs": [],
   "source": [
    "import nighthawk as nh"
   ]
  },
  {
   "cell_type": "code",
   "execution_count": 2,
   "id": "f5ae309e-1e17-4721-9886-5e5360846839",
   "metadata": {},
   "outputs": [],
   "source": [
    "from pathlib import Path"
   ]
  },
  {
   "cell_type": "code",
   "execution_count": 6,
   "id": "cd19406c-0f4c-468c-9a8e-d694ef4a1ccd",
   "metadata": {},
   "outputs": [],
   "source": [
    "INPUT_FILEPATHS = [#'/Users/benjamin/Documents/Academic/Birds/Flight Calls/exported_nfc_model/test_inputs/LEBI.20110509.030808.46.wav',\n",
    "                   #'/Users/benjamin/Documents/Academic/Birds/Flight Calls/exported_nfc_model/test_inputs/CU.20120920.013202.87.BBWA.wav',\n",
    "                  # '/Users/benjamin/Documents/Academic/Birds/Flight Calls/Long Recording Review/recordings/Krumrine_20211001_ 00000_5min.wav'\n",
    "   # '/Users/benjamin/Documents/Academic/Birds/Flight Calls/Long Recording Review/recordings/Krumrine_20211001_ 00000_TEST-REPEAT.wav'\n",
    " '../test_inputs/test_1.wav'   \n",
    "]\n",
    "OUTPUT_PATH = Path('/Users/benjamin/Downloads/nfc_taxo107_predictions')"
   ]
  },
  {
   "cell_type": "code",
   "execution_count": 7,
   "id": "26166f92-54ba-46ec-a4e2-4f4cf13bcfc8",
   "metadata": {},
   "outputs": [],
   "source": [
    "input_filepath_list = [Path(x) for x in INPUT_FILEPATHS]"
   ]
  },
  {
   "cell_type": "code",
   "execution_count": 8,
   "id": "c8390cc7-c317-4852-a0d4-c7c0b5520e9f",
   "metadata": {},
   "outputs": [
    {
     "name": "stdout",
     "output_type": "stream",
     "text": [
      "Loading detector model...\n",
      "Getting detector configuration file paths...\n",
      "Running detector on audio file \"/Users/benjamin/Documents/Academic/Birds/Flight Calls/exported_nfc_model/nighthawk/../test_inputs/test_1.wav\"...\n",
      "Processed 12.6 seconds of audio in 2.1 seconds, 6.0 times faster than real time.\n",
      "Writing output file \"/Users/benjamin/Downloads/nfc_taxo107_predictions/test_1_detections.csv\"...\n",
      "Writing output file \"/Users/benjamin/Downloads/nfc_taxo107_predictions/test_1_detections.txt\"...\n"
     ]
    }
   ],
   "source": [
    "nh.run_detector_on_files(\n",
    "        input_filepath_list, \n",
    "        csv_output=True,\n",
    "        raven_output=True,\n",
    "        output_dir_path=OUTPUT_PATH)"
   ]
  },
  {
   "cell_type": "code",
   "execution_count": null,
   "id": "a0b254ba-ab9e-4689-8fcd-687cfc4300e4",
   "metadata": {},
   "outputs": [],
   "source": []
  }
 ],
 "metadata": {
  "kernelspec": {
   "display_name": "Python 3 (ipykernel)",
   "language": "python",
   "name": "python3"
  },
  "language_info": {
   "codemirror_mode": {
    "name": "ipython",
    "version": 3
   },
   "file_extension": ".py",
   "mimetype": "text/x-python",
   "name": "python",
   "nbconvert_exporter": "python",
   "pygments_lexer": "ipython3",
   "version": "3.10.11"
  }
 },
 "nbformat": 4,
 "nbformat_minor": 5
}
