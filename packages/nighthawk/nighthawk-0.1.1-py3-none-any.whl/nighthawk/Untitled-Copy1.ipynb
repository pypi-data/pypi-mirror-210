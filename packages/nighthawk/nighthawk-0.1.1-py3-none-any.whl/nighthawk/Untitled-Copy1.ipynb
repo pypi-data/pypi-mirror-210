{
 "cells": [
  {
   "cell_type": "code",
   "execution_count": 1,
   "id": "3fb90ea1-7442-4f7d-9d6a-7788e7e7322a",
   "metadata": {},
   "outputs": [],
   "source": [
    "from pathlib import Path\n",
    "\n",
    "import nighthawk as nh\n",
    "import librosa\n",
    "import pandas as pd"
   ]
  },
  {
   "cell_type": "code",
   "execution_count": 3,
   "id": "3ced32f1-9ea9-4461-afb1-2075579ebc7d",
   "metadata": {},
   "outputs": [
    {
     "ename": "AttributeError",
     "evalue": "module 'nighthawk' has no attribute 'compile_and_verify_feedback'",
     "output_type": "error",
     "traceback": [
      "\u001b[0;31m---------------------------------------------------------------------------\u001b[0m",
      "\u001b[0;31mAttributeError\u001b[0m                            Traceback (most recent call last)",
      "Cell \u001b[0;32mIn[3], line 1\u001b[0m\n\u001b[0;32m----> 1\u001b[0m \u001b[43mnh\u001b[49m\u001b[38;5;241;43m.\u001b[39;49m\u001b[43mcompile_and_verify_feedback\u001b[49m\u001b[38;5;241m.\u001b[39m_load_taxonomy\n",
      "\u001b[0;31mAttributeError\u001b[0m: module 'nighthawk' has no attribute 'compile_and_verify_feedback'"
     ]
    }
   ],
   "source": [
    "nh.compile_and_verify_feedback._load_taxonomy"
   ]
  },
  {
   "cell_type": "code",
   "execution_count": 7,
   "id": "a0b254ba-ab9e-4689-8fcd-687cfc4300e4",
   "metadata": {},
   "outputs": [],
   "source": [
    "seltab_fp = '/Users/benjamin/Documents/Academic/Birds/Flight Calls/exported_nfc_model/test_inputs/test3_detections.txt'"
   ]
  },
  {
   "cell_type": "code",
   "execution_count": 10,
   "id": "5bdb6bc0-98b6-41c2-a712-df7755b1e6ee",
   "metadata": {},
   "outputs": [],
   "source": [
    "seltab_df = pd.read_csv(seltab_fp, sep='\\t')"
   ]
  },
  {
   "cell_type": "code",
   "execution_count": 11,
   "id": "5969d6f6-9af8-406e-bd07-45a07f194a81",
   "metadata": {},
   "outputs": [
    {
     "data": {
      "text/plain": [
       "Index(['Selection', 'View', 'Channel', 'Begin Time (s)', 'End Time (s)',\n",
       "       'Begin File', 'path', 'order', 'prob_order', 'family', 'prob_family',\n",
       "       'group', 'prob_group', 'species', 'prob_species', 'class', 'prob',\n",
       "       'class_update'],\n",
       "      dtype='object')"
      ]
     },
     "execution_count": 11,
     "metadata": {},
     "output_type": "execute_result"
    }
   ],
   "source": [
    "seltab_df.columns"
   ]
  },
  {
   "cell_type": "code",
   "execution_count": 12,
   "id": "52edf8d2-3dc0-480d-a220-07a4bf4faacc",
   "metadata": {},
   "outputs": [
    {
     "data": {
      "text/html": [
       "<div>\n",
       "<style scoped>\n",
       "    .dataframe tbody tr th:only-of-type {\n",
       "        vertical-align: middle;\n",
       "    }\n",
       "\n",
       "    .dataframe tbody tr th {\n",
       "        vertical-align: top;\n",
       "    }\n",
       "\n",
       "    .dataframe thead th {\n",
       "        text-align: right;\n",
       "    }\n",
       "</style>\n",
       "<table border=\"1\" class=\"dataframe\">\n",
       "  <thead>\n",
       "    <tr style=\"text-align: right;\">\n",
       "      <th></th>\n",
       "      <th>Selection</th>\n",
       "      <th>View</th>\n",
       "      <th>Channel</th>\n",
       "      <th>Begin Time (s)</th>\n",
       "      <th>End Time (s)</th>\n",
       "      <th>Begin File</th>\n",
       "      <th>path</th>\n",
       "      <th>order</th>\n",
       "      <th>prob_order</th>\n",
       "      <th>family</th>\n",
       "      <th>prob_family</th>\n",
       "      <th>group</th>\n",
       "      <th>prob_group</th>\n",
       "      <th>species</th>\n",
       "      <th>prob_species</th>\n",
       "      <th>class</th>\n",
       "      <th>prob</th>\n",
       "      <th>class_update</th>\n",
       "    </tr>\n",
       "  </thead>\n",
       "  <tbody>\n",
       "    <tr>\n",
       "      <th>0</th>\n",
       "      <td>1</td>\n",
       "      <td>Spectrogram 1</td>\n",
       "      <td>1</td>\n",
       "      <td>0.000000</td>\n",
       "      <td>1.600000</td>\n",
       "      <td>test3.wav</td>\n",
       "      <td>/Users/benjamin/Documents/Academic/Birds/Fligh...</td>\n",
       "      <td>Passeriformes</td>\n",
       "      <td>0.966912</td>\n",
       "      <td>Parulidae</td>\n",
       "      <td>0.937803</td>\n",
       "      <td>NaN</td>\n",
       "      <td>NaN</td>\n",
       "      <td>NaN</td>\n",
       "      <td>NaN</td>\n",
       "      <td>Parulidae</td>\n",
       "      <td>0.937803</td>\n",
       "      <td>n</td>\n",
       "    </tr>\n",
       "    <tr>\n",
       "      <th>1</th>\n",
       "      <td>2</td>\n",
       "      <td>Spectrogram 1</td>\n",
       "      <td>1</td>\n",
       "      <td>1.524003</td>\n",
       "      <td>1.730699</td>\n",
       "      <td>test3.wav</td>\n",
       "      <td>/Users/benjamin/Documents/Academic/Birds/Fligh...</td>\n",
       "      <td>Passeriformes</td>\n",
       "      <td>0.967927</td>\n",
       "      <td>NaN</td>\n",
       "      <td>NaN</td>\n",
       "      <td>NaN</td>\n",
       "      <td>NaN</td>\n",
       "      <td>NaN</td>\n",
       "      <td>NaN</td>\n",
       "      <td>Passeriformes</td>\n",
       "      <td>0.967927</td>\n",
       "      <td>Turdidae</td>\n",
       "    </tr>\n",
       "    <tr>\n",
       "      <th>2</th>\n",
       "      <td>3</td>\n",
       "      <td>Spectrogram 1</td>\n",
       "      <td>1</td>\n",
       "      <td>4.481668</td>\n",
       "      <td>4.676024</td>\n",
       "      <td>test3.wav</td>\n",
       "      <td>/Users/benjamin/Documents/Academic/Birds/Fligh...</td>\n",
       "      <td>Passeriformes</td>\n",
       "      <td>0.968641</td>\n",
       "      <td>Turdidae</td>\n",
       "      <td>0.955624</td>\n",
       "      <td>THSH</td>\n",
       "      <td>0.942888</td>\n",
       "      <td>swathr</td>\n",
       "      <td>0.879724</td>\n",
       "      <td>swathr</td>\n",
       "      <td>0.879724</td>\n",
       "      <td>c</td>\n",
       "    </tr>\n",
       "    <tr>\n",
       "      <th>3</th>\n",
       "      <td>12</td>\n",
       "      <td>Spectrogram 1</td>\n",
       "      <td>1</td>\n",
       "      <td>5.481610</td>\n",
       "      <td>5.626606</td>\n",
       "      <td>test3.wav</td>\n",
       "      <td>NaN</td>\n",
       "      <td>NaN</td>\n",
       "      <td>NaN</td>\n",
       "      <td>NaN</td>\n",
       "      <td>NaN</td>\n",
       "      <td>NaN</td>\n",
       "      <td>NaN</td>\n",
       "      <td>NaN</td>\n",
       "      <td>NaN</td>\n",
       "      <td>NaN</td>\n",
       "      <td>NaN</td>\n",
       "      <td>NaN</td>\n",
       "    </tr>\n",
       "  </tbody>\n",
       "</table>\n",
       "</div>"
      ],
      "text/plain": [
       "   Selection           View  Channel  Begin Time (s)  End Time (s) Begin File   \n",
       "0          1  Spectrogram 1        1        0.000000      1.600000  test3.wav  \\\n",
       "1          2  Spectrogram 1        1        1.524003      1.730699  test3.wav   \n",
       "2          3  Spectrogram 1        1        4.481668      4.676024  test3.wav   \n",
       "3         12  Spectrogram 1        1        5.481610      5.626606  test3.wav   \n",
       "\n",
       "                                                path          order   \n",
       "0  /Users/benjamin/Documents/Academic/Birds/Fligh...  Passeriformes  \\\n",
       "1  /Users/benjamin/Documents/Academic/Birds/Fligh...  Passeriformes   \n",
       "2  /Users/benjamin/Documents/Academic/Birds/Fligh...  Passeriformes   \n",
       "3                                                NaN            NaN   \n",
       "\n",
       "   prob_order     family  prob_family group  prob_group species  prob_species   \n",
       "0    0.966912  Parulidae     0.937803   NaN         NaN     NaN           NaN  \\\n",
       "1    0.967927        NaN          NaN   NaN         NaN     NaN           NaN   \n",
       "2    0.968641   Turdidae     0.955624  THSH    0.942888  swathr      0.879724   \n",
       "3         NaN        NaN          NaN   NaN         NaN     NaN           NaN   \n",
       "\n",
       "           class      prob class_update  \n",
       "0      Parulidae  0.937803            n  \n",
       "1  Passeriformes  0.967927     Turdidae  \n",
       "2         swathr  0.879724            c  \n",
       "3            NaN       NaN          NaN  "
      ]
     },
     "metadata": {},
     "output_type": "display_data"
    }
   ],
   "source": [
    "display(seltab_df)"
   ]
  },
  {
   "cell_type": "code",
   "execution_count": null,
   "id": "722af1db-6b15-4d90-8cc9-22de478397fb",
   "metadata": {},
   "outputs": [],
   "source": []
  }
 ],
 "metadata": {
  "kernelspec": {
   "display_name": "Python 3 (ipykernel)",
   "language": "python",
   "name": "python3"
  },
  "language_info": {
   "codemirror_mode": {
    "name": "ipython",
    "version": 3
   },
   "file_extension": ".py",
   "mimetype": "text/x-python",
   "name": "python",
   "nbconvert_exporter": "python",
   "pygments_lexer": "ipython3",
   "version": "3.10.11"
  }
 },
 "nbformat": 4,
 "nbformat_minor": 5
}
