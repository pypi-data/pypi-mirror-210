{
 "cells": [
  {
   "cell_type": "markdown",
   "metadata": {},
   "source": [
    "# Synthetic Data Examples"
   ]
  },
  {
   "cell_type": "code",
   "execution_count": null,
   "metadata": {},
   "outputs": [],
   "source": [
    "# Uncomment the following line when running on Google Colab\n",
    "# !pip install \"autora[synthetic-data]\" --pre"
   ]
  },
  {
   "cell_type": "markdown",
   "metadata": {},
   "source": [
    "Load the Weber-Fechner Law:"
   ]
  },
  {
   "cell_type": "code",
   "execution_count": null,
   "metadata": {},
   "outputs": [],
   "source": [
    "import numpy as np\n",
    "from autora.synthetic.psychophysics.weber_fechner_law import weber_fechner_law\n",
    "s = weber_fechner_law(random_state=None)"
   ]
  },
  {
   "cell_type": "markdown",
   "metadata": {},
   "source": [
    "Check the docstring to get information about the model"
   ]
  },
  {
   "cell_type": "code",
   "execution_count": null,
   "metadata": {},
   "outputs": [],
   "source": [
    "help(weber_fechner_law)"
   ]
  },
  {
   "cell_type": "markdown",
   "metadata": {},
   "source": [
    "... or use the describe function:"
   ]
  },
  {
   "cell_type": "code",
   "execution_count": null,
   "metadata": {},
   "outputs": [],
   "source": [
    "from autora.synthetic.utilities import describe\n",
    "\n",
    "print(describe(s))"
   ]
  },
  {
   "cell_type": "markdown",
   "metadata": {},
   "source": [
    "The synthetic experiement `s` has properties like the name of the experiment:"
   ]
  },
  {
   "cell_type": "code",
   "execution_count": null,
   "metadata": {},
   "outputs": [],
   "source": [
    "s.name"
   ]
  },
  {
   "cell_type": "markdown",
   "metadata": {},
   "source": [
    "... a valid metadata description:"
   ]
  },
  {
   "cell_type": "code",
   "execution_count": null,
   "metadata": {},
   "outputs": [],
   "source": [
    "s.variables"
   ]
  },
  {
   "cell_type": "markdown",
   "metadata": {},
   "source": [
    "... a function to generate the full domain of the data (if possible)"
   ]
  },
  {
   "cell_type": "code",
   "execution_count": null,
   "metadata": {},
   "outputs": [],
   "source": [
    "x = s.domain()\n",
    "x"
   ]
  },
  {
   "cell_type": "markdown",
   "metadata": {},
   "source": [
    "... the experiment_runner runner which can be called to generate experimental results:"
   ]
  },
  {
   "cell_type": "code",
   "execution_count": null,
   "metadata": {},
   "outputs": [],
   "source": [
    "import numpy as np\n",
    "y = s.experiment_runner(x)  # doctest: +ELLIPSIS\n",
    "y"
   ]
  },
  {
   "cell_type": "markdown",
   "metadata": {},
   "source": [
    "... a function to plot the ground truth:"
   ]
  },
  {
   "cell_type": "code",
   "execution_count": null,
   "metadata": {},
   "outputs": [],
   "source": [
    "s.plotter()"
   ]
  },
  {
   "cell_type": "markdown",
   "metadata": {},
   "source": [
    "... against a fitted model if it exists:"
   ]
  },
  {
   "cell_type": "code",
   "execution_count": null,
   "metadata": {},
   "outputs": [],
   "source": [
    "from sklearn.linear_model import LinearRegression\n",
    "model = LinearRegression().fit(x, y)\n",
    "s.plotter(model)"
   ]
  },
  {
   "cell_type": "markdown",
   "metadata": {},
   "source": [
    "These can be used to run a full experimental cycle"
   ]
  },
  {
   "cell_type": "code",
   "execution_count": null,
   "metadata": {},
   "outputs": [],
   "source": [
    "from autora.workflow.protocol import ResultKind\n",
    "from autora.experimentalist.pipeline import make_pipeline\n",
    "from autora.experimentalist.pooler.grid import grid_pool\n",
    "from autora.experimentalist.sampler.random_sampler import random_sampler\n",
    "from functools import partial\n",
    "import random\n",
    "variables = s.variables\n",
    "pool = partial(grid_pool, ivs=variables.independent_variables)\n",
    "random.seed(181) # set the seed for the random sampler\n",
    "sampler = partial(random_sampler, n=20)\n",
    "experimentalist_pipeline = make_pipeline([pool, sampler])\n",
    "\n",
    "from autora.workflow import Controller\n",
    "theorist = LinearRegression()\n",
    "\n",
    "cycle = Controller(\n",
    "    variables=variables, experimentalist=experimentalist_pipeline,\n",
    "    experiment_runner=s.experiment_runner, theorist=theorist,\n",
    "    monitor=lambda s: (s.history[-1].kind == ResultKind.MODEL) and\n",
    "                       print(f\"finished cycle {len(s.models)}\"))\n",
    "\n",
    "c = cycle.run(10)\n",
    "best_model = c.state.models[-1]\n",
    "print(f\"I = \"\n",
    "      f\"{best_model.coef_[0]:.2f} S0 \"\n",
    "      f\"{best_model.coef_[1]:+.2f} S1 \"\n",
    "      f\"{best_model.intercept_:+.2f}\")\n"
   ]
  },
  {
   "cell_type": "code",
   "execution_count": null,
   "metadata": {},
   "outputs": [],
   "source": []
  }
 ],
 "metadata": {
  "kernelspec": {
   "display_name": "Python 3",
   "language": "python",
   "name": "python3"
  },
  "language_info": {
   "codemirror_mode": {
    "name": "ipython",
    "version": 2
   },
   "file_extension": ".py",
   "mimetype": "text/x-python",
   "name": "python",
   "nbconvert_exporter": "python",
   "pygments_lexer": "ipython2"
  }
 },
 "nbformat": 4,
 "nbformat_minor": 0
}
