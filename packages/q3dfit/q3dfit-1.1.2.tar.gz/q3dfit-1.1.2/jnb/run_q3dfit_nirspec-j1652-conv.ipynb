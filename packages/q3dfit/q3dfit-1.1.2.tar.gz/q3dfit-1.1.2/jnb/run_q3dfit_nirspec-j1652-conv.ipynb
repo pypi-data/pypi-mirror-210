{
 "cells": [
  {
   "cell_type": "markdown",
   "metadata": {},
   "source": [
    "# q3dfit notebook: NIRSPEC, J1652, convolution"
   ]
  },
  {
   "cell_type": "markdown",
   "metadata": {},
   "source": [
    "<h3><font color='teal'>Installation of the environment and the package are described <a href=\"https://q3dfit.readthedocs.io/\">here</a>. </font></h3>"
   ]
  },
  {
   "cell_type": "markdown",
   "metadata": {},
   "source": [
    "This Jupyter notebook allows you to run Q3Dfit, a PSF decomposition and spectral analysis package tailored for JWST NIRSpec and MIRI IFU observations. \n",
    "\n",
    "Q3Dfit is developed as a science-enabling data product by the Early Release Science Team #1335 Q3D. You can find more information about this ERS program **Q3D** [here](https://wwwstaff.ari.uni-heidelberg.de/dwylezalek/q3d.html) and [here](https://www.stsci.edu/jwst/science-execution/approved-programs/dd-ers/program-1335).\n",
    "\n",
    "The software is based on the existing package IFSFIT developed by Dave Rupke (see [ADS link](https://ui.adsabs.harvard.edu/abs/2017ApJ...850...40R/abstract)).\n",
    "\n",
    "The following notebook will guide you through the initialization procedure and will then perform the analysis. "
   ]
  },
  {
   "cell_type": "markdown",
   "metadata": {},
   "source": [
    "## Table of Contents\n",
    "\n",
    "* [1. Initialization](#chapter1)\n",
    "    * [1.0. Setting up the directory tree](#chapter1_0)\n",
    "    * [1.1. Setting up the data and models](#chapter1_1)\n",
    "    * [1.2. Setting up the fitting parameters](#chapter1_2)\n",
    "        * [1.2.1. Emission line parameters](#chapter1_2_1)\n",
    "        * [1.2.2. Continuum parameters](#chapter1_2_2)\n",
    "    * [1.3. Setting up the plotting parameters](#chapter1_3)\n",
    "* [2. Run fitting and plotting routines](#chapter2)"
   ]
  },
  {
   "cell_type": "markdown",
   "metadata": {},
   "source": [
    "## 1. Initialization <a class=\"anchor\" id=\"chapter1\"></a>"
   ]
  },
  {
   "cell_type": "code",
   "execution_count": 1,
   "metadata": {},
   "outputs": [],
   "source": [
    "import os.path\n",
    "import numpy as np\n",
    "%matplotlib inline\n",
    "# unless you are running this python notebook from the directory where q3dfit is installed, you need to point the\n",
    "# path to the package in order to import it. \n",
    "import sys\n",
    "sys.path.append(\"\")\n",
    "sys.path.append(\"../\")"
   ]
  },
  {
   "cell_type": "code",
   "execution_count": 2,
   "metadata": {},
   "outputs": [],
   "source": [
    "# Convenience function\n",
    "# Ref: https://github.com/spacetelescope/jwebbinar_prep/blob/main/imaging_mode/imaging_mode_stage_1.ipynb\n",
    "from astropy.utils.data import download_file\n",
    "def download_files(files, output_directory, force=False):\n",
    "    \"\"\"Given a tuple or list of tuples containing (URL, filename),\n",
    "    download the given files into the current working directory.\n",
    "    Downloading is done via astropy's download_file. A symbolic link\n",
    "    is created in the specified output dirctory that points to the\n",
    "    downloaded file.\n",
    "    \n",
    "    Parameters\n",
    "    ----------\n",
    "    files : tuple or list of tuples\n",
    "        Each 2-tuple should contain (URL, filename), where\n",
    "        URL is the URL from which to download the file, and\n",
    "        filename will be the name of the symlink pointing to\n",
    "        the downloaded file.\n",
    "        \n",
    "    output_directory : str\n",
    "        Name of the directory in which to create the symbolic\n",
    "        links to the downloaded files\n",
    "        \n",
    "    force : bool\n",
    "        If True, the file will be downloaded regarless of whether\n",
    "        it is already present or not.\n",
    "                \n",
    "    Returns\n",
    "    -------\n",
    "    filenames : list\n",
    "        List of filenames corresponding to the symbolic links\n",
    "        of the downloaded files\n",
    "    \"\"\"\n",
    "    # In the case of a single input tuple, make it a\n",
    "    # 1 element list, for consistency.\n",
    "    filenames = []\n",
    "    if isinstance(files, tuple):\n",
    "        files = [files]\n",
    "        \n",
    "    for file in files:\n",
    "        filenames.append(file[1])\n",
    "        if force:\n",
    "            print('Downloading {}...'.format(file[1]))\n",
    "            demo_file = download_file(file[0], cache='update')\n",
    "            # Make a symbolic link using a local name for convenience\n",
    "            if not os.path.islink(os.path.join(output_directory, file[1])):\n",
    "                os.symlink(demo_file, os.path.join(output_directory, file[1]))\n",
    "        else:\n",
    "            if not os.path.isfile(os.path.join(output_directory, file[1])):\n",
    "                print('Downloading {}...'.format(file[1]))\n",
    "                demo_file = download_file(file[0], cache=True)\n",
    "                # Make a symbolic link using a local name for convenience\n",
    "                os.symlink(demo_file, os.path.join(output_directory, file[1]))\n",
    "            else:\n",
    "                print('{} already exists, skipping download...'.format(file[1]))\n",
    "                continue\n",
    "    return filenames    "
   ]
  },
  {
   "cell_type": "markdown",
   "metadata": {},
   "source": [
    "### 1.0. Setting up the directory tree <a class=\"anchor\" id=\"chapter1_0\"></a>\n",
    "\n",
    "Define the directories in which the data cube(s) that you want to analyse are stored and the output directories. We recommend creating a working directory that you name after your target, in which all outputs from q3dfit will be saved. Then download test data."
   ]
  },
  {
   "cell_type": "code",
   "execution_count": 3,
   "metadata": {},
   "outputs": [],
   "source": [
    "# Base directory (book-keeping)\n",
    "volume = 'nirspec-j1652-q3d_conv_fullcube3comp/'\n",
    "# prefix label for output files\n",
    "gal = 'nirspec-j1652-q3d_conv'\n",
    "# Input directory\n",
    "indir = volume\n",
    "if not os.path.exists(indir):\n",
    "    os.makedirs(indir)\n",
    "# Output directory\n",
    "outdir = volume\n",
    "if not os.path.exists(outdir):\n",
    "    os.makedirs(outdir)\n",
    "# Initialization file (q3di.npy) directory\n",
    "initdir = volume\n",
    "# Output logfile\n",
    "logfile = outdir+gal+'-fitlog.txt'"
   ]
  },
  {
   "cell_type": "markdown",
   "metadata": {},
   "source": [
    "Download data from public Box folder:"
   ]
  },
  {
   "cell_type": "code",
   "execution_count": 4,
   "metadata": {},
   "outputs": [
    {
     "name": "stdout",
     "output_type": "stream",
     "text": [
      "/Users/caroline/Documents/ARI-Heidelberg/Q3D/temp_copies/nirspec-j1652/nirspec-j1652-conv.fits\n"
     ]
    }
   ],
   "source": [
    "# make tuples of urls and download filenames\n",
    "# infile = data cube\n",
    "##infile_tup=('https://rhodes.box.com/s/6c6pvi8gbbhaxkkvolgpp7ryuxp7z1is','nirspec-j1652-conv.fits')\n",
    "## download files; by default don't force overwrite and take first element of output\n",
    "#infile = download_files(infile_tup, outdir, force=False)[0]\n",
    "## add subdirectory to filenames\n",
    "##infile = initdir+infile\n",
    "infile = '/Users/caroline/Documents/ARI-Heidelberg/Q3D/temp_copies/nirspec-j1652/nirspec-j1652-conv.fits'\n",
    "print(infile)"
   ]
  },
  {
   "cell_type": "markdown",
   "metadata": {},
   "source": [
    "### 1.1. Setting up the data and models <a class=\"anchor\" id=\"chapter1_1\"></a>\n",
    "\n",
    "Some general information about your cube. `argsreadcube` is a dictionary of attributes sent to the `CUBE` class.\n",
    "- For non-JWST data, set `wmapext` to `None`. The WMAP extension is a [3-D weight image](https://jwst-pipeline.readthedocs.io/en/latest/jwst/data_products/science_products.html) giving the relative weights of the output spaxels.\n",
    "- Microns are the wavelength unit used internally, but `q3dfit` can accept other wavelength input units or output other units.\n",
    "- The code does calculations in flambda space, but assumes input units of MJy/sr, the JWST default. Other input wavelength units can be specified."
   ]
  },
  {
   "cell_type": "code",
   "execution_count": 5,
   "metadata": {},
   "outputs": [
    {
     "name": "stdout",
     "output_type": "stream",
     "text": [
      "Size of data cube: [ 86 , 77 , 700 ]\n",
      "Wavelength range: [ 1.8184203 , 2.0952241 ]  micron\n"
     ]
    }
   ],
   "source": [
    "from q3dfit.readcube import Cube\n",
    "argscube = {'wmapext': None, 'pixarea_sqas': 0.0025, 'fluxnorm': 1e-17, 'datext': 0, 'varext': 1, 'dqext': 2, 'fluxunit_in' : 'erg/s/cm2/A'}\n",
    "if not os.path.isfile(infile): \n",
    "    print('Data cube not found.')\n",
    "else:\n",
    "    cube = Cube(infile, **argscube)\n",
    "    ncols = cube.ncols # number of columns\n",
    "    nrows = cube.nrows # number of rows\n",
    "    cube.about()"
   ]
  },
  {
   "cell_type": "markdown",
   "metadata": {},
   "source": [
    "Name and systemic redshift of the galaxy. `zsys` is presently not used within the code, but would be an input for, e.g., calculating velocity maps in routines under development (e.g., `makemaps.py`). It is used in this notebook in initializing the arrays of initial guesses below."
   ]
  },
  {
   "cell_type": "code",
   "execution_count": null,
   "metadata": {},
   "outputs": [],
   "source": [
    "name = 'J1652'\n",
    "zsys_gas = 2.9489"
   ]
  },
  {
   "cell_type": "markdown",
   "metadata": {},
   "source": [
    "Wavelength range over which to fit data and the range of wavelength to ignore:"
   ]
  },
  {
   "cell_type": "code",
   "execution_count": null,
   "metadata": {},
   "outputs": [],
   "source": [
    "fitrange = [1.66,3.17] #in um\n",
    "cutrange = np.array([2.375,2.47])"
   ]
  },
  {
   "cell_type": "markdown",
   "metadata": {},
   "source": [
    "\n",
    "Generating the quasar template used for PSF subtraction:\n"
   ]
  },
  {
   "cell_type": "code",
   "execution_count": null,
   "metadata": {},
   "outputs": [],
   "source": [
    "qsotemplate = volume+'nirspec-j1652-quasar-template.npy'\n",
    "cube.makeqsotemplate(qsotemplate, radius=2.5, norm=1)"
   ]
  },
  {
   "cell_type": "markdown",
   "metadata": {},
   "source": [
    "### 1.2. Setting up the fitting parameters <a class=\"anchor\" id=\"chapter1_2\"></a>"
   ]
  },
  {
   "cell_type": "markdown",
   "metadata": {},
   "source": [
    "#### 1.2.1. Emission-line parameters <a class=\"anchor\" id=\"chapter1_2_1\"></a>"
   ]
  },
  {
   "cell_type": "markdown",
   "metadata": {},
   "source": [
    "What lines do you want to fit? You can choose from the linelists available [here](https://github.com/Q3D/q3dfit/tree/main/data/linelists), or in `q3dfit/data/linelists/`."
   ]
  },
  {
   "cell_type": "code",
   "execution_count": null,
   "metadata": {},
   "outputs": [],
   "source": [
    "lines = ['HeII4686', 'Hbeta', '[OIII]4959', '[OIII]5007', 'Halpha','[NII]6583','[NII]6548','[SII]6716','[SII]6731','[OI]6300']"
   ]
  },
  {
   "cell_type": "markdown",
   "metadata": {},
   "source": [
    "How many components do you want to be fitted to the emission lines?"
   ]
  },
  {
   "cell_type": "code",
   "execution_count": null,
   "metadata": {},
   "outputs": [],
   "source": [
    "maxncomp = 3\n",
    "argscheckcomp = {'sigcut': 5,'ignore': ['[OI]6300','[SII]6716', '[SII]6731']}"
   ]
  },
  {
   "cell_type": "markdown",
   "metadata": {},
   "source": [
    "This block sets up initial conditions for the emission-line fit to each spaxel. Emission lines are set to a common redshift and velocity dispersion. However, different sets of emission lines can have different velocities and linewidths by specifying different lines to which to tie particular emission lines."
   ]
  },
  {
   "cell_type": "code",
   "execution_count": null,
   "metadata": {},
   "outputs": [],
   "source": [
    "linetie = dict()\n",
    "ncomp = dict()\n",
    "zinit_gas = dict()\n",
    "siginit_gas = dict()\n",
    "for i in lines:\n",
    "    linetie[i] = '[OIII]5007'\n",
    "    ncomp[i] = np.full((ncols,nrows),maxncomp)\n",
    "    zinit_gas[i] = np.full((ncols,nrows,maxncomp),zsys_gas)\n",
    "    siginit_gas[i] = np.full((ncols,nrows,maxncomp),50.)\n",
    "    \n",
    "# for 3 components    \n",
    "for i in lines:\n",
    "    zinit_gas[i][:,:,2] = 2.959\n",
    "    siginit_gas[i][:,:,2] = 50.\n",
    "    zinit_gas[i][:,:,1] = 2.9480\n",
    "    siginit_gas[i][:,:,1] = 500.\n",
    "\n",
    "# for 2 components\n",
    "# for i in lines:\n",
    "#     zinit_gas[i][:,:,1] = 2.959\n",
    "#     siginit_gas[i][:,:,1] = 50.\n",
    "#     zinit_gas[i][:,:,1] = 2.9480 #For 2 comp\n",
    "#     siginit_gas[i][:,:,1] = 250. #for 2 comp\n",
    "\n",
    "\n",
    "    \n",
    "print(zinit_gas['Hbeta'][50,50])"
   ]
  },
  {
   "cell_type": "markdown",
   "metadata": {},
   "source": [
    "`siglim_gas` sets lower and upper bounds for the Gaussian width (sigma) of the emission line. These limits can be set globablly, for all spaxels and components, by defining a 2-element array. The limits can also be set for individual spaxels (but all components) by defining an (Ncol x Nrow x 2) array."
   ]
  },
  {
   "cell_type": "code",
   "execution_count": null,
   "metadata": {},
   "outputs": [],
   "source": [
    "# Global limit\n",
    "siglim_gas = np.array([40., 2000.])\n",
    "\n",
    "# Spaxel-by-spaxel limit\n",
    "# siglim_gas = np.ndarray((dx, dy, 2))\n",
    "# siglim_gas[:,:,] = array([5.,1000.])\n",
    "# siglim_gas[13, 10, :] = array([5.,500.])"
   ]
  },
  {
   "cell_type": "markdown",
   "metadata": {},
   "source": [
    "#### Spectral resolution convolution\n",
    "##### Just running convolution ---\n",
    "\n",
    "If no convolution is desired, then set `spectres_convolve` to None. \n",
    "If convolution is desired, then `spectres_convolve` and `spect_instrum` are required variables.\n",
    "\n",
    "Specify the desired convolution method using `spect_instrum`. The syntax is: \n",
    "`spect_instrum = {INSTRUMENT:[METHOD]}`, which should mirror the filename in `q3dfit/data/dispersion_files/`. METHOD specifies the grating, spectral resolution [R], Δλ FWHM in [Å], velocity in [km/s].\n",
    "\n",
    "Examples convolving with: \n",
    "1. flat R=500: `spect_instrum = {'flat':['R500']}`\n",
    "2. flat velocity FWHM = 30km/s: `spect_instrum = {'flat':['kms30']}`\n",
    "3. flat Δλ FWHM = 4 Å: `spect_instrum = {'flat':['dlambda4']}`\n",
    "4. JWST NIRSPEC / G140M: `spect_instrum = {'JWST_NIRSPEC':['G140M']}`\n",
    "\n",
    "If desired flat convolution file does not exist, then a new file will be created automatically. "
   ]
  },
  {
   "cell_type": "code",
   "execution_count": null,
   "metadata": {},
   "outputs": [],
   "source": [
    "spect_instrum = {'JWST_NIRSPEC':['G235H']}\n",
    "spectres_convolve = {'ws_instrum':spect_instrum}\n",
    "# spectres_convolve = None"
   ]
  },
  {
   "cell_type": "markdown",
   "metadata": {},
   "source": [
    "##### Creating convolution files (optional) ---\n",
    "\n",
    "If the user wants to create a dispersion file, there are 2 methods:\n",
    "\n",
    "1. First, run `from q3dfit.common.spectConvol import dispFile` and initialize: `dispObj = dispFile()`\n",
    "2. Create the files with either method A or B\n",
    "\n",
    "2.(A) Create a flat R=120 dispersion file from 10 μm to 30 μm: \n",
    "\n",
    "`dispObj.make_dispersion(120,WAVELEN=[10,30],TYPE='R')`\n",
    "\n",
    "2.(B) Create a custom dispersion file with user supplied wavelength and Resolving power lists:\n",
    "\n",
    "`dispObj.make_custom_dispersion([wavelen list],R=[some R list],FILENAME='custom_RlistA_disp')`\n",
    "\n",
    "3. Specify desired dispersion file in convolution: running custom example 2B\n",
    "\n",
    "`spect_instrum = {'custom':['RlistA']}`\n"
   ]
  },
  {
   "cell_type": "code",
   "execution_count": null,
   "metadata": {},
   "outputs": [],
   "source": [
    "#from q3dfit.common.spectConvol import dispFile\n",
    "#dobj = dispFile()\n",
    "#dispObj.make_custom_dispersion([wavelen list],R=[some R list],FILENAME='custom_RlistA_disp')\n",
    "#spect_instrum = {'custom':['RlistA']}"
   ]
  },
  {
   "cell_type": "markdown",
   "metadata": {},
   "source": [
    "#### 1.2.2 Continuum parameters <a class=\"anchor\" id=\"chapter1_2_2\"></a>"
   ]
  },
  {
   "cell_type": "markdown",
   "metadata": {},
   "source": [
    "`q3dfit` first masks emission lines before fitting. This sets is the default mask value in km/s for each velocity component for the first fit. During the second fit, the mask value is set automatically using the best-fit linewidths determined from the first fit."
   ]
  },
  {
   "cell_type": "code",
   "execution_count": null,
   "metadata": {},
   "outputs": [],
   "source": [
    "maskwidths_def = 2000."
   ]
  },
  {
   "cell_type": "markdown",
   "metadata": {},
   "source": [
    "The continuum fitting parameters specified here are for the case of simultaneous fitting of a stellar and quasar template.\n",
    "- `hostord` = [Optional] additive Legendre polynomial for host [starlight] component. Adds components up to order `hostord`.\n",
    "- `qsoord` = [Optional] additive Legendre polynomial for host [starlight] component. Adds components up to order `qsoord`.\n",
    "- `qsoxdr` = Filename and path of quasar template created earlier with `makeqsotemplate.py`."
   ]
  },
  {
   "cell_type": "code",
   "execution_count": null,
   "metadata": {},
   "outputs": [],
   "source": [
    "fcncontfit = 'fitqsohost'\n",
    "argscontfit = dict()\n",
    "argscontfit['qsoxdr'] = qsotemplate\n",
    "argscontfit['qsoord'] = 3\n",
    "argscontfit['hostord'] = 3"
   ]
  },
  {
   "cell_type": "markdown",
   "metadata": {},
   "source": [
    "### 1.3. Setting up the plotting parameters <a class=\"anchor\" id=\"chapter1_3\"></a>"
   ]
  },
  {
   "cell_type": "markdown",
   "metadata": {},
   "source": [
    "One dictionary must be defined for a line plot to appear. `argspltlin1` holds the options for the first line plot, and `argspltlin2` is for the second. Parameter options are fed in as keyword/data pairs.\n",
    "\n",
    "Required keywords in each dictionary:\n",
    "* `nx`: Number of subplots in the horizontal direction\n",
    "* `ny`: Number of subplots in the vertical direction\n",
    "* Options for centerting the plot:\n",
    "    - `line`: a string list of line labels\n",
    "    - `center_obs`: a float list of wavelengths of each subplot center, in the observed (plotted) frame\n",
    "    - `center_rest`: a float list of wavelengths of each subplot center, in the rest frame, which are converted to obs. frame\n",
    "\n",
    "Optional keywords:\n",
    "* `size`: float list of widths in wavelength space of each subplot; if not specified, default is 300 $Å$\n",
    "* `IR`: set to `True` to use infrared-style plot"
   ]
  },
  {
   "cell_type": "code",
   "execution_count": null,
   "metadata": {},
   "outputs": [],
   "source": [
    "argspltlin1 = {'nx': 3,\n",
    "               'ny': 3,\n",
    "               'line': ['HeII4686', 'Hbeta', '[OIII]5007','[OI]6300', 'Halpha','[SII]6716'],\n",
    "               'size': [0.05, 0.05,0.07,0.07,0.07,0.07]\n",
    "              }"
   ]
  },
  {
   "cell_type": "markdown",
   "metadata": {},
   "source": [
    "The continuum plot can be changed by specifying several parameters. In this case, we have chosen to output a linear/linear plot of f$_\\lambda$ vs. wavelength, in $\\mu$m."
   ]
  },
  {
   "cell_type": "code",
   "execution_count": null,
   "metadata": {},
   "outputs": [],
   "source": [
    "argscontplot = {'xstyle': 'lin',\n",
    "                'ystyle': 'lin',\n",
    "                'fluxunit_out': 'flambda',\n",
    "                'mode': 'dark'}"
   ]
  },
  {
   "cell_type": "markdown",
   "metadata": {},
   "source": [
    "#### Line ratio constraints\n",
    "`line1`, `line2`, and `comp` are required. `value` is the initial value of `line1`/`line2`, and `lower` and `upper` limits can also be specified. (If they are not, and the line pair is a doublet in the doublets.tbl file, then the lower and upper limits are set using the data in that file.) The ratio can also be `fixed`."
   ]
  },
  {
   "cell_type": "code",
   "execution_count": null,
   "metadata": {},
   "outputs": [],
   "source": [
    "# Required columns:\n",
    "line1 = ['Halpha','[SII]6716']\n",
    "line2 = ['Hbeta','[SII]6731']\n",
    "comp = np.array([[0,1,2]]*2, dtype=np.int32)\n",
    "\n",
    "value = [3.1,1.]\n",
    "fixed = [False,False]\n",
    "lower = [2.7,0.4]\n",
    "upper = [100,1.5]\n",
    "\n",
    "\n",
    "\n",
    "# Write table\n",
    "from astropy.table import QTable\n",
    "lineratio = QTable([line1, line2, comp, value, fixed,lower], names=['line1', 'line2', 'comp', 'value', 'fixed','lower'])"
   ]
  },
  {
   "cell_type": "markdown",
   "metadata": {},
   "source": [
    "The following cell will create the initialisation structure. **Do not change anything in this cell.** "
   ]
  },
  {
   "cell_type": "code",
   "execution_count": null,
   "metadata": {},
   "outputs": [],
   "source": [
    "q3di = {# Required pars\n",
    "        'fcninitpar': 'parinit',\n",
    "        'fitran': fitrange,\n",
    "        'fluxunits': 1,\n",
    "        'infile': infile,\n",
    "        'label': gal,\n",
    "        'lines': lines,\n",
    "        'linetie': linetie,\n",
    "        'maxncomp': maxncomp,\n",
    "        'name': gal,\n",
    "        'ncomp': ncomp,\n",
    "        'outdir': outdir,\n",
    "        'zinit_gas': zinit_gas,\n",
    "        'zsys_gas': zsys_gas,\n",
    "        # Optional pars\n",
    "        'datext':0,'varext':1,'dqext':2,\n",
    "        'argscontfit': argscontfit,\n",
    "        'argscontplot': argscontplot,\n",
    "        'argsreadcube': argscube,\n",
    "        'argspltlin1': argspltlin1,\n",
    "        'cutrange': cutrange,\n",
    "        'decompose_qso_fit': True,\n",
    "        'fcncontfit': fcncontfit,\n",
    "        'logfile': logfile,\n",
    "        'maskwidths_def': maskwidths_def,\n",
    "        'siglim_gas': siglim_gas,\n",
    "        'siginit_gas': siginit_gas,\n",
    "        'spect_convol':spectres_convolve,\n",
    "         'argsinitpar': {'lineratio': lineratio},\n",
    "        'argscheckcomp':argscheckcomp\n",
    "        }"
   ]
  },
  {
   "cell_type": "markdown",
   "metadata": {},
   "source": [
    "If you want to run `q3dfit` in batch mode, run this cell, which saves q3di to an `npy` file. In your python command line, read in file and run `q3dfit` with\n",
    "<pre><code>q3di = '/path/to/the/npy/file/q3di.npy'\n",
    "from q3dfit.q3df import q3df\n",
    "q3df(q3di,cols=cols,rows=rows)</code></pre>"
   ]
  },
  {
   "cell_type": "code",
   "execution_count": null,
   "metadata": {},
   "outputs": [],
   "source": [
    "q3di_npy = 'q3di.npy'\n",
    "np.save(initdir+q3di_npy,q3di)"
   ]
  },
  {
   "cell_type": "markdown",
   "metadata": {},
   "source": [
    "## 2. Run fitting and plotting routines <a class=\"anchor\" id=\"chapter2\"></a>"
   ]
  },
  {
   "cell_type": "code",
   "execution_count": null,
   "metadata": {},
   "outputs": [],
   "source": [
    "from q3dfit.q3df import q3df\n",
    "from q3dfit.q3da import q3da\n",
    "import q3dfit.q3dpro as q3dpro"
   ]
  },
  {
   "cell_type": "markdown",
   "metadata": {},
   "source": [
    "Select spaxels to fit based on a 2 sigma flux cut on peak [OIII] 5007 flux."
   ]
  },
  {
   "cell_type": "code",
   "execution_count": null,
   "metadata": {},
   "outputs": [],
   "source": [
    "from q3dfit.select_spaxels import mom8_map\n",
    "import matplotlib.pyplot as plt\n",
    "wavelength_segments = [[780,825]]\n",
    "SNR_cut = 2\n",
    "SNR_map,spaxels_to_fit = mom8_map(infile, datext=0, varext=1, dqext=None, wavext=None,\n",
    "                   wmapext=None, plot=True, waveunit_in='micron',\n",
    "                   waveunit_out='micron',wavelength_segments=wavelength_segments,SNR_cut=SNR_cut)\n",
    "    \n",
    "\n",
    "SNR_map[0:6] = 0\n",
    "SNR_map[79:] = 0\n",
    "SNR_map[:,72:] = 0\n",
    "\n",
    "spaxels_to_fit = np.where(SNR_map>SNR_cut)\n",
    "\n",
    "cols =list(spaxels_to_fit[0])\n",
    "rows =list(spaxels_to_fit[1])\n",
    "print(len(cols))\n",
    "print(len(rows))\n",
    "\n",
    "#plot the SNR map in log units\n",
    "plt.imshow(np.log10(SNR_map.T),vmin=np.log10(2),vmax=np.log10(300),origin='lower')\n",
    "\n"
   ]
  },
  {
   "cell_type": "markdown",
   "metadata": {},
   "source": [
    "Run the fit. Choose `quiet=False` for verbose output. An output dictionary for each spaxel is saved to a numpy binary file labeled with prefix `q3di['label']` and suffix `_col_row.npy`."
   ]
  },
  {
   "cell_type": "code",
   "execution_count": null,
   "metadata": {
    "scrolled": true
   },
   "outputs": [],
   "source": [
    "#fitting spaxels using single core\n",
    "#q3df(q3di,cols=cols,rows=rows, quiet=False)\n",
    "\n",
    "#fitting spaxels using multicore\n",
    "#q3df('nirspec-j1652-q3d_conv_fullcube3comp/q3di.npy',cols = cols, rows = rows, quiet=True,ncores=10)\n",
    "#q3df(q3di,cols=cols,rows=rows, quiet=False)\n",
    "\n",
    "#Fitting a single spaxel\n",
    "q3df(q3di,cols=45,rows=29, quiet=False)\n",
    "\n",
    "#Fitting all spaxels with no SNR cut\n",
    "#q3df(q3di, quiet=False)"
   ]
  },
  {
   "cell_type": "markdown",
   "metadata": {},
   "source": [
    "Plot the results. The resulting plots are saved as `.jpg` files. Data from multiple spaxels are collated into dictionaries containing emission-line and continuum best-fit parameters and saved to various ancillary files."
   ]
  },
  {
   "cell_type": "code",
   "execution_count": null,
   "metadata": {},
   "outputs": [],
   "source": [
    "#q3da on spaxels based on SNR cut\n",
    "#q3da(q3di,cols = cols, rows = rows,noplots=True)\n",
    "\n",
    "#q3da on individual spaxel\n",
    "q3da(q3di,cols =45, rows = 29,noplots=False)\n",
    "\n",
    "#q3da on all spaxels\n",
    "#q3da(q3di, quiet=True, noplots=True)"
   ]
  },
  {
   "cell_type": "code",
   "execution_count": null,
   "metadata": {},
   "outputs": [],
   "source": [
    "qpro = q3dpro.Q3Dpro(q3di, PLATESCALE=0.05, NOCONT=False)\n",
    "\n",
    "do_kpc = False\n",
    "saveFile = False\n",
    "flx = [1e-10,1e-5]\n",
    "qsocenter = None\n",
    "pltarg = {'Ftot':flx,\n",
    "          'Fci':flx,\n",
    "          'Sig':[100,850],\n",
    "          'v50':[-1000,1000],\n",
    "          'w80':[100,850],\n",
    "          'fluxlog':True,}\n",
    "\n",
    "#qpro.make_linemap('Hbeta',XYSTYLE=do_kpc,xyCenter=qsocenter,\n",
    "#                  LINEVAC=False,SAVEDATA=saveFile,VMINMAX=pltarg,PLTNUM=1,CMAP='inferno')\n",
    "#qpro.make_linemap('[OIII]4959',XYSTYLE=do_kpc,xyCenter=qsocenter,\n",
    "#                  LINEVAC=False,SAVEDATA=saveFile,VMINMAX=pltarg,PLTNUM=1,CMAP='inferno')\n",
    "qpro.make_linemap('[OIII]5007',XYSTYLE=do_kpc,xyCenter=qsocenter,\n",
    "                  LINEVAC=False,SAVEDATA=saveFile,VMINMAX=pltarg,PLTNUM=1,CMAP='inferno')\n",
    "#qpro.make_linemap('Halpha',XYSTYLE=do_kpc,xyCenter=qsocenter,\n",
    "#                  LINEVAC=False,SAVEDATA=saveFile,VMINMAX=pltarg,PLTNUM=1,CMAP='inferno')"
   ]
  },
  {
   "cell_type": "code",
   "execution_count": null,
   "metadata": {},
   "outputs": [],
   "source": [
    "from matplotlib.pyplot import *\n",
    "tight_layout()\n",
    "figure(1,figsize=(12,12))\n",
    "qpro.make_BPT(SNRCUT=10,PLTNUM=10,SAVEDATA=True)\n"
   ]
  },
  {
   "cell_type": "code",
   "execution_count": null,
   "metadata": {},
   "outputs": [],
   "source": [
    "qpro.make_contmap()"
   ]
  },
  {
   "cell_type": "code",
   "execution_count": null,
   "metadata": {},
   "outputs": [],
   "source": [
    "qpro.get_lineprop(LINESELECT='Halpha')"
   ]
  },
  {
   "cell_type": "code",
   "execution_count": null,
   "metadata": {},
   "outputs": [],
   "source": []
  },
  {
   "cell_type": "code",
   "execution_count": null,
   "metadata": {},
   "outputs": [],
   "source": [
    "from q3dfit.q3dpro import OneLineData\n",
    "o3data = OneLineData(qpro.linedat, '[OIII]5007')\n",
    "o3data.calc_cvdf(2.9489, [-1e3, 1e3], vstep=5)"
   ]
  },
  {
   "cell_type": "code",
   "execution_count": null,
   "metadata": {},
   "outputs": [],
   "source": [
    "o3data.make_cvdf_map(50., velran=[-1e3, 1e3], markcenter=[40., 40.],\n",
    "                     outfile=True)"
   ]
  },
  {
   "cell_type": "code",
   "execution_count": null,
   "metadata": {},
   "outputs": [],
   "source": [
    "from matplotlib.pyplot import *\n",
    "imshow(o3data.calc_cvdf_vel(90,calc_from_posvel=False).T-o3data.calc_cvdf_vel(10,calc_from_posvel=False).T,origin='lower',cmap='bwr',vmin=50,vmax=1500)\n",
    "colorbar()"
   ]
  },
  {
   "cell_type": "code",
   "execution_count": null,
   "metadata": {},
   "outputs": [],
   "source": []
  },
  {
   "cell_type": "code",
   "execution_count": null,
   "metadata": {},
   "outputs": [],
   "source": []
  }
 ],
 "metadata": {
  "kernelspec": {
   "display_name": "Python 3 (ipykernel)",
   "language": "python",
   "name": "python3"
  },
  "language_info": {
   "codemirror_mode": {
    "name": "ipython",
    "version": 3
   },
   "file_extension": ".py",
   "mimetype": "text/x-python",
   "name": "python",
   "nbconvert_exporter": "python",
   "pygments_lexer": "ipython3",
   "version": "3.8.13"
  }
 },
 "nbformat": 4,
 "nbformat_minor": 4
}
