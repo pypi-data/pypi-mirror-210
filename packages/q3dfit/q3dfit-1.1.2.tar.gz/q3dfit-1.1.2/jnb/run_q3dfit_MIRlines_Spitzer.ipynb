{
 "cells": [
  {
   "cell_type": "markdown",
   "metadata": {},
   "source": [
    "# q3dfit example notebook: rest-frame mid-IR, Spitzer IRS data of 2MASX J15561599+3951374."
   ]
  },
  {
   "cell_type": "markdown",
   "metadata": {},
   "source": [
    "<h3><font color='teal'>Installation of the environment and the package are described <a href=\"https://q3dfit.readthedocs.io/\">here</a>. </font></h3>"
   ]
  },
  {
   "cell_type": "markdown",
   "metadata": {},
   "source": [
    "This Jupyter notebook allows you to run Q3Dfit, a PSF decomposition and spectral analysis package tailored for JWST NIRSpec and MIRI IFU observations. \n",
    "\n",
    "Q3Dfit is developed as a science-enabling data product by the Early Release Science Team #1335 Q3D. You can find more information about this ERS program **Q3D** [here](https://wwwstaff.ari.uni-heidelberg.de/dwylezalek/q3d.html) and [here](https://www.stsci.edu/jwst/science-execution/approved-programs/dd-ers/program-1335).\n",
    "\n",
    "The software is based on the existing package IFSFIT developed by Dave Rupke (see [ADS link](https://ui.adsabs.harvard.edu/abs/2017ApJ...850...40R/abstract)).\n",
    "\n",
    "The following notebook will guide you through the initialization procedure and will then perform the analysis. "
   ]
  },
  {
   "cell_type": "markdown",
   "metadata": {},
   "source": [
    "## Table of Contents\n",
    "\n",
    "* [1. Initialization](#chapter1)\n",
    "    * [1.0. Setting up the directory tree](#chapter1_0)\n",
    "    * [1.1. Setting up the data and models](#chapter1_1)\n",
    "    * [1.2. Setting up the fitting parameters](#chapter1_2)\n",
    "        * [1.2.1. Emission line parameters](#chapter1_2_1)\n",
    "        * [1.2.2. Continuum parameters](#chapter1_2_2)\n",
    "    * [1.3. Setting up the plotting parameters](#chapter1_3)\n",
    "* [2. Run fitting and plotting routines](#chapter2)"
   ]
  },
  {
   "cell_type": "markdown",
   "metadata": {},
   "source": [
    "## 1. Initialization <a class=\"anchor\" id=\"chapter1\"></a>"
   ]
  },
  {
   "cell_type": "code",
   "execution_count": 1,
   "metadata": {},
   "outputs": [],
   "source": [
    "import os.path\n",
    "import numpy as np\n",
    "%matplotlib inline\n",
    "# unless you are running this python notebook from the directory where q3dfit is installed, you need to point the\n",
    "# path to the package in order to import it. \n",
    "import sys\n",
    "sys.path.append(\"/home/jovyan\") # for JWebbinar\n",
    "sys.path.append(\"../\")"
   ]
  },
  {
   "cell_type": "code",
   "execution_count": 2,
   "metadata": {},
   "outputs": [],
   "source": [
    "# if QUESTFIT is needed, in mid-IR\n",
    "from q3dfit.questfit_readcf import readcf"
   ]
  },
  {
   "cell_type": "code",
   "execution_count": 3,
   "metadata": {},
   "outputs": [],
   "source": [
    "# Convenience function\n",
    "# Ref: https://github.com/spacetelescope/jwebbinar_prep/blob/main/imaging_mode/imaging_mode_stage_1.ipynb\n",
    "from astropy.utils.data import download_file\n",
    "def download_files(files, output_directory, force=False):\n",
    "    \"\"\"Given a tuple or list of tuples containing (URL, filename),\n",
    "    download the given files into the current working directory.\n",
    "    Downloading is done via astropy's download_file. A symbolic link\n",
    "    is created in the specified output dirctory that points to the\n",
    "    downloaded file.\n",
    "    \n",
    "    Parameters\n",
    "    ----------\n",
    "    files : tuple or list of tuples\n",
    "        Each 2-tuple should contain (URL, filename), where\n",
    "        URL is the URL from which to download the file, and\n",
    "        filename will be the name of the symlink pointing to\n",
    "        the downloaded file.\n",
    "        \n",
    "    output_directory : str\n",
    "        Name of the directory in which to create the symbolic\n",
    "        links to the downloaded files\n",
    "        \n",
    "    force : bool\n",
    "        If True, the file will be downloaded regarless of whether\n",
    "        it is already present or not.\n",
    "                \n",
    "    Returns\n",
    "    -------\n",
    "    filenames : list\n",
    "        List of filenames corresponding to the symbolic links\n",
    "        of the downloaded files\n",
    "    \"\"\"\n",
    "    # In the case of a single input tuple, make it a\n",
    "    # 1 element list, for consistency.\n",
    "    filenames = []\n",
    "    if isinstance(files, tuple):\n",
    "        files = [files]\n",
    "        \n",
    "    for file in files:\n",
    "        filenames.append(file[1])\n",
    "        if force:\n",
    "            print('Downloading {}...'.format(file[1]))\n",
    "            demo_file = download_file(file[0], cache='update')\n",
    "            # Make a symbolic link using a local name for convenience\n",
    "            if not os.path.islink(os.path.join(output_directory, file[1])):\n",
    "                os.symlink(demo_file, os.path.join(output_directory, file[1]))\n",
    "        else:\n",
    "            if not os.path.isfile(os.path.join(output_directory, file[1])):\n",
    "                print('Downloading {}...'.format(file[1]))\n",
    "                demo_file = download_file(file[0], cache=True)\n",
    "                # Make a symbolic link using a local name for convenience\n",
    "                os.symlink(demo_file, os.path.join(output_directory, file[1]))\n",
    "            else:\n",
    "                print('{} already exists, skipping download...'.format(file[1]))\n",
    "                continue\n",
    "    return filenames    "
   ]
  },
  {
   "cell_type": "markdown",
   "metadata": {},
   "source": [
    "### 1.0. Setting up the directory tree <a class=\"anchor\" id=\"chapter1_0\"></a>\n",
    "\n",
    "Define the directories in which the data cube(s) that you want to analyse are stored and the output directories. We recommend creating a working directory that you name after your target, in which all outputs from q3dfit will be saved. Then download test data."
   ]
  },
  {
   "cell_type": "code",
   "execution_count": 4,
   "metadata": {},
   "outputs": [],
   "source": [
    "# Base directory (book-keeping)\n",
    "volume = '22128896/'\n",
    "# prefix label for output files\n",
    "gal = '22128896'\n",
    "# Input directory\n",
    "indir = volume\n",
    "if not os.path.exists(indir):\n",
    "    os.makedirs(indir)\n",
    "# Output directory\n",
    "outdir = volume\n",
    "if not os.path.exists(outdir):\n",
    "    os.makedirs(outdir)\n",
    "# Initialization file (q3di.npy) directory\n",
    "initdir = volume\n",
    "# Output logfile\n",
    "logfile = outdir+gal+'-fitlog.txt'"
   ]
  },
  {
   "cell_type": "markdown",
   "metadata": {},
   "source": [
    "Download data from public Box folder. <font color='red'> Note: This also downloads the *.cf configuration file (specifying which spectral components to include in the MIR fitting). We note that the format of this file is currently under development and it will in the future be superseded by a more readable/convenient option. For a current description of continuum fitting parameters in the .cf file, please see the documentation: \n",
    "https://q3dfit.readthedocs.io/en/latest/"
   ]
  },
  {
   "cell_type": "code",
   "execution_count": 5,
   "metadata": {},
   "outputs": [
    {
     "name": "stdout",
     "output_type": "stream",
     "text": [
      "22128896_mock_cube.fits already exists, skipping download...\n",
      "22128896.cf already exists, skipping download...\n"
     ]
    }
   ],
   "source": [
    "# make tuples of urls and download filenames\n",
    "# infile = 1x1 mock data cube: containing only 1 single spaxel with a Spitzer spectrum\n",
    "# cf = config file\n",
    "infile_tup = ('https://rhodes.box.com/shared/static/spe9pc4kbwylw2khwcca0cimoaks6puh.fits', '22128896_mock_cube.fits')\n",
    "cf_tup = ('https://rhodes.box.com/shared/static/6502fu97kxwky9zl5t2t8gnn6n2fi2y9.cf', '22128896.cf')\n",
    "# download files; by default don't force overwrite and take first element of output\n",
    "infile = download_files(infile_tup, indir, force=False)[0]\n",
    "cfinfile = download_files(cf_tup, indir, force=False)[0]\n",
    "# add subdirectory to filenames\n",
    "infile = indir+infile\n",
    "cfinfile = indir+cfinfile"
   ]
  },
  {
   "cell_type": "markdown",
   "metadata": {},
   "source": [
    "### 1.1. Setting up the data and models <a class=\"anchor\" id=\"chapter1_1\"></a>\n",
    "\n",
    "Some general information about your cube. `argsreadcube` is a dictionary of attributes sent to the `CUBE` class.\n",
    "- For non-JWST data, set `wmapext` to `None`. The WMAP extension is a [3-D weight image](https://jwst-pipeline.readthedocs.io/en/latest/jwst/data_products/science_products.html) giving the relative weights of the output spaxels.\n",
    "- Microns are the wavelength unit used internally, but `q3dfit` can accept other wavelength input units or output other units.\n",
    "- The code does calculations in flambda space, but assumes input units of MJy/sr, the JWST default. Other input wavelength units can be specified."
   ]
  },
  {
   "cell_type": "markdown",
   "metadata": {},
   "source": [
    "\n",
    "\n",
    "Some general information about your cube:"
   ]
  },
  {
   "cell_type": "code",
   "execution_count": 6,
   "metadata": {},
   "outputs": [
    {
     "name": "stdout",
     "output_type": "stream",
     "text": [
      "Size of data cube: [ 1 , 1 , 360 ]\n",
      "Wavelength range: [ 4.898611068730001 , 34.87191390990001 ]  micron\n"
     ]
    }
   ],
   "source": [
    "from q3dfit.readcube import Cube\n",
    "argsreadcube = {'wmapext': None,\n",
    "                'wavext': 4,\n",
    "                'waveunit_in': 'Angstrom',\n",
    "                'fluxunit_in': 'Jy'}\n",
    "\n",
    "if not os.path.isfile(infile): \n",
    "    print('Data cube not found.')\n",
    "else:\n",
    "    cube = Cube(infile, **argsreadcube)\n",
    "    ncols = cube.ncols # number of columns\n",
    "    nrows = cube.nrows # number of rows\n",
    "    cube.about()\n",
    "\n",
    "if not os.path.isfile(cfinfile):\n",
    "    print('Configuration file not found.')\n",
    "else:\n",
    "    config_file = readcf(cfinfile)"
   ]
  },
  {
   "cell_type": "markdown",
   "metadata": {},
   "source": [
    "Name and systemic redshift of the galaxy. `zsys` is presently not used within the code, but would be an input for, e.g., calculating velocity maps in routines under development (e.g., `makemaps.py`). It is used in this notebook in initializing the arrays of initial guesses below."
   ]
  },
  {
   "cell_type": "code",
   "execution_count": 7,
   "metadata": {},
   "outputs": [],
   "source": [
    "name = 'F15545+4000'\n",
    "zsys_gas = 0.0"
   ]
  },
  {
   "cell_type": "markdown",
   "metadata": {},
   "source": [
    "Wavelength range over which to fit data. The user can also specify sets of regions to ignore in the fit."
   ]
  },
  {
   "cell_type": "code",
   "execution_count": 8,
   "metadata": {},
   "outputs": [],
   "source": [
    "fitrange = np.array([5.42, 29.98])  # micron"
   ]
  },
  {
   "cell_type": "markdown",
   "metadata": {},
   "source": [
    "### 1.2. Setting up the fitting parameters<a class=\"anchor\" id=\"chapter1_2\"></a>"
   ]
  },
  {
   "cell_type": "markdown",
   "metadata": {},
   "source": [
    "#### 1.2.1. Emission-line parameters <a class=\"anchor\" id=\"chapter1_2_1\"></a>"
   ]
  },
  {
   "cell_type": "markdown",
   "metadata": {},
   "source": [
    "What lines do you want to fit? You can choose from the linelists [here](https://github.com/Q3D/q3dfit/tree/main/data/linelists), or in `q3dfit/data/linelists/`."
   ]
  },
  {
   "cell_type": "code",
   "execution_count": 9,
   "metadata": {},
   "outputs": [],
   "source": [
    "lines = ['H2_00_S5', '[ArII]6.99', '[ArIII]8.99', '[NeII]12.81', \n",
    "         '[NeIII]15.56', 'H2_00_S3', 'H2_00_S1', '[SIII]18.71']"
   ]
  },
  {
   "cell_type": "markdown",
   "metadata": {},
   "source": [
    "How many components do you want to be fitted to the emission lines?"
   ]
  },
  {
   "cell_type": "code",
   "execution_count": 10,
   "metadata": {},
   "outputs": [],
   "source": [
    "maxncomp = 1"
   ]
  },
  {
   "cell_type": "markdown",
   "metadata": {},
   "source": [
    "This block sets up initial conditions for the emission-line fit to each spaxel. Emission lines are set to a common redshift and velocity dispersion. However, different sets of emission lines can have different velocities and linewidths by specifying different lines to which to tie particular emission lines."
   ]
  },
  {
   "cell_type": "code",
   "execution_count": 11,
   "metadata": {},
   "outputs": [],
   "source": [
    "linetie = dict()\n",
    "ncomp = dict()\n",
    "zinit_gas = dict()\n",
    "siginit_gas = dict()\n",
    "for i in lines:\n",
    "    linetie[i] = '[NeII]12.81'\n",
    "    ncomp[i] = np.full((ncols,nrows),maxncomp)\n",
    "    zinit_gas[i] = np.full((ncols,nrows,maxncomp),0.)\n",
    "    siginit_gas[i] = np.full((ncols,nrows,maxncomp), 1000.)"
   ]
  },
  {
   "cell_type": "markdown",
   "metadata": {},
   "source": [
    "`siglim_gas` sets lower and upper bounds for the Gaussian width (sigma) of the emission line. These limits can be set globablly, for all spaxels and components, by defining a 2-element array. The limits can also be set for individual spaxels (but all components) by defining an (Ncol x Nrow x 2) array."
   ]
  },
  {
   "cell_type": "code",
   "execution_count": 12,
   "metadata": {},
   "outputs": [],
   "source": [
    "siglim_gas = np.array([5., 4000.])"
   ]
  },
  {
   "cell_type": "markdown",
   "metadata": {},
   "source": [
    "#### Spectral resolution convolution\n",
    "##### Just running convolution ---\n",
    "\n",
    "If no convolution is desired, then set `spectres_convolve` to None. \n",
    "If convolution is desired, then `spectres_convolve` and `spect_instrum` are required variables.\n",
    "\n",
    "Specify the desired convolution method using `spect_instrum`. The syntax is: \n",
    "`spect_instrum = {INSTRUMENT:[METHOD]}`, which should mirror the filename in `q3dfit/data/dispersion_files/`. METHOD specifies the grating, spectral resolution [R], Δλ FWHM in [Å], velocity in [km/s].\n",
    "\n",
    "Examples convolving with: \n",
    "1. flat R=500: `spect_instrum = {'flat':['R500']}`\n",
    "2. flat velocity FWHM = 30km/s: `spect_instrum = {'flat':['kms30']}`\n",
    "3. flat Δλ FWHM = 4 Å: `spect_instrum = {'flat':['dlambda4']}`\n",
    "4. JWST NIRSPEC / G140M: `spect_instrum = {'JWST_NIRSPEC':['G140M']}`\n",
    "\n",
    "If desired flat convolution file does not exist, then a new file will be created automatically. "
   ]
  },
  {
   "cell_type": "code",
   "execution_count": 13,
   "metadata": {},
   "outputs": [],
   "source": [
    "spect_instrum = {'spitzer_irs_ch0':['sl2','sl1',],'spitzer_irs_ch2':['ll1','ll2']}\n",
    "spectres_convolve = {'ws_instrum':spect_instrum}"
   ]
  },
  {
   "cell_type": "markdown",
   "metadata": {},
   "source": [
    "##### Creating convolution files (optional) ---\n",
    "\n",
    "If the user wants to create a dispersion file, there are 2 methods:\n",
    "\n",
    "1. First, run `from q3dfit.spectConvol import dispFile` and initialize: `dispObj = dispFile()`\n",
    "2. Create the files with either method A or B\n",
    "\n",
    "2.(A) Create a flat R=120 dispersion file from 10 μm to 30 μm: \n",
    "\n",
    "`dispObj.make_dispersion(120,WAVELEN=[10,30],TYPE='R')`\n",
    "\n",
    "2.(B) Create a custom dispersion file with user supplied wavelength and Resolving power lists:\n",
    "\n",
    "`dispObj.make_custom_dispersion([wavelen list],R=[some R list],FILENAME='custom_RlistA_disp')`\n",
    "\n",
    "3. Specify desired dispersion file in convolution: running custom example 2B\n",
    "\n",
    "`spect_instrum = {'custom':['RlistA']}`\n"
   ]
  },
  {
   "cell_type": "code",
   "execution_count": 14,
   "metadata": {},
   "outputs": [],
   "source": [
    "#from q3dfit.spectConvol import dispFile\n",
    "#dobj = dispFile()\n",
    "#dispObj.make_custom_dispersion([wavelen list],R=[some R list],FILENAME='custom_RlistA_disp')\n",
    "#spect_instrum = {'custom':['RlistA']}"
   ]
  },
  {
   "cell_type": "markdown",
   "metadata": {},
   "source": [
    "#### 1.2.2 Continuum parameters <a class=\"anchor\" id=\"chapter1_2_2\"></a>"
   ]
  },
  {
   "cell_type": "markdown",
   "metadata": {},
   "source": [
    "`q3dfit` first masks emission lines before fitting. This sets is the default mask value in km/s for each velocity component for the first fit. During the second fit, the mask value is set automatically using the best-fit linewidths determined from the first fit."
   ]
  },
  {
   "cell_type": "code",
   "execution_count": 15,
   "metadata": {},
   "outputs": [],
   "source": [
    "maskwidths_def = 2000."
   ]
  },
  {
   "cell_type": "markdown",
   "metadata": {},
   "source": [
    "The continuum fitting parameters specified here are for the case of general MIR fitting."
   ]
  },
  {
   "cell_type": "code",
   "execution_count": 16,
   "metadata": {},
   "outputs": [],
   "source": [
    "fcncontfit = 'questfit'\n",
    "argscontfit = dict()\n",
    "argscontfit['config_file'] = cfinfile\n",
    "argscontfit['outdir'] = outdir\n",
    "argscontfit['plot_decomp'] = True"
   ]
  },
  {
   "cell_type": "markdown",
   "metadata": {},
   "source": [
    "The mid-IR continuum fitting includes features that depend on redshift. These are specified as \"stellar\" redshift for compatibility with stellar template fitting, even though they refer in this case to the redshift of the mid-IR dust features. The input spectrum has in this case already been shifted to rest wavelengths."
   ]
  },
  {
   "cell_type": "code",
   "execution_count": 17,
   "metadata": {},
   "outputs": [],
   "source": [
    "zinit_stars = np.full((ncols,nrows),0.0)"
   ]
  },
  {
   "cell_type": "markdown",
   "metadata": {},
   "source": [
    "### 1.3. Setting up the plotting and output parameters <a class=\"anchor\" id=\"chapter1_3\"></a>"
   ]
  },
  {
   "cell_type": "markdown",
   "metadata": {},
   "source": [
    "One dictionary must be defined for a line plot to appear. `argspltlin1` holds the options for the first line plot, and `argspltlin2` is for the second. Parameter options are fed in as keyword/data pairs.\n",
    "\n",
    "Required keywords in each dictionary:\n",
    "* `nx`: Number of subplots in the horizontal direction\n",
    "* `ny`: Number of subplots in the vertical direction\n",
    "* Options for centerting the plot:\n",
    "    - `line`: a string list of line labels\n",
    "    - `center_obs`: a float list of wavelengths of each subplot center, in the observed (plotted) frame\n",
    "    - `center_rest`: a float list of wavelengths of each subplot center, in the rest frame, which are converted to obs. frame\n",
    "\n",
    "Optional keywords:\n",
    "* `size`: float list of widths in wavelength space of each subplot; if not specified, default is 300 $Å$\n",
    "* `IR`: set to `True` to use infrared-style plot"
   ]
  },
  {
   "cell_type": "code",
   "execution_count": 18,
   "metadata": {},
   "outputs": [],
   "source": [
    "argspltlin1 = {'nx': 3,\n",
    "               'ny': 2,\n",
    "               'line': ['[ArII]6.99', '[ArIII]8.99', '[NeII]12.81', \n",
    "                        '[NeIII]15.56', 'H2_00_S1', '[SIII]18.71'],\n",
    "               'size': [3., 3., 3., 3., 3., 3.],\n",
    "               'IR': True}"
   ]
  },
  {
   "cell_type": "markdown",
   "metadata": {},
   "source": [
    "The following cell will create the initialisation structure. **Do not change anything in this cell.** "
   ]
  },
  {
   "cell_type": "code",
   "execution_count": 19,
   "metadata": {},
   "outputs": [],
   "source": [
    "q3di = { # Required pars\n",
    "        'fcninitpar': 'parinit',\n",
    "        'fitran': fitrange,\n",
    "        'infile': infile,\n",
    "        'label': config_file['source'][0].replace('.ideos','').replace('.npy', ''),\n",
    "        'lines': lines,\n",
    "        'linetie': linetie,\n",
    "        'maxncomp': maxncomp,\n",
    "        'ncomp': ncomp,\n",
    "        'outdir': outdir,\n",
    "        'zinit_stars': zinit_stars,\n",
    "        'zinit_gas': zinit_gas,\n",
    "        'zsys_gas': zsys_gas,\n",
    "        # Optional pars\n",
    "        'argscontfit': argscontfit,\n",
    "        'argspltlin1': argspltlin1,\n",
    "        'argsreadcube': argsreadcube,\n",
    "        'fcncheckcomp': 'checkcomp',\n",
    "        'fcncontfit': fcncontfit,            \n",
    "        'logfile': logfile,\n",
    "        'maskwidths_def': maskwidths_def,\n",
    "        'siglim_gas': siglim_gas,\n",
    "        'siginit_gas': siginit_gas,\n",
    "        'spect_convol':spectres_convolve\n",
    "       }"
   ]
  },
  {
   "cell_type": "markdown",
   "metadata": {},
   "source": [
    "If you want to run `q3dfit` in batch mode, run this cell, which saves q3di to an `npy` file. In your python command line, read in file and run `q3dfit` with\n",
    "<pre><code>q3di = '/path/to/the/npy/file/q3di.npy'\n",
    "from q3dfit.q3df import q3df\n",
    "q3df(q3di,cols=cols,rows=rows)</code></pre>"
   ]
  },
  {
   "cell_type": "code",
   "execution_count": 20,
   "metadata": {},
   "outputs": [],
   "source": [
    "q3di_npy = 'q3di.npy'\n",
    "np.save(initdir+q3di_npy,q3di)"
   ]
  },
  {
   "cell_type": "markdown",
   "metadata": {},
   "source": [
    "## 2. Run fitting and plotting routines <a class=\"anchor\" id=\"chapter2\"></a>"
   ]
  },
  {
   "cell_type": "code",
   "execution_count": 21,
   "metadata": {},
   "outputs": [],
   "source": [
    "from q3dfit.q3df import q3df\n",
    "from q3dfit.q3da import q3da"
   ]
  },
  {
   "cell_type": "markdown",
   "metadata": {},
   "source": [
    "Run the fit. Because there is only one spaxel, we don't have to specify the rows and columns. Choose `quiet=False` for verbose output. An output dictionary for each spaxel is saved to a numpy binary file labeled with prefix `q3di['label']` and suffix `_col_row.npy`."
   ]
  },
  {
   "cell_type": "code",
   "execution_count": 22,
   "metadata": {
    "scrolled": false
   },
   "outputs": [
    {
     "name": "stdout",
     "output_type": "stream",
     "text": [
      "[col,row]=[1,1] out of [1,1]\n",
      "FITLOOP: First call to FITSPEC\n",
      "1.0\n",
      "1.0\n",
      "1.0\n",
      "1.0\n",
      "[[Variables]]\n",
      "    template_0_amp:        0.02023398 +/- 2.5126e-04 (1.24%) (init = 0.1)\n",
      "    blackbody500a:         0.00137735 +/- 1.9546e-04 (14.19%) (init = 0.1)\n",
      "    blackbody500T:         279.420432 +/- 8.11910414 (2.91%) (init = 500)\n",
      "    blackbody500_ext_Av:   0.85467682 +/- 0.15141490 (17.72%) (init = 0)\n",
      "    blackbody500_abs_tau:  0.71294412 +/- 0.24423070 (34.26%) (init = 0)\n",
      "    blackbody50a:          0.00868953 +/- 0.00364539 (41.95%) (init = 0.1)\n",
      "    blackbody50T:          104.622632 +/- 3.57452985 (3.42%) (init = 50)\n",
      "    blackbody50_ext_Av:    7.0382e-16 +/- 0.31111968 (44204457193958632.00%) (init = 0)\n",
      "    blackbody50_abs_tau:   7.6929e-24 +/- 128.997428 (1676839240961955423439552512.00%) (init = 0)\n",
      "[[Correlations]] (unreported correlations are < 0.100)\n",
      "    C(blackbody50a, blackbody50_ext_Av)          = -1.000\n",
      "    C(blackbody500a, blackbody500_ext_Av)        = -0.973\n",
      "    C(blackbody50T, blackbody50_ext_Av)          = 0.948\n",
      "    C(blackbody50a, blackbody50T)                = -0.948\n",
      "    C(blackbody500T, blackbody50T)               = 0.779\n",
      "    C(blackbody500_abs_tau, blackbody50_abs_tau) = -0.733\n",
      "    C(blackbody500_ext_Av, blackbody50T)         = -0.683\n",
      "    C(blackbody500_ext_Av, blackbody50_ext_Av)   = -0.661\n",
      "    C(blackbody500T, blackbody50_ext_Av)         = 0.658\n",
      "    C(blackbody500_ext_Av, blackbody50a)         = 0.655\n",
      "    C(blackbody500T, blackbody50a)               = -0.650\n",
      "    C(blackbody500a, blackbody50_ext_Av)         = 0.539\n",
      "    C(blackbody500a, blackbody50T)               = 0.538\n",
      "    C(blackbody500a, blackbody50a)               = -0.533\n",
      "    C(blackbody500T, blackbody500_abs_tau)       = 0.507\n",
      "    C(blackbody500T, blackbody500_ext_Av)        = -0.446\n",
      "    C(blackbody500_abs_tau, blackbody50T)        = 0.397\n",
      "    C(template_0_amp, blackbody500_ext_Av)       = -0.375\n",
      "    C(blackbody500a, blackbody500T)              = 0.344\n",
      "    C(blackbody500_abs_tau, blackbody50_ext_Av)  = 0.331\n",
      "    C(blackbody500_abs_tau, blackbody50a)        = -0.326\n",
      "    C(template_0_amp, blackbody500a)             = 0.285\n",
      "    C(blackbody50T, blackbody50_abs_tau)         = -0.271\n",
      "    C(blackbody50_ext_Av, blackbody50_abs_tau)   = -0.242\n",
      "    C(template_0_amp, blackbody50a)              = -0.241\n",
      "    C(blackbody50a, blackbody50_abs_tau)         = 0.240\n",
      "    C(template_0_amp, blackbody50_ext_Av)        = 0.240\n",
      "    C(blackbody500T, blackbody50_abs_tau)        = -0.239\n",
      "    C(blackbody500_ext_Av, blackbody50_abs_tau)  = 0.231\n",
      "    C(template_0_amp, blackbody50T)              = 0.228\n",
      "    C(template_0_amp, blackbody500_abs_tau)      = 0.203\n",
      "    C(blackbody500_ext_Av, blackbody500_abs_tau) = -0.203\n",
      "    C(blackbody500a, blackbody50_abs_tau)        = -0.187\n",
      "    C(template_0_amp, blackbody500T)             = -0.157\n",
      "    C(blackbody500a, blackbody500_abs_tau)       = 0.131\n",
      "    C(template_0_amp, blackbody50_abs_tau)       = -0.129\n",
      "FITSPEC: Continuum fit took 0.3 s.\n",
      "   Iteration     Total nfev        Cost      Cost reduction    Step norm     Optimality   \n",
      "       0              1         2.6497e+02                                    4.97e+03    \n",
      "       1              2         2.1309e+02      5.19e+01       5.40e+02       1.77e+03    \n",
      "       2              3         1.4615e+02      6.69e+01       6.66e-01       4.54e+00    \n",
      "       3              4         1.4613e+02      1.67e-02       1.15e+01       1.88e+01    \n",
      "       4              5         1.4613e+02      2.11e-03       5.71e+00       2.03e+00    \n",
      "       5              8         1.4613e+02      8.21e-04       2.29e+00       4.61e-01    \n",
      "       6              9         1.4613e+02      2.38e-04       1.67e+00       2.20e-01    \n",
      "       7             11         1.4613e+02      2.21e-05       4.17e-01       1.66e-02    \n",
      "       8             13         1.4613e+02      3.23e-06       2.08e-01       6.63e-03    \n",
      "       9             15         1.4613e+02      2.29e-07       5.21e-02       1.17e-03    \n",
      "`ftol` termination condition is satisfied.\n",
      "Function evaluations 15, initial cost 2.6497e+02, final cost 1.4613e+02, first-order optimality 1.17e-03.\n",
      "[[Model]]\n",
      "    (((((((Model(manygauss, prefix='H2_00_S5_0_', SPECRES='<q3dfit.spectConvol.spectConvol object at 0x7fe869366b50>') + Model(manygauss, prefix='lbArIIrb6pt99_0_', SPECRES='<q3dfit.spectConvol.spectConvol object at 0x7fe869366b50>')) + Model(manygauss, prefix='lbArIIIrb8pt99_0_', SPECRES='<q3dfit.spectConvol.spectConvol object at 0x7fe869366b50>')) + Model(manygauss, prefix='lbNeIIrb12pt81_0_', SPECRES='<q3dfit.spectConvol.spectConvol object at 0x7fe869366b50>')) + Model(manygauss, prefix='lbNeIIIrb15pt56_0_', SPECRES='<q3dfit.spectConvol.spectConvol object at 0x7fe869366b50>')) + Model(manygauss, prefix='H2_00_S3_0_', SPECRES='<q3dfit.spectConvol.spectConvol object at 0x7fe869366b50>')) + Model(manygauss, prefix='H2_00_S1_0_', SPECRES='<q3dfit.spectConvol.spectConvol object at 0x7fe869366b50>')) + Model(manygauss, prefix='lbSIIIrb18pt71_0_', SPECRES='<q3dfit.spectConvol.spectConvol object at 0x7fe869366b50>'))\n",
      "[[Fit Statistics]]\n",
      "    # fitting method   = least_squares\n",
      "    # function evals   = 15\n",
      "    # data points      = 310\n",
      "    # variables        = 10\n",
      "    chi-square         = 292.257348\n",
      "    reduced chi-square = 0.97419116\n",
      "    Akaike info crit   = 1.72935759\n",
      "    Bayesian info crit = 39.0950806\n",
      "[[Variables]]\n",
      "    H2_00_S5_0_flx:         0.00921242 +/- 0.00386285 (41.93%) (init = 0.004709138)\n",
      "    H2_00_S5_0_cwv:         6.90873741 +/- 0.00547925 (0.08%) == '6.909520e+00 / 1.281355e+01 * lbNeIIrb12pt81_0_cwv'\n",
      "    H2_00_S5_0_sig:         472.860847 +/- 286.643267 (60.62%) == 'lbNeIIrb12pt81_0_sig'\n",
      "    lbArIIrb6pt99_0_flx:    0.01589227 +/- 0.00729882 (45.93%) (init = 0.004709138)\n",
      "    lbArIIrb6pt99_0_cwv:    6.98448283 +/- 0.00553932 (0.08%) == '6.985274e+00 / 1.281355e+01 * lbNeIIrb12pt81_0_cwv'\n",
      "    lbArIIrb6pt99_0_sig:    472.860847 +/- 286.643267 (60.62%) == 'lbNeIIrb12pt81_0_sig'\n",
      "    lbArIIIrb8pt99_0_flx:   0.00297531 +/- 0.00137718 (46.29%) (init = 0.0007825834)\n",
      "    lbArIIIrb8pt99_0_cwv:   8.99036161 +/- 0.00713016 (0.08%) == '8.991380e+00 / 1.281355e+01 * lbNeIIrb12pt81_0_cwv'\n",
      "    lbArIIIrb8pt99_0_sig:   472.860847 +/- 286.643267 (60.62%) == 'lbNeIIrb12pt81_0_sig'\n",
      "    lbNeIIrb12pt81_0_flx:   0.12130343 +/- 0.12960966 (106.85%) (init = 0.01821774)\n",
      "    lbNeIIrb12pt81_0_cwv:   12.8120987 +/- 0.01016114 (0.08%) (init = 12.81355)\n",
      "    lbNeIIrb12pt81_0_sig:   472.860847 +/- 286.643267 (60.62%) (init = 1000)\n",
      "    lbNeIIIrb15pt56_0_flx:  0.04097421 +/- 0.06438411 (157.13%) (init = 0.005083565)\n",
      "    lbNeIIIrb15pt56_0_cwv:  15.5533382 +/- 0.01233519 (0.08%) == '1.555510e+01 / 1.281355e+01 * lbNeIIrb12pt81_0_cwv'\n",
      "    lbNeIIIrb15pt56_0_sig:  472.860847 +/- 286.643267 (60.62%) == 'lbNeIIrb12pt81_0_sig'\n",
      "    H2_00_S3_0_flx:         0.00900346 +/- 0.00306362 (34.03%) (init = 0.002073588)\n",
      "    H2_00_S3_0_cwv:         9.66382532 +/- 0.00766428 (0.08%) == '9.664920e+00 / 1.281355e+01 * lbNeIIrb12pt81_0_cwv'\n",
      "    H2_00_S3_0_sig:         472.860847 +/- 286.643267 (60.62%) == 'lbNeIIrb12pt81_0_sig'\n",
      "    H2_00_S1_0_flx:         0.02858887 +/- 0.02346334 (82.07%) (init = 0.004636642)\n",
      "    H2_00_S1_0_cwv:         17.0329106 +/- 0.01350862 (0.08%) == '1.703484e+01 / 1.281355e+01 * lbNeIIrb12pt81_0_cwv'\n",
      "    H2_00_S1_0_sig:         472.860847 +/- 286.643267 (60.62%) == 'lbNeIIrb12pt81_0_sig'\n",
      "    lbSIIIrb18pt71_0_flx:   0.09389840 +/- 0.10315061 (109.85%) (init = 0.01364067)\n",
      "    lbSIIIrb18pt71_0_cwv:   18.7108805 +/- 0.01483940 (0.08%) == '1.871300e+01 / 1.281355e+01 * lbNeIIrb12pt81_0_cwv'\n",
      "    lbSIIIrb18pt71_0_sig:   472.860847 +/- 286.643267 (60.62%) == 'lbNeIIrb12pt81_0_sig'\n",
      "FITSPEC: Line fit took 0.7 s.\n",
      "FIT STATUS: 2\n",
      "FITLOOP: Second call to FITSPEC\n",
      "1.0\n",
      "1.0\n",
      "1.0\n",
      "1.0\n",
      "[[Variables]]\n",
      "    template_0_amp:        0.01997670 +/- 2.7431e-04 (1.37%) (init = 0.1)\n",
      "    blackbody500a:         0.00140803 +/- 2.0802e-04 (14.77%) (init = 0.1)\n",
      "    blackbody500T:         274.852908 +/- 8.23589406 (3.00%) (init = 500)\n",
      "    blackbody500_ext_Av:   0.86220082 +/- 0.15846038 (18.38%) (init = 0)\n",
      "    blackbody500_abs_tau:  0.25320205 +/- 0.21973442 (86.78%) (init = 0)\n",
      "    blackbody50a:          0.00863503 +/- 0.00412270 (47.74%) (init = 0.1)\n",
      "    blackbody50T:          103.841683 +/- 4.00926342 (3.86%) (init = 50)\n",
      "    blackbody50_ext_Av:    8.8982e-18 +/- 0.35321591 (3969539487830760960.00%) (init = 0)\n",
      "    blackbody50_abs_tau:   5.2418e-23 +/- 159.354023 (304004561263323755631869952.00%) (init = 0)\n",
      "[[Correlations]] (unreported correlations are < 0.100)\n",
      "    C(blackbody50a, blackbody50_ext_Av)          = -1.000\n",
      "    C(blackbody500a, blackbody500_ext_Av)        = -0.972\n",
      "    C(blackbody50T, blackbody50_ext_Av)          = 0.951\n",
      "    C(blackbody50a, blackbody50T)                = -0.950\n",
      "    C(blackbody500_abs_tau, blackbody50_abs_tau) = -0.783\n",
      "    C(blackbody500T, blackbody50T)               = 0.769\n",
      "    C(blackbody500_ext_Av, blackbody50T)         = -0.677\n",
      "    C(blackbody500_ext_Av, blackbody50_ext_Av)   = -0.660\n",
      "    C(blackbody500_ext_Av, blackbody50a)         = 0.654\n",
      "    C(blackbody500T, blackbody50_ext_Av)         = 0.649\n",
      "    C(blackbody500T, blackbody50a)               = -0.641\n",
      "    C(blackbody500T, blackbody500_abs_tau)       = 0.544\n",
      "    C(blackbody500a, blackbody50_ext_Av)         = 0.531\n",
      "    C(blackbody500a, blackbody50T)               = 0.526\n",
      "    C(blackbody500a, blackbody50a)               = -0.526\n",
      "    C(blackbody500T, blackbody500_ext_Av)        = -0.414\n",
      "    C(blackbody500_abs_tau, blackbody50T)        = 0.388\n",
      "    C(template_0_amp, blackbody500_ext_Av)       = -0.376\n",
      "    C(blackbody500_abs_tau, blackbody50_ext_Av)  = 0.319\n",
      "    C(blackbody500_abs_tau, blackbody50a)        = -0.314\n",
      "    C(blackbody50T, blackbody50_abs_tau)         = -0.311\n",
      "    C(blackbody500a, blackbody500T)              = 0.301\n",
      "    C(template_0_amp, blackbody500a)             = 0.299\n",
      "    C(blackbody500T, blackbody50_abs_tau)        = -0.277\n",
      "    C(blackbody50_ext_Av, blackbody50_abs_tau)   = -0.277\n",
      "    C(blackbody50a, blackbody50_abs_tau)         = 0.275\n",
      "    C(blackbody500_ext_Av, blackbody50_abs_tau)  = 0.255\n",
      "    C(template_0_amp, blackbody500T)             = -0.221\n",
      "    C(template_0_amp, blackbody50a)              = -0.215\n",
      "    C(template_0_amp, blackbody50_ext_Av)        = 0.214\n",
      "    C(blackbody500a, blackbody50_abs_tau)        = -0.202\n",
      "    C(template_0_amp, blackbody50T)              = 0.192\n",
      "    C(blackbody500_ext_Av, blackbody500_abs_tau) = -0.163\n",
      "    C(template_0_amp, blackbody50_abs_tau)       = -0.135\n",
      "FITSPEC: Continuum fit took 0.1 s.\n"
     ]
    },
    {
     "name": "stdout",
     "output_type": "stream",
     "text": [
      "   Iteration     Total nfev        Cost      Cost reduction    Step norm     Optimality   \n",
      "       0              1         1.5317e+02                                    1.55e+01    \n",
      "       1              2         1.5229e+02      8.80e-01       8.62e+00       5.59e+00    \n",
      "       2              4         1.5224e+02      5.77e-02       1.05e+01       9.99e+00    \n",
      "       3              6         1.5223e+02      2.71e-03       5.28e+00       3.59e+00    \n",
      "       4              8         1.5223e+02      2.83e-04       1.32e+00       4.12e-01    \n",
      "       5             10         1.5223e+02      1.12e-05       3.29e-01       2.42e-02    \n",
      "       6             12         1.5223e+02      1.02e-07       9.15e-02       8.12e-03    \n",
      "`ftol` termination condition is satisfied.\n",
      "Function evaluations 12, initial cost 1.5317e+02, final cost 1.5223e+02, first-order optimality 8.12e-03.\n",
      "[[Model]]\n",
      "    (((((((Model(manygauss, prefix='H2_00_S5_0_', SPECRES='<q3dfit.spectConvol.spectConvol object at 0x7fe869366b50>') + Model(manygauss, prefix='lbArIIrb6pt99_0_', SPECRES='<q3dfit.spectConvol.spectConvol object at 0x7fe869366b50>')) + Model(manygauss, prefix='lbArIIIrb8pt99_0_', SPECRES='<q3dfit.spectConvol.spectConvol object at 0x7fe869366b50>')) + Model(manygauss, prefix='lbNeIIrb12pt81_0_', SPECRES='<q3dfit.spectConvol.spectConvol object at 0x7fe869366b50>')) + Model(manygauss, prefix='lbNeIIIrb15pt56_0_', SPECRES='<q3dfit.spectConvol.spectConvol object at 0x7fe869366b50>')) + Model(manygauss, prefix='H2_00_S3_0_', SPECRES='<q3dfit.spectConvol.spectConvol object at 0x7fe869366b50>')) + Model(manygauss, prefix='H2_00_S1_0_', SPECRES='<q3dfit.spectConvol.spectConvol object at 0x7fe869366b50>')) + Model(manygauss, prefix='lbSIIIrb18pt71_0_', SPECRES='<q3dfit.spectConvol.spectConvol object at 0x7fe869366b50>'))\n",
      "[[Fit Statistics]]\n",
      "    # fitting method   = least_squares\n",
      "    # function evals   = 12\n",
      "    # data points      = 310\n",
      "    # variables        = 10\n",
      "    chi-square         = 304.467797\n",
      "    reduced chi-square = 1.01489266\n",
      "    Akaike info crit   = 14.4178383\n",
      "    Bayesian info crit = 51.7835613\n",
      "[[Variables]]\n",
      "    H2_00_S5_0_flx:         0.00539194 +/- 0.00367144 (68.09%) (init = 0.009212415)\n",
      "    H2_00_S5_0_cwv:         6.90870012 +/- 0.00589499 (0.09%) == '6.909520e+00 / 1.281355e+01 * lbNeIIrb12pt81_0_cwv'\n",
      "    H2_00_S5_0_sig:         471.223449 +/- 309.903872 (65.77%) == 'lbNeIIrb12pt81_0_sig'\n",
      "    lbArIIrb6pt99_0_flx:    0.01403624 +/- 0.00702072 (50.02%) (init = 0.01589227)\n",
      "    lbArIIrb6pt99_0_cwv:    6.98444513 +/- 0.00595963 (0.09%) == '6.985274e+00 / 1.281355e+01 * lbNeIIrb12pt81_0_cwv'\n",
      "    lbArIIrb6pt99_0_sig:    471.223449 +/- 309.903872 (65.77%) == 'lbNeIIrb12pt81_0_sig'\n",
      "    lbArIIIrb8pt99_0_flx:   0.00279551 +/- 0.00140736 (50.34%) (init = 0.00297531)\n",
      "    lbArIIIrb8pt99_0_cwv:   8.99031309 +/- 0.00767118 (0.09%) == '8.991380e+00 / 1.281355e+01 * lbNeIIrb12pt81_0_cwv'\n",
      "    lbArIIIrb8pt99_0_sig:   471.223449 +/- 309.903872 (65.77%) == 'lbNeIIrb12pt81_0_sig'\n",
      "    lbNeIIrb12pt81_0_flx:   0.12007928 +/- 0.14036286 (116.89%) (init = 0.1213034)\n",
      "    lbNeIIrb12pt81_0_cwv:   12.8120296 +/- 0.01093214 (0.09%) (init = 12.8121)\n",
      "    lbNeIIrb12pt81_0_sig:   471.223449 +/- 309.903872 (65.77%) (init = 472.8608)\n",
      "    lbNeIIIrb15pt56_0_flx:  0.03804362 +/- 0.06542741 (171.98%) (init = 0.04097421)\n",
      "    lbNeIIIrb15pt56_0_cwv:  15.5532542 +/- 0.01327114 (0.09%) == '1.555510e+01 / 1.281355e+01 * lbNeIIrb12pt81_0_cwv'\n",
      "    lbNeIIIrb15pt56_0_sig:  471.223449 +/- 309.903872 (65.77%) == 'lbNeIIrb12pt81_0_sig'\n",
      "    H2_00_S3_0_flx:         0.00850986 +/- 0.00316730 (37.22%) (init = 0.00900346)\n",
      "    H2_00_S3_0_cwv:         9.66377317 +/- 0.00824582 (0.09%) == '9.664920e+00 / 1.281355e+01 * lbNeIIrb12pt81_0_cwv'\n",
      "    H2_00_S3_0_sig:         471.223449 +/- 309.903872 (65.77%) == 'lbNeIIrb12pt81_0_sig'\n",
      "    H2_00_S1_0_flx:         0.02866193 +/- 0.02488002 (86.81%) (init = 0.02858887)\n",
      "    H2_00_S1_0_cwv:         17.0328187 +/- 0.01453361 (0.09%) == '1.703484e+01 / 1.281355e+01 * lbNeIIrb12pt81_0_cwv'\n",
      "    H2_00_S1_0_sig:         471.223449 +/- 309.903872 (65.77%) == 'lbNeIIrb12pt81_0_sig'\n",
      "    lbSIIIrb18pt71_0_flx:   0.09514792 +/- 0.11366872 (119.47%) (init = 0.0938984)\n",
      "    lbSIIIrb18pt71_0_cwv:   18.7107795 +/- 0.01596537 (0.09%) == '1.871300e+01 / 1.281355e+01 * lbNeIIrb12pt81_0_cwv'\n",
      "    lbSIIIrb18pt71_0_sig:   471.223449 +/- 309.903872 (65.77%) == 'lbNeIIrb12pt81_0_sig'\n",
      "FITSPEC: Line fit took 0.4 s.\n",
      "FIT STATUS: 2\n",
      "FITLOOP: Repeating the fit of [NeII]12.81 with 0 components.\n",
      "FITLOOP: First call to FITSPEC\n",
      "1.0\n",
      "1.0\n",
      "1.0\n",
      "1.0\n",
      "[[Variables]]\n",
      "    template_0_amp:        0.01972259 +/- 4.1444e-04 (2.10%) (init = 0.1)\n",
      "    blackbody500a:         0.00120023 +/- 2.4716e-04 (20.59%) (init = 0.1)\n",
      "    blackbody500T:         268.447645 +/- 11.0423030 (4.11%) (init = 500)\n",
      "    blackbody500_ext_Av:   1.06427618 +/- 0.21773660 (20.46%) (init = 0)\n",
      "    blackbody500_abs_tau:  0.05510435 +/- 0.28977814 (525.87%) (init = 0)\n",
      "    blackbody50a:          0.00844667 +/- 0.00639873 (75.75%) (init = 0.1)\n",
      "    blackbody50T:          103.265490 +/- 6.26776102 (6.07%) (init = 50)\n",
      "    blackbody50_ext_Av:    7.4848e-18 +/- 0.56019520 (7484463003378529280.00%) (init = 0)\n",
      "    blackbody50_abs_tau:   2.2794e-14 +/- 270.476112 (1186622657061608704.00%) (init = 0)\n",
      "[[Correlations]] (unreported correlations are < 0.100)\n",
      "    C(blackbody50a, blackbody50_ext_Av)          = -1.000\n",
      "    C(blackbody500a, blackbody500_ext_Av)        = -0.968\n",
      "    C(blackbody50T, blackbody50_ext_Av)          = 0.954\n",
      "    C(blackbody50a, blackbody50T)                = -0.953\n",
      "    C(blackbody500_abs_tau, blackbody50_abs_tau) = -0.792\n",
      "    C(blackbody500T, blackbody50T)               = 0.758\n",
      "    C(blackbody500_ext_Av, blackbody50T)         = -0.644\n",
      "    C(blackbody500T, blackbody50_ext_Av)         = 0.641\n",
      "    C(blackbody500_ext_Av, blackbody50_ext_Av)   = -0.640\n",
      "    C(blackbody500_ext_Av, blackbody50a)         = 0.635\n",
      "    C(blackbody500T, blackbody50a)               = -0.632\n",
      "    C(blackbody500T, blackbody500_abs_tau)       = 0.543\n",
      "    C(blackbody500a, blackbody50_ext_Av)         = 0.490\n",
      "    C(blackbody500a, blackbody50a)               = -0.485\n",
      "    C(blackbody500a, blackbody50T)               = 0.467\n",
      "    C(blackbody500_abs_tau, blackbody50T)        = 0.373\n",
      "    C(blackbody500T, blackbody500_ext_Av)        = -0.355\n",
      "    C(template_0_amp, blackbody500_ext_Av)       = -0.349\n",
      "    C(blackbody500_abs_tau, blackbody50_ext_Av)  = 0.306\n",
      "    C(blackbody50T, blackbody50_abs_tau)         = -0.303\n",
      "    C(blackbody500_abs_tau, blackbody50a)        = -0.301\n",
      "    C(template_0_amp, blackbody500T)             = -0.295\n",
      "    C(template_0_amp, blackbody500a)             = 0.278\n",
      "    C(blackbody50_ext_Av, blackbody50_abs_tau)   = -0.274\n",
      "    C(blackbody50a, blackbody50_abs_tau)         = 0.272\n",
      "    C(blackbody500T, blackbody50_abs_tau)        = -0.256\n",
      "    C(blackbody500_ext_Av, blackbody50_abs_tau)  = 0.243\n",
      "    C(blackbody500a, blackbody500T)              = 0.222\n",
      "    C(blackbody500a, blackbody50_abs_tau)        = -0.184\n",
      "    C(template_0_amp, blackbody50a)              = -0.180\n",
      "    C(template_0_amp, blackbody50_ext_Av)        = 0.177\n",
      "    C(template_0_amp, blackbody50T)              = 0.145\n",
      "    C(template_0_amp, blackbody50_abs_tau)       = -0.123\n",
      "    C(blackbody500_ext_Av, blackbody500_abs_tau) = -0.120\n",
      "FITSPEC: Continuum fit took 0.1 s.\n",
      "FITSPEC: Line fit took 0.0 s.\n",
      "FIT STATUS: 0\n",
      "FITLOOP: Second call to FITSPEC\n",
      "1.0\n",
      "1.0\n",
      "1.0\n",
      "1.0\n",
      "[[Variables]]\n",
      "    template_0_amp:        0.01972259 +/- 4.1444e-04 (2.10%) (init = 0.1)\n",
      "    blackbody500a:         0.00120023 +/- 2.4716e-04 (20.59%) (init = 0.1)\n",
      "    blackbody500T:         268.447645 +/- 11.0423030 (4.11%) (init = 500)\n",
      "    blackbody500_ext_Av:   1.06427618 +/- 0.21773660 (20.46%) (init = 0)\n",
      "    blackbody500_abs_tau:  0.05510435 +/- 0.28977814 (525.87%) (init = 0)\n",
      "    blackbody50a:          0.00844667 +/- 0.00639873 (75.75%) (init = 0.1)\n",
      "    blackbody50T:          103.265490 +/- 6.26776102 (6.07%) (init = 50)\n",
      "    blackbody50_ext_Av:    7.4848e-18 +/- 0.56019520 (7484463003378529280.00%) (init = 0)\n",
      "    blackbody50_abs_tau:   2.2794e-14 +/- 270.476112 (1186622657061608704.00%) (init = 0)\n",
      "[[Correlations]] (unreported correlations are < 0.100)\n",
      "    C(blackbody50a, blackbody50_ext_Av)          = -1.000\n",
      "    C(blackbody500a, blackbody500_ext_Av)        = -0.968\n",
      "    C(blackbody50T, blackbody50_ext_Av)          = 0.954\n",
      "    C(blackbody50a, blackbody50T)                = -0.953\n",
      "    C(blackbody500_abs_tau, blackbody50_abs_tau) = -0.792\n",
      "    C(blackbody500T, blackbody50T)               = 0.758\n",
      "    C(blackbody500_ext_Av, blackbody50T)         = -0.644\n",
      "    C(blackbody500T, blackbody50_ext_Av)         = 0.641\n",
      "    C(blackbody500_ext_Av, blackbody50_ext_Av)   = -0.640\n",
      "    C(blackbody500_ext_Av, blackbody50a)         = 0.635\n",
      "    C(blackbody500T, blackbody50a)               = -0.632\n",
      "    C(blackbody500T, blackbody500_abs_tau)       = 0.543\n",
      "    C(blackbody500a, blackbody50_ext_Av)         = 0.490\n",
      "    C(blackbody500a, blackbody50a)               = -0.485\n",
      "    C(blackbody500a, blackbody50T)               = 0.467\n",
      "    C(blackbody500_abs_tau, blackbody50T)        = 0.373\n",
      "    C(blackbody500T, blackbody500_ext_Av)        = -0.355\n",
      "    C(template_0_amp, blackbody500_ext_Av)       = -0.349\n",
      "    C(blackbody500_abs_tau, blackbody50_ext_Av)  = 0.306\n",
      "    C(blackbody50T, blackbody50_abs_tau)         = -0.303\n",
      "    C(blackbody500_abs_tau, blackbody50a)        = -0.301\n",
      "    C(template_0_amp, blackbody500T)             = -0.295\n",
      "    C(template_0_amp, blackbody500a)             = 0.278\n",
      "    C(blackbody50_ext_Av, blackbody50_abs_tau)   = -0.274\n",
      "    C(blackbody50a, blackbody50_abs_tau)         = 0.272\n",
      "    C(blackbody500T, blackbody50_abs_tau)        = -0.256\n",
      "    C(blackbody500_ext_Av, blackbody50_abs_tau)  = 0.243\n",
      "    C(blackbody500a, blackbody500T)              = 0.222\n",
      "    C(blackbody500a, blackbody50_abs_tau)        = -0.184\n",
      "    C(template_0_amp, blackbody50a)              = -0.180\n",
      "    C(template_0_amp, blackbody50_ext_Av)        = 0.177\n",
      "    C(template_0_amp, blackbody50T)              = 0.145\n",
      "    C(template_0_amp, blackbody50_abs_tau)       = -0.123\n",
      "    C(blackbody500_ext_Av, blackbody500_abs_tau) = -0.120\n",
      "FITSPEC: Continuum fit took 0.1 s.\n",
      "FITSPEC: Line fit took 0.0 s.\n",
      "FIT STATUS: 0\n"
     ]
    }
   ],
   "source": [
    "q3df(q3di, quiet=False)"
   ]
  },
  {
   "cell_type": "markdown",
   "metadata": {},
   "source": [
    "Plot the results. The resulting plots are saved as `.jpg` files. Data from multiple spaxels are collated into dictionaries containing emission-line and continuum best-fit parameters and saved to various ancillary files."
   ]
  },
  {
   "cell_type": "code",
   "execution_count": 23,
   "metadata": {
    "scrolled": false
   },
   "outputs": [
    {
     "data": {
      "image/png": "[encoded data removed]",
      "text/plain": [
       "<Figure size 1440x720 with 4 Axes>"
      ]
     },
     "metadata": {},
     "output_type": "display_data"
    },
    {
     "data": {
      "image/png": "[encoded data removed]",
      "text/plain": [
       "<Figure size 432x504 with 2 Axes>"
      ]
     },
     "metadata": {},
     "output_type": "display_data"
    }
   ],
   "source": [
    "q3da(q3di)"
   ]
  },
  {
   "cell_type": "code",
   "execution_count": null,
   "metadata": {},
   "outputs": [],
   "source": []
  }
 ],
 "metadata": {
  "kernelspec": {
   "display_name": "Python 3 (ipykernel)",
   "language": "python",
   "name": "python3"
  },
  "language_info": {
   "codemirror_mode": {
    "name": "ipython",
    "version": 3
   },
   "file_extension": ".py",
   "mimetype": "text/x-python",
   "name": "python",
   "nbconvert_exporter": "python",
   "pygments_lexer": "ipython3",
   "version": "3.8.15"
  }
 },
 "nbformat": 4,
 "nbformat_minor": 4
}
