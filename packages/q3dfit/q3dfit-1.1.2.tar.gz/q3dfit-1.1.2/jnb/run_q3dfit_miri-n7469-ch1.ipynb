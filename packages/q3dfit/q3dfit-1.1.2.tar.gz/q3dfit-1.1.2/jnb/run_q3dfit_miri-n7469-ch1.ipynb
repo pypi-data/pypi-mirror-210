{
 "cells": [
  {
   "cell_type": "markdown",
   "metadata": {},
   "source": [
    "# NGC 7469, MIRI ch1"
   ]
  },
  {
   "cell_type": "markdown",
   "metadata": {},
   "source": [
    "<h3><font color='teal'>Installation of the environment and the package are described <a href=\"https://q3dfit.readthedocs.io/\">here</a>. </font></h3>"
   ]
  },
  {
   "cell_type": "markdown",
   "metadata": {},
   "source": [
    "This Jupyter notebook allows you to run Q3Dfit, a PSF decomposition and spectral analysis package tailored for JWST NIRSpec and MIRI IFU observations. \n",
    "\n",
    "Q3Dfit is developed as a science-enabling data product by the Early Release Science Team #1335 Q3D. You can find more information about this ERS program **Q3D** [here](https://wwwstaff.ari.uni-heidelberg.de/dwylezalek/q3d.html) and [here](https://www.stsci.edu/jwst/science-execution/approved-programs/dd-ers/program-1335).\n",
    "\n",
    "The software is based on the existing package IFSFIT developed by Dave Rupke (see [ADS link](https://ui.adsabs.harvard.edu/abs/2017ApJ...850...40R/abstract)).\n",
    "\n",
    "The following notebook will guide you through the initialization procedure and will then perform the analysis. "
   ]
  },
  {
   "cell_type": "markdown",
   "metadata": {},
   "source": [
    "## Table of Contents\n",
    "\n",
    "* [1. Initialization](#chapter1)\n",
    "    * [1.0. Setting up the directory tree](#chapter1_0)\n",
    "    * [1.1. Setting up the data and models](#chapter1_1)\n",
    "    * [1.2. Setting up the fitting parameters](#chapter1_2)\n",
    "        * [1.2.1. Emission line parameters](#chapter1_2_1)\n",
    "        * [1.2.2. Continuum parameters](#chapter1_2_2)\n",
    "    * [1.3. Setting up the plotting parameters](#chapter1_3)\n",
    "* [2. Run fitting and plotting routines](#chapter2)"
   ]
  },
  {
   "cell_type": "markdown",
   "metadata": {},
   "source": [
    "## 1. Initialization <a class=\"anchor\" id=\"chapter1\"></a>"
   ]
  },
  {
   "cell_type": "code",
   "execution_count": 1,
   "metadata": {},
   "outputs": [],
   "source": [
    "import os.path\n",
    "import numpy as np\n",
    "#%matplotlib inline\n",
    "# only works if ipympl installed\n",
    "%matplotlib widget\n",
    "%load_ext autoreload\n",
    "%autoreload 2"
   ]
  },
  {
   "cell_type": "code",
   "execution_count": 2,
   "metadata": {},
   "outputs": [],
   "source": [
    "# Be sure to set the path to q3dfit correctly.\n",
    "# For instance:\n",
    "#import sys\n",
    "#sys.path.append('/Users/jwstuser/q3dfit/')\n",
    "#import sys\n",
    "#sys.path.append(\"../\")"
   ]
  },
  {
   "cell_type": "code",
   "execution_count": 3,
   "metadata": {},
   "outputs": [],
   "source": [
    "# if QUESTFIT is needed, in mid-IR\n",
    "from q3dfit.questfit_readcf import readcf"
   ]
  },
  {
   "cell_type": "code",
   "execution_count": 4,
   "metadata": {},
   "outputs": [],
   "source": [
    "# Convenience function\n",
    "# Ref: https://github.com/spacetelescope/jwebbinar_prep/blob/main/imaging_mode/imaging_mode_stage_1.ipynb\n",
    "from astropy.utils.data import download_file\n",
    "def download_files(files, output_directory, force=False):\n",
    "    \"\"\"Given a tuple or list of tuples containing (URL, filename),\n",
    "    download the given files into the current working directory.\n",
    "    Downloading is done via astropy's download_file. A symbolic link\n",
    "    is created in the specified output dirctory that points to the\n",
    "    downloaded file.\n",
    "    \n",
    "    Parameters\n",
    "    ----------\n",
    "    files : tuple or list of tuples\n",
    "        Each 2-tuple should contain (URL, filename), where\n",
    "        URL is the URL from which to download the file, and\n",
    "        filename will be the name of the symlink pointing to\n",
    "        the downloaded file.\n",
    "        \n",
    "    output_directory : str\n",
    "        Name of the directory in which to create the symbolic\n",
    "        links to the downloaded files\n",
    "        \n",
    "    force : bool\n",
    "        If True, the file will be downloaded regarless of whether\n",
    "        it is already present or not.\n",
    "                \n",
    "    Returns\n",
    "    -------\n",
    "    filenames : list\n",
    "        List of filenames corresponding to the symbolic links\n",
    "        of the downloaded files\n",
    "    \"\"\"\n",
    "    # In the case of a single input tuple, make it a\n",
    "    # 1 element list, for consistency.\n",
    "    filenames = []\n",
    "    if isinstance(files, tuple):\n",
    "        files = [files]\n",
    "        \n",
    "    for file in files:\n",
    "        filenames.append(file[1])\n",
    "        if force:\n",
    "            print('Downloading {}...'.format(file[1]))\n",
    "            demo_file = download_file(file[0], cache='update')\n",
    "            # Make a symbolic link using a local name for convenience\n",
    "            if not os.path.islink(os.path.join(output_directory, file[1])):\n",
    "                os.symlink(demo_file, os.path.join(output_directory, file[1]))\n",
    "        else:\n",
    "            if not os.path.isfile(os.path.join(output_directory, file[1])):\n",
    "                print('Downloading {}...'.format(file[1]))\n",
    "                demo_file = download_file(file[0], cache=True)\n",
    "                # Make a symbolic link using a local name for convenience\n",
    "                os.symlink(demo_file, os.path.join(output_directory, file[1]))\n",
    "            else:\n",
    "                print('{} already exists, skipping download...'.format(file[1]))\n",
    "                continue\n",
    "    return filenames    "
   ]
  },
  {
   "cell_type": "markdown",
   "metadata": {},
   "source": [
    "### 1.0. Setting up the directory tree <a class=\"anchor\" id=\"chapter1_0\"></a>\n",
    "\n",
    "Define the directories in which your data cube(s) that you want to analyse are stored and the output directories. We recommend creating a working directory that you name after your target, in which all outputs from Q3Dfit will be saved. "
   ]
  },
  {
   "cell_type": "code",
   "execution_count": 5,
   "metadata": {},
   "outputs": [],
   "source": [
    "# Base directory (book-keeping)\n",
    "volume = './miri-n7469-ch1/' # base directory\n",
    "# prefix label for output files\n",
    "gal = 'miri-n7469-ch1'\n",
    "# Input directory\n",
    "indir = volume\n",
    "if not os.path.exists(indir):\n",
    "    os.makedirs(indir)\n",
    "# Output directory\n",
    "outdir = volume\n",
    "if not os.path.exists(outdir):\n",
    "    os.makedirs(outdir)\n",
    "# Initialization file (q3di.npy) directory\n",
    "initdir = volume\n",
    "# Output logfile\n",
    "logfile = outdir+gal+'-fitlog.txt'"
   ]
  },
  {
   "cell_type": "markdown",
   "metadata": {},
   "source": [
    "Download data from public Box folder. <font color='red'> Note: This also downloads the *.cf configuration file (specifying which spectral components to include in the MIR fitting). We note that the format of this file is currently under development and it will in the future be superseded by a more readable/convenient option. For a current description of continuum fitting parameters in the .cf file, please see the documentation: \n",
    "https://q3dfit.readthedocs.io/en/latest/"
   ]
  },
  {
   "cell_type": "code",
   "execution_count": 6,
   "metadata": {},
   "outputs": [
    {
     "name": "stdout",
     "output_type": "stream",
     "text": [
      "miri-n7469-ch1.fits already exists, skipping download...\n"
     ]
    }
   ],
   "source": [
    "# make tuples of urls and download filenames\n",
    "# infile = mock data cube\n",
    "# cf = config file\n",
    "infile_tup = ('https://rhodes.box.com/shared/static/x8jbjk3tnb1vk815eqe22o2avp3r8ede.fits', gal+'.fits')\n",
    "#cf_tup = ('https://rhodes.box.com/shared/static/b46ofbgs5tjt3jsayfms54i1sgktv5yn.cf', 'miritest.cf')\n",
    "# download files; by default don't force overwrite and take first element of output\n",
    "infile_down = download_files(infile_tup, indir, force=False)[0]\n",
    "#cfinfile = download_files(cf_tup, indir, force=False)[0]\n",
    "cfinfile = gal+'.cf'\n",
    "# add subdirectory to filenames\n",
    "infile = indir+infile_down\n",
    "cfinfile = indir+cfinfile"
   ]
  },
  {
   "cell_type": "markdown",
   "metadata": {},
   "source": [
    "### 1.1. Setting up the data and models <a class=\"anchor\" id=\"chapter1_1\"></a>\n",
    "\n",
    "Some general information about your cube. `argsreadcube` is a dictionary of attributes sent to the `CUBE` class.\n",
    "- For non-JWST data, set `wmapext` to `None`. The WMAP extension is a [3-D weight image](https://jwst-pipeline.readthedocs.io/en/latest/jwst/data_products/science_products.html) giving the relative weights of the output spaxels.\n",
    "- Microns are the wavelength unit used internally, but `q3dfit` can accept other wavelength input units or output other units.\n",
    "- The code does calculations in flambda space, but assumes input units of MJy/sr, the JWST default. Other input wavelength units can be specified."
   ]
  },
  {
   "cell_type": "markdown",
   "metadata": {},
   "source": [
    "Some general information about your cube:"
   ]
  },
  {
   "cell_type": "code",
   "execution_count": 31,
   "metadata": {},
   "outputs": [
    {
     "name": "stdout",
     "output_type": "stream",
     "text": [
      "Size of data cube: [ 49 , 43 , 2750 ]\n",
      "Wavelength range: [ 4.90050009539118 , 7.649500225961674 ]  micron\n"
     ]
    }
   ],
   "source": [
    "from q3dfit.readcube import Cube\n",
    "argscube = {'fluxunit_out': 'MJy/sr'}\n",
    "\n",
    "if not os.path.isfile(infile): \n",
    "    print('Data cube not found.')\n",
    "else:\n",
    "    cube = Cube(infile, **argscube)\n",
    "    ncols = cube.ncols # number of columns\n",
    "    nrows = cube.nrows # number of rows\n",
    "    cube.about()\n",
    "\n",
    "if not os.path.isfile(cfinfile):\n",
    "    print('Configuration file not found.')\n",
    "else:\n",
    "    config_file = readcf(cfinfile)"
   ]
  },
  {
   "cell_type": "markdown",
   "metadata": {},
   "source": [
    "Convolve data cube"
   ]
  },
  {
   "cell_type": "code",
   "execution_count": 8,
   "metadata": {},
   "outputs": [],
   "source": [
    "cube.convolve(2.)"
   ]
  },
  {
   "cell_type": "code",
   "execution_count": 9,
   "metadata": {},
   "outputs": [],
   "source": [
    "cube.writefits(outdir+gal+'-conv_rad2p0pix.fits')"
   ]
  },
  {
   "cell_type": "code",
   "execution_count": 10,
   "metadata": {},
   "outputs": [
    {
     "name": "stdout",
     "output_type": "stream",
     "text": [
      "Size of data cube: [ 49 , 43 , 2750 ]\n",
      "Wavelength range: [ 4.90050009539118 , 7.649500225961674 ]  micron\n"
     ]
    }
   ],
   "source": [
    "argscube = {'fluxnorm': 1e-11}\n",
    "oldinfile = infile # save old state\n",
    "infile = indir+gal+'-conv_rad2p0pix.fits'\n",
    "\n",
    "if not os.path.isfile(infile): \n",
    "    print('Data cube not found.')\n",
    "else:\n",
    "    cube = Cube(infile, **argscube)\n",
    "    ncols = cube.ncols # number of columns\n",
    "    nrows = cube.nrows # number of rows\n",
    "    cube.about()\n",
    "\n",
    "#if not os.path.isfile(cfinfile):\n",
    "#    print('Configuration file not found.')\n",
    "#else:\n",
    "#    config_file = readcf(cfinfile)"
   ]
  },
  {
   "cell_type": "markdown",
   "metadata": {},
   "source": [
    "Name and systemic redshift of the galaxy. `zsys` is presently not used within the code, but would be an input for, e.g., calculating velocity maps in routines under development (e.g., `makemaps.py`). It is used in this notebook in initializing the arrays of initial guesses below."
   ]
  },
  {
   "cell_type": "code",
   "execution_count": 11,
   "metadata": {},
   "outputs": [],
   "source": [
    "name = 'NGC 7469'\n",
    "zsys = 0.0163"
   ]
  },
  {
   "cell_type": "markdown",
   "metadata": {},
   "source": [
    "Wavelength range over which to fit data. The user can also specify sets of regions to ignore in the fit."
   ]
  },
  {
   "cell_type": "code",
   "execution_count": 12,
   "metadata": {},
   "outputs": [],
   "source": [
    "fitrange = [4.91,7.64] # in micron"
   ]
  },
  {
   "cell_type": "markdown",
   "metadata": {},
   "source": [
    "Create quasar template from the central spaxel of the spatially-unbinned data cube."
   ]
  },
  {
   "cell_type": "code",
   "execution_count": 13,
   "metadata": {},
   "outputs": [
    {
     "data": {
      "application/vnd.jupyter.widget-view+json": {
       "model_id": "e2357df538fa43fd8a0e2126d00f48f0",
       "version_major": 2,
       "version_minor": 0
      },
      "image/png": "[encoded data removed]",
      "text/html": [
       "\n",
       "            <div style=\"display: inline-block;\">\n",
       "                <div class=\"jupyter-widgets widget-label\" style=\"text-align: center;\">\n",
       "                    Figure\n",
       "                </div>\n",
       "                <img src='data:image/png;base64,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' width=640.0/>\n",
       "            </div>\n",
       "        "
      ],
      "text/plain": [
       "Canvas(toolbar=Toolbar(toolitems=[('Home', 'Reset original view', 'home', 'home'), ('Back', 'Back to previous …"
      ]
     },
     "metadata": {},
     "output_type": "display_data"
    }
   ],
   "source": [
    "qsotemplate = outdir+gal+'-qsotemplate.npy'\n",
    "cube.makeqsotemplate(qsotemplate,radius=0.)"
   ]
  },
  {
   "cell_type": "code",
   "execution_count": 32,
   "metadata": {},
   "outputs": [
    {
     "name": "stdout",
     "output_type": "stream",
     "text": [
      "Size of data cube: [ 49 , 43 , 2750 ]\n",
      "Wavelength range: [ 4.90050009539118 , 7.649500225961674 ]  micron\n"
     ]
    }
   ],
   "source": [
    "argscube = {'fluxnorm': 1e-12}\n",
    "infile = oldinfile\n",
    "\n",
    "if not os.path.isfile(infile): \n",
    "    print('Data cube not found.')\n",
    "else:\n",
    "    cube = Cube(infile, **argscube)\n",
    "    ncols = cube.ncols # number of columns\n",
    "    nrows = cube.nrows # number of rows\n",
    "    cube.about()"
   ]
  },
  {
   "cell_type": "code",
   "execution_count": 33,
   "metadata": {},
   "outputs": [
    {
     "data": {
      "application/vnd.jupyter.widget-view+json": {
       "model_id": "5a8417ac57d6407295a7af9edf246f35",
       "version_major": 2,
       "version_minor": 0
      },
      "image/png": "[encoded data removed]",
      "text/html": [
       "\n",
       "            <div style=\"display: inline-block;\">\n",
       "                <div class=\"jupyter-widgets widget-label\" style=\"text-align: center;\">\n",
       "                    Figure\n",
       "                </div>\n",
       "                <img src='data:image/png;base64,iVBORw0KGgoAAAANSUhEUgAAAoAAAAHgCAYAAAA10dzkAAAAOXRFWHRTb2Z0d2FyZQBNYXRwbG90bGliIHZlcnNpb24zLjUuMiwgaHR0cHM6Ly9tYXRwbG90bGliLm9yZy8qNh9FAAAACXBIWXMAAA9hAAAPYQGoP6dpAABhlElEQVR4nO3dd3hT9f4H8HeapOmgLRTa0kLZWxAKyB5FlkXxOi5uEdcVRVFxXLku7nWg96KioqBehR8iXByIC1liWYJQoOxNoQVaNt1Ns35/lKQnyUlyssd5v56nz9OcnHPyJUby5vNdCpPJZAIRERERyUZUsBtARERERIHFAEhEREQkMwyARERERDLDAEhEREQkMwyARERERDLDAEhEREQkMwyARERERDLDAEhEREQkMwyARERERDLDAEhEREQkMwyARERERDLDAEhEREQkMwyARERERDLDAEhEREQkMwyARERERDLDAEhEREQkMwyARERERDLDAEhEREQkMwyARERERDLDAEhEREQkMwyARERERDLDAEhEREQkMwyARERERDLDAEhEREQkMwyARERERDLDAEhEREQkMwyARERERDLDAEhEREQkMwyARERERDLDAEhEREQkMwyARERERDLDAEhEREQkMwyARERERDLDAEhEREQkMwyARERERDLDAEhEREQkMwyARERERDLDAEhEREQkMwyARERERDLDAEhEREQkMwyARERERDLDAEhEREQkMwyARERERDLDAEhEREQkMwyARERERDLDAEhEREQkMwyARERERDLDAEhEREQkMwyARERERDLDAEhEREQkMwyARERERDLDAEhEREQkMwyARERERDLDAEhEREQkMwyARERERDLDAEhEREQkM6pgNyCcGY1GnD59GgkJCVAoFMFuDhEREUlgMplQXl6OjIwMREXJsxbGAOiF06dPIzMzM9jNICIiIg8UFRWhefPmwW5GUDAAeiEhIQFA3QcoMTExyK0hIiIiKcrKypCZmWn5HpcjBkAvmLt9ExMTGQCJiIjCjJyHb8mz45uIiIhIxhgAiYiIiGSGAZCIiIhIZhgAiYiIiGSGAZCIiIhIZhgAiYiIiGSGAZCIiIhIZhgAiYiIiGSGAZCIiIhIZhgAiYiIiGSGAZCIiIhIZhgAiYiIiGSGAZAohOkNRry78iA2H7sQ7KYQEVEEYQAkCmH/21qED9YcwR2fbg52U4iIKIIwABKFsILzlcFuAhERRSAGQCIiIiKZYQAkIiIikhkGQCIiIiKZYQAkCmEmU7BbQEREkYgBkCiEmcAESEREvscASERERCQzDIBEREREMsMASERERCQzDIBEREREMsMASERERCQzDIBEIYzLwBARkT8wABIRERHJDAMgERERkcwwAIaBshodthRchIn9gbLD/+ZEROQPDIBh4KaPNuK2Tzbhu+2ngt0UCjDGPyIi8gcGwDBw7FwlAOD1X/bBYGQkkBMWAImIyB8YAMPI5Sod3ll5MNjNoAAyMgESEZEfREQAnD59Oq655hokJCQgNTUVN910Ew4edB6UlixZgpEjRyIlJQWJiYno378/VqxYEaAWe+7j3KPBbgIFkDD+cTwgERH5SkQEwLVr12LSpEnYvHkzVq1aBb1ej1GjRqGystLhNevWrcPIkSOxbNkybNu2DcOGDcPYsWOxY8eOALacyDlh6GP+IyIiX1EFuwG+sHz5cqvHc+fORWpqKrZt24YhQ4aIXjNz5kyrx2+++SZ++OEH/PTTT8jKyvJXU4ncIgx9RpMJUVAErzFERBQxIiIA2iotLQUAJCcnS77GaDSivLzc6TVarRZardbyuKyszPNGEklgHQCD1w4iIoosEdEFLGQymTBlyhQMGjQIXbt2lXzdO++8g8rKStx2220Oz5k+fTqSkpIsP5mZmb5oMpFDwkkgnBBCRES+EnEB8PHHH8euXbuwaNEiydcsWrQI06ZNw+LFi5GamurwvKlTp6K0tNTyU1RU5IsmEzlkPQkkaM0gIqIIE1FdwE888QR+/PFHrFu3Ds2bN5d0zeLFi/Hggw/im2++wYgRI5yeq9FooNFofNFUIkmEVT8Tl4UmIiIfiYgKoMlkwuOPP44lS5ZgzZo1aN26taTrFi1ahAkTJmDhwoW4/vrr/dxK3/k6j5VH2eAYQCIi8oOICICTJk3CggULsHDhQiQkJKCkpAQlJSWorq62nDN16lSMHz/e8njRokUYP3483nnnHfTr189yjXkCSSh7/ttdwW4CBYgw83EMIBER+UpEBMDZs2ejtLQU2dnZSE9Pt/wsXrzYck5xcTEKCwstjz/55BPo9XpMmjTJ6ponn3wyGH8EIlFW6wAag9gQIiKKKBExBlDKDgnz5s2zepybm+ufxhD5kNFmHUAiIiJfiIgKIFGk4jIwRETkDwyARCFMmPkY/4iIyFcYAIlCmMHICiAREfkeA2CEKq3WYduJi8FuBnnJIJwEwvxHREQ+wgAYocbN+QO3zt6E5XuKg9aGTUcvYH8x90v2BiuARETkDwyAIezrvCL0fG2V29ftKLyEQ2cqAAALtwRn0eiTl6pw52ebkfP++qC8fqSwDoBBbAgREUUUBsAQpTMY8fy3u3Cxstat62p0Btz88R+Wx+U1Oo9e/9CZcry36hAqtXqPri+8WOXRdWTNais4VgCJiMhHImIdwEikM7i/6q/OYETWv6wrhp5mhlHvrQNQN5Zw2o1XeXYT8pqwAsj8R0REvsIKYIjSe9Dfd6asBtU6g9Uxb6tG+UWXvbqevMMxgERE5A8MgCHKYHD/y14ZpbA75m1k8PR6BezbQu6zXgg6iA0hIqKIwgAYonRG97uADSIJIVhFIxOXLfYJPSuARETkBwyAIUoszLmiE6kaMjSENyPHABIRkR8wAIYovYsu4N0nS0Wusa8aeh0aPLwBu4B9w8BZwERE5AcMgCHqi40FTp8fO2uD3bFakQAYChVABhfPCf+TcgwgERH5CgNgCDpYUo65G4+7PE8YrHQGIyYu2GZ3zoGScqw7dM6XzXMbg4vnjBwDSEREfsAAGIJqbJZycUQ4TvCH/NMoulgtet74L7Z43BZfRA5WAD2nF0wGYgAkIiJfYQAMQVK/5oVdvhcrtf5pi4eZQyEYAsgKoOeE7x3zHxER+QoDYAgSm8whZtW+M3j9533QGYyiM4B9wRfLuXBJGM9xJxAiIvIHbgUXgqSGuSf/lw8AaNkk3qOt48T8kH8KGQ1jfXIvMwYXz3EnECIi8gcGwBCkd3MR6NOXq6FWel/M3V9cZgmVvsTc4jnrnUD4RhIRkW+wCzgEOVoD8LnRHR1eI7ILnNuKLlbZHfNF5mAXsOesK4BBbAgREUUUBsAQ5Kg797HstqLHDUYTdhRe9vp1i0trvL6HGAYXz1mPAeQbSUREvsEAGIIcbQOnUIiX+T5ddwxrXaz1t2DzCafPf721CK/+uFdaAyUQtpTBxXNWO4EEsR1ERBRZGABDkMEPgemlpXucPv/W8gPibfFB+Y4VQM8ZBMMBjHwjiYjIRxgAQ5DY9/zk4e39+poqB4MID5SUY87ao97dnLnFYzqrhaCD2BAiIoooDIAhSKzLdMrIDn59TWeziN/6Vbw6KBVnr3pOuCQQu9KJiMhXGAAJs9YcxqnL4tvI+QJji2cMRhNnARMRkV8wAIagQBd6Zqw85Nf7s3LlGdvZ4KykEhGRrzAAhqBIWDdP+Cdg5coztgGQbyMREfkKA2AIsi309MhsGJR2eEP4Z4iEQBsMtlsCsgJIRES+wq3gQpD5e35IhxQ8P7oj2qY08NF9TXZrCf6Qf8on9xZ7rfrf/fISEa9Wb1MB5BtJREQ+wgAYgsxf8woAXZsl+ey+RhOgtFntxR97/wLW3ZXMLZ6prNVbPXZzi2giIiKH2AUcgsyVHgcbf3hMH8AEIQx97Lr0TJXWYPWY7yMREfkKA2AIElYAbSXGeF609cWuHlIJx/0xuHjGtgLId5GIiHyFATAUXfmmF9v7d/WUoZJv07tlI6vH+gAGQOFL1egMjk8khzgGkIiI/IUBMASZq2diFcDUxBjJ9/nvfb2tHtvuJevPQCG8d2m1zm+vE8lsu+y5nA4REfkKA2AIMlkqgJ7f48buGYiy2d/XtgLoz0AhvHVZjd7heeSYnsvAEBGRnzAAhqD6r3nPE+CMcd2hsgmAe0+XWT22XWjYl6yXgWFw8UQgAzsREckLA2AIMuelKA/zX4JGhWhVFKJsSoj3fbHF6rE/J4UIM58fc2ZEsw2ADNJEROQrDIAhyOjlMjCd0hMAwK4CCAAV2rruWIPRhH/+tFfyPRdsPuFWG7gMjPf0tlvB8W0kIiIfYQAMQfXLwHiWAN+9rQcAQCkSACuvBMCfd53G13knJd/zpaV73GqDMPTZTj4haTgGkIiI/CUiAuD06dNxzTXXICEhAampqbjppptw8OBBl9etXbsWvXr1QkxMDNq0aYM5c+YEoLUSeFEB/O7R/shMjrtyvf0NzEuLnK+o9bx9EgijCvOfZzgGkIiI/CUiAuDatWsxadIkbN68GatWrYJer8eoUaNQWVnp8JqCggKMGTMGgwcPxo4dO/CPf/wDkydPxnfffRfAlouzVADdDIATBrRCr5bJTs8xT/yItt0TzseExaq1h8769bUilf0yMEyARETkGxGxF/Dy5cutHs+dOxepqanYtm0bhgwZInrNnDlz0KJFC8ycORMA0LlzZ+Tl5WHGjBm49dZb/d1kpyzLwLjZBTysU6rLc3QGE/YXl+HlH6SP//OEcMLC13knkdMtHcM6um4f1bPtAuYkECIi8pWIqADaKi0tBQAkJzuuhm3atAmjRo2yOjZ69Gjk5eVBpwvuwsWm+gToFqWEkqHOYHR7PJ87anQGLN9TjEe/2m51fO3Bc357zUhlWwFk/iMiIl+JiAqgkMlkwpQpUzBo0CB07drV4XklJSVIS0uzOpaWlga9Xo/z588jPT3d7hqtVgutVmt5XFZWZneOLzjbC9gZsUkfGUkxOF1aY3lcVqPz65Zwz36zEz/vKrY7zu3g3McxgERE5C8RVwF8/PHHsWvXLixatMjlubaTJEyWyRfi0Wv69OlISkqy/GRmZnrfYBH1O4G4FwHFAuCvT1l3gd/12Z/YWXTZ06a5JBb+AKCaAdBtnAVMRET+ElEB8IknnsCPP/6I33//Hc2bN3d6btOmTVFSUmJ17OzZs1CpVGjcuLHoNVOnTkVpaanlp6ioyGdtF/K0AhgXrbQ7lhSr9ro9Zt4sHP1D/mnM3Vjgs7bIgf06gAyARETkGxERAE0mEx5//HEsWbIEa9asQevWrV1e079/f6xatcrq2MqVK9G7d2+o1eKhSaPRIDEx0erHH0weLgOTEOPfHn1vt47750/7fNQSeWAXMBER+UtEBMBJkyZhwYIFWLhwIRISElBSUoKSkhJUV1dbzpk6dSrGjx9veTxx4kScOHECU6ZMwf79+/HFF1/g888/x7PPPhuMP4IodyuACTG+q/aJ+SbPecUz349dy3LEreCIiMhfIiIAzp49G6WlpcjOzkZ6errlZ/HixZZziouLUVhYaHncunVrLFu2DLm5uejRowdee+01fPDBB0FfAgZwPQZwXC/x7m1/VwBf/mEvDp0pd/j8TR9t9Ovry439GMAgNYSIiCJORMwCllIZmTdvnt2xoUOHYvv27fYnB5npyihARxXAt269Gt9ss9/GTa30f56/VOndDiLTf92PqTmdfdSayMaFoImIyF8iogIYaUwuZoGIzfb1lcHtm2DSsLYOny+v0YselzpB5JO1x3C2vMb1iSTSBRykhhARUcRhAAxB9flPetBbNnmww+cW/62fpHsMaNsYXz7YF09c2x6D2zcRPeeh+XnYXnjJ7vi6Q9IXerbt2iRxtrOAWQEkIiJfYQAMQebveXcKfV0yHM9I7tumMa5y8rzZR3f1BADEqJV44tr2Ds/7dO0xq8d7TpXi/nlbJba0PuBGOqOxbtu9h+fnYc+pUrev5xhAIiLyl4gYAxhpjB4uA+OMlOKR8PWcdTMv31uCs+U1SE2IAQDscHP2r21lKxz9bX4eKmv1WPBgX4eTdf7y0UbsvhL8ftt/BsemX+/Wa9h1AcsmOhMRkb+xAhjCpHYBPzXCcbXO09fr3jwJ/duIL4gNAHd/9icA4EBJGV52c29hb9cTDDat3oCV+85g45ELOHGhSvQck8lkCX+AZ9U77gVMRET+wgAYgtxZCPruvi3w1IgOru8p4XUVgk+DShmF/97X2+G5h89WAAAmfCG969fsqz8LUasP3xCoE3TNGhykMm92TTGz6wJmHzAREfkIA2AIql8H0PW5UruJpSyVY3srV8vKPPfNTpSUuT+jd+7G4/jvhmOuTwxRwvDq6H217b71hPke0Vf+OzD/ERGRrzAAhqD673n/LfcixnYsm1rp/PXF1iKUav2h8x5fG2zCLuxavR8rgFfuYf7vwFnARETkKwyAIcidCqC793TG9uUcTW6QO2EFUKs3iJ7jkwrglaCpVtX9b8r4R0REvsIAGIJc7QQiJHWiiJQZpMx70tRaVQDFxzL6cgyguQuYewETEZGvMACGIH9UAKXkEXcWnpYzYejz6ySQK7OA1ZYxgAyARETkG1wHMASN6JyGtMQYtE9rENDXDWQFcNOxC1i2uxhjuqUH7kV9RDgG0FHQ8+UYQI2Kk0CIiMi3WAEMQd2aJ+Guvi1wTatkn91T0izgABcAH/tqe2Bf0EeEFUBHY/1s1/DzhLkLmBVAIiLyNQbAMCc1tEmZ0BGMLuBwHNcmDICO1ubzaRewqu6/Sxi+VUREFKIYAGXijmsyXZ4jlhE/G+94MWhfcGcP4VAhnATiuALo+3UAwzEsExFRaGIAlInbr8nEo9ltnZ4jVv8b2SXNPw26IvfgubDb4cJqEog/K4B2XcBe35KIiAgAA2DYk9ppmxCjxt+v64T37+hRf0yjwn39W9bfK0jrwOh8MF4uUAxGEyYu2Gb1WIztNm6evhYARKs4BpCIiHyLAVBmmjWMtfy+5tlspCbGWB47in8N49R+bdOw/+SiRie+oHKoWXvorFUlzp8VQPNs4/ouYK9vSUREBIABMOy5mwlUgv19k+OjrZ5zVAD8dmJ/N1/FPadLa7DxSHhsDXehotbqsV9nARs5C5iIiPyDAVBmujdPwjMjO+CLCb2hjFJYTSxw1AXcLjUBd/Vt4dd26XzQZRoIUTbvkV9nAdtuBRcebxEREYUBLgQd5twdtadQKPDE8PaWx6ESKnwRmALBNiMHchYwK4BEROQrrABSSPBFl2kg2E7uMDhoty93Aom+sg5gmGRkIiIKAwyA5DcThzpfdkYoXLqAhWsAAn6uANpNAgmP94iIiEIfu4DDXKCWbnF3rb6FD/dFv9aN0aZJPN5afgAXK2udnq83hEsF0LqdjmcBe/fnMRpNloofJ4EQEZGvsQIoc1IjhXDxY1du7J6BAW2bICpKgduuyUTeiyNcXuOLilkg2FYq/bUOoPD9UKukLwR9uaoWv+wqhlYfHsvqEBFRcDAAkiRaNwKgcLFpAIiKcl2l/HbbSZdVwlAgtQvY2zGAwjGR7kwCue+LLZi0cDs+31Dg1esTEVFkYwCUOam9itVuLNTsSbd0ftFl3PfFFrevCzTbyp6jrnFvK5rC6zXqKKevJbTzZCkA4KedxV69PhERRTYGQJLklp7NAABtUuL99hq7T5U6ff73A2cxdcnuoO4aogtUBVAQNGNUyrrXDpNuciIiCn0MgDJnkjgK8LqrmmLuhGvw8xOD/Nwix+6ftxWLthRi7sbjQWuD7b7FDscAehnWzGP41EqFZS9ggxvjCms5BpCIiJxgACRJVMooDOuUirho/04cP1+htXpcWq3D5mMXrJZAOVNW49c2OKPT20wCcdCH7u0s4Bpd3fUxKiVUV8ZQulorcf3hc5bfw2VZHSIiCg4GwDAXoFVgAqb366tRcL4SQF13652fbsYdn27G9ztOWc5RSZhU4i+2IczxMjDevY65m1ujVlr2b3ZWVTx1uRr3fl4/htKdWdtERCQ/DIDkUx3SGnh9j2EzcrHh8HkM+ffv2FdcBgD4vz+OW55XKgMXAPOLLuOBeVtx5GwFAJExgA4qbc4qgEfPVaDoYpXT1zUHwBh1VH0F0ElVz9w+M9vZykREREJcCFrmfLW2cFqiBtd2SsNj2dJ3/3Bm5upDKC6t7+qtqq0f06aOCty/W276aCMAoOB8JX5/NtvStapWKqAzmBwuzeKoWldarcPwd9bW3XP6GIczps9X1C2JE6NWQimhC7i0Wmf1mLuGEBGRMwyAMudJTHg0uy1m5x61OrZ6ylAkxKh90ygAu2xmBJu7hQFAFcAKoNnxC/Xd0kBdMNMZ9A5DmaOu4VOXqi2/6wwmyz6/th6enwegrrKnvvLndTazuEqrt3ocqB1iiIgoPLELOMwpEPgv+udHd8Q/xnSyOubrySG2Y9isdsZQ1n9sa3QGrD98TvLSMOU1Opy6XO36RBG/HziLH/JPA6gLgIB7s4A/XXcUYz5Yb3kstZtWeaXi6Wxih+2fXwFWAYmIyDEGwDAndRkXX1IoFPjbkLZ4ZmQHyzFlACdmCCeBvPrDXtz7+Ra8+P0eSdcOfGsNBr61BsWl7oVAk6luGRqzmCuLMzseA2h//M1lB6weayWGVvOf11kFsMYmMF+orMUNH24Imz2WiYgosBgA5c6LKlGbFO8nfHhCJagALs4rAgB8t/2ky+uMRhPKauq6SncWOV902pVYcwXQ0RhACcuwSK0Amru8bSegCIlVQPeeLsPxC84nmxARkTwxAIapEZ3TAAD39GsZvDZ0SUWvlo3w8ODWAX3d137eh9MedOOeFIy/a9Ig2qs2uOoClrIOoJSlWsb3b2mprjqtAOrE7xXIyiwREYUPTgIJU5+N74XKWgMaaIL3n1CjUuK7RwcE5bUHvLUGr9/U1a1rzpTXzyqO8jIYmbdnczTbV8pOIFonATBBo0K5Vo8JA1rhQmXdjGDHYdPkcFkZLXcEISIiEawAhimFQuGT8BesaQJNGmi8vsdLS6WN+zMTdqEaJQQ0Z2v1aa6MAXR0Hyl7ATurANZcCW6x0fXLwNhuQ2c2ccE2/LK7WPQ5rYPKIBERyRsDoMwFa6Lo8qcGB/w1hePyXAW06loDBv/7d4fPm7uA/VEB1BuMlhm/wq3gHO0FvGrfGbdfg4iI5I0BkIKiSQMN2qUGdhKJsALoaPIGUFfV23L8otN7mQOgWBWvtFqHzzcUuGyPo+5Z4YzeGLUSKvMyMBJCpd29JM40JiIieYmYALhu3TqMHTsWGRkZUCgUWLp0qctrvvrqK3Tv3h1xcXFIT0/H/fffjwsXLvi/sQQAAV/BULiOnrM5Gu+tPoT7vtji+AQA8dF1AXDtoXP46PcjVs+9+oO0rmlHXcDC0KZRRVlmAZ8r17q9xy8rgEREJCZiAmBlZSW6d++OWbNmSTp/w4YNGD9+PB588EHs3bsX33zzDbZu3YqHHnrIzy0lM2dVOH8Q7trhaAs3APhwzRGHz5kJF77+z4qDVs9tPCrtHxEP/l8eymt0dsfNATBaFYWoKIXVuocvfr9b0r3NOAmEiIjEREwAzMnJweuvv45bbrlF0vmbN29Gq1atMHnyZLRu3RqDBg3CI488gry8PD+3NLQEYyFpMykTJdxx5Gy50+eldgFLEXelAijGvEi0KwajCR/8dtjuuHlJF/NagyrB3sffbHO93qHYvYiIiIQiJgC6a8CAATh58iSWLVsGk8mEM2fO4Ntvv8X111/v8BqtVouysjKrH/LcgLaNfXq/Ee+uc/q8dRewdwEw1lkAVDl+ztbhsxV2x8wVQHOQjNdIv5+t/20pRGm1fZWRiIjkTdYB8KuvvsLtt9+O6OhoNG3aFA0bNsSHH37o8Jrp06cjKSnJ8pOZmRnAFvtHMLeL/ceYzrj+6nSf3tPZbhnuzAJ2xVydExPj5DlbYuGsPgDW3ScxVu1m6+rlnbiESV9t9/h6IiKKTLINgPv27cPkyZPxyiuvYNu2bVi+fDkKCgowceJEh9dMnToVpaWllp+ioqIAtjjyJMSoMfna9j69p7NJEsIxgJcdVMWe+t8Ol6/Rpkk8MhrGOnxeo5L+v1V1rf0YPXO3rbmSqBZsfZcYY732o0kkwdues+HIecntISIieZBtAJw+fToGDhyI5557DldffTVGjx6Njz/+GF988QWKi8UX1dVoNEhMTLT6CXdBLAD6hVZvxG/7z+DQmXKcr9BaPScMh89/u8uqG1hnMOKD3w5jaf5pl6/x2zNDnY7zc9Y9bKvgfCXOlNVYHbPtAgaAT+/tBQCIFyz+bTCaMO3HvXb3/Pdfr8ZtvZtLbgMREcmPbLeCq6qqgkpl/cdXKuu+uMWqKuQfVbV6n96v52urrB5ve2kEpv20D1dlJKJKa/1albV6JMTUda9+v+MU3l11SNJrKBQKq4kZthrGSd9nWKs3ou+bv+H4W/VjT827gAi7ktukxAMAqgVLxPy86zT+b9MJu3tGKRROu6gdMRhNqNYFd3tBIiIKjIj5m76iogJHjtQv31FQUID8/HwkJyejRYsWmDp1Kk6dOoX58+cDAMaOHYuHH34Ys2fPxujRo1FcXIynnnoKffr0QUZGRrD+GLLTOT0RCTEqlNf4NgiaDXx7DWp0Rvy0076yV6k1WALg8fOVbt3XSf5DtNL9wrrOYLR09Zq7hYUB0Py7sMu4uNS6ciiktmnD2fIapCbEOG3Dg/+3FVsKLiL3uWyX5xIRUXiLmC7gvLw8ZGVlISsrCwAwZcoUZGVl4ZVXXgEAFBcXo7Cw0HL+hAkT8O6772LWrFno2rUrxo0bh44dO2LJkiVBab9cxaiV2PriCL/d39kyKMI1+NxdMNm2AiisGpvHGibESP/31aWqWsvv5p1AhF3A5nUHtXqjZQLL0h2nRO+lUCjswmGfN35zurexwWhC7sFzqKo1IPfAOcntJiKi8BQxATA7Oxsmk8nuZ968eQCAefPmITc31+qaJ554Anv37kVVVRVOnz6NBQsWoFmzZoFvfBCFQm93jFqJJg00AX/d2WuPorRah4V/Fkrauk1IGWW9j4lw71/zbONmDiaK9GmVbHesSltf2dPq7CuAwi5d8xjBAyWO1z28UKm1O5Z78KzouUajCX8W1C9evXxvCSq1/qnIEhFRaIiYAEieCeZC0EK/TB7kdHFlf1iy/RT+/u0u/Otn+4kUrqhsAuAdn262VAHNFUBHs4GbJtl3r2bPyMXaQ+dQozNgdu5RANahT3ivagn7+z44qI3dMYVCfPO99387jLs++9PyeM2Bs3j+u10uX4OIiMIXAyCFhLTEGAxu3yTgr7t8b4lHu2WY9+c123biEi5W1nXjmiuA0Q4CoKNdSO77Ygv+s+IgLly5j7ACGBWlsHQJm8cBDu+U6rB9aYn2FdUoJwHQ1i+7xGfCExFRZGAAlLvQKAACABQQDyihKDHGfnHm8xV1wU13pTvYdiKGhZP3fM2B+m5ajc1SM+ZxgOYKoPD5Nk3iLb8rANGZvB7MTSEiETsKL2Hyoh0oLq0OdlOIPMavBAoZDgpUIUlsd46KK+Pm9Fd2IzE6qPTd06+l4/sKJo5obLaUM3cJT12yG3qD0Wo3E9tXaiAyAcVRBZCI3HPzx3/gx52n8ew3O4PdFCKPMQBSyAiHgPL9YwMAAEmxatzZp4XVc+auWXMXsNFBz3L/to0x++6eos/tPFlq+d1mmKGlC3jbiUuYv+mE1cxl27ApVgHUe7n9HRFZO37e8cx6olDHAEgh47nRHaG2GVuXLjJhIhjaNInH9pdHIqtFI8ux6bd0szrH3DWru5L8nK0VKLyPI7dkWe/mkRxfv8D09sJLKL5cv9SLbQCMVSvtxgFqJUweEfpy8wlLNZOI7Dn7f5wo1PHjK3OhVBNq1SQeB17Lwft39MC/b70aBdPHYNPU4Xj9pq7Bbhp+e2aoVQAT8/D8POw5VWqpAF4jstzLS9d3BuB6v+AvJvRGi8ZxVseaJtUvK3PkbAUKLtQvXm1+TTOFQoHcZ4dZHXN3rcOXl+7Bgs32O40QUZ1w6LUgcoQBUOYeGNgaMeoou+7MYFFGKfCXHs1w2zWZlmVLnI2ZCxRHS6jYuuHDDZZFnfu3aYz3bu9uee7uvi3w0OC65VkczRA2E5tA0kBTPybwQEm51d7GtSLhzna/YncDIABsPXHJ7WuI5ILxj8IZA6DMNU2KwZ5po+26M31t7v3XeHX9VRmJPmqJ/528VDczUKNW4mZBN27DuPqJI64qgGIBcGdRqciZdcTCnW1o1eqtu4B1BiNu+2ST03YoFQqv98YuLq1GftFlr+5BFIpYAaRwxgBIUAVgfZBhHVMxonOax9cvfqQ/ujdP8mGLpPO03eaQl5JQNxYvp2u65TlX77lYANxXXObwfGG4c/SdZLve4R9HL2BLwUWn7fhx52nc8OEG0QqjVP2nr8FNH23EQSc7lxCFoyjbmVpEYYQBkMJCA40Kj2a3szueIDLb1VeSYtX4+pH+mH2P+IxdV8wLOa96egiWPzUYXZtJD7DRIgHw7VsdV2l1BtdVOtsKoNRJIXtPl2Hj0fOSznVmeyG7kymyMP9ROGMApLAx+qo0zLv/GstSLABwR59Mv73en/8Yjj6tkx0v6OyCuQLYMC4anZrad2EveWwAWtpM9DATGyPYp3Vjh6/VIa2By/Ys2FyILzcdBwCcvFQlupdwr5bis5PdnUFMJAfsAqZwxgBIAeTdWDKFQoHsjqlWS6hInZzhrrhopdVWbJ5wdX3PFo0wvJN497LtcjiA42rDLT2bYc49vSS16eUf9qLoYhXu+HQz3l11yO75+we2QpLIIteeTCCx5eVQQqKQwwBI4cx//WdENsIhAPylRwZaJMfhrr7ez4q23crNHWJVR0dfNu/e1gNGwSLPrr6TBv/7d4fPqaKiRNf+q/GwAnhCsFSNKaQWHSIikjdWACmsKQD88cK1bl3TtZnjGcXv35GFZ0Z1RLpgzT1nPnawowfgeqYv4DgUiXUBOxtw7qtChEYdJbpjiCfrQecePIuh/8m1PA6HfwAQuYMfaQpnDIAU9jIaxuJeN9YKVPpw+f4x3dLxzxuvEn1ObCKHLZ2DZCV2rdJJynPUFS5ch9CVScPaYkj7FId7GLtrwtytVo/5ZUmRxtslkoiCiQGQAsYvf1VeyT3Pju6ICQNaSbpEZHidV2Kjxcf6SRmf6Gh5FdEKoAftvjmrOb58sI+kc58b3QnKKIWkGcWuvLR0t90xTiQhIgodDIAUMP7417LiSgJMilXj9mukzQiOi7Ye+jq+v3c7jXgzWeTefq1Ej8eLLG8jdcKLwmZ/ArF7ucud8Xu1eiMWbC60O+6LiSREROQbnARCYU2YiaSOg7Od5dq/TWOM798SiTH2s1+lcNY160o3m8Wt26bE48M7xccVKgUlwGhVlOTFmRtICIDNGkob8yhFtYNK39yNBbilZzPJ4yuJiMh/WAGksCaMXlILjImx1oFoQNsmaJeagNTEGI/a4MvZrc+O6oguDra9E3YBx7pRdZRSAXx6ZAfJ93Ol8EKV6PHzFbV4YF6ez16HKNg4BJDCGQMgBYw//q4UFt+Efxk/MLC1w2vM+/PGRyux55+jkRTnWeXPTKPybr1AIWeLTnu67VRCjPMAOOeeXvhrr/o9i2c7mdksxce5Rxw+t7+4DOU1Oq/uTxQquLQRhTMGQAoYf/9ruW1qPOKilWjWMBb39GthN5GiTZN45L00An1aJ+PnJwZhw9+vldQ96sqQDk1wS89mVsc6NU3w6F4qJzNUPF10NjFGjbudrGtoWxHN6ZaO7S+P9Oi1dp28jEtVtU7P6TZtJWautl+EmijcsAJI4YxjACmsCSc8aFRKbH95JJRRCqiVUdj+8khEK6NwuboWq/adQU7XdCTHRwOAW/vyuqJRKfHubT2wZPspAHVj7j7ysIrmbOkYb8YavnFzN1TXGrBkxym75xI09hXQOJuZzVK/6G6ctVHSeTNXH8ZTI3zX7UwUDMx/FM5YAaSwZpuJYtRKSzdqA40K0aoopCbE4O6+LS3hz1/MEylmjOuOtimu9+YVo3ayeLS3iz07Wq6mgUgXse0i1i8t3YMZKw46vb/YDiJERBSaGAApYCL9X8sf3d0Ts+/uidFXie/vK4XKyTg/YRew0zDo4Dnbqh4AtGwch4yG9pNfxJacmfW747F9gOPZv0SRijsBUzhjFzCFtVD6C7hHZkP0yGzo1T2UTgKgs+eksB0T2a9NMhY+1M/jySW2GACJiMIHK4AUMH7ZNslXm+CGCGcTPYQ5zZM/te29z5VrvQ5/q/adweB/r8G2E5dQXeteADSK7DnsCW7HRUTkPgZACmuRFf+c51mFQoGx3TMwsF1jtE91f5axbQAsrXa+HMvLN3Rxec+H5+eh6GI13ll50GkFMD3Jvpu5XKt3eX9Xftx5Gj1fW4VNRy94fS8iIjlhAKSw1rd1crCb4FOuunk/vDMLXz3Uz3lQdHD8jj6ZVhNhRnZp6vS1HhzUGjdcne70HLM/jl7A/XO3ij7Xq2UjPDjIfl3G7v9ciR2FlyTd35HJi3bgUpUOf/9ul1f3ISKSG44BpLC08YVrUXCuEgPaNQl2U3xK6lp/L13fBWNnbcDjw9pJvnd6Uiy2vzwS58q1WLG3BDdlNXN5je1kEL3BCJWDpWqKS2tEj3/36AAs31Mi/tz2k8hq0chlO1xRO1k/kchfImwECskMAyAFjC+HajVrGOvT/WtDRVORrlIx3Zon4dDrOXYTO6RISdDgnn4tJZ1rG6zu/u+feO/2Hshw8713VNgsuljt1n0c35/fxERE7mAXMFGIyOnaFIkx0rel8yT8uSvGZs/hPwsuYuqS3Vh/+Jyk6807pDjq2l576Bye+2an1xM5OA2EiMg9DIAUMNw307l2qZ4tHm1LbA0/T8WI7HO89tA53Pv5FpfbuT2a3RZv3twNgPMK3TfbTuLkJe8qgZwJTMGgiLhpaCQnDIBE5FCM2vFfETNXH3Z67YjOqZYKoqvlZrR6riFIRBRIDIBE5FCsWnz7OCnSk+rHCbpabrCsxrslYVj/IyJyDwMgBUyCRvr4NnLf2O4Z6JDWAP3bNPbZPW3HALojJUFj+V3polu63MsAyARIROQezgKmgHllbBeUlNXg/oGtgt2UkOTtMLYP78yCyWTy6RjA/m09D5NqwXIxrtr0/upDMJpMGNYx1aPXYv4jInIPK4AUMBkNY7F00kD8pYfr9efIM74MfwDQtVmST+7jqlnbCy/j/rlbORaQwgpXH6JwxgBIRD43NaeT1WPh9+SdfTIdXldeo8fW4xdxx6ebcKCkTPLrcRYwEZF7GACJyKceGdoGjwxt6/D5kV3SsHrKUNHn+ryxGuPmbMLmYxfx4Lw8ya/J+EdE5B4GQKIQESndSQaDfRwTdk0roEC8RnxyiVFw6anL0tcGZAGQiMg9ERMA161bh7FjxyIjIwMKhQJLly51eY1Wq8WLL76Ili1bQqPRoG3btvjiiy/831iiCGYQSWPCcKtQAHHRvp1/FinhmYgoUCJmFnBlZSW6d++O+++/H7feequka2677TacOXMGn3/+Odq1a4ezZ89Cr/dyOQoiD0VKFatxfLTdMWE+UygUiIv2fHkZIiLyXsQEwJycHOTk5Eg+f/ny5Vi7di2OHTuG5ORkAECrVq381Doiecjp2hT3D2zt9JwoRd0SMe1SG+DI2YoAtYyIiIQipgvYXT/++CN69+6Nf//732jWrBk6dOiAZ599FtXV3u1JSiRXiTEqzL6nF+I19v+utOoCvlIPXPy3frinX4tANY+IiAQipgLormPHjmHDhg2IiYnB999/j/Pnz+Oxxx7DxYsXHY4D1Gq10Gq1lsdlZdKXqSAKd1dlJGLvacefeb3RWR+2YBLIlV8bN9CgX5vGWLC5UPQKpav944iIyGOyrQAajUYoFAp89dVX6NOnD8aMGYN3330X8+bNc1gFnD59OpKSkiw/mZmO1zMjkpsRndMcPmc7CcQsWun4ryCD0YT5m45Lem1GRSIi98g2AKanp6NZs2ZISqrf6aBz584wmUw4efKk6DVTp05FaWmp5aeoqChQzSUZMIX4anbOJqlMG9sFr9/cVdJ9FIK4ZnBaNQRe+WEvjpwtl3RfokDz9c47RIEk2wA4cOBAnD59GhUV9YPQDx06hKioKDRv3lz0Go1Gg8TERKsfIrlwFNWm39INEwa2RmKM2uG1wq9JYc+u827jOqXVnJlPRORrERMAKyoqkJ+fj/z8fABAQUEB8vPzUVhYN75o6tSpGD9+vOX8u+66C40bN8b999+Pffv2Yd26dXjuuefwwAMPIDY2Nhh/BJI5RYh3ZIptt7b2uWzc2cf1RA6rhaAFv0erXP8VVKNzvT9wqFRiTCYT3l99GMv3lAS7KeQnwv8PQuNTR+SZiAmAeXl5yMrKQlZWFgBgypQpyMrKwiuvvAIAKC4utoRBAGjQoAFWrVqFy5cvo3fv3rj77rsxduxYfPDBB0FpP1E4mH13T1zdvH7YRJMGGknXWa8DWP/7tZ1Skd0xxem1hRercKasxp1mBs0fRy/gvdWHMHHBNsuxy1W1KLxQFcRWkS8J/x0U2oM2iJyLmFnA2dnZTjeEnzdvnt2xTp06YdWqVX5sFVFkyemWjpFd0vDk4nx0a5YkuuSLK8IuYLUyCvPu74O/fLQRO4sui54/dcluAMDuaaOQ4KSbORSIBdXsGbm4XKXDxheuRbOG7F0Idwx9FCkipgJIFO7CZRKIShmFj+7qiYlD20q+1rqH1r7j7Knh7V3ew3ZvYGf/4AsW4Z9zweYTGP5OXfgDgI1HzgepVeRLRnYBU4RgACQiSbwJqMLxjWLL+w3rlIr1zw9zeg+9wfr1hTOIA/1FvLPoMvaJrIko/HO+tHQPjp6rtDwur+FklkgQgv/uIPIIAyARSeKrLz5HEzYyk+OcXnfDhxswY8VBy2MJE4j9orRah798tBFjPlhvt4yNs7ko+06XoaqWITDcGZkAKUIwABKRJN587VlvBefYoHZNnN5n1u9HLL8H64v4fEX9bkA6g1Hydd9tP4mbPtrojyYREbmNAZAoRMRFh/acLF+NuYtyUib7z7ir8fpNzheUXnPgDEqrdS4XkfYX4ftQaxMAXS1Hc+hMRdDaTb7BAiBFCgZAoiB77S9XYWC7xpgwoFWwm+I3jraCs5WeFIt7+rV0eq8H5uXhma93WlcAAzgIUJj5dHrrALj3dKnL63eevOzjFlEgWU0C4SwQCmMMgERBdm//VvjqoX4eLakSSL4qfPjiS3P1/jMwSu999Smtvn5h6l6vr8b2wksAgE/XHcUna4+5vP7PYxf91jbyPxYAKVKE9jcOEYUOL775hLNjfbXjyas/7vHJfaSq1Rsx5et8aG2qfrd8/Adyn83Gm8sOSLpPeY3OH82jAAnF5YeIPMEASESS+GwSiI+6zZbmn65/EIDv5G+2FeHnXcWiz2XPyJV8n6pa11vbUegSDuFkFzCFM3YBE5Ek3lQ+hF+UziaBmA3p4Hx7OFtGkwllNTqsOXAGOoMRvx84i4Ml5e4206EjZyuwV2TdP09crqr1yX0oSFgApAjBCiARSRLIMYDv3tYde06VYsLcrZLuefxCFa6ethIAMLRDCtYeOld3/K3rPW4nAOw6eRk/5J/G5xsKPL7HB3dmYfKiHZbHJy5yX+BwxnUAKVKwAkhEknjzvedqJxBbTRpoMNTNKqCZOfyZzVx9CPd9scXlmn3C52t0BhReqMKNszZ6Ff7io5W4sXuG1bEdhZfxy65ijiULU/yvRpGCAZCI/M7VXsDi1yhwT78WXr/2zNWHsfbQOazce8bq+ILNJzA79yhKq3X4fsdJXPXKCvxyZYzfc9/uwpD//O71a4/rnQkA2PLicAzrWB9oJy3cjgV/Fnp9fwo8BneKFOwCJiJJvNsLuJ6UCqDZ6zd1Q9eMJLywZLdHryv8sq4UbMNmMJrw0tK6WcRvL6+fvTtp4XZMWujRS1kZ1SUNHZsm4NHstgCA1IQYvHlLN/SfvsZyzobD53CvizUPKfQIJ4EwC1I4YwAkIkn8vRewIyql5x0Vk/+Xb/ndeOWb+/MNBVi1r8TjezqToFFh+dNDkJEUY/fnTIpVWz1meAhPwn8I8b8hhTMGQCKSxKsxgBL3AhajcqdkaOOnnfVLxSzOK8KFylr8Z8VBj+8ndHvvTCzOK7I6NjG7LZo1jBU9P1attHocreIInHAk/P+A+Y/CGQMgEQWAcBKIe4FO6UUAFNpReBk7Ci97fZ87+7TAX3pkoF+bxri3f0s89tV2PJrdFk2TYjC4XROH19lWBH3156LAsgqALAFSGGMAJCJJfLUOoLuL59p2nQbTCzmdMHFoW8vjrs2SsO75YR7dq7xG7/okCjnsAqZIwT4IIpIkWHsBD2rXBLf2bI47+3g/I9gbTw5vbxX+vFVW7dmWcJ+tO4YnFu2Awcj0EQxWk0DYCUxhjAGQiCTxbh1Awe9uJsCoKAXeua07pt/SDb8/m+15I7zkah1Bd12sqsWRsxVuX/fGsv34aedp/Lb/jOuTyeeElXBWACmcMQASkd8JQ583I9+UQdx8NS5a6fokNxw7V4kR767Fz7tOuz5ZBLuQg4OTQChSMAASkSTNGonPbpXCeh1Az0NcsPLfnX1a4N5+rby+z4xx3e2OfbL2mEf3MrD8FBScBEKRggGQiJz6dmJ/jOqShpm39/DJ/bwJccEKgNNv6YakOO8no/y1V3PkvTTC6lhxaY2kaw+WlGPaj3stj40cAxgUnARCkYKzgInIqd6tktG7VbJX9/BmFrCQsHr4Qk4n7D5ZinG9m2PC3K2S7/HsqA6YsfKQ5PPH9/ftbh0JMdZ/7WZ3lLbn8eiZ66weswIYHEZ2AVOEYAWQiPxOAYXo727fR3DpqC5p+OjunsjumIqUBI3ke8So3RvL1z4twa3zXdGorF9/45HzeG/VIZQ6mRW851Sp3TFWAIPDehII/xtQ+GIFkIj8zh8VQOHv7nwPx4pM5nhudEfc2D0D//fHcQzukIIzZTV4/ttdAPw/8aS4tAbv/3YY5yu0eOPmblbPmUwmzF57FAXnKu2u0+p9OyuZpGEFkCIFAyAR+Z0woPlqEoj1Thr2X8Uf390T//xpL86UaS3HXrq+s92WbABwdfMkZCbH4aUbugAALlXWCtrrcXPdsuHIebtj2wsv4d/Lxbeuq6o1+LtJJIpjACkysAuYiALKmzwl7D6OcpDMOqYl4K+9mmNMt3S0SI6zek6jVop2AcdFW/9b2KrSGKAE2KSBfTf2xUrH3cIMgMEhDH1GJkAKYwyAROR3wpmT3lQAhVlM+Lvwe3jF00NEl1sBgPhoJVJFxgs2spnhqxD8zeiPLuAvH+wj6TyNyvFf0XPWHsWY99fjXLnW4Tnke1ZdwMx/FMYYAInI76y+KH00BlBYDZTyPayMUmB4pzR0bZZk91yjuGiHrxPlh78lB7dPwYa/W+8hXFJag20nLlpNLHC1+8i+4jJ8nHvE9w0kh7j9G0UKBkAiCihfrQOosKoAuv5S3vHKSCTFqRGjVuL4W9dbPdfQpgJoXWn0TxdwvE2386nL1bh19ibkHjxnOWbbzfvJvb3w3OiOVseq2RUcUEZBJucsYApnnARCRH4n/Jr0VaByPgXEnm3gsrqXTZsczTb2pTiN+HI0y3YXo0tGIj5ZewwXK627dxNiVHZd2MpAzVIhADYLQQexHUTeYgAkIr8TVkq8iSuOupIdFWKsZx+Ln9M0McbumCIAFcBopXgHzDfbTuKbbSdFn2sYG41LNhND1A7uQ/5h4hhAihD8m4OI/M5XFUBv7mNb5au/j9gxhdPnfcFRexxJSdCgTUq8XeVQbF1D8h/OAqZIwQogEQWUNwU1lbL+YmHly9djsYKxDIwzN/XIwMs3dEGMWolWjeOtnuOOIIHFLmCKFKwAElHYSIxR4/nrOuL56zoiKbZ+4sb4/q0AAEM7SNtXV0isEic84q8uYKBuYeprO6W6PK9Xq2Q0vrJOYOsm1gGQO4IEFpeBoUjBCiAR+Z2vdgIBgMey29kde2pEewxo1xhZmY28ureZ9Y4jPrmlqIcGt8FDg9ug1Qu/OD0vQeP4r2oGwMCyrjYzAVL4YgWQiAJAMAnEDwU1lTIKA9o2sRsP5+nXsyIAs4B9pUbnfBmY4+cr8davB7hgtI9YxT/mPwpjDIBE5He+rAD6mqvmBKK9//7r1bgqI9Hh82fKahw+d/RchdVj2/GQY2dtwJy1R/Haz/u8ayQBsH5/mf8onDEAElFAhVb8C40AeFvvTPwyebDVsVt6NkPj+LodSm7Kaubw2kqt3vL7ukPncM0bq7Fq3xmYTCZo9QaU19Q9v+dUqR9aLj+cBUyRgmMAicjvrJbvC7UE6II/toJz5PFh7TDr9yPY8PdhaN4oDiaTCbUGIzQq667tKSM74N1VhwAAR89V4oPfDmPy8PZ4eH4etHojHp6fh+yOKdhReNlyTUKMCjU6A2LUXDbGG5wEQpEiYiqA69atw9ixY5GRkQGFQoGlS5dKvnbjxo1QqVTo0aOH39pHJGctkuMAAPHRSrfXv/M3hYuapO2sW396dnRHHH/rejRvVPd+KRQKu/AHAJOHt8fKp4dYHr+76hDOlNVYVaRyD55DaXX9otE7T5ai66srsPHIeT/+CSKfVRcwEyCFsYgJgJWVlejevTtmzZrl1nWlpaUYP348hg8f7qeWEVGMWol9/xqNbS+PDOjrSvmCdpRH1zwzFEsnDUR6UqyPW+UbsTaVvPIanctt4fRGE6b9uNefzYp4nANMkSJiuoBzcnKQk5Pj9nWPPPII7rrrLiiVSreqhkTknjgne/GGojYpDYLdBKeaJllvYTduzibU6FwvCdMwTu3yHHLMatwfEyCFsYipAHpi7ty5OHr0KF599dVgN4WIgiS0OqSls90D+FKVzsGZ1pKvTCwhD3ESCEWI8PonuQ8dPnwYL7zwAtavXw+VStrboNVqodXWr6VVVlbmr+YRUYCE2phEd1zTqhG2Hr/k1jW2XcfkHiMLgBQhZFkBNBgMuOuuu/DPf/4THTp0kHzd9OnTkZSUZPnJzMz0YyuJiJxrn5bg9jWhtg5juLHaC5gJkMKYLANgeXk58vLy8Pjjj0OlUkGlUuFf//oXdu7cCZVKhTVr1oheN3XqVJSWllp+ioqKAtxyInIHv5/tces471gPAeQnjMKXLLuAExMTsXv3bqtjH3/8MdasWYNvv/0WrVu3Fr1Oo9FAo9EEoolEFCByq4dVu9g6jpwzmlgBpMgQMQGwoqICR44csTwuKChAfn4+kpOT0aJFC0ydOhWnTp3C/PnzERUVha5du1pdn5qaipiYGLvjREShypMAUlWrx8XKWstkkL2nSzFxwTY8cW173Nabw1pc4TIwFCkipgs4Ly8PWVlZyMrKAgBMmTIFWVlZeOWVVwAAxcXFKCwsDGYTiSgUyawEuPnYRfR8bRXWHz4HALj38y0ouliN57/dFeSWhQmrnUAYASl8RUwFMDs72+n/jPPmzXN6/bRp0zBt2jTfNoqIQp7M8p/FJ2uPYXD7FFysrA12U8IKu4ApUkRMBZCIyBa/oB2rqtXbHTtytgJbj18MQmvCB5eBoUjBAEhEshbO6wDe26+lx9faLiQNACPeXYtxczah6GKVN82KaAYj9wKmyMAASESyFr7xD+iSkYgpI6WvZSp0vkKLd1ceFH3u6LkKb5oV0YShj/GPwhkDIBFRGLPdE1hMmybxsC10Hj1XiQ/W1K+cwC3ipLHqAmYCpDDGAEhEshbGPcAAgGiRrlyhW7KaYcXTQ3DwtRyn5zVNdB0kzVbuLcGT/9uBCq39OMJIZ7BJfewGpnAVMbOAiYhsOftqbhSnxqUqHYZ2SAlYe/zh6uZJiFZGoWlSDO7ok4nkuGi8sKRuofsFD/bFoPZNJN1Hb6zfIcRVpPnbl9sAAM0axuL56zp51O5wZRv4TKbw/0cEyRMDIBHJ0i+TByP34Dnc0rNZsJvilTYpDbDsyUFooFGjaVIManQGSwBsGKeWfB/bLeJ0BiMenp+HdikN8NINXUSvKSmt8ajNU77OR63eiA/vzAq7SThG2wAYpHYQeYtdwEQkSxkNY3FX3xaIUSuD3RSvtUtNsIwFjFEr8fHdPfHUiPa4KiPR6ryvH+mPRg5CYY3NFnF7TpUi9+A5/HdDAS5V1sJotI86tmFIivIaHZZsP4WfdxXjTJnW7euDzWCzlTK7gClcMQASEUWYMd3S8dSIDnbVtT6tk7FqylDRa4QVwCmL83Hzx39YHg9/dy1u+HCD1RIogPWECKmE13gSIIONFUCKFAyAREQyEuug4nm5Smf5/ZLgdwC4WFmLfcVlOHWp2uq4R+EnzBOT2BhAonDEAEhEkYvfzna86fI+X2ndZVt8uRqD/70Gs3OPSr6HcBZtKAz/q9EZ8E1eEc6WSxvPaNsFHI5VTCKAAZCISFaUUZ6nrkqbZV/yTlxC0cVqvL38gOR7WO+k4XFTfOa9VYfw3Le7cMcnmyWdz8BHkYIBkIhIxm7sniH53KU7TuOtX52HvZ93ncYvu4odPi8MgLZjCoPh1z0lAIBj5yslnW83BjD4fwQij3AZGCIimZowoBUey26LH3eelnT+d9tPOn2+tFqHxxfuAAAM73ydpbvZZDJZJqQI1xsMhWqauwVR29nQpnAf1EiyxQogEZHMLH9qMCYNa4tnRnWA2sVOIu64WFlr+b2qtm5ZmUVbCtHmH8vw1Z8nAACC/Ad9CFQAo9wciGjb5BDIsEQeYQWQiCIWv5vFdWqaiE5N69YI1OoNLs6WrrS6fvZw9ZV1BV/7eR9MJuCVH/aifWoCEmLqv3bE1hYMNHerkLbnh0IVk8gTDIBERDKmUSkRrYxCre30Vg9cElYAtXrU6AyWSqDBaMJtn2xC12b1i1Pb7qsbDO62gOsAUqRgACSiiHXHNS2w6+Ru9GrZKNhNCWkJMSpcEIQ3T/R9czXiNfVfKXd8Kj6rds+pMsvvoTAJxN0Myi5gihQMgEQUse7sk4kuGYnomJYQ7KaEtGiV9+MA67Z1q18nUEqgXLy1CD1bVOCmrPDZj9kutDIAUpjiJBAiilgKhQI9MhsiNjr89/v1p2BVseZvOoGnFuejqlbv+uQQYbcTCBMghSkGQCIimRMuzRIMddXD8MAuYIoUDIBERDKnMwQ3xRSXVrs+yU/creDZdgFzFjCFKwZAIiKZEy7fEgz/21KEJ/+3AxXawHcFu5vf7LuAicITAyARkcxNHNo2qK//487T+CH/NN5ffcir+1yqrMXUJbux7cRFH7XMnu3SNSwAUrhiACQikrlHh7bF+3f0wKguaZZjL13fGbf3zgxoO46ek7YfryNz1h3Foi2FuHX2Jh+1yJ79JGAmQApPDIBERDKXFKfGX3o0Q2Ks2nLsocFtMGlYu4C2Iy0xxqvrz5TW+KgljtmN+WP+ozDFAEhERACAnK5NAQDJ8dEAgBaN43Dgtesw555eAXn9Cq3eboydO9zd1xew7sKVsjWd7TmhsJsJkSe4EDQREQEAru2UigUP9kWHtAaWYzFqJRpoAvNV8dPO09h09Dw+G98bWS2k797y+8GzmLfxOHRebmenN5oQHeU8RNpmxFDYzYTIEwyAREQEoG7h7EHtm9gd16gD11l0vqIWi7cWuRUA75+71SevLSXM2XYBMwBSuGIXMBERORUfHdhawf+2FgX09cx0EhbEtu0C1jMAUphiACQiIqcaxatdnxQBDBIWxLbNe1LGDRKFInYBExGRU2kJMejfpjHUqiisO3TO7ev7tk5GYqwa6UkxmL/phKRrymp0SNCooLCZ2GEymbBsdwmuykjE6dJqVNR4t3i0sEtXSjXPdtIHK4AUrhgAiYjIqagoBRb9rR8AoNULv7h9/ZAOKZg0rB1m5x6VfE3Wv1bhrj4t8NpNXa2Or95/FpMWbne7DY4IA5yU8Xy2s5Q5BpDCFbuAiYhIsj6tkj2+NjFWes3BYDThy8321cIf8k9Jut4c1EwmE2p0Bofn6QUzh6XMIrYdJsgASOGKFUAiIpLsy4f6oOB8Ja6buV70+T6tk7GlQHwrtlt7NsfWgoton5aA/6w46Nbr1ugM2Fl0GT/vKpZ0/n/XF9R1I8eo8OayA1j4UF/EaVSo1RvRp3V9iNXq6xMdu4BJThgAiYhIMo1KifTEWNHnvnt0ABrHRyN7Rq7V8W7NkgDUrSk4844sAJAcAMtqdIhRKfHi93vw3faTktv5xrL9Vo8f/Wo7Sqt1AIB9/xqNuGiVXXVQL6ECKAyMACuAFL4YAImIyC0KB4OHerVshFOXq+2OD2pnv7agWduUePz3vmswzCY0mk34YguOna/E5SqdJ021MIc/AFi17wwuVdbizr4trGb12oY7MZVa60kneglLxxCFIgZAIiJyi7Mt11IaaBCjjkKNrj4YRTnZXUOhUCCjoeM9gLcXXvaojc48+b98AECDGOvlbWolVAArbAIg8x+FK04CISIitwjzXHqSdXiLVkVh+8sj0TTRcagTUqCuWzkYcg+etXpcywogyQgrgERE5BZhBfDuvi2QHK9Bvzb1EyviolUB3T7OU7ZrGnoSADkGkMIVAyAREXksRq3EXX1bBLsZHimzWUT6tMj4RVvmLuC4aCWqag2cBUxhK/T/iUZERCFFWAFUORnfJ4X5Vv8d3xt/7dUcmcniM4wD4YUlu12eYw6ASbF14we5FRyFq4gJgOvWrcPYsWORkZEBhUKBpUuXOj1/yZIlGDlyJFJSUpCYmIj+/ftjxYoVgWksEVEYE2Y+lVL8a8TdWDiiSxpmjOuOmCCNBzSz3emjRmfAvZ//if+uP4ZLlbWWyS3mAMgKIIWriAmAlZWV6N69O2bNmiXp/HXr1mHkyJFYtmwZtm3bhmHDhmHs2LHYsWOHn1tKRBTefFkBtJ1RHIwxdV8+2Mfye8H5SlysrEXB+UpM+Tofb/16AOsPn8frv+zHM9/stJyXeCUAcgwghauIGQOYk5ODnJwcyefPnDnT6vGbb76JH374AT/99BOysrJ83DoiosghzGxKHwfAc+Var+7nrkZxagxun4K0RA3OlGlx7TtrHZ675kD9rOFYdV2lkhVAClcRUwH0ltFoRHl5OZKTHe9zqdVqUVZWZvVDRCQ3CkFoUzvoApYqyubylASNV/dzV9OkujGHyfGuXzfjypI3qiiFpfLJMYAUrhgAr3jnnXdQWVmJ2267zeE506dPR1JSkuUnMzMzgC0kIgo93lYAlTYVwH/9patX93OXeR3D5Hi1izPru30/G9/b8udmBZDCFQMggEWLFmHatGlYvHgxUlNTHZ43depUlJaWWn6KiooC2EoiotCjVno7C9j6+kHtm2DFU0PwyJA2Xt1XqrREcwB0XQE8UFIOAGjcINoSAA1cCJrCVMSMAfTU4sWL8eCDD+Kbb77BiBEjnJ6r0Wig0QS2e4KIKJSpbPtwr7ANdo6IVRA7Nk1AUpzripwvJMbWfQ22TYmXfE3D2PoAuP7weWw+dhGv3tgFqQnSdj8hCgWyrgAuWrQIEyZMwMKFC3H99dcHuzlERGFH5WUF0FEPcrQHYwt/fXIw5tzT061rGsZGAwCaNZS+/mBSnNqyfd3KfWfwy+5irNx7xq3XJQq2iKkAVlRU4MiRI5bHBQUFyM/PR3JyMlq0aIGpU6fi1KlTmD9/PoC68Dd+/Hi8//776NevH0pKSgAAsbGxSEpKCsqfgYgo3DSW0HXqjKNKoe3sYEduuDodP+8qBgB0Tk+0zM515JN7e6FGZ0BKAw2W5p/CfQNaApA++UShABI09lvdldvsKkIU6iImAObl5WHYsGGWx1OmTAEA3HfffZg3bx6Ki4tRWFhoef6TTz6BXq/HpEmTMGnSJMtx8/lEROTYO+O64/TlanRr7t0/mBNjxLt6q3UGSdfbdiG3ahKPf954FWLVSqzcdwar99dX5ro3T8Loq5paHg9o18Tyu9Qg2yBahagohd2C1RVanaTriUJFxATA7OxsuxXchWxDXW5urn8bREQUwW7t1dyr69+9rTu+2FiAaTd2EX0+IUba15PYX/v3DWgFABjeORVz1sbh9msyUaMzonUTx+P8OjRtIOn14jV17bKtAFZqpQVWolARMQGQiIhCh6sO3Ft6NsctPR2HyHG9MrH3VBm6ZzZEftEl5B2/hEV/64eLlbV45MttKLxYBQBwtghL4wYavHi9eMC0pVEpUTB9DACg9dRlDs+L09RV/mwrgIfOlCPn/fV4eHBr3JzVDFq9ETEuuqOJgokBkIiIfM7b8BMbrcTbf70aAHBX3xaW42mJMTA66e3xhpSZy/HR4hXAP45eAABM+Xontp24hG/yTuLXpwajbYq0yiJRoMl6FjAREfnHzDt6oE2TeLx/Rw+f31u4+4azoT+e6tasblxjqsjEkHhLBdDx1+dXfxai1mDEnNyjPm8bka8wABIRkc91SEvAmmez8ZcezXx+b4OfKoBmc++/BksnDcSg9k3snquvALqucMZFu18FrdUbcba8xu3rgqGqVo9fdhWjUssZ0OGIAZCIiMKKQbD5hj+iYJMGGvTIbIhj5yrtnjNPAolRu/76rNAacO07ufjwt8OSX3vcJ5vQ543fcPRchfQGB9i+02XYXngJU5fsxqSF2/HGsv3BbhJ5gAGQiIjCysgudVt2tm4S758EeEVZtf3SLuYuYI3KdXXv1z3FOHauEu+sOiT5NXcWXQYA/JB/WvI1gWQymTDmg/W45eM/LG1c+GchjEYTCs5X+qVLnvyDAZCIiMLKS9d3wRs3d8Xiv/Xz6+tMGtbO7licuQvYyRhAs6ra+qVh3vhlH659JxelVfWh0mQyofBClWho0hlCc49hvVE84E3/dT+GzcjF5xsKAtwi8hQDIBERhZV4jQp3922J1MQYmPxYArylZzM8Obw95tzTy3LMPN7N3VnOn60vwLFzlZj52yE8PD8Paw+dw7Qf92LIf37HjztP43JVLWr19aFPLwiA6w+fw6p9Z3DkbAX+OvsPrNxbYnXvQFbdHAXTz9bXBb83HXQHnyvXYs+pUgBAjc6AU5er/dNAkozLwBARUdjyZ/ZRKBR4emQHAMDEoW2xaEsh7ulXt3WclAqgmLkbjwMAVu2r36HkvVWH8MzXO3H91emWYzqDCb/sKkbn9ATc+/kWAMCQDinIO3EJeV9uw/G36vavP3SmHHd+uhmPZrfFQ4PbeNQmd+j0zt9wVZT4+9L3zdUwmur2a5638TgW5xVh/gN9MKRDij+aSRKwAkhEROTCCzmdkP/KSHS9skSMLxd5Pn6hCnqjyWrc37w/jmPSwu249p21lmPrDp2z/H6xshZny2rw/Le7cKGyFq//In0iRtHFKny37aRVldGsQqvHn8cuWC21I1TromtapRRfS9F8u5z312NxXhEA4MWluyW3mXyPFUAiIgpbgZxzIFwoWsosYH/q+doqxKqVEG6FvL+4DCWlNRjWKRUGo8lun2Sz7Bm5MBhNKK/RYcLA1lbPPfx/edh07ALu6dcCr9/UzXLcZDIh78QlqJXO/9wGB8FRTJxahUVbCtG7ZSO0T0uQfB35BiuAREREbjJPBgmmap0BlYKJJjnvr8f987Zi9b4zyPrXSrz28z7R68whbcOR83bPbTpWt6PJgs2FVsc/WXcM4+Zswk0fbXTaJu2VcYxSxiUePFOOqUt2Y+R761CjM+DdlQex+2Spy+vINxgAiYgobPlzEogz5vUAQ9HDX+ahrEaPzzcUoOhiFdYcOCN6ns7g/L0Thri3fj0g+fUnfrkNOe+vR43OgLkbC/D7wbMur5mz9ig+WHMEY2dtkPw65J3Q/QQTERG5EKxl5+I92OUjUITvyaj31qFaZ8CXD/bB4PbWEy70RvvxfMnx0bhYWQsAKNfqkRijdvv1l1+Zpfz+b4cxW+J2eDNXWy+WrdUbJK21SJ5jBZCIiMhNKmUUXhzTGU9ca79WYCip1tV1Ea/YW4Kvtxbh5KUqy3O2FcDyGp0l/AFARY0e768+jN/2i1cQXdl+4pJH1329tQhdX12BZbuLPbqepGEFkIiIyAMPD6lbduV/W4twrlwb5NY4VzemrxBtmsRbjtlO2Nh45ILV46/ziuwqc+6o8HCP4Oe/2wUAeOyr7Zblbsj3GACJiChshcLGY+ufH4YvNhYgSqFwa6xcMBw7X7+/se0yMLaThr0JfwBCPhTLHbuAiYgobDWMdX+Mmq/FqJV4LLsd+rZOtnuuWcNYNNCoHI4ZNK8s06SBxp9NFGW7rdvlKvu9j71xlgEwpLECSEREYev56zrh5KVq3NEnM9hNsZoZ/OuTg/HJ2qN4aHAbpCZoUGswYtDbv1uev7ZTKnadLMW3E/vjQqUWPTIb4dN1x3CxUmvZVi1GHYUanf/2BN57uszq8bfbTwIAmjSIxvmKWrFLAo6TQfyHAZCIiMJWSoIGi/7WL9jNAAC0TWmA7s2TkBirRqemCZh5R5bV8zldm+LXPSW47qqmmH1PT+iNJqiVUWh1ZVzeo9ltAdTvq/v0iA5oFBeNQe2bYMBba/zSZqPRhFqDEefKtdhScBEA0LNFI6zc59nED6laNo7DiQtVLs8rr9FD04AB0B8YAImIiHxAGaXA0kkDAVjvGmL21q1XY0iHFIzpmg6FQgG1g23Tbu+did8OnMFtvTPRKD7ar20e+PYaFJfW4Jkrex4DwM1ZzbBq/xm7JXbapMTj5MVqNIpX40yZd927HdMSJAXAZbuLMapLUzRNivHq9cgeAyAREZGPiAU/s6RYNe7s08LlPd7+69XQG4xQCbZde+2mrnh56R7L427NkrD7lPe7ZhSX1gAA3ll1yHIsp1s6mibGWJ4ze/e2HmgcH40YtRLHzlVgytc78cjQNnjlh71uv27DOGljN1/5YS9OXa7G1JzObr8GOcdJIERERCFGZbPnrkZV/zj32Wws+ls//G1IG7RNiceMcd3trr/jmvoxkVJCp63MRnGW3/9541X411+uQo/MhshMjkNKggZ92zTGxheuxdirM9y+N+DeAt7NBW0h32EAJCIiCnEqwRotTZNi0ECjwj/GdMZvz2Tj1p7NkJZoPYs4u2MKDrx2HY6/dT0aSay2AcCsu+rGLXZOT7Acu/2aTIzv30r0fGElL8GN7fHapzVwei+hlCDMkJYDBkAiIqIQpxQEQNteZoVCgRdyOtldE6OumzwhHGv3yg1d0CU9EaunDBV9nQ5pdcFvwsDWiFUrMaRDiuU+YhQKBebc0xOTh7d3ORO7UZwaCgXw+LB2uH9ga6txh0BdF7mYuBDedi+ccQwgERFRiFMLuoSjRMYZ3ti9GbafuIwvN5+4cqT+nJaN67tQHxjUGg8Mau3wddKvTLZo3SQeG1+4VlL4uq5rOq7rmo6FfxY6PW9IhxS8eXM3y3I5TwxvbzX28MSFKvy1V3OsO3QOyfHROFBSDgCIZQD0CwZAIiKiECesAIoFQGVUXRWwPgDWezS7LS5X63Bjd+vxeh/f3ROnLlXjtwNnsPlY3RIwCTH1VbhkN2cgN28Ue6V9QFy0ym4ruLholdVaieZrTl6qBgBkJsdixrjuMBhNOHy2HNfNXA8AiHVSgSTPMQASERGFOJVVABQ/x9EE5IQYNd68uZvd8THd0gEA3TMb4sM1h3Fvv5ZetXFQuyaYfks3tGocjwfmbbV7Xmw3lN+fzcaMlQfxydpjeP2mujYqoxRo3igO0coo1BqMlqok+RYDIBERUYizHgMonvTEKoNS9GmdjC8f7OvRtVavH6WwzDjWGex3MLGt/gF1XdtTczrjsex2VmMAG2hUWPhwX6iVUWjMSSB+wQBIREQU4lRRrudsepj//MJ2n2GgblcPR8QmgPRuZb+3MvkOZwETERGFOKWjfl8BTyuAgWKCG4v/kd8xABIREYW4Jg1cT8gIpfj31i114/meG90Rn43vjaEdUvDIkLZBbhUJsQuYiIgoxLVPS8CLYzojJcHxeDhhBTDYxcDbr8nEwHZN0LxRLBQKBUZ2SQtug8gOAyAREVEYeHhIG6fPC0OfO1ut+YNCoUBmMrdwC2XsAiYiIooAjmYHE4lhACQiIoowzILkCgMgERERkcwwABIRERHJDAMgERERkcwwABIRERHJDAMgERERkcxETABct24dxo4di4yMDCgUCixdutTlNWvXrkWvXr0QExODNm3aYM6cOf5vKBEREVGQRUwArKysRPfu3TFr1ixJ5xcUFGDMmDEYPHgwduzYgX/84x+YPHkyvvvuOz+3lIiIyL+4Cgy5EjE7geTk5CAnJ0fy+XPmzEGLFi0wc+ZMAEDnzp2Rl5eHGTNm4NZbb/VTK4mIiIiCL2IqgO7atGkTRo0aZXVs9OjRyMvLg06nC1KriIiIvNcmpUGwm0AhLmIqgO4qKSlBWpr15tRpaWnQ6/U4f/480tPT7a7RarXQarWWx2VlZX5vJxERkVQrnhqCc+VatEtlACTnZFsBBOz3TTRd2T3b0X6K06dPR1JSkuUnMzPT720kIiKSqmPTBAxq3yTYzaAwINsA2LRpU5SUlFgdO3v2LFQqFRo3bix6zdSpU1FaWmr5KSoqCkRTiYiIiHxKtl3A/fv3x08//WR1bOXKlejduzfUarXoNRqNBhqNJhDNIyIiIvKbiKkAVlRUID8/H/n5+QDqlnnJz89HYWEhgLrq3fjx4y3nT5w4ESdOnMCUKVOwf/9+fPHFF/j888/x7LPPBqP5RERERAETMRXAvLw8DBs2zPJ4ypQpAID77rsP8+bNQ3FxsSUMAkDr1q2xbNkyPP300/joo4+QkZGBDz74gEvAEBERUcRTmMwzH8htZWVlSEpKQmlpKRITE4PdHCIiIpKA398R1AVMRERERNIwABIRERHJDAMgERERkcwwABIRERHJDAMgERERkcwwABIRERHJDAMgERERkcwwABIRERHJTMTsBBIM5jW0y8rKgtwSIiIiksr8vS3nvTAYAL1QXl4OAMjMzAxyS4iIiMhd5eXlSEpKCnYzgoJbwXnBaDTi9OnTSEhIgEKhCHZzrJSVlSEzMxNFRUWy3ebGF/g++gbfR9/g++gbfB99I5zfR5PJhPLycmRkZCAqSp6j4VgB9EJUVBSaN28e7GY4lZiYGHb/Y4Yivo++wffRN/g++gbfR98I1/dRrpU/M3nGXiIiIiIZYwAkIiIikhkGwAil0Wjw6quvQqPRBLspYY3vo2/wffQNvo++wffRN/g+hjdOAiEiIiKSGVYAiYiIiGSGAZCIiIhIZhgAiYiIiGSGAZCIiIhIZhgAw9C0adOgUCisfpo2ber0mrVr16JXr16IiYlBmzZtMGfOnAC1NnS5+z7m5ubana9QKHDgwIEAtjo0nTp1Cvfccw8aN26MuLg49OjRA9u2bXN6DT+T9tx9H/mZtNeqVSvR92TSpEkOr+Fn0Z677yM/i+GHO4GEqauuugqrV6+2PFYqlQ7PLSgowJgxY/Dwww9jwYIF2LhxIx577DGkpKTg1ltvDURzQ5Y776PZwYMHrVa9T0lJ8UvbwsWlS5cwcOBADBs2DL/++itSU1Nx9OhRNGzY0OE1/Eza8+R9NONnst7WrVthMBgsj/fs2YORI0di3LhxoufzsyjO3ffRjJ/F8MEAGKZUKpXLqp/ZnDlz0KJFC8ycORMA0LlzZ+Tl5WHGjBmy/gsOcO99NEtNTZX0pSwXb7/9NjIzMzF37lzLsVatWjm9hp9Je568j2b8TNazDRxvvfUW2rZti6FDh4qez8+iOHffRzN+FsMHu4DD1OHDh5GRkYHWrVvjjjvuwLFjxxyeu2nTJowaNcrq2OjRo5GXlwedTufvpoY0d95Hs6ysLKSnp2P48OH4/fffA9DK0Pbjjz+id+/eGDduHFJTU5GVlYXPPvvM6TX8TNrz5H0042dSXG1tLRYsWIAHHngACoVC9Bx+Fl2T8j6a8bMYPhgAw1Dfvn0xf/58rFixAp999hlKSkowYMAAXLhwQfT8kpISpKWlWR1LS0uDXq/H+fPnA9HkkOTu+5ieno5PP/0U3333HZYsWYKOHTti+PDhWLduXYBbHlqOHTuG2bNno3379lixYgUmTpyIyZMnY/78+Q6v4WfSnifvIz+Tzi1duhSXL1/GhAkTHJ7Dz6JrUt5HfhbDkInCXkVFhSktLc30zjvviD7fvn1705tvvml1bMOGDSYApuLi4kA0MSy4eh/F3HDDDaaxY8f6sVWhT61Wm/r372917IknnjD169fP4TX8TNrz5H0Uw89kvVGjRpluuOEGp+fws+ialPdRDD+LoY0VwAgQHx+Pbt264fDhw6LPN23aFCUlJVbHzp49C5VKhcaNGweiiWHB1fsopl+/fm6dH4nS09PRpUsXq2OdO3dGYWGhw2v4mbTnyfsohp/JOidOnMDq1avx0EMPOT2Pn0XnpL6PYvhZDG0MgBFAq9Vi//79SE9PF32+f//+WLVqldWxlStXonfv3lCr1YFoYlhw9T6K2bFjh1vnR6KBAwfi4MGDVscOHTqEli1bOryGn0l7nryPYviZrDN37lykpqbi+uuvd3oeP4vOSX0fxfCzGOKCXYIk9z3zzDOm3Nxc07Fjx0ybN2823XDDDaaEhATT8ePHTSaTyfTCCy+Y7r33Xsv5x44dM8XFxZmefvpp0759+0yff/65Sa1Wm7799ttg/RFCgrvv43vvvWf6/vvvTYcOHTLt2bPH9MILL5gAmL777rtg/RFCwpYtW0wqlcr0xhtvmA4fPmz66quvTHFxcaYFCxZYzuFn0jVP3kd+JsUZDAZTixYtTH//+9/tnuNnUTp33kd+FsMPA2AYuv32203p6ekmtVptysjIMN1yyy2mvXv3Wp6/7777TEOHDrW6Jjc315SVlWWKjo42tWrVyjR79uwAtzr0uPs+vv3226a2bduaYmJiTI0aNTINGjTI9MsvvwSh5aHnp59+MnXt2tWk0WhMnTp1Mn366adWz/MzKY277yM/k+JWrFhhAmA6ePCg3XP8LErnzvvIz2L4UZhMJlNQS5BEREREFFAcA0hEREQkMwyARERERDLDAEhEREQkMwyARERERDLDAEhEREQkMwyARERERDLDAEhEREQkMwyARERERDLDAEhEREQkMwyARERERDLDAEhEREQkMwyARERERDLDAEhEREQkMwyARERERDLDAEhEREQkMwyARERERDLDAEhEREQkMwyARERERDLDAEhEREQkMwyARERERDLDAEhEREQkMwyARERERDLDAEhEREQkMwyARERERDLDAEhEREQkMwyARERERDLDAEhEREQkMwyARERERDLDAEhEREQkMwyARERERDLDAEhEREQkM/8PBtzYtjxL7rgAAAAASUVORK5CYII=' width=640.0/>\n",
       "            </div>\n",
       "        "
      ],
      "text/plain": [
       "Canvas(toolbar=Toolbar(toolitems=[('Home', 'Reset original view', 'home', 'home'), ('Back', 'Back to previous …"
      ]
     },
     "metadata": {},
     "output_type": "display_data"
    }
   ],
   "source": [
    "qsotemplate = outdir+gal+'-qsotemplate.npy'\n",
    "cube.makeqsotemplate(qsotemplate,radius=0.)"
   ]
  },
  {
   "cell_type": "markdown",
   "metadata": {},
   "source": [
    "### 1.2. Setting up the fitting parameters<a class=\"anchor\" id=\"chapter1_2\"></a>"
   ]
  },
  {
   "cell_type": "markdown",
   "metadata": {},
   "source": [
    "#### 1.2.1. Emission-line parameters <a class=\"anchor\" id=\"chapter1_2_1\"></a>"
   ]
  },
  {
   "cell_type": "markdown",
   "metadata": {},
   "source": [
    "What lines do you want to fit? You can choose from the linelists [here](https://github.com/Q3D/q3dfit/tree/main/data/linelists), or in `q3dfit/data/linelists/`."
   ]
  },
  {
   "cell_type": "markdown",
   "metadata": {},
   "source": [
    "Let's start by looking what lines we expect in this configuration, based on the redshift."
   ]
  },
  {
   "cell_type": "code",
   "execution_count": 16,
   "metadata": {},
   "outputs": [
    {
     "name": "stdout",
     "output_type": "stream",
     "text": [
      "Instrument configuration rest wavelength range:\n",
      "\n",
      "mode grat_filt lamb_min lamb_max\n",
      "                micron   micron \n",
      "---- --------- -------- --------\n",
      " mrs     ch1_a     4.88     5.75\n",
      "There are 71 emission lines visible with this instrument configuration.\n",
      "\n",
      "Instrument configuration rest wavelength range:\n",
      "\n",
      "mode grat_filt lamb_min lamb_max\n",
      "                micron   micron \n",
      "---- --------- -------- --------\n",
      " mrs     ch1_b     5.63     6.63\n",
      "There are 70 emission lines visible with this instrument configuration.\n",
      "\n",
      "Instrument configuration rest wavelength range:\n",
      "\n",
      "mode grat_filt lamb_min lamb_max\n",
      "                micron   micron \n",
      "---- --------- -------- --------\n",
      " mrs     ch1_c     6.41     7.52\n",
      "There are 53 emission lines visible with this instrument configuration.\n",
      "\n"
     ]
    }
   ],
   "source": [
    "from q3dfit.jwstlinez import jwstlinez\n",
    "from astropy.table import Table, vstack\n",
    "configs = ['A', 'B', 'C']\n",
    "alltabs = []\n",
    "for i in configs:\n",
    "    alltabs.append(jwstlinez(zsys, gal, 'MIRI', 'MRS', 'Ch1_'+i))\n",
    "alllines = vstack(alltabs)"
   ]
  },
  {
   "cell_type": "markdown",
   "metadata": {},
   "source": [
    "Look at non-H2 lines:"
   ]
  },
  {
   "cell_type": "code",
   "execution_count": 17,
   "metadata": {},
   "outputs": [
    {
     "data": {
      "text/html": [
       "<div><i>Table length=26</i>\n",
       "<table id=\"table140179324640032\" class=\"table-striped table-bordered table-condensed\">\n",
       "<thead><tr><th>name</th><th>lines</th><th>linelab</th><th>observed</th></tr></thead>\n",
       "<thead><tr><th></th><th>micron</th><th></th><th>micron</th></tr></thead>\n",
       "<thead><tr><th>str19</th><th>float64</th><th>str19</th><th>float64</th></tr></thead>\n",
       "<tr><td>[FeII]4.89</td><td>4.889137</td><td>[FeII] 4.89</td><td>4.9688299</td></tr>\n",
       "<tr><td>[FeII]5.06</td><td>5.06235</td><td>[FeII] 5.06</td><td>5.1448663</td></tr>\n",
       "<tr><td>HI_10_6</td><td>5.128657</td><td>HI 10-6</td><td>5.2122541</td></tr>\n",
       "<tr><td>PAH5.3</td><td>5.27</td><td>PAH 5.3</td><td>5.355901</td></tr>\n",
       "<tr><td>[FeII]5.34</td><td>5.340169</td><td>[FeII] 5.34</td><td>5.4272138</td></tr>\n",
       "<tr><td>[MgVII]5.50</td><td>5.5032</td><td>[MgVII] 5.50</td><td>5.5929022</td></tr>\n",
       "<tr><td>[KVI]5.58</td><td>5.575</td><td>[KVI] 5.58</td><td>5.6658725</td></tr>\n",
       "<tr><td>[MgV]5.61</td><td>5.60985</td><td>[MgV] 5.61</td><td>5.7012906</td></tr>\n",
       "<tr><td>[KVI]5.58</td><td>5.575</td><td>[KVI] 5.58</td><td>5.6658725</td></tr>\n",
       "<tr><td>[MgV]5.61</td><td>5.60985</td><td>[MgV] 5.61</td><td>5.7012906</td></tr>\n",
       "<tr><td>[FeII]5.67</td><td>5.673905</td><td>[FeII] 5.67</td><td>5.7663897</td></tr>\n",
       "<tr><td>PAH5.7</td><td>5.7</td><td>PAH 5.7</td><td>5.79291</td></tr>\n",
       "<tr><td>[AlVIII]5.85</td><td>5.85</td><td>[AlVIII] 5.85</td><td>5.945355</td></tr>\n",
       "<tr><td>[NiI]5.89</td><td>5.8933</td><td>[NiI] 5.89</td><td>5.9893608</td></tr>\n",
       "<tr><td>HI_9_6</td><td>5.908213</td><td>HI 9-6</td><td>6.0045169</td></tr>\n",
       "<tr><td>[KIV]5.98</td><td>5.982</td><td>[KIV] 5.98</td><td>6.0795066</td></tr>\n",
       "<tr><td>[CaVII]6.15</td><td>6.154</td><td>[CaVII] 6.15</td><td>6.2543102</td></tr>\n",
       "<tr><td>PAH6.2</td><td>6.22</td><td>PAH 6.2</td><td>6.321386</td></tr>\n",
       "<tr><td>[SiVII]6.49</td><td>6.4922</td><td>[SiVII] 6.49</td><td>6.5980229</td></tr>\n",
       "<tr><td>[SiVII]6.49</td><td>6.4922</td><td>[SiVII] 6.49</td><td>6.5980229</td></tr>\n",
       "<tr><td>[NiII]6.64</td><td>6.636</td><td>[NiII] 6.64</td><td>6.7441668</td></tr>\n",
       "<tr><td>PAH6.7</td><td>6.69</td><td>PAH 6.7</td><td>6.799047</td></tr>\n",
       "<tr><td>[ClV]6.71</td><td>6.70667</td><td>[ClV] 6.71</td><td>6.8159887</td></tr>\n",
       "<tr><td>[FeII]6.72</td><td>6.721283</td><td>[FeII] 6.72</td><td>6.8308399</td></tr>\n",
       "<tr><td>[ArII]6.99</td><td>6.985274</td><td>[ArII] 6.99</td><td>7.099134</td></tr>\n",
       "<tr><td>[NaIII]7.32</td><td>7.3177</td><td>[NaIII] 7.32</td><td>7.4369785</td></tr>\n",
       "</table></div>"
      ],
      "text/plain": [
       "<Table length=26>\n",
       "    name      lines      linelab     observed\n",
       "              micron                  micron \n",
       "   str19     float64      str19      float64 \n",
       "------------ -------- ------------- ---------\n",
       "  [FeII]4.89 4.889137   [FeII] 4.89 4.9688299\n",
       "  [FeII]5.06  5.06235   [FeII] 5.06 5.1448663\n",
       "     HI_10_6 5.128657       HI 10-6 5.2122541\n",
       "      PAH5.3     5.27       PAH 5.3  5.355901\n",
       "  [FeII]5.34 5.340169   [FeII] 5.34 5.4272138\n",
       " [MgVII]5.50   5.5032  [MgVII] 5.50 5.5929022\n",
       "   [KVI]5.58    5.575    [KVI] 5.58 5.6658725\n",
       "   [MgV]5.61  5.60985    [MgV] 5.61 5.7012906\n",
       "   [KVI]5.58    5.575    [KVI] 5.58 5.6658725\n",
       "   [MgV]5.61  5.60985    [MgV] 5.61 5.7012906\n",
       "  [FeII]5.67 5.673905   [FeII] 5.67 5.7663897\n",
       "      PAH5.7      5.7       PAH 5.7   5.79291\n",
       "[AlVIII]5.85     5.85 [AlVIII] 5.85  5.945355\n",
       "   [NiI]5.89   5.8933    [NiI] 5.89 5.9893608\n",
       "      HI_9_6 5.908213        HI 9-6 6.0045169\n",
       "   [KIV]5.98    5.982    [KIV] 5.98 6.0795066\n",
       " [CaVII]6.15    6.154  [CaVII] 6.15 6.2543102\n",
       "      PAH6.2     6.22       PAH 6.2  6.321386\n",
       " [SiVII]6.49   6.4922  [SiVII] 6.49 6.5980229\n",
       " [SiVII]6.49   6.4922  [SiVII] 6.49 6.5980229\n",
       "  [NiII]6.64    6.636   [NiII] 6.64 6.7441668\n",
       "      PAH6.7     6.69       PAH 6.7  6.799047\n",
       "   [ClV]6.71  6.70667    [ClV] 6.71 6.8159887\n",
       "  [FeII]6.72 6.721283   [FeII] 6.72 6.8308399\n",
       "  [ArII]6.99 6.985274   [ArII] 6.99  7.099134\n",
       " [NaIII]7.32   7.3177  [NaIII] 7.32 7.4369785"
      ]
     },
     "execution_count": 17,
     "metadata": {},
     "output_type": "execute_result"
    }
   ],
   "source": [
    "alllines[np.asarray(['H2' not in i for i in alllines['name'].value]).nonzero()]"
   ]
  },
  {
   "cell_type": "markdown",
   "metadata": {},
   "source": [
    "And now H2-only lines (lots!):"
   ]
  },
  {
   "cell_type": "code",
   "execution_count": 18,
   "metadata": {
    "scrolled": true
   },
   "outputs": [
    {
     "data": {
      "text/html": [
       "<div><i>Table length=20</i>\n",
       "<table id=\"table140178753504160\" class=\"table-striped table-bordered table-condensed\">\n",
       "<thead><tr><th>name</th><th>lines</th><th>linelab</th><th>observed</th></tr></thead>\n",
       "<thead><tr><th></th><th>micron</th><th></th><th>micron</th></tr></thead>\n",
       "<thead><tr><th>str19</th><th>float64</th><th>str19</th><th>float64</th></tr></thead>\n",
       "<tr><td>H2_98_O3</td><td>5.17942</td><td>H$_2$(9-8) O(3)</td><td>5.2638445</td></tr>\n",
       "<tr><td>H2_109_Q5</td><td>5.20735</td><td>H$_2$(10-9) Q(5)</td><td>5.2922298</td></tr>\n",
       "<tr><td>H2_1311_O5</td><td>5.22019</td><td>H$_2$(13-11) O(5)</td><td>5.3052791</td></tr>\n",
       "<tr><td>H2_33_S10</td><td>5.22811</td><td>H$_2$(3-3) S(10)</td><td>5.3133282</td></tr>\n",
       "<tr><td>H2_32_O9</td><td>5.23355</td><td>H$_2$(3-2) O(9)</td><td>5.3188569</td></tr>\n",
       "<tr><td>H2_22_S9</td><td>5.23885</td><td>H$_2$(2-2) S(9)</td><td>5.3242433</td></tr>\n",
       "<tr><td>H2_97_O16</td><td>5.25785</td><td>H$_2$(9-7) O(16)</td><td>5.343553</td></tr>\n",
       "<tr><td>H2_87_Q14</td><td>5.25982</td><td>H$_2$(8-7) Q(14)</td><td>5.3455551</td></tr>\n",
       "<tr><td>H2_55_S13</td><td>5.29119</td><td>H$_2$(5-5) S(13)</td><td>5.3774364</td></tr>\n",
       "<tr><td>H2_44_S11</td><td>5.30128</td><td>H$_2$(4-4) S(11)</td><td>5.3876909</td></tr>\n",
       "<tr><td>H2_109_Q6</td><td>5.3259</td><td>H$_2$(10-9) Q(6)</td><td>5.4127122</td></tr>\n",
       "<tr><td>H2_11_S8</td><td>5.33014</td><td>H$_2$(1-1) S(8)</td><td>5.4170213</td></tr>\n",
       "<tr><td>H2_108_O14</td><td>5.36218</td><td>H$_2$(10-8) O(14)</td><td>5.4495835</td></tr>\n",
       "<tr><td>H2_98_Q11</td><td>5.37265</td><td>H$_2$(9-8) Q(11)</td><td>5.4602242</td></tr>\n",
       "<tr><td>H2_21_O10</td><td>5.40991</td><td>H$_2$(2-1) O(10)</td><td>5.4980915</td></tr>\n",
       "<tr><td>H2_76_O6</td><td>5.41544</td><td>H$_2$(7-6) O(6)</td><td>5.5037117</td></tr>\n",
       "<tr><td>H2_65_O7</td><td>5.43289</td><td>H$_2$(6-5) O(7)</td><td>5.5214461</td></tr>\n",
       "<tr><td>H2_1210_O9</td><td>5.449</td><td>H$_2$(12-10) O(9)</td><td>5.5378187</td></tr>\n",
       "<tr><td>H2_109_O2</td><td>5.46232</td><td>H$_2$(10-9) O(2)</td><td>5.5513558</td></tr>\n",
       "<tr><td>H2_55_S12</td><td>5.46376</td><td>H$_2$(5-5) S(12)</td><td>5.5528193</td></tr>\n",
       "</table></div>"
      ],
      "text/plain": [
       "<Table length=20>\n",
       "   name     lines       linelab       observed\n",
       "            micron                     micron \n",
       "  str19    float64       str19        float64 \n",
       "---------- ------- ----------------- ---------\n",
       "  H2_98_O3 5.17942   H$_2$(9-8) O(3) 5.2638445\n",
       " H2_109_Q5 5.20735  H$_2$(10-9) Q(5) 5.2922298\n",
       "H2_1311_O5 5.22019 H$_2$(13-11) O(5) 5.3052791\n",
       " H2_33_S10 5.22811  H$_2$(3-3) S(10) 5.3133282\n",
       "  H2_32_O9 5.23355   H$_2$(3-2) O(9) 5.3188569\n",
       "  H2_22_S9 5.23885   H$_2$(2-2) S(9) 5.3242433\n",
       " H2_97_O16 5.25785  H$_2$(9-7) O(16)  5.343553\n",
       " H2_87_Q14 5.25982  H$_2$(8-7) Q(14) 5.3455551\n",
       " H2_55_S13 5.29119  H$_2$(5-5) S(13) 5.3774364\n",
       " H2_44_S11 5.30128  H$_2$(4-4) S(11) 5.3876909\n",
       " H2_109_Q6  5.3259  H$_2$(10-9) Q(6) 5.4127122\n",
       "  H2_11_S8 5.33014   H$_2$(1-1) S(8) 5.4170213\n",
       "H2_108_O14 5.36218 H$_2$(10-8) O(14) 5.4495835\n",
       " H2_98_Q11 5.37265  H$_2$(9-8) Q(11) 5.4602242\n",
       " H2_21_O10 5.40991  H$_2$(2-1) O(10) 5.4980915\n",
       "  H2_76_O6 5.41544   H$_2$(7-6) O(6) 5.5037117\n",
       "  H2_65_O7 5.43289   H$_2$(6-5) O(7) 5.5214461\n",
       "H2_1210_O9   5.449 H$_2$(12-10) O(9) 5.5378187\n",
       " H2_109_O2 5.46232  H$_2$(10-9) O(2) 5.5513558\n",
       " H2_55_S12 5.46376  H$_2$(5-5) S(12) 5.5528193"
      ]
     },
     "execution_count": 18,
     "metadata": {},
     "output_type": "execute_result"
    }
   ],
   "source": [
    "h2tab = alllines[np.asarray(['H2' in i for i in alllines['name'].value]).nonzero()]\n",
    "h2tab[30:50]"
   ]
  },
  {
   "cell_type": "code",
   "execution_count": 19,
   "metadata": {},
   "outputs": [],
   "source": [
    "h2lines = ['H2_00_S8','H2_22_S9','H2_00_S7','H2_00_S6','H2_00_S5']\n",
    "lofslines = ['[FeII]5.06','[FeII]5.34','[ArII]6.99']\n",
    "hifslines = ['[MgVII]5.50','[MgV]5.61']\n",
    "lines = h2lines + lofslines + hifslines"
   ]
  },
  {
   "cell_type": "markdown",
   "metadata": {},
   "source": [
    "How many components do you want to be fitted to the emission lines?"
   ]
  },
  {
   "cell_type": "code",
   "execution_count": 20,
   "metadata": {},
   "outputs": [],
   "source": [
    "maxncomp = 1"
   ]
  },
  {
   "cell_type": "markdown",
   "metadata": {},
   "source": [
    "This block sets up initial conditions for the emission-line fit to each spaxel. Emission lines are set to a common redshift and velocity dispersion. However, different sets of emission lines can have different velocities and linewidths by specifying different lines to which to tie particular emission lines."
   ]
  },
  {
   "cell_type": "code",
   "execution_count": 47,
   "metadata": {},
   "outputs": [],
   "source": [
    "linetie = dict()\n",
    "ncomp = dict()\n",
    "zinit_gas = dict()\n",
    "siginit_gas = dict()\n",
    "for i in lines:\n",
    "    linetie[i] = '[ArII]6.99'\n",
    "    ncomp[i] = np.full((ncols,nrows),maxncomp)\n",
    "    zinit_gas[i] = np.full((ncols,nrows,maxncomp),0.0163)\n",
    "    siginit_gas[i] = np.full((ncols,nrows,maxncomp), 500.)"
   ]
  },
  {
   "cell_type": "markdown",
   "metadata": {},
   "source": [
    "`siglim_gas` sets lower and upper bounds for the Gaussian width (sigma) of the emission line. These limits can be set globablly, for all spaxels and components, by defining a 2-element array. The limits can also be set for individual spaxels (but all components) by defining an (Ncol x Nrow x 2) array."
   ]
  },
  {
   "cell_type": "code",
   "execution_count": 48,
   "metadata": {},
   "outputs": [],
   "source": [
    "siglim_gas = np.array([5., 1000.])"
   ]
  },
  {
   "cell_type": "markdown",
   "metadata": {},
   "source": [
    "#### Spectral resolution convolution\n",
    "##### Just running convolution ---\n",
    "\n",
    "If no convolution is desired, then set `spectres_convolve` to None. \n",
    "If convolution is desired, then `spectres_convolve` and `spect_instrum` are required variables.\n",
    "\n",
    "Specify the desired convolution method using `spect_instrum`. The syntax is: \n",
    "`spect_instrum = {INSTRUMENT:[METHOD]}`, which should mirror the filename in `q3dfit/data/dispersion_files/`. METHOD specifies the grating, spectral resolution [R], Δλ FWHM in [Å], velocity in [km/s].\n",
    "\n",
    "Examples convolving with: \n",
    "1. flat R=500: `spect_instrum = {'flat':['R500']}`\n",
    "2. flat velocity FWHM = 30km/s: `spect_instrum = {'flat':['kms30']}`\n",
    "3. flat Δλ FWHM = 4 Å: `spect_instrum = {'flat':['dlambda4']}`\n",
    "4. JWST NIRSPEC / G140M: `spect_instrum = {'JWST_NIRSPEC':['G140M']}`\n",
    "\n",
    "If desired flat convolution file does not exist, then a new file will be created automatically. "
   ]
  },
  {
   "cell_type": "code",
   "execution_count": 49,
   "metadata": {},
   "outputs": [],
   "source": [
    "spect_instrum = {'JWST_MIRI':['CH1A','CH1B','CH1C']}\n",
    "spectres_convolve = {'ws_instrum':spect_instrum}"
   ]
  },
  {
   "cell_type": "markdown",
   "metadata": {},
   "source": [
    "##### Creating convolution files (optional) ---\n",
    "\n",
    "If the user wants to create a dispersion file, there are 2 methods:\n",
    "\n",
    "1. First, run `from q3dfit.common.spectConvol import dispFile` and initialize: `dispObj = dispFile()`\n",
    "2. Create the files with either method A or B\n",
    "\n",
    "2.(A) Create a flat R=120 dispersion file from 10 μm to 30 μm: \n",
    "\n",
    "`dispObj.make_dispersion(120,WAVELEN=[10,30],TYPE='R')`\n",
    "\n",
    "2.(B) Create a custom dispersion file with user supplied wavelength and Resolving power lists:\n",
    "\n",
    "`dispObj.make_custom_dispersion([wavelen list],R=[some R list],FILENAME='custom_RlistA_disp')`\n",
    "\n",
    "3. Specify desired dispersion file in convolution: running custom example 2B\n",
    "\n",
    "`spect_instrum = {'custom':['RlistA']}`\n"
   ]
  },
  {
   "cell_type": "code",
   "execution_count": 50,
   "metadata": {},
   "outputs": [],
   "source": [
    "#from q3dfit.spectConvol import dispFile\n",
    "#dobj = dispFile()\n",
    "#dispObj.make_custom_dispersion([wavelen list],R=[some R list],FILENAME='custom_RlistA_disp')\n",
    "#spect_instrum = {'custom':['RlistA']}"
   ]
  },
  {
   "cell_type": "markdown",
   "metadata": {},
   "source": [
    "#### 1.2.2 Continuum  parameters <a class=\"anchor\" id=\"chapter1_2_2\"></a>"
   ]
  },
  {
   "cell_type": "markdown",
   "metadata": {},
   "source": [
    "`q3dfit` first masks emission lines before fitting. This sets is the default mask value in km/s for each velocity component for the first fit. During the second fit, the mask value is set automatically using the best-fit linewidths determined from the first fit."
   ]
  },
  {
   "cell_type": "code",
   "execution_count": 51,
   "metadata": {},
   "outputs": [],
   "source": [
    "maskwidths_def = 1000."
   ]
  },
  {
   "cell_type": "markdown",
   "metadata": {},
   "source": [
    "The continuum fitting parameters specified here are for the case of general MIR fitting."
   ]
  },
  {
   "cell_type": "code",
   "execution_count": 52,
   "metadata": {},
   "outputs": [],
   "source": [
    "fcncontfit = 'questfit'\n",
    "argscontfit = dict()\n",
    "argscontfit['config_file'] = cfinfile\n",
    "argscontfit['outdir'] = outdir\n",
    "argscontfit['plot_decomp'] = True"
   ]
  },
  {
   "cell_type": "markdown",
   "metadata": {},
   "source": [
    "The mid-IR continuum fitting includes features that depend on redshift. These are specified as \"stellar\" redshift for compatibility with stellar template fitting, even though they refer in this case to the redshift of the mid-IR dust features."
   ]
  },
  {
   "cell_type": "code",
   "execution_count": 53,
   "metadata": {},
   "outputs": [],
   "source": [
    "zinit_stars = np.full((ncols,nrows),0.0163)"
   ]
  },
  {
   "cell_type": "markdown",
   "metadata": {},
   "source": [
    "### 1.3. Setting up the plotting and output parameters <a class=\"anchor\" id=\"chapter1_3\"></a>"
   ]
  },
  {
   "cell_type": "markdown",
   "metadata": {},
   "source": [
    "One dictionary must be defined for a line plot to appear. `argspltlin1` holds the options for the first line plot, and `argspltlin2` is for the second. Parameter options are fed in as keyword/data pairs.\n",
    "\n",
    "Required keywords in each dictionary:\n",
    "* `nx`: Number of subplots in the horizontal direction\n",
    "* `ny`: Number of subplots in the vertical direction\n",
    "* Options for centerting the plot:\n",
    "    - `line`: a string list of line labels\n",
    "    - `center_obs`: a float list of wavelengths of each subplot center, in the observed (plotted) frame\n",
    "    - `center_rest`: a float list of wavelengths of each subplot center, in the rest frame, which are converted to obs. frame\n",
    "\n",
    "Optional keywords:\n",
    "* `size`: float list of widths in wavelength space of each subplot; if not specified, default is 300 $Å$\n",
    "* `IR`: set to `True` to use infrared-style plot"
   ]
  },
  {
   "cell_type": "code",
   "execution_count": 54,
   "metadata": {},
   "outputs": [],
   "source": [
    "argspltlin1 = {'nx': 5,\n",
    "               'ny': 2,\n",
    "               'line': lines,\n",
    "               'size': np.zeros((10))+0.05}"
   ]
  },
  {
   "cell_type": "markdown",
   "metadata": {},
   "source": [
    "Set this input to `q3da` to specify that the quasar and host contributions should be separated in the output files."
   ]
  },
  {
   "cell_type": "code",
   "execution_count": 55,
   "metadata": {},
   "outputs": [],
   "source": [
    "decompose_qso_fit = False"
   ]
  },
  {
   "cell_type": "markdown",
   "metadata": {},
   "source": [
    "The following cell will create the initialisation structure. **Do not change anything in this cell.** "
   ]
  },
  {
   "cell_type": "code",
   "execution_count": 58,
   "metadata": {},
   "outputs": [],
   "source": [
    "q3di = {# Required pars\n",
    "        'fcninitpar': 'parinit',\n",
    "        'fitran': fitrange,\n",
    "        'infile': infile,\n",
    "        'label': config_file['source'][0].replace('.ideos','').replace('.npy', ''),\n",
    "        'lines': lines,\n",
    "        'linetie': linetie,\n",
    "        'maxncomp': maxncomp,\n",
    "        'ncomp': ncomp,\n",
    "        'outdir': outdir,\n",
    "        'zinit_stars': zinit_stars,\n",
    "        'zinit_gas': zinit_gas,\n",
    "        'zsys_gas': zsys,\n",
    "        # Optional pars\n",
    "        'argsreadcube': argscube,\n",
    "        'argscontfit': argscontfit,\n",
    "        'argspltlin1': argspltlin1,\n",
    "        'decompose_qso_fit': decompose_qso_fit,\n",
    "        'fcncheckcomp': 'checkcomp',\n",
    "        'fcncontfit': fcncontfit,\n",
    "        'maskwidths_def': maskwidths_def,\n",
    "        'logfile': logfile,\n",
    "        'siglim_gas': siglim_gas,\n",
    "        'siginit_gas': siginit_gas,\n",
    "        'spect_convol':spectres_convolve\n",
    "        }"
   ]
  },
  {
   "cell_type": "markdown",
   "metadata": {},
   "source": [
    "If you want to run `q3dfit` in batch mode, run this cell, which saves q3di to an `npy` file. In your python command line, read in file and run `q3dfit` with\n",
    "<pre><code>q3di = '/path/to/the/npy/file/q3di.npy'\n",
    "from q3dfit.q3df import q3df\n",
    "q3df(q3di,cols=cols,rows=rows)</code></pre>"
   ]
  },
  {
   "cell_type": "code",
   "execution_count": 59,
   "metadata": {},
   "outputs": [],
   "source": [
    "q3di_npy = 'q3di.npy'\n",
    "np.save(initdir+q3di_npy,q3di)"
   ]
  },
  {
   "cell_type": "markdown",
   "metadata": {},
   "source": [
    "## 2. Run fitting and plotting routines <a class=\"anchor\" id=\"chapter2\"></a>"
   ]
  },
  {
   "cell_type": "code",
   "execution_count": null,
   "metadata": {},
   "outputs": [],
   "source": [
    "from q3dfit.q3df import q3df\n",
    "from q3dfit.q3da import q3da"
   ]
  },
  {
   "cell_type": "markdown",
   "metadata": {},
   "source": [
    "Choose columns and rows to fit. Ranges are specified as two-element lists specifying the first and last spaxel."
   ]
  },
  {
   "cell_type": "code",
   "execution_count": null,
   "metadata": {},
   "outputs": [],
   "source": [
    "cols = 23\n",
    "rows = 24"
   ]
  },
  {
   "cell_type": "markdown",
   "metadata": {},
   "source": [
    "Run the fit. Choose `quiet=False` for verbose output. An output dictionary for each spaxel is saved to a numpy binary file labeled with prefix `q3di['label']` and suffix `_col_row.npy`."
   ]
  },
  {
   "cell_type": "code",
   "execution_count": null,
   "metadata": {},
   "outputs": [],
   "source": [
    "q3df(q3di, cols=cols, rows=rows, quiet=False)"
   ]
  },
  {
   "cell_type": "markdown",
   "metadata": {},
   "source": [
    "Plot the results. The resulting plots are saved as `.jpg` files. Data from multiple spaxels are collated into dictionaries containing emission-line and continuum best-fit parameters and saved to various ancillary files."
   ]
  },
  {
   "cell_type": "markdown",
   "metadata": {},
   "source": [
    "<h5><font color='red'> Warning: The QSO-host decomposition plotted in this section is still in development and not fit for scientific purposes. The results will be strongly affected by the spatial distribution of the PSF. </font></h5>"
   ]
  },
  {
   "cell_type": "code",
   "execution_count": null,
   "metadata": {
    "scrolled": false
   },
   "outputs": [],
   "source": [
    "q3da(q3di, cols=cols, rows=rows)"
   ]
  }
 ],
 "metadata": {
  "kernelspec": {
   "display_name": "Python 3 (ipykernel)",
   "language": "python",
   "name": "python3"
  },
  "language_info": {
   "codemirror_mode": {
    "name": "ipython",
    "version": 3
   },
   "file_extension": ".py",
   "mimetype": "text/x-python",
   "name": "python",
   "nbconvert_exporter": "python",
   "pygments_lexer": "ipython3",
   "version": "3.8.13"
  }
 },
 "nbformat": 4,
 "nbformat_minor": 4
}
