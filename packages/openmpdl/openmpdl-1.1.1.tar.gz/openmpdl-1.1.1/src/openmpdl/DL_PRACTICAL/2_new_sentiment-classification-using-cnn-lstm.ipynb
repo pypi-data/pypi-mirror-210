{
 "cells": [
  {
   "cell_type": "markdown",
   "id": "44808414",
   "metadata": {
    "papermill": {
     "duration": 0.010844,
     "end_time": "2023-03-14T11:24:03.539003",
     "exception": false,
     "start_time": "2023-03-14T11:24:03.528159",
     "status": "completed"
    },
    "tags": []
   },
   "source": [
    "## Importing Libraries\n",
    "---"
   ]
  },
  {
   "cell_type": "code",
   "execution_count": 1,
   "id": "f1b534c9",
   "metadata": {
    "execution": {
     "iopub.execute_input": "2023-03-14T11:24:03.560969Z",
     "iopub.status.busy": "2023-03-14T11:24:03.560482Z",
     "iopub.status.idle": "2023-03-14T11:24:12.299254Z",
     "shell.execute_reply": "2023-03-14T11:24:12.298136Z"
    },
    "papermill": {
     "duration": 8.752995,
     "end_time": "2023-03-14T11:24:12.301891",
     "exception": false,
     "start_time": "2023-03-14T11:24:03.548896",
     "status": "completed"
    },
    "tags": []
   },
   "outputs": [],
   "source": [
    "import pandas as pd\n",
    "import numpy as np\n",
    "import matplotlib.pyplot as plt\n",
    "import seaborn as sns\n",
    "import tensorflow as tf\n",
    "\n",
    "pd.set_option('display.max_colwidth', None)"
   ]
  },
  {
   "cell_type": "code",
   "execution_count": 2,
   "id": "2da4abf5",
   "metadata": {
    "_cell_guid": "b1076dfc-b9ad-4769-8c92-a6c4dae69d19",
    "_uuid": "8f2839f25d086af736a60e9eeb907d3b93b6e0e5",
    "execution": {
     "iopub.execute_input": "2023-03-14T11:24:12.323975Z",
     "iopub.status.busy": "2023-03-14T11:24:12.322536Z",
     "iopub.status.idle": "2023-03-14T11:24:13.835212Z",
     "shell.execute_reply": "2023-03-14T11:24:13.834185Z"
    },
    "papermill": {
     "duration": 1.525944,
     "end_time": "2023-03-14T11:24:13.837779",
     "exception": false,
     "start_time": "2023-03-14T11:24:12.311835",
     "status": "completed"
    },
    "tags": []
   },
   "outputs": [
    {
     "data": {
      "text/html": [
       "<div>\n",
       "<style scoped>\n",
       "    .dataframe tbody tr th:only-of-type {\n",
       "        vertical-align: middle;\n",
       "    }\n",
       "\n",
       "    .dataframe tbody tr th {\n",
       "        vertical-align: top;\n",
       "    }\n",
       "\n",
       "    .dataframe thead th {\n",
       "        text-align: right;\n",
       "    }\n",
       "</style>\n",
       "<table border=\"1\" class=\"dataframe\">\n",
       "  <thead>\n",
       "    <tr style=\"text-align: right;\">\n",
       "      <th></th>\n",
       "      <th>review</th>\n",
       "      <th>sentiment</th>\n",
       "    </tr>\n",
       "  </thead>\n",
       "  <tbody>\n",
       "    <tr>\n",
       "      <th>0</th>\n",
       "      <td>One of the other reviewers has mentioned that after watching just 1 Oz episode you'll be hooked. They are right, as this is exactly what happened with me.&lt;br /&gt;&lt;br /&gt;The first thing that struck me about Oz was its brutality and unflinching scenes of violence, which set in right from the word GO. Trust me, this is not a show for the faint hearted or timid. This show pulls no punches with regards to drugs, sex or violence. Its is hardcore, in the classic use of the word.&lt;br /&gt;&lt;br /&gt;It is called OZ as that is the nickname given to the Oswald Maximum Security State Penitentary. It focuses mainly on Emerald City, an experimental section of the prison where all the cells have glass fronts and face inwards, so privacy is not high on the agenda. Em City is home to many..Aryans, Muslims, gangstas, Latinos, Christians, Italians, Irish and more....so scuffles, death stares, dodgy dealings and shady agreements are never far away.&lt;br /&gt;&lt;br /&gt;I would say the main appeal of the show is due to the fact that it goes where other shows wouldn't dare. Forget pretty pictures painted for mainstream audiences, forget charm, forget romance...OZ doesn't mess around. The first episode I ever saw struck me as so nasty it was surreal, I couldn't say I was ready for it, but as I watched more, I developed a taste for Oz, and got accustomed to the high levels of graphic violence. Not just violence, but injustice (crooked guards who'll be sold out for a nickel, inmates who'll kill on order and get away with it, well mannered, middle class inmates being turned into prison bitches due to their lack of street skills or prison experience) Watching Oz, you may become comfortable with what is uncomfortable viewing....thats if you can get in touch with your darker side.</td>\n",
       "      <td>positive</td>\n",
       "    </tr>\n",
       "    <tr>\n",
       "      <th>1</th>\n",
       "      <td>A wonderful little production. &lt;br /&gt;&lt;br /&gt;The filming technique is very unassuming- very old-time-BBC fashion and gives a comforting, and sometimes discomforting, sense of realism to the entire piece. &lt;br /&gt;&lt;br /&gt;The actors are extremely well chosen- Michael Sheen not only \"has got all the polari\" but he has all the voices down pat too! You can truly see the seamless editing guided by the references to Williams' diary entries, not only is it well worth the watching but it is a terrificly written and performed piece. A masterful production about one of the great master's of comedy and his life. &lt;br /&gt;&lt;br /&gt;The realism really comes home with the little things: the fantasy of the guard which, rather than use the traditional 'dream' techniques remains solid then disappears. It plays on our knowledge and our senses, particularly with the scenes concerning Orton and Halliwell and the sets (particularly of their flat with Halliwell's murals decorating every surface) are terribly well done.</td>\n",
       "      <td>positive</td>\n",
       "    </tr>\n",
       "    <tr>\n",
       "      <th>2</th>\n",
       "      <td>I thought this was a wonderful way to spend time on a too hot summer weekend, sitting in the air conditioned theater and watching a light-hearted comedy. The plot is simplistic, but the dialogue is witty and the characters are likable (even the well bread suspected serial killer). While some may be disappointed when they realize this is not Match Point 2: Risk Addiction, I thought it was proof that Woody Allen is still fully in control of the style many of us have grown to love.&lt;br /&gt;&lt;br /&gt;This was the most I'd laughed at one of Woody's comedies in years (dare I say a decade?). While I've never been impressed with Scarlet Johanson, in this she managed to tone down her \"sexy\" image and jumped right into a average, but spirited young woman.&lt;br /&gt;&lt;br /&gt;This may not be the crown jewel of his career, but it was wittier than \"Devil Wears Prada\" and more interesting than \"Superman\" a great comedy to go see with friends.</td>\n",
       "      <td>positive</td>\n",
       "    </tr>\n",
       "    <tr>\n",
       "      <th>3</th>\n",
       "      <td>Basically there's a family where a little boy (Jake) thinks there's a zombie in his closet &amp; his parents are fighting all the time.&lt;br /&gt;&lt;br /&gt;This movie is slower than a soap opera... and suddenly, Jake decides to become Rambo and kill the zombie.&lt;br /&gt;&lt;br /&gt;OK, first of all when you're going to make a film you must Decide if its a thriller or a drama! As a drama the movie is watchable. Parents are divorcing &amp; arguing like in real life. And then we have Jake with his closet which totally ruins all the film! I expected to see a BOOGEYMAN similar movie, and instead i watched a drama with some meaningless thriller spots.&lt;br /&gt;&lt;br /&gt;3 out of 10 just for the well playing parents &amp; descent dialogs. As for the shots with Jake: just ignore them.</td>\n",
       "      <td>negative</td>\n",
       "    </tr>\n",
       "    <tr>\n",
       "      <th>4</th>\n",
       "      <td>Petter Mattei's \"Love in the Time of Money\" is a visually stunning film to watch. Mr. Mattei offers us a vivid portrait about human relations. This is a movie that seems to be telling us what money, power and success do to people in the different situations we encounter. &lt;br /&gt;&lt;br /&gt;This being a variation on the Arthur Schnitzler's play about the same theme, the director transfers the action to the present time New York where all these different characters meet and connect. Each one is connected in one way, or another to the next person, but no one seems to know the previous point of contact. Stylishly, the film has a sophisticated luxurious look. We are taken to see how these people live and the world they live in their own habitat.&lt;br /&gt;&lt;br /&gt;The only thing one gets out of all these souls in the picture is the different stages of loneliness each one inhabits. A big city is not exactly the best place in which human relations find sincere fulfillment, as one discerns is the case with most of the people we encounter.&lt;br /&gt;&lt;br /&gt;The acting is good under Mr. Mattei's direction. Steve Buscemi, Rosario Dawson, Carol Kane, Michael Imperioli, Adrian Grenier, and the rest of the talented cast, make these characters come alive.&lt;br /&gt;&lt;br /&gt;We wish Mr. Mattei good luck and await anxiously for his next work.</td>\n",
       "      <td>positive</td>\n",
       "    </tr>\n",
       "  </tbody>\n",
       "</table>\n",
       "</div>"
      ],
      "text/plain": [
       "                                                                                                                                                                                                                                                                                                                                                                                                                                                                                                                                                                                                                                                                                                                                                                                                                                                                                                                                                                                                                                                                                                                                                                                                                                                                                                                                                                                                                                                                                                                                                                                                                                                                                                                                                                                                                              review  \\\n",
       "0  One of the other reviewers has mentioned that after watching just 1 Oz episode you'll be hooked. They are right, as this is exactly what happened with me.<br /><br />The first thing that struck me about Oz was its brutality and unflinching scenes of violence, which set in right from the word GO. Trust me, this is not a show for the faint hearted or timid. This show pulls no punches with regards to drugs, sex or violence. Its is hardcore, in the classic use of the word.<br /><br />It is called OZ as that is the nickname given to the Oswald Maximum Security State Penitentary. It focuses mainly on Emerald City, an experimental section of the prison where all the cells have glass fronts and face inwards, so privacy is not high on the agenda. Em City is home to many..Aryans, Muslims, gangstas, Latinos, Christians, Italians, Irish and more....so scuffles, death stares, dodgy dealings and shady agreements are never far away.<br /><br />I would say the main appeal of the show is due to the fact that it goes where other shows wouldn't dare. Forget pretty pictures painted for mainstream audiences, forget charm, forget romance...OZ doesn't mess around. The first episode I ever saw struck me as so nasty it was surreal, I couldn't say I was ready for it, but as I watched more, I developed a taste for Oz, and got accustomed to the high levels of graphic violence. Not just violence, but injustice (crooked guards who'll be sold out for a nickel, inmates who'll kill on order and get away with it, well mannered, middle class inmates being turned into prison bitches due to their lack of street skills or prison experience) Watching Oz, you may become comfortable with what is uncomfortable viewing....thats if you can get in touch with your darker side.   \n",
       "1                                                                                                                                                                                                                                                                                                                                                                                                                                                                                                                                                                                                                                                                                                                                                                                             A wonderful little production. <br /><br />The filming technique is very unassuming- very old-time-BBC fashion and gives a comforting, and sometimes discomforting, sense of realism to the entire piece. <br /><br />The actors are extremely well chosen- Michael Sheen not only \"has got all the polari\" but he has all the voices down pat too! You can truly see the seamless editing guided by the references to Williams' diary entries, not only is it well worth the watching but it is a terrificly written and performed piece. A masterful production about one of the great master's of comedy and his life. <br /><br />The realism really comes home with the little things: the fantasy of the guard which, rather than use the traditional 'dream' techniques remains solid then disappears. It plays on our knowledge and our senses, particularly with the scenes concerning Orton and Halliwell and the sets (particularly of their flat with Halliwell's murals decorating every surface) are terribly well done.   \n",
       "2                                                                                                                                                                                                                                                                                                                                                                                                                                                                                                                                                                                                                                                                                                                                                                                                                                                                     I thought this was a wonderful way to spend time on a too hot summer weekend, sitting in the air conditioned theater and watching a light-hearted comedy. The plot is simplistic, but the dialogue is witty and the characters are likable (even the well bread suspected serial killer). While some may be disappointed when they realize this is not Match Point 2: Risk Addiction, I thought it was proof that Woody Allen is still fully in control of the style many of us have grown to love.<br /><br />This was the most I'd laughed at one of Woody's comedies in years (dare I say a decade?). While I've never been impressed with Scarlet Johanson, in this she managed to tone down her \"sexy\" image and jumped right into a average, but spirited young woman.<br /><br />This may not be the crown jewel of his career, but it was wittier than \"Devil Wears Prada\" and more interesting than \"Superman\" a great comedy to go see with friends.   \n",
       "3                                                                                                                                                                                                                                                                                                                                                                                                                                                                                                                                                                                                                                                                                                                                                                                                                                                                                                                                                                                                                                                       Basically there's a family where a little boy (Jake) thinks there's a zombie in his closet & his parents are fighting all the time.<br /><br />This movie is slower than a soap opera... and suddenly, Jake decides to become Rambo and kill the zombie.<br /><br />OK, first of all when you're going to make a film you must Decide if its a thriller or a drama! As a drama the movie is watchable. Parents are divorcing & arguing like in real life. And then we have Jake with his closet which totally ruins all the film! I expected to see a BOOGEYMAN similar movie, and instead i watched a drama with some meaningless thriller spots.<br /><br />3 out of 10 just for the well playing parents & descent dialogs. As for the shots with Jake: just ignore them.   \n",
       "4                                                                                                                                                                                                                                                                                                                                                                                                                                                              Petter Mattei's \"Love in the Time of Money\" is a visually stunning film to watch. Mr. Mattei offers us a vivid portrait about human relations. This is a movie that seems to be telling us what money, power and success do to people in the different situations we encounter. <br /><br />This being a variation on the Arthur Schnitzler's play about the same theme, the director transfers the action to the present time New York where all these different characters meet and connect. Each one is connected in one way, or another to the next person, but no one seems to know the previous point of contact. Stylishly, the film has a sophisticated luxurious look. We are taken to see how these people live and the world they live in their own habitat.<br /><br />The only thing one gets out of all these souls in the picture is the different stages of loneliness each one inhabits. A big city is not exactly the best place in which human relations find sincere fulfillment, as one discerns is the case with most of the people we encounter.<br /><br />The acting is good under Mr. Mattei's direction. Steve Buscemi, Rosario Dawson, Carol Kane, Michael Imperioli, Adrian Grenier, and the rest of the talented cast, make these characters come alive.<br /><br />We wish Mr. Mattei good luck and await anxiously for his next work.   \n",
       "\n",
       "  sentiment  \n",
       "0  positive  \n",
       "1  positive  \n",
       "2  positive  \n",
       "3  negative  \n",
       "4  positive  "
      ]
     },
     "execution_count": 2,
     "metadata": {},
     "output_type": "execute_result"
    }
   ],
   "source": [
    "df = pd.read_csv(\"IMDB Dataset.csv\")\n",
    "df.head()"
   ]
  },
  {
   "cell_type": "code",
   "execution_count": 3,
   "id": "c7b46e44",
   "metadata": {
    "execution": {
     "iopub.execute_input": "2023-03-14T11:24:13.900321Z",
     "iopub.status.busy": "2023-03-14T11:24:13.900008Z",
     "iopub.status.idle": "2023-03-14T11:24:13.906374Z",
     "shell.execute_reply": "2023-03-14T11:24:13.905236Z"
    },
    "papermill": {
     "duration": 0.019992,
     "end_time": "2023-03-14T11:24:13.908667",
     "exception": false,
     "start_time": "2023-03-14T11:24:13.888675",
     "status": "completed"
    },
    "tags": []
   },
   "outputs": [
    {
     "data": {
      "text/plain": [
       "(50000, 2)"
      ]
     },
     "execution_count": 3,
     "metadata": {},
     "output_type": "execute_result"
    }
   ],
   "source": [
    "df.shape"
   ]
  },
  {
   "cell_type": "code",
   "execution_count": 4,
   "id": "7c1545d7",
   "metadata": {},
   "outputs": [
    {
     "data": {
      "text/plain": [
       "<AxesSubplot: xlabel='sentiment', ylabel='count'>"
      ]
     },
     "execution_count": 4,
     "metadata": {},
     "output_type": "execute_result"
    },
    {
     "data": {
      "image/png": "[encoded data removed]",
      "text/plain": [
       "<Figure size 640x480 with 1 Axes>"
      ]
     },
     "metadata": {},
     "output_type": "display_data"
    }
   ],
   "source": [
    "import seaborn as sns\n",
    "sns.countplot(df,x=df.sentiment)"
   ]
  },
  {
   "cell_type": "code",
   "execution_count": 5,
   "id": "b8fbeea7",
   "metadata": {
    "execution": {
     "iopub.execute_input": "2023-03-14T11:24:13.930326Z",
     "iopub.status.busy": "2023-03-14T11:24:13.929946Z",
     "iopub.status.idle": "2023-03-14T11:24:14.020318Z",
     "shell.execute_reply": "2023-03-14T11:24:14.019244Z"
    },
    "papermill": {
     "duration": 0.103776,
     "end_time": "2023-03-14T11:24:14.022547",
     "exception": false,
     "start_time": "2023-03-14T11:24:13.918771",
     "status": "completed"
    },
    "tags": []
   },
   "outputs": [
    {
     "data": {
      "text/html": [
       "<div>\n",
       "<style scoped>\n",
       "    .dataframe tbody tr th:only-of-type {\n",
       "        vertical-align: middle;\n",
       "    }\n",
       "\n",
       "    .dataframe tbody tr th {\n",
       "        vertical-align: top;\n",
       "    }\n",
       "\n",
       "    .dataframe thead th {\n",
       "        text-align: right;\n",
       "    }\n",
       "</style>\n",
       "<table border=\"1\" class=\"dataframe\">\n",
       "  <thead>\n",
       "    <tr style=\"text-align: right;\">\n",
       "      <th></th>\n",
       "      <th>review</th>\n",
       "      <th>sentiment</th>\n",
       "    </tr>\n",
       "  </thead>\n",
       "  <tbody>\n",
       "    <tr>\n",
       "      <th>count</th>\n",
       "      <td>50000</td>\n",
       "      <td>50000</td>\n",
       "    </tr>\n",
       "    <tr>\n",
       "      <th>unique</th>\n",
       "      <td>49582</td>\n",
       "      <td>2</td>\n",
       "    </tr>\n",
       "    <tr>\n",
       "      <th>top</th>\n",
       "      <td>Loved today's show!!! It was a variety and not solely cooking (which would have been great too). Very stimulating and captivating, always keeping the viewer peeking around the corner to see what was coming up next. She is as down to earth and as personable as you get, like one of us which made the show all the more enjoyable. Special guests, who are friends as well made for a nice surprise too. Loved the 'first' theme and that the audience was invited to play along too. I must admit I was shocked to see her come in under her time limits on a few things, but she did it and by golly I'll be writing those recipes down. Saving time in the kitchen means more time with family. Those who haven't tuned in yet, find out what channel and the time, I assure you that you won't be disappointed.</td>\n",
       "      <td>positive</td>\n",
       "    </tr>\n",
       "    <tr>\n",
       "      <th>freq</th>\n",
       "      <td>5</td>\n",
       "      <td>25000</td>\n",
       "    </tr>\n",
       "  </tbody>\n",
       "</table>\n",
       "</div>"
      ],
      "text/plain": [
       "                                                                                                                                                                                                                                                                                                                                                                                                                                                                                                                                                                                                                                                                                                                                                                                                                          review  \\\n",
       "count                                                                                                                                                                                                                                                                                                                                                                                                                                                                                                                                                                                                                                                                                                                                                                                                                      50000   \n",
       "unique                                                                                                                                                                                                                                                                                                                                                                                                                                                                                                                                                                                                                                                                                                                                                                                                                     49582   \n",
       "top     Loved today's show!!! It was a variety and not solely cooking (which would have been great too). Very stimulating and captivating, always keeping the viewer peeking around the corner to see what was coming up next. She is as down to earth and as personable as you get, like one of us which made the show all the more enjoyable. Special guests, who are friends as well made for a nice surprise too. Loved the 'first' theme and that the audience was invited to play along too. I must admit I was shocked to see her come in under her time limits on a few things, but she did it and by golly I'll be writing those recipes down. Saving time in the kitchen means more time with family. Those who haven't tuned in yet, find out what channel and the time, I assure you that you won't be disappointed.   \n",
       "freq                                                                                                                                                                                                                                                                                                                                                                                                                                                                                                                                                                                                                                                                                                                                                                                                                           5   \n",
       "\n",
       "       sentiment  \n",
       "count      50000  \n",
       "unique         2  \n",
       "top     positive  \n",
       "freq       25000  "
      ]
     },
     "execution_count": 5,
     "metadata": {},
     "output_type": "execute_result"
    }
   ],
   "source": [
    "df.describe()"
   ]
  },
  {
   "cell_type": "code",
   "execution_count": 6,
   "id": "b8cbe8b9",
   "metadata": {
    "execution": {
     "iopub.execute_input": "2023-03-14T11:24:14.045821Z",
     "iopub.status.busy": "2023-03-14T11:24:14.044872Z",
     "iopub.status.idle": "2023-03-14T11:24:14.054849Z",
     "shell.execute_reply": "2023-03-14T11:24:14.053765Z"
    },
    "papermill": {
     "duration": 0.02433,
     "end_time": "2023-03-14T11:24:14.057644",
     "exception": false,
     "start_time": "2023-03-14T11:24:14.033314",
     "status": "completed"
    },
    "tags": []
   },
   "outputs": [
    {
     "data": {
      "text/plain": [
       "positive    25000\n",
       "negative    25000\n",
       "Name: sentiment, dtype: int64"
      ]
     },
     "execution_count": 6,
     "metadata": {},
     "output_type": "execute_result"
    }
   ],
   "source": [
    "df['sentiment'].value_counts()"
   ]
  },
  {
   "cell_type": "markdown",
   "id": "a2ee2240",
   "metadata": {
    "papermill": {
     "duration": 0.010517,
     "end_time": "2023-03-14T11:24:14.148751",
     "exception": false,
     "start_time": "2023-03-14T11:24:14.138234",
     "status": "completed"
    },
    "tags": []
   },
   "source": [
    "Checking for duplicates"
   ]
  },
  {
   "cell_type": "code",
   "execution_count": 7,
   "id": "14597fa5",
   "metadata": {
    "execution": {
     "iopub.execute_input": "2023-03-14T11:24:14.172271Z",
     "iopub.status.busy": "2023-03-14T11:24:14.171943Z",
     "iopub.status.idle": "2023-03-14T11:24:14.349761Z",
     "shell.execute_reply": "2023-03-14T11:24:14.348597Z"
    },
    "papermill": {
     "duration": 0.193368,
     "end_time": "2023-03-14T11:24:14.353141",
     "exception": false,
     "start_time": "2023-03-14T11:24:14.159773",
     "status": "completed"
    },
    "scrolled": true,
    "tags": []
   },
   "outputs": [
    {
     "name": "stdout",
     "output_type": "stream",
     "text": [
      "Number of Duplicates in the Data: 418\n",
      "Number of Nulls in the Data: \n",
      " review       0\n",
      "sentiment    0\n",
      "dtype: int64\n"
     ]
    }
   ],
   "source": [
    "print(f\"Number of Duplicates in the Data: {df.duplicated().sum()}\")\n",
    "print(f\"Number of Nulls in the Data: \\n {df.isnull().sum()}\")"
   ]
  },
  {
   "cell_type": "code",
   "execution_count": 34,
   "id": "d8ff2562",
   "metadata": {
    "scrolled": true
   },
   "outputs": [
    {
     "name": "stderr",
     "output_type": "stream",
     "text": [
      "C:\\Users\\ORIONORIGINAL\\AppData\\Local\\Programs\\Python\\Python310\\lib\\site-packages\\bs4\\__init__.py:435: MarkupResemblesLocatorWarning: The input looks more like a filename than markup. You may want to open this file and pass the filehandle into Beautiful Soup.\n",
      "  warnings.warn(\n"
     ]
    }
   ],
   "source": [
    "from nltk.corpus import stopwords\n",
    "from wordcloud import WordCloud,STOPWORDS\n",
    "from nltk.stem import WordNetLemmatizer\n",
    "from nltk.tokenize import word_tokenize\n",
    "import re, string, unicodedata\n",
    "from bs4 import BeautifulSoup\n",
    "\n",
    "stop = set(stopwords.words('english'))\n",
    "# print(stop)\n",
    "punctuations = list(string.punctuation)\n",
    "stop.update(punctuations)\n",
    "\n",
    "def strip_html(text):\n",
    "    soup = BeautifulSoup(text, \"html.parser\")\n",
    "    return soup.get_text()\n",
    "\n",
    "#Removing the square brackets\n",
    "def remove_between_square_brackets(text):\n",
    "    return re.sub('\\[[^]]*\\]', '', text)\n",
    "\n",
    "# Removing URL's\n",
    "def remove_between_square_brackets(text):\n",
    "    return re.sub(r'http\\S+', '', text)\n",
    "\n",
    "#Removing the stopwords from text\n",
    "def remove_stopwords(text):\n",
    "    final_text = []\n",
    "    for i in text.split():\n",
    "        if i.strip().lower() not in stop and i.strip().lower().isalpha():\n",
    "            final_text.append(i.strip().lower())\n",
    "    return \" \".join(final_text)\n",
    "\n",
    "#Removing the noisy text\n",
    "def denoise_text(text):\n",
    "    text = strip_html(text)\n",
    "    text = remove_between_square_brackets(text)\n",
    "    text = remove_stopwords(text)\n",
    "    return text\n",
    "\n",
    "# Applying function on review column\n",
    "df['review'] = df['review'].apply(denoise_text)"
   ]
  },
  {
   "cell_type": "code",
   "execution_count": 36,
   "id": "11e7291f",
   "metadata": {},
   "outputs": [
    {
     "data": {
      "text/html": [
       "<div>\n",
       "<style scoped>\n",
       "    .dataframe tbody tr th:only-of-type {\n",
       "        vertical-align: middle;\n",
       "    }\n",
       "\n",
       "    .dataframe tbody tr th {\n",
       "        vertical-align: top;\n",
       "    }\n",
       "\n",
       "    .dataframe thead th {\n",
       "        text-align: right;\n",
       "    }\n",
       "</style>\n",
       "<table border=\"1\" class=\"dataframe\">\n",
       "  <thead>\n",
       "    <tr style=\"text-align: right;\">\n",
       "      <th></th>\n",
       "      <th>review</th>\n",
       "      <th>sentiment</th>\n",
       "      <th>sentiment LabelEncoder</th>\n",
       "    </tr>\n",
       "  </thead>\n",
       "  <tbody>\n",
       "    <tr>\n",
       "      <th>0</th>\n",
       "      <td>one reviewers mentioned watching oz episode exactly happened first thing struck oz brutality unflinching scenes set right word trust show faint hearted show pulls punches regards sex classic use called oz nickname given oswald maximum security state focuses mainly emerald experimental section prison cells glass fronts face privacy high em city home irish death dodgy dealings shady agreements never far would say main appeal show due fact goes shows forget pretty pictures painted mainstream forget forget mess first episode ever saw struck nasty say ready watched developed taste got accustomed high levels graphic injustice guards sold inmates kill order get away well middle class inmates turned prison bitches due lack street skills prison watching may become comfortable uncomfortable get touch darker</td>\n",
       "      <td>positive</td>\n",
       "      <td>1</td>\n",
       "    </tr>\n",
       "    <tr>\n",
       "      <th>1</th>\n",
       "      <td>wonderful little filming technique fashion gives sometimes sense realism entire actors extremely well michael sheen got voices pat truly see seamless editing guided references diary well worth watching terrificly written performed masterful production one great comedy realism really comes home little fantasy guard rather use traditional techniques remains solid plays knowledge particularly scenes concerning orton halliwell sets flat murals decorating every terribly well</td>\n",
       "      <td>positive</td>\n",
       "      <td>1</td>\n",
       "    </tr>\n",
       "    <tr>\n",
       "      <th>2</th>\n",
       "      <td>thought wonderful way spend time hot summer sitting air conditioned theater watching plot dialogue witty characters likable well bread suspected serial may disappointed realize match point risk thought proof woody allen still fully control style many us grown laughed one comedies years say never impressed scarlet managed tone image jumped right spirited young may crown jewel wittier wears interesting great comedy go see</td>\n",
       "      <td>positive</td>\n",
       "      <td>1</td>\n",
       "    </tr>\n",
       "    <tr>\n",
       "      <th>3</th>\n",
       "      <td>basically family little boy thinks zombie closet parents fighting movie slower soap jake decides become rambo kill first going make film must decide thriller drama movie parents divorcing arguing like real jake closet totally ruins expected see boogeyman similar instead watched drama meaningless thriller well playing parents descent shots ignore</td>\n",
       "      <td>negative</td>\n",
       "      <td>0</td>\n",
       "    </tr>\n",
       "    <tr>\n",
       "      <th>4</th>\n",
       "      <td>petter time visually stunning film mattei offers us vivid portrait human movie seems telling us power success people different situations variation arthur play director transfers action present time new york different characters meet one connected one another next one seems know previous point film sophisticated luxurious taken see people live world live thing one gets souls picture different stages loneliness one big city exactly best place human relations find sincere one discerns case people acting good steve rosario carol michael adrian rest talented make characters come wish mattei good luck await anxiously next</td>\n",
       "      <td>positive</td>\n",
       "      <td>1</td>\n",
       "    </tr>\n",
       "  </tbody>\n",
       "</table>\n",
       "</div>"
      ],
      "text/plain": [
       "                                                                                                                                                                                                                                                                                                                                                                                                                                                                                                                                                                                                                                                                                                                                                                                                                                     review  \\\n",
       "0  one reviewers mentioned watching oz episode exactly happened first thing struck oz brutality unflinching scenes set right word trust show faint hearted show pulls punches regards sex classic use called oz nickname given oswald maximum security state focuses mainly emerald experimental section prison cells glass fronts face privacy high em city home irish death dodgy dealings shady agreements never far would say main appeal show due fact goes shows forget pretty pictures painted mainstream forget forget mess first episode ever saw struck nasty say ready watched developed taste got accustomed high levels graphic injustice guards sold inmates kill order get away well middle class inmates turned prison bitches due lack street skills prison watching may become comfortable uncomfortable get touch darker   \n",
       "1                                                                                                                                                                                                                                                                                                                                                wonderful little filming technique fashion gives sometimes sense realism entire actors extremely well michael sheen got voices pat truly see seamless editing guided references diary well worth watching terrificly written performed masterful production one great comedy realism really comes home little fantasy guard rather use traditional techniques remains solid plays knowledge particularly scenes concerning orton halliwell sets flat murals decorating every terribly well   \n",
       "2                                                                                                                                                                                                                                                                                                                                                                                                   thought wonderful way spend time hot summer sitting air conditioned theater watching plot dialogue witty characters likable well bread suspected serial may disappointed realize match point risk thought proof woody allen still fully control style many us grown laughed one comedies years say never impressed scarlet managed tone image jumped right spirited young may crown jewel wittier wears interesting great comedy go see   \n",
       "3                                                                                                                                                                                                                                                                                                                                                                                                                                                                               basically family little boy thinks zombie closet parents fighting movie slower soap jake decides become rambo kill first going make film must decide thriller drama movie parents divorcing arguing like real jake closet totally ruins expected see boogeyman similar instead watched drama meaningless thriller well playing parents descent shots ignore   \n",
       "4                                                                                                                                                                                          petter time visually stunning film mattei offers us vivid portrait human movie seems telling us power success people different situations variation arthur play director transfers action present time new york different characters meet one connected one another next one seems know previous point film sophisticated luxurious taken see people live world live thing one gets souls picture different stages loneliness one big city exactly best place human relations find sincere one discerns case people acting good steve rosario carol michael adrian rest talented make characters come wish mattei good luck await anxiously next   \n",
       "\n",
       "  sentiment  sentiment LabelEncoder  \n",
       "0  positive                       1  \n",
       "1  positive                       1  \n",
       "2  positive                       1  \n",
       "3  negative                       0  \n",
       "4  positive                       1  "
      ]
     },
     "execution_count": 36,
     "metadata": {},
     "output_type": "execute_result"
    }
   ],
   "source": [
    "df.head()"
   ]
  },
  {
   "cell_type": "markdown",
   "id": "0f9ec982",
   "metadata": {
    "papermill": {
     "duration": 0.010828,
     "end_time": "2023-03-14T11:24:14.376133",
     "exception": false,
     "start_time": "2023-03-14T11:24:14.365305",
     "status": "completed"
    },
    "tags": []
   },
   "source": [
    "## Preprocessing\n",
    "---"
   ]
  },
  {
   "cell_type": "code",
   "execution_count": 37,
   "id": "3f3e7f0d",
   "metadata": {
    "execution": {
     "iopub.execute_input": "2023-03-14T11:24:14.400751Z",
     "iopub.status.busy": "2023-03-14T11:24:14.399710Z",
     "iopub.status.idle": "2023-03-14T11:24:14.405074Z",
     "shell.execute_reply": "2023-03-14T11:24:14.404123Z"
    },
    "papermill": {
     "duration": 0.019602,
     "end_time": "2023-03-14T11:24:14.407435",
     "exception": false,
     "start_time": "2023-03-14T11:24:14.387833",
     "status": "completed"
    },
    "tags": []
   },
   "outputs": [],
   "source": [
    "X = df['review']\n",
    "y = df['sentiment']"
   ]
  },
  {
   "cell_type": "markdown",
   "id": "ee48891f",
   "metadata": {
    "papermill": {
     "duration": 0.010841,
     "end_time": "2023-03-14T11:24:14.428979",
     "exception": false,
     "start_time": "2023-03-14T11:24:14.418138",
     "status": "completed"
    },
    "tags": []
   },
   "source": [
    "Label Encoding the output labels\n"
   ]
  },
  {
   "cell_type": "code",
   "execution_count": 38,
   "id": "8032c2e8",
   "metadata": {
    "execution": {
     "iopub.execute_input": "2023-03-14T11:24:14.453430Z",
     "iopub.status.busy": "2023-03-14T11:24:14.452471Z",
     "iopub.status.idle": "2023-03-14T11:24:14.659490Z",
     "shell.execute_reply": "2023-03-14T11:24:14.658370Z"
    },
    "papermill": {
     "duration": 0.224309,
     "end_time": "2023-03-14T11:24:14.663948",
     "exception": false,
     "start_time": "2023-03-14T11:24:14.439639",
     "status": "completed"
    },
    "tags": []
   },
   "outputs": [],
   "source": [
    "from sklearn.preprocessing import LabelEncoder\n",
    "le = LabelEncoder()\n",
    "y = le.fit_transform(y)"
   ]
  },
  {
   "cell_type": "code",
   "execution_count": 39,
   "id": "a44fdb17",
   "metadata": {
    "execution": {
     "iopub.execute_input": "2023-03-14T11:24:14.702057Z",
     "iopub.status.busy": "2023-03-14T11:24:14.701342Z",
     "iopub.status.idle": "2023-03-14T11:24:14.709082Z",
     "shell.execute_reply": "2023-03-14T11:24:14.708187Z"
    },
    "papermill": {
     "duration": 0.031972,
     "end_time": "2023-03-14T11:24:14.714994",
     "exception": false,
     "start_time": "2023-03-14T11:24:14.683022",
     "status": "completed"
    },
    "tags": []
   },
   "outputs": [
    {
     "data": {
      "text/plain": [
       "array([1, 1, 1, ..., 0, 0, 0])"
      ]
     },
     "execution_count": 39,
     "metadata": {},
     "output_type": "execute_result"
    }
   ],
   "source": [
    "y"
   ]
  },
  {
   "cell_type": "code",
   "execution_count": 40,
   "id": "adba606c",
   "metadata": {
    "execution": {
     "iopub.execute_input": "2023-03-14T11:24:14.749022Z",
     "iopub.status.busy": "2023-03-14T11:24:14.748202Z",
     "iopub.status.idle": "2023-03-14T11:24:14.759045Z",
     "shell.execute_reply": "2023-03-14T11:24:14.758128Z"
    },
    "papermill": {
     "duration": 0.030626,
     "end_time": "2023-03-14T11:24:14.761949",
     "exception": false,
     "start_time": "2023-03-14T11:24:14.731323",
     "status": "completed"
    },
    "tags": []
   },
   "outputs": [
    {
     "data": {
      "text/plain": [
       "array(['negative', 'positive'], dtype=object)"
      ]
     },
     "execution_count": 40,
     "metadata": {},
     "output_type": "execute_result"
    }
   ],
   "source": [
    "le.classes_ # [0, 1]"
   ]
  },
  {
   "cell_type": "code",
   "execution_count": 41,
   "id": "c1b000e3",
   "metadata": {},
   "outputs": [
    {
     "data": {
      "text/html": [
       "<div>\n",
       "<style scoped>\n",
       "    .dataframe tbody tr th:only-of-type {\n",
       "        vertical-align: middle;\n",
       "    }\n",
       "\n",
       "    .dataframe tbody tr th {\n",
       "        vertical-align: top;\n",
       "    }\n",
       "\n",
       "    .dataframe thead th {\n",
       "        text-align: right;\n",
       "    }\n",
       "</style>\n",
       "<table border=\"1\" class=\"dataframe\">\n",
       "  <thead>\n",
       "    <tr style=\"text-align: right;\">\n",
       "      <th></th>\n",
       "      <th>review</th>\n",
       "      <th>sentiment</th>\n",
       "      <th>sentiment LabelEncoder</th>\n",
       "    </tr>\n",
       "  </thead>\n",
       "  <tbody>\n",
       "    <tr>\n",
       "      <th>0</th>\n",
       "      <td>one reviewers mentioned watching oz episode exactly happened first thing struck oz brutality unflinching scenes set right word trust show faint hearted show pulls punches regards sex classic use called oz nickname given oswald maximum security state focuses mainly emerald experimental section prison cells glass fronts face privacy high em city home irish death dodgy dealings shady agreements never far would say main appeal show due fact goes shows forget pretty pictures painted mainstream forget forget mess first episode ever saw struck nasty say ready watched developed taste got accustomed high levels graphic injustice guards sold inmates kill order get away well middle class inmates turned prison bitches due lack street skills prison watching may become comfortable uncomfortable get touch darker</td>\n",
       "      <td>positive</td>\n",
       "      <td>1</td>\n",
       "    </tr>\n",
       "    <tr>\n",
       "      <th>1</th>\n",
       "      <td>wonderful little filming technique fashion gives sometimes sense realism entire actors extremely well michael sheen got voices pat truly see seamless editing guided references diary well worth watching terrificly written performed masterful production one great comedy realism really comes home little fantasy guard rather use traditional techniques remains solid plays knowledge particularly scenes concerning orton halliwell sets flat murals decorating every terribly well</td>\n",
       "      <td>positive</td>\n",
       "      <td>1</td>\n",
       "    </tr>\n",
       "    <tr>\n",
       "      <th>2</th>\n",
       "      <td>thought wonderful way spend time hot summer sitting air conditioned theater watching plot dialogue witty characters likable well bread suspected serial may disappointed realize match point risk thought proof woody allen still fully control style many us grown laughed one comedies years say never impressed scarlet managed tone image jumped right spirited young may crown jewel wittier wears interesting great comedy go see</td>\n",
       "      <td>positive</td>\n",
       "      <td>1</td>\n",
       "    </tr>\n",
       "    <tr>\n",
       "      <th>3</th>\n",
       "      <td>basically family little boy thinks zombie closet parents fighting movie slower soap jake decides become rambo kill first going make film must decide thriller drama movie parents divorcing arguing like real jake closet totally ruins expected see boogeyman similar instead watched drama meaningless thriller well playing parents descent shots ignore</td>\n",
       "      <td>negative</td>\n",
       "      <td>0</td>\n",
       "    </tr>\n",
       "    <tr>\n",
       "      <th>4</th>\n",
       "      <td>petter time visually stunning film mattei offers us vivid portrait human movie seems telling us power success people different situations variation arthur play director transfers action present time new york different characters meet one connected one another next one seems know previous point film sophisticated luxurious taken see people live world live thing one gets souls picture different stages loneliness one big city exactly best place human relations find sincere one discerns case people acting good steve rosario carol michael adrian rest talented make characters come wish mattei good luck await anxiously next</td>\n",
       "      <td>positive</td>\n",
       "      <td>1</td>\n",
       "    </tr>\n",
       "  </tbody>\n",
       "</table>\n",
       "</div>"
      ],
      "text/plain": [
       "                                                                                                                                                                                                                                                                                                                                                                                                                                                                                                                                                                                                                                                                                                                                                                                                                                     review  \\\n",
       "0  one reviewers mentioned watching oz episode exactly happened first thing struck oz brutality unflinching scenes set right word trust show faint hearted show pulls punches regards sex classic use called oz nickname given oswald maximum security state focuses mainly emerald experimental section prison cells glass fronts face privacy high em city home irish death dodgy dealings shady agreements never far would say main appeal show due fact goes shows forget pretty pictures painted mainstream forget forget mess first episode ever saw struck nasty say ready watched developed taste got accustomed high levels graphic injustice guards sold inmates kill order get away well middle class inmates turned prison bitches due lack street skills prison watching may become comfortable uncomfortable get touch darker   \n",
       "1                                                                                                                                                                                                                                                                                                                                                wonderful little filming technique fashion gives sometimes sense realism entire actors extremely well michael sheen got voices pat truly see seamless editing guided references diary well worth watching terrificly written performed masterful production one great comedy realism really comes home little fantasy guard rather use traditional techniques remains solid plays knowledge particularly scenes concerning orton halliwell sets flat murals decorating every terribly well   \n",
       "2                                                                                                                                                                                                                                                                                                                                                                                                   thought wonderful way spend time hot summer sitting air conditioned theater watching plot dialogue witty characters likable well bread suspected serial may disappointed realize match point risk thought proof woody allen still fully control style many us grown laughed one comedies years say never impressed scarlet managed tone image jumped right spirited young may crown jewel wittier wears interesting great comedy go see   \n",
       "3                                                                                                                                                                                                                                                                                                                                                                                                                                                                               basically family little boy thinks zombie closet parents fighting movie slower soap jake decides become rambo kill first going make film must decide thriller drama movie parents divorcing arguing like real jake closet totally ruins expected see boogeyman similar instead watched drama meaningless thriller well playing parents descent shots ignore   \n",
       "4                                                                                                                                                                                          petter time visually stunning film mattei offers us vivid portrait human movie seems telling us power success people different situations variation arthur play director transfers action present time new york different characters meet one connected one another next one seems know previous point film sophisticated luxurious taken see people live world live thing one gets souls picture different stages loneliness one big city exactly best place human relations find sincere one discerns case people acting good steve rosario carol michael adrian rest talented make characters come wish mattei good luck await anxiously next   \n",
       "\n",
       "  sentiment  sentiment LabelEncoder  \n",
       "0  positive                       1  \n",
       "1  positive                       1  \n",
       "2  positive                       1  \n",
       "3  negative                       0  \n",
       "4  positive                       1  "
      ]
     },
     "execution_count": 41,
     "metadata": {},
     "output_type": "execute_result"
    }
   ],
   "source": [
    "df['sentiment LabelEncoder']=y\n",
    "df.head()"
   ]
  },
  {
   "cell_type": "markdown",
   "id": "67622cd1",
   "metadata": {
    "papermill": {
     "duration": 0.01593,
     "end_time": "2023-03-14T11:24:14.794393",
     "exception": false,
     "start_time": "2023-03-14T11:24:14.778463",
     "status": "completed"
    },
    "tags": []
   },
   "source": [
    "## Train Test Split\n",
    "---"
   ]
  },
  {
   "cell_type": "code",
   "execution_count": 42,
   "id": "05498cf9",
   "metadata": {
    "execution": {
     "iopub.execute_input": "2023-03-14T11:24:14.828585Z",
     "iopub.status.busy": "2023-03-14T11:24:14.827999Z",
     "iopub.status.idle": "2023-03-14T11:24:14.919609Z",
     "shell.execute_reply": "2023-03-14T11:24:14.918508Z"
    },
    "papermill": {
     "duration": 0.11194,
     "end_time": "2023-03-14T11:24:14.922867",
     "exception": false,
     "start_time": "2023-03-14T11:24:14.810927",
     "status": "completed"
    },
    "tags": []
   },
   "outputs": [],
   "source": [
    "from sklearn.model_selection import train_test_split\n",
    "X_train, X_test, y_train, y_test = train_test_split(X, y, test_size = 0.2)"
   ]
  },
  {
   "cell_type": "code",
   "execution_count": 43,
   "id": "65ea7d25",
   "metadata": {
    "execution": {
     "iopub.execute_input": "2023-03-14T11:24:14.962797Z",
     "iopub.status.busy": "2023-03-14T11:24:14.962395Z",
     "iopub.status.idle": "2023-03-14T11:24:14.967886Z",
     "shell.execute_reply": "2023-03-14T11:24:14.966929Z"
    },
    "papermill": {
     "duration": 0.029833,
     "end_time": "2023-03-14T11:24:14.972417",
     "exception": false,
     "start_time": "2023-03-14T11:24:14.942584",
     "status": "completed"
    },
    "tags": []
   },
   "outputs": [],
   "source": [
    "y_train = y_train.astype('float32').reshape((-1, 1))\n",
    "y_test = y_test.astype('float32').reshape((-1, 1))"
   ]
  },
  {
   "cell_type": "code",
   "execution_count": 44,
   "id": "304fe88a",
   "metadata": {
    "execution": {
     "iopub.execute_input": "2023-03-14T11:24:15.005242Z",
     "iopub.status.busy": "2023-03-14T11:24:15.004871Z",
     "iopub.status.idle": "2023-03-14T11:24:15.010733Z",
     "shell.execute_reply": "2023-03-14T11:24:15.009672Z"
    },
    "papermill": {
     "duration": 0.027968,
     "end_time": "2023-03-14T11:24:15.016332",
     "exception": false,
     "start_time": "2023-03-14T11:24:14.988364",
     "status": "completed"
    },
    "tags": []
   },
   "outputs": [
    {
     "name": "stdout",
     "output_type": "stream",
     "text": [
      "(40000,) (10000,)\n",
      "(40000, 1) (10000, 1)\n",
      "NEW\n",
      "(4000,) (1000,)\n",
      "(4000, 1) (1000, 1)\n"
     ]
    }
   ],
   "source": [
    "print(X_train.shape, X_test.shape)\n",
    "print(y_train.shape, y_test.shape)\n",
    "\n",
    "X_train=X_train.iloc[:4000]\n",
    "y_train=y_train[:4000]\n",
    "X_test= X_test.iloc[:1000]\n",
    "y_test= y_test[:1000]\n",
    "print(\"NEW\")\n",
    "print(X_train.shape, X_test.shape)\n",
    "print(y_train.shape, y_test.shape)"
   ]
  },
  {
   "cell_type": "markdown",
   "id": "8161b64a",
   "metadata": {
    "papermill": {
     "duration": 0.015501,
     "end_time": "2023-03-14T11:24:15.047641",
     "exception": false,
     "start_time": "2023-03-14T11:24:15.032140",
     "status": "completed"
    },
    "tags": []
   },
   "source": [
    "## Model Building\n",
    "---"
   ]
  },
  {
   "cell_type": "code",
   "execution_count": 45,
   "id": "8bd60041",
   "metadata": {
    "execution": {
     "iopub.execute_input": "2023-03-14T11:24:15.091395Z",
     "iopub.status.busy": "2023-03-14T11:24:15.090900Z",
     "iopub.status.idle": "2023-03-14T11:24:15.101506Z",
     "shell.execute_reply": "2023-03-14T11:24:15.100574Z"
    },
    "papermill": {
     "duration": 0.035671,
     "end_time": "2023-03-14T11:24:15.104270",
     "exception": false,
     "start_time": "2023-03-14T11:24:15.068599",
     "status": "completed"
    },
    "tags": []
   },
   "outputs": [],
   "source": [
    "from tensorflow.keras.layers import TextVectorization\n",
    "from tensorflow.keras.layers import Conv1D, Flatten, MaxPooling1D, Dense, LSTM, Embedding, Input\n",
    "from tensorflow.keras.models import Sequential\n",
    "from tensorflow.keras.regularizers import l2\n",
    "\n",
    "# max_features = 30000 # Number of words in our vocabulary\n",
    "max_len = 512 # length of the output vectors"
   ]
  },
  {
   "cell_type": "code",
   "execution_count": 46,
   "id": "cf6f91ee",
   "metadata": {
    "execution": {
     "iopub.execute_input": "2023-03-14T11:24:15.138569Z",
     "iopub.status.busy": "2023-03-14T11:24:15.138244Z",
     "iopub.status.idle": "2023-03-14T11:24:18.835202Z",
     "shell.execute_reply": "2023-03-14T11:24:18.834125Z"
    },
    "papermill": {
     "duration": 3.717296,
     "end_time": "2023-03-14T11:24:18.838098",
     "exception": false,
     "start_time": "2023-03-14T11:24:15.120802",
     "status": "completed"
    },
    "tags": []
   },
   "outputs": [],
   "source": [
    "vectorize_layer = TextVectorization(output_mode = 'int', output_sequence_length = max_len)"
   ]
  },
  {
   "cell_type": "markdown",
   "id": "11d4caf0",
   "metadata": {
    "papermill": {
     "duration": 0.010807,
     "end_time": "2023-03-14T11:24:18.860414",
     "exception": false,
     "start_time": "2023-03-14T11:24:18.849607",
     "status": "completed"
    },
    "tags": []
   },
   "source": [
    "Creating Vocabulary"
   ]
  },
  {
   "cell_type": "code",
   "execution_count": 47,
   "id": "89a7a2ae",
   "metadata": {
    "execution": {
     "iopub.execute_input": "2023-03-14T11:24:18.883597Z",
     "iopub.status.busy": "2023-03-14T11:24:18.883292Z",
     "iopub.status.idle": "2023-03-14T11:24:24.290348Z",
     "shell.execute_reply": "2023-03-14T11:24:24.288865Z"
    },
    "papermill": {
     "duration": 5.421646,
     "end_time": "2023-03-14T11:24:24.292829",
     "exception": false,
     "start_time": "2023-03-14T11:24:18.871183",
     "status": "completed"
    },
    "tags": []
   },
   "outputs": [
    {
     "name": "stdout",
     "output_type": "stream",
     "text": [
      "Wall time: 579 ms\n"
     ]
    }
   ],
   "source": [
    "%%time\n",
    "vectorize_layer.adapt(X_train) "
   ]
  },
  {
   "cell_type": "code",
   "execution_count": 48,
   "id": "eed012a1",
   "metadata": {
    "execution": {
     "iopub.execute_input": "2023-03-14T11:24:24.317364Z",
     "iopub.status.busy": "2023-03-14T11:24:24.317008Z",
     "iopub.status.idle": "2023-03-14T11:24:24.762211Z",
     "shell.execute_reply": "2023-03-14T11:24:24.761103Z"
    },
    "papermill": {
     "duration": 0.460327,
     "end_time": "2023-03-14T11:24:24.764631",
     "exception": false,
     "start_time": "2023-03-14T11:24:24.304304",
     "status": "completed"
    },
    "tags": []
   },
   "outputs": [
    {
     "data": {
      "text/plain": [
       "28684"
      ]
     },
     "execution_count": 48,
     "metadata": {},
     "output_type": "execute_result"
    }
   ],
   "source": [
    "vocab_len = len(vectorize_layer.get_vocabulary())\n",
    "vocab_len"
   ]
  },
  {
   "cell_type": "code",
   "execution_count": 49,
   "id": "e32eff40",
   "metadata": {
    "execution": {
     "iopub.execute_input": "2023-03-14T11:24:24.790254Z",
     "iopub.status.busy": "2023-03-14T11:24:24.788487Z",
     "iopub.status.idle": "2023-03-14T11:24:25.451281Z",
     "shell.execute_reply": "2023-03-14T11:24:25.450089Z"
    },
    "papermill": {
     "duration": 0.678025,
     "end_time": "2023-03-14T11:24:25.454190",
     "exception": false,
     "start_time": "2023-03-14T11:24:24.776165",
     "status": "completed"
    },
    "tags": []
   },
   "outputs": [],
   "source": [
    "model = Sequential()\n",
    "model.add(Input(shape=(1,), dtype = tf.string))\n",
    "model.add(vectorize_layer)\n",
    "model.add(Embedding(input_dim = vocab_len, output_dim = 256, input_length= max_len))\n",
    "model.add(Conv1D(32, 5, strides = 1,activation= 'relu', padding = 'same', kernel_regularizer = l2(0.0001)))\n",
    "# model.add(Conv1D(16, 5, strides = 1,activation= 'relu', padding = 'same', kernel_regularizer = l2(0.0001)))\n",
    "model.add(MaxPooling1D(4, 1, padding = 'same'))\n",
    "model.add(tf.keras.layers.Bidirectional(LSTM(64, kernel_regularizer = l2(0.0001))))\n",
    "model.add(Dense(32, activation = 'relu', kernel_regularizer = l2(0.0001)))\n",
    "model.add(Dense(16, activation = 'relu', kernel_regularizer = l2(0.0001)))\n",
    "model.add(Flatten())\n",
    "model.add(Dense(1, activation = 'sigmoid'))"
   ]
  },
  {
   "cell_type": "code",
   "execution_count": 50,
   "id": "c21f27da",
   "metadata": {
    "execution": {
     "iopub.execute_input": "2023-03-14T11:24:25.478601Z",
     "iopub.status.busy": "2023-03-14T11:24:25.478282Z",
     "iopub.status.idle": "2023-03-14T11:24:25.486217Z",
     "shell.execute_reply": "2023-03-14T11:24:25.485405Z"
    },
    "papermill": {
     "duration": 0.022763,
     "end_time": "2023-03-14T11:24:25.488561",
     "exception": false,
     "start_time": "2023-03-14T11:24:25.465798",
     "status": "completed"
    },
    "tags": []
   },
   "outputs": [],
   "source": [
    "optimizer = tf.keras.optimizers.Adam(learning_rate = 0.001)"
   ]
  },
  {
   "cell_type": "code",
   "execution_count": 51,
   "id": "ddc97f52",
   "metadata": {
    "execution": {
     "iopub.execute_input": "2023-03-14T11:24:25.512031Z",
     "iopub.status.busy": "2023-03-14T11:24:25.511752Z",
     "iopub.status.idle": "2023-03-14T11:24:25.561162Z",
     "shell.execute_reply": "2023-03-14T11:24:25.559698Z"
    },
    "papermill": {
     "duration": 0.082165,
     "end_time": "2023-03-14T11:24:25.581672",
     "exception": false,
     "start_time": "2023-03-14T11:24:25.499507",
     "status": "completed"
    },
    "tags": []
   },
   "outputs": [
    {
     "name": "stdout",
     "output_type": "stream",
     "text": [
      "Model: \"sequential_1\"\n",
      "_________________________________________________________________\n",
      " Layer (type)                Output Shape              Param #   \n",
      "=================================================================\n",
      " text_vectorization_1 (TextV  (None, 512)              0         \n",
      " ectorization)                                                   \n",
      "                                                                 \n",
      " embedding_1 (Embedding)     (None, 512, 256)          7343104   \n",
      "                                                                 \n",
      " conv1d_1 (Conv1D)           (None, 512, 32)           40992     \n",
      "                                                                 \n",
      " max_pooling1d_1 (MaxPooling  (None, 512, 32)          0         \n",
      " 1D)                                                             \n",
      "                                                                 \n",
      " bidirectional_1 (Bidirectio  (None, 128)              49664     \n",
      " nal)                                                            \n",
      "                                                                 \n",
      " dense_3 (Dense)             (None, 32)                4128      \n",
      "                                                                 \n",
      " dense_4 (Dense)             (None, 16)                528       \n",
      "                                                                 \n",
      " flatten_1 (Flatten)         (None, 16)                0         \n",
      "                                                                 \n",
      " dense_5 (Dense)             (None, 1)                 17        \n",
      "                                                                 \n",
      "=================================================================\n",
      "Total params: 7,438,433\n",
      "Trainable params: 7,438,433\n",
      "Non-trainable params: 0\n",
      "_________________________________________________________________\n"
     ]
    }
   ],
   "source": [
    "model.compile(optimizer= optimizer, loss = 'binary_crossentropy', metrics = ['accuracy'])\n",
    "model.summary()"
   ]
  },
  {
   "cell_type": "code",
   "execution_count": 52,
   "id": "864879b8",
   "metadata": {
    "_kg_hide-input": true,
    "execution": {
     "iopub.execute_input": "2023-03-14T11:24:25.611012Z",
     "iopub.status.busy": "2023-03-14T11:24:25.610130Z",
     "iopub.status.idle": "2023-03-14T11:33:51.405934Z",
     "shell.execute_reply": "2023-03-14T11:33:51.404342Z"
    },
    "papermill": {
     "duration": 565.813348,
     "end_time": "2023-03-14T11:33:51.408815",
     "exception": false,
     "start_time": "2023-03-14T11:24:25.595467",
     "status": "completed"
    },
    "scrolled": false,
    "tags": []
   },
   "outputs": [
    {
     "name": "stdout",
     "output_type": "stream",
     "text": [
      "Epoch 1/4\n",
      "125/125 [==============================] - 67s 485ms/step - loss: 0.6578 - accuracy: 0.6280 - val_loss: 0.4919 - val_accuracy: 0.7750\n",
      "Epoch 2/4\n",
      "125/125 [==============================] - 58s 467ms/step - loss: 0.2759 - accuracy: 0.8995 - val_loss: 0.5884 - val_accuracy: 0.7840\n",
      "Epoch 3/4\n",
      "125/125 [==============================] - 46s 367ms/step - loss: 0.0585 - accuracy: 0.9868 - val_loss: 0.8039 - val_accuracy: 0.7720\n",
      "Epoch 4/4\n",
      "125/125 [==============================] - 46s 365ms/step - loss: 0.0262 - accuracy: 0.9970 - val_loss: 1.0299 - val_accuracy: 0.7610\n",
      "Wall time: 3min 37s\n"
     ]
    }
   ],
   "source": [
    "%%time\n",
    "hist = model.fit(X_train, y_train,\n",
    "          epochs= 4, validation_data = (X_test, y_test))"
   ]
  },
  {
   "cell_type": "markdown",
   "id": "2e38ff83",
   "metadata": {
    "papermill": {
     "duration": 0.252693,
     "end_time": "2023-03-14T11:33:52.938408",
     "exception": false,
     "start_time": "2023-03-14T11:33:52.685715",
     "status": "completed"
    },
    "tags": []
   },
   "source": [
    "## Model Evaluation\n",
    "---"
   ]
  },
  {
   "cell_type": "markdown",
   "id": "36a03d68",
   "metadata": {
    "papermill": {
     "duration": 0.292874,
     "end_time": "2023-03-14T11:33:53.482476",
     "exception": false,
     "start_time": "2023-03-14T11:33:53.189602",
     "status": "completed"
    },
    "tags": []
   },
   "source": [
    "Plotting Model Accuracy Performance"
   ]
  },
  {
   "cell_type": "code",
   "execution_count": 53,
   "id": "7796c46c",
   "metadata": {
    "execution": {
     "iopub.execute_input": "2023-03-14T11:33:53.991443Z",
     "iopub.status.busy": "2023-03-14T11:33:53.990416Z",
     "iopub.status.idle": "2023-03-14T11:33:54.241305Z",
     "shell.execute_reply": "2023-03-14T11:33:54.240242Z"
    },
    "papermill": {
     "duration": 0.508607,
     "end_time": "2023-03-14T11:33:54.243656",
     "exception": false,
     "start_time": "2023-03-14T11:33:53.735049",
     "status": "completed"
    },
    "tags": []
   },
   "outputs": [
    {
     "data": {
      "image/png": "[encoded data removed]",
      "text/plain": [
       "<Figure size 640x480 with 1 Axes>"
      ]
     },
     "metadata": {},
     "output_type": "display_data"
    }
   ],
   "source": [
    "plt.plot(hist.history['accuracy'])\n",
    "plt.plot(hist.history['val_accuracy'])\n",
    "plt.title('Model Accuracy')\n",
    "plt.xlabel('Epoch')\n",
    "plt.ylabel('Accuracy')\n",
    "plt.legend(['train', 'val'])\n",
    "plt.show()"
   ]
  },
  {
   "cell_type": "markdown",
   "id": "725ded26",
   "metadata": {
    "papermill": {
     "duration": 0.273559,
     "end_time": "2023-03-14T11:33:56.231521",
     "exception": false,
     "start_time": "2023-03-14T11:33:55.957962",
     "status": "completed"
    },
    "tags": []
   },
   "source": [
    "## Prediction\n",
    "---"
   ]
  },
  {
   "cell_type": "code",
   "execution_count": 54,
   "id": "f280be81",
   "metadata": {
    "execution": {
     "iopub.execute_input": "2023-03-14T11:33:56.735486Z",
     "iopub.status.busy": "2023-03-14T11:33:56.734566Z",
     "iopub.status.idle": "2023-03-14T11:33:57.687219Z",
     "shell.execute_reply": "2023-03-14T11:33:57.686217Z"
    },
    "papermill": {
     "duration": 1.212811,
     "end_time": "2023-03-14T11:33:57.689485",
     "exception": false,
     "start_time": "2023-03-14T11:33:56.476674",
     "status": "completed"
    },
    "tags": []
   },
   "outputs": [
    {
     "name": "stdout",
     "output_type": "stream",
     "text": [
      "1/1 [==============================] - 1s 712ms/step\n"
     ]
    }
   ],
   "source": [
    "pred = model.predict(['''So, I'm wondering while watching this film, did the producers of this movie get to save money on Sandra Bullock's wardrobe by dragging out her \"before\" clothes from Miss Congeniality? Did Ms. Bullock also get to sleepwalk through the role by channeling the \"before\" Gracie Hart? As many reviewers have noted before, the film is very formulaic. Add to that the deja vu viewer experiences with the character of Cassie Maywether as a somewhat darker Gracie Hart with more back story and it rapidly become a snooze fest.<br /><br />The two bad boy serial killers have been done before (and better) in other films. As has the \"good guy partner trying to protect his partner despite the evidence\" character been seen before. In fact none of the characters in the film ever get beyond two dimensions or try to be anything but trite stereotypes.<br /><br />One last peeve - using the term serial killer is false advertising. Murdering one person - even if it's a premeditated murder - does not make you a serial killer. You may have the potential to become a serial killer but you are not a serial killer or even a spree killer.''',])"
   ]
  },
  {
   "cell_type": "code",
   "execution_count": 55,
   "id": "d76e9ea5",
   "metadata": {
    "execution": {
     "iopub.execute_input": "2023-03-14T11:33:58.188365Z",
     "iopub.status.busy": "2023-03-14T11:33:58.187457Z",
     "iopub.status.idle": "2023-03-14T11:33:58.194770Z",
     "shell.execute_reply": "2023-03-14T11:33:58.193540Z"
    },
    "papermill": {
     "duration": 0.259623,
     "end_time": "2023-03-14T11:33:58.196962",
     "exception": false,
     "start_time": "2023-03-14T11:33:57.937339",
     "status": "completed"
    },
    "tags": []
   },
   "outputs": [
    {
     "data": {
      "text/plain": [
       "array([[ True]])"
      ]
     },
     "execution_count": 55,
     "metadata": {},
     "output_type": "execute_result"
    }
   ],
   "source": [
    "pred > 0.5"
   ]
  },
  {
   "cell_type": "code",
   "execution_count": 56,
   "id": "1f7dd5e2",
   "metadata": {
    "execution": {
     "iopub.execute_input": "2023-03-14T11:34:00.928283Z",
     "iopub.status.busy": "2023-03-14T11:34:00.927275Z",
     "iopub.status.idle": "2023-03-14T11:34:00.933642Z",
     "shell.execute_reply": "2023-03-14T11:34:00.932479Z"
    },
    "papermill": {
     "duration": 0.266398,
     "end_time": "2023-03-14T11:34:00.935884",
     "exception": false,
     "start_time": "2023-03-14T11:34:00.669486",
     "status": "completed"
    },
    "tags": []
   },
   "outputs": [],
   "source": [
    "def predict_sentiment(text, model):\n",
    "    text = [text]\n",
    "    pred = model.predict(text)\n",
    "    print(pred)\n",
    "    if pred > 0.5:\n",
    "        return \"Positive\"\n",
    "    else:\n",
    "        return \"Negative\""
   ]
  },
  {
   "cell_type": "code",
   "execution_count": 57,
   "id": "46dfd206",
   "metadata": {
    "execution": {
     "iopub.execute_input": "2023-03-14T11:34:01.441000Z",
     "iopub.status.busy": "2023-03-14T11:34:01.440624Z",
     "iopub.status.idle": "2023-03-14T11:34:01.538370Z",
     "shell.execute_reply": "2023-03-14T11:34:01.537088Z"
    },
    "papermill": {
     "duration": 0.356542,
     "end_time": "2023-03-14T11:34:01.540926",
     "exception": false,
     "start_time": "2023-03-14T11:34:01.184384",
     "status": "completed"
    },
    "tags": []
   },
   "outputs": [
    {
     "name": "stdout",
     "output_type": "stream",
     "text": [
      "1/1 [==============================] - 0s 54ms/step\n",
      "[[0.9477252]]\n"
     ]
    },
    {
     "data": {
      "text/plain": [
       "'Positive'"
      ]
     },
     "execution_count": 57,
     "metadata": {},
     "output_type": "execute_result"
    }
   ],
   "source": [
    "pst_txt = '''One of the other reviewers has mentioned that after watching just 1 Oz episode you'll be hooked. They are right, as this is exactly what happened with me.<br /><br />The first thing that struck me about Oz was its brutality and unflinching scenes of violence, which set in right from the word GO. Trust me, this is not a show for the faint hearted or timid. This show pulls no punches with regards to drugs, sex or violence. Its is hardcore, in the classic use of the word.<br /><br />It is called OZ as that is the nickname given to the Oswald Maximum Security State Penitentary. It focuses mainly on Emerald City, an experimental section of the prison where all the cells have glass fronts and face inwards, so privacy is not high on the agenda. Em City is home to many..Aryans, Muslims, gangstas, Latinos, Christians, Italians, Irish and more....so scuffles, death stares, dodgy dealings and shady agreements are never far away.<br /><br />I would say the main appeal of the show is due to the fact that it goes where other shows wouldn't dare. Forget pretty pictures painted for mainstream audiences, forget charm, forget romance...OZ doesn't mess around. The first episode I ever saw struck me as so nasty it was surreal, I couldn't say I was ready for it, but as I watched more, I developed a taste for Oz, and got accustomed to the high levels of graphic violence. Not just violence, but injustice (crooked guards who'll be sold out for a nickel, inmates who'll kill on order and get away with it, well mannered, middle class inmates being turned into prison bitches due to their lack of street skills or prison experience) Watching Oz, you may become comfortable with what is uncomfortable viewing....thats if you can get in touch with your darker side.'''\n",
    "predict_sentiment(pst_txt, model)"
   ]
  },
  {
   "cell_type": "code",
   "execution_count": 58,
   "id": "fb93ead8",
   "metadata": {
    "execution": {
     "iopub.execute_input": "2023-03-14T11:34:02.116674Z",
     "iopub.status.busy": "2023-03-14T11:34:02.116284Z",
     "iopub.status.idle": "2023-03-14T11:34:02.209489Z",
     "shell.execute_reply": "2023-03-14T11:34:02.207696Z"
    },
    "papermill": {
     "duration": 0.355528,
     "end_time": "2023-03-14T11:34:02.212405",
     "exception": false,
     "start_time": "2023-03-14T11:34:01.856877",
     "status": "completed"
    },
    "tags": []
   },
   "outputs": [
    {
     "name": "stdout",
     "output_type": "stream",
     "text": [
      "1/1 [==============================] - 0s 54ms/step\n",
      "[[0.00742193]]\n"
     ]
    },
    {
     "data": {
      "text/plain": [
       "'Negative'"
      ]
     },
     "execution_count": 58,
     "metadata": {},
     "output_type": "execute_result"
    }
   ],
   "source": [
    "ngt_txt ='''Basically there's a family where a little boy (Jake) thinks there's a zombie in his closet & his parents are fighting all the time.<br /><br />This movie is slower than a soap opera... and suddenly, Jake decides to become Rambo and kill the zombie.<br /><br />OK, first of all when you're going to make a film you must Decide if its a thriller or a drama! As a drama the movie is watchable. Parents are divorcing & arguing like in real life. And then we have Jake with his closet which totally ruins all the film! I expected to see a BOOGEYMAN similar movie, and instead i watched a drama with some meaningless thriller spots.<br /><br />3 out of 10 just for the well playing parents & descent dialogs. As for the shots with Jake: just ignore them.'''\n",
    "predict_sentiment(ngt_txt, model)"
   ]
  },
  {
   "cell_type": "code",
   "execution_count": 59,
   "id": "23f9b17c",
   "metadata": {},
   "outputs": [
    {
     "name": "stdout",
     "output_type": "stream",
     "text": [
      "32/32 [==============================] - 3s 63ms/step\n"
     ]
    },
    {
     "data": {
      "image/png": "[encoded data removed]",
      "text/plain": [
       "<Figure size 640x480 with 2 Axes>"
      ]
     },
     "metadata": {},
     "output_type": "display_data"
    }
   ],
   "source": [
    "from sklearn.metrics import confusion_matrix\n",
    "# Confusion MAtrix \n",
    "ypred = model.predict(X_test)\n",
    "ypred = ypred>0.5\n",
    "#Get the confusion matrix\n",
    "cf_matrix = confusion_matrix(y_test, ypred)\n",
    "sns.heatmap(cf_matrix,annot = True,fmt ='g', cmap='Blues')\n",
    "plt.xlabel('Predicted label')\n",
    "plt.ylabel('True label')\n",
    "plt.show()"
   ]
  },
  {
   "cell_type": "code",
   "execution_count": null,
   "id": "eac82495",
   "metadata": {},
   "outputs": [],
   "source": []
  }
 ],
 "metadata": {
  "kernelspec": {
   "display_name": "Python 3 (ipykernel)",
   "language": "python",
   "name": "python3"
  },
  "language_info": {
   "codemirror_mode": {
    "name": "ipython",
    "version": 3
   },
   "file_extension": ".py",
   "mimetype": "text/x-python",
   "name": "python",
   "nbconvert_exporter": "python",
   "pygments_lexer": "ipython3",
   "version": "3.10.8"
  },
  "papermill": {
   "default_parameters": {},
   "duration": 639.44733,
   "end_time": "2023-03-14T11:34:33.075342",
   "environment_variables": {},
   "exception": null,
   "input_path": "__notebook__.ipynb",
   "output_path": "__notebook__.ipynb",
   "parameters": {},
   "start_time": "2023-03-14T11:23:53.628012",
   "version": "2.4.0"
  }
 },
 "nbformat": 4,
 "nbformat_minor": 5
}
