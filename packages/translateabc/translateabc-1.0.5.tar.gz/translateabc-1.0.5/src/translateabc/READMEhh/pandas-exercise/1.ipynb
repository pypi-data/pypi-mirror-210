{
 "cells": [
  {
   "cell_type": "code",
   "execution_count": null,
   "metadata": {},
   "outputs": [],
   "source": [
    "# 1如何导入pandas包并将其重命名为pd？\n",
    "import pandas as pd\n",
    "import numpy as np"
   ]
  },
  {
   "cell_type": "code",
   "execution_count": null,
   "metadata": {},
   "outputs": [],
   "source": [
    "# 2如何从CSV文件中读取数据并将其存储在名为data的DataFrame中？\n",
    "data = pd.read_csv('1.csv')\n",
    "print(data)"
   ]
  },
  {
   "cell_type": "code",
   "execution_count": null,
   "metadata": {},
   "outputs": [],
   "source": [
    "# 3如何查看DataFrame的前五行？\n",
    "d3 = data.head()\n",
    "print(d3)"
   ]
  },
  {
   "cell_type": "code",
   "execution_count": null,
   "metadata": {},
   "outputs": [],
   "source": [
    "# 4如何查看DataFrame的后三行？\n",
    "d4 = data.tail(3)\n",
    "print(d4)"
   ]
  },
  {
   "cell_type": "code",
   "execution_count": null,
   "metadata": {},
   "outputs": [],
   "source": [
    "# 5如何获取DataFrame的形状（行数和列数）？\n",
    "d5 = data.shape\n",
    "print(\"行数：\",d5[0])\n",
    "print(\"列数：\",d5[1])"
   ]
  },
  {
   "cell_type": "code",
   "execution_count": null,
   "metadata": {},
   "outputs": [],
   "source": [
    "# 6如何选择DataFrame中的特定列（例如，选择名为'column_2'的列）？\n",
    "d6 = data['column2']\n",
    "print(d6)"
   ]
  },
  {
   "cell_type": "code",
   "execution_count": null,
   "metadata": {},
   "outputs": [],
   "source": [
    "# 7如何选择DataFrame中的特定行（例如，选择索引为5的行）？\n",
    "d7 = data.loc[5]\n",
    "print(d7)"
   ]
  },
  {
   "cell_type": "code",
   "execution_count": null,
   "metadata": {},
   "outputs": [],
   "source": [
    "# 8如何选择DataFrame中满足特定条件的行（例如，选择列'column2'大于5的行）？\n",
    "d8 = data[data['column2']>5]\n",
    "print(d8)"
   ]
  },
  {
   "cell_type": "code",
   "execution_count": null,
   "metadata": {},
   "outputs": [],
   "source": [
    "# 9如何对DataFrame进行排序，按照某列的升序排序？\n",
    "d9 = data.sort_values(by='column2',ascending=True)\n",
    "print(d9)"
   ]
  },
  {
   "cell_type": "code",
   "execution_count": null,
   "metadata": {},
   "outputs": [],
   "source": [
    "# 10如何在DataFrame中添加一列，并将其命名为'new_column'，所有值都设置为0？\n",
    "data['new_column']=0\n",
    "print(data)"
   ]
  },
  {
   "cell_type": "code",
   "execution_count": null,
   "metadata": {},
   "outputs": [],
   "source": [
    "# 11如何计算DataFrame中每列的总和？\n",
    "d11 = data.sum()\n",
    "print(d11)"
   ]
  },
  {
   "cell_type": "code",
   "execution_count": null,
   "metadata": {},
   "outputs": [],
   "source": [
    "# 12如何计算DataFrame中每行的平均值？\n",
    "d12 = data.mean(axis=1)"
   ]
  },
  {
   "cell_type": "code",
   "execution_count": null,
   "metadata": {},
   "outputs": [],
   "source": [
    "# 13如何删除DataFrame中的一列（例如，删除名为'new_column'的列）？\n",
    "d13 = data.drop('new_column',axis=1)\n",
    "print(d13)"
   ]
  },
  {
   "cell_type": "code",
   "execution_count": null,
   "metadata": {},
   "outputs": [],
   "source": [
    "# 14如何删除DataFrame中的一行（例如，删除索引为5的行）？\n",
    "d14 = data.drop(5)\n",
    "print(d14)"
   ]
  },
  {
   "cell_type": "code",
   "execution_count": null,
   "metadata": {},
   "outputs": [],
   "source": [
    "# 15如何将DataFrame中的缺失值替换为特定的值（例如，将所有缺失值替换为0）？\n",
    "d15 = data.fillna(0)\n",
    "print(d15)"
   ]
  },
  {
   "cell_type": "code",
   "execution_count": null,
   "metadata": {},
   "outputs": [],
   "source": [
    "# 16如何将DataFrame中的数据分组，并计算每个组的平均值？\n",
    "d16 = data.groupby('exam')['column3'].mean()\n",
    "print(d16)"
   ]
  },
  {
   "cell_type": "code",
   "execution_count": null,
   "metadata": {},
   "outputs": [],
   "source": [
    "# 17如何将DataFrame中的数据按照某列的值进行合并（类似于数据库中的JOIN操作）？\n",
    "# new_data = pd.read_csv('2.csv')\n",
    "# d17 = data.merge(data,new_data)\n",
    "# print(d17)"
   ]
  },
  {
   "cell_type": "code",
   "execution_count": null,
   "metadata": {},
   "outputs": [],
   "source": [
    "# 18如何将DataFrame保存为CSV文件？\n",
    "data.to_csv('output.csv',index=False)"
   ]
  },
  {
   "cell_type": "code",
   "execution_count": null,
   "metadata": {},
   "outputs": [],
   "source": [
    "# 19如何将DataFrame中的数据转换为NumPy数组？\n",
    "d19 = data.values\n",
    "print(d19)"
   ]
  },
  {
   "cell_type": "code",
   "execution_count": null,
   "metadata": {},
   "outputs": [],
   "source": [
    "# 20如何将DataFrame中的数据进行透视操作（类似于Excel中的透视表）？\n",
    "pivot_table = data.pivot_table(values='column1', index='id', columns='column2', aggfunc=np.sum)\n",
    "print(pivot_table)"
   ]
  }
 ],
 "metadata": {
  "kernelspec": {
   "display_name": "base",
   "language": "python",
   "name": "python3"
  },
  "language_info": {
   "codemirror_mode": {
    "name": "ipython",
    "version": 3
   },
   "file_extension": ".py",
   "mimetype": "text/x-python",
   "name": "python",
   "nbconvert_exporter": "python",
   "pygments_lexer": "ipython3",
   "version": "3.10.9"
  },
  "orig_nbformat": 4
 },
 "nbformat": 4,
 "nbformat_minor": 2
}
