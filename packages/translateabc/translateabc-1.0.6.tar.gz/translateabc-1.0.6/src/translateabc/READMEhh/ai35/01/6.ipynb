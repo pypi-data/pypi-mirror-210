{
 "cells": [
  {
   "cell_type": "code",
   "execution_count": null,
   "metadata": {},
   "outputs": [],
   "source": [
    "# 1K-means 算法实现\n",
    "from sklearn.datasets import make_blobs\n",
    "import matplotlib.pyplot as plt\n",
    "from sklearn.cluster import KMeans\n"
   ]
  },
  {
   "cell_type": "code",
   "execution_count": null,
   "metadata": {},
   "outputs": [],
   "source": [
    "# 2生成数据集\n",
    "X, y = make_blobs(n_samples=500, n_features=2, centers=4, random_state=1)\n",
    "print(\"X 的维度为：{}\".format(X.shape))\n",
    "print(\"y 的维度为：{}\".format(y.shape))\n"
   ]
  },
  {
   "cell_type": "code",
   "execution_count": null,
   "metadata": {},
   "outputs": [],
   "source": [
    "# 3绘制散点图\n",
    "fig, ax1 = plt.subplots(1)\n",
    "ax1.scatter(X[:, 0], X[:, 1], marker='o'  # 设置点的形状为圆形\n",
    "            , s=8  # 设置点的大小\n",
    "            )\n",
    "plt.show()\n"
   ]
  },
  {
   "cell_type": "code",
   "execution_count": null,
   "metadata": {},
   "outputs": [],
   "source": [
    "color = [\"red\", \"pink\", \"orange\", \"green\"]\n",
    "fig, ax1 = plt.subplots(1)\n",
    "for i in range(4):\n",
    "    ax1.scatter(X[y == i, 0], X[y == i, 1]  # 根据每个点的标签绘制\n",
    "                , marker='o'  # 设置点的形状为圆形\n",
    "                , s=8  # 设置点的大小\n",
    "                , c=color[i]\n",
    "                )\n",
    "plt.show()\n"
   ]
  },
  {
   "cell_type": "code",
   "execution_count": null,
   "metadata": {},
   "outputs": [],
   "source": [
    "# 4Kmeans 聚类\n",
    "n_clusters = 3\n",
    "cluster1 = KMeans(n_clusters=n_clusters, random_state=0).fit(X)\n",
    "\n",
    "y_pred1 = cluster1.labels_\n",
    "print(y_pred1)\n",
    "\n",
    "centroid1 = cluster1.cluster_centers_\n",
    "print(centroid1)\n"
   ]
  },
  {
   "cell_type": "code",
   "execution_count": null,
   "metadata": {},
   "outputs": [],
   "source": [
    "color = [\"red\", \"pink\", \"orange\", \"gray\"]\n",
    "fig, ax1 = plt.subplots(1)\n",
    "for i in range(n_clusters):\n",
    "    ax1.scatter(X[y_pred1 == i, 0], X[y_pred1 == i, 1], marker='o'  # 点的形状\n",
    "                , s=8  # 点的大小\n",
    "                , c=color[i]\n",
    "                )\n",
    "\n",
    "ax1.scatter(centroid1[:, 0], centroid1[:, 1], marker=\"x\", s=15, c=\"black\")\n",
    "plt.show()\n"
   ]
  },
  {
   "cell_type": "code",
   "execution_count": null,
   "metadata": {},
   "outputs": [],
   "source": [
    "# 5再次 Kmeans 聚类\n",
    "n_clusters = 4\n",
    "cluster2 = KMeans(n_clusters=n_clusters, random_state=0).fit(X)\n",
    "y_pred2 = cluster2.labels_\n",
    "centroid2 = cluster2.cluster_centers_\n",
    "print(\"质心：{}\".format(centroid2))\n"
   ]
  },
  {
   "cell_type": "code",
   "execution_count": null,
   "metadata": {},
   "outputs": [],
   "source": [
    "color = [\"red\", \"pink\", \"orange\", \"green\"]\n",
    "fig, ax1 = plt.subplots(1)\n",
    "for i in range(n_clusters):\n",
    "    ax1.scatter(X[y_pred2 == i, 0], X[y_pred2 == i, 1], marker='o'  # 点的形状\n",
    "                , s=8  # 点的大小\n",
    "                , c=color[i]\n",
    "                )\n",
    "\n",
    "ax1.scatter(centroid2[:, 0], centroid2[:, 1], marker=\"x\", s=15, c=\"black\")\n",
    "plt.show()\n"
   ]
  }
 ],
 "metadata": {
  "language_info": {
   "name": "python"
  },
  "orig_nbformat": 4
 },
 "nbformat": 4,
 "nbformat_minor": 2
}
