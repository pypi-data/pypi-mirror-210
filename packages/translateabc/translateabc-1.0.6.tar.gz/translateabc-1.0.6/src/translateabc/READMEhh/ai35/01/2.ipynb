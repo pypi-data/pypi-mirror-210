{
 "cells": [
  {
   "cell_type": "code",
   "execution_count": null,
   "metadata": {},
   "outputs": [],
   "source": [
    "import numpy as np\n",
    "import matplotlib.pyplot as plt\n"
   ]
  },
  {
   "cell_type": "code",
   "execution_count": null,
   "metadata": {},
   "outputs": [],
   "source": [
    "# 定义函数，计算梯度\n",
    "def generate_gradient(X, theta, y):\n",
    "    sample_count = X.shape[0]\n",
    "    # 计算梯度，采用矩阵计算 1/m ∑(((h(x^i)-y^i)) x_j^i)\n",
    "    return (1./sample_count)*X.T.dot(X.dot(theta)-y)\n"
   ]
  },
  {
   "cell_type": "code",
   "execution_count": null,
   "metadata": {},
   "outputs": [],
   "source": [
    "# 定义函数，用于读取数据集\n",
    "def get_training_data(file_path):\n",
    "    orig_data = np.loadtxt(file_path, skiprows=1)  # 忽略第一行的标题\n",
    "    cols = orig_data.shape[1]\n",
    "    return (orig_data, orig_data[:, :cols - 1], orig_data[:, cols-1:])\n"
   ]
  },
  {
   "cell_type": "code",
   "execution_count": null,
   "metadata": {},
   "outputs": [],
   "source": [
    "# 定义函数，初始化参数\n",
    "# 初始化 θ 数组\n",
    "def init_theta(feature_count):\n",
    "    return np.ones(feature_count).reshape(feature_count, 1)\n"
   ]
  },
  {
   "cell_type": "code",
   "execution_count": null,
   "metadata": {},
   "outputs": [],
   "source": [
    "# 定义函数，实现梯度下降法\n",
    "def gradient_descending(X, y, theta, alpha):\n",
    "    Jthetas = []  # 记录代价函数 J(θ)的变化趋势，验证梯度下降是否运行正确\n",
    "    # 计算损失函数，等于真实值与预测值差的平方。(y^i-h(x^i))^2\n",
    "    Jtheta = (X.dot(theta)-y).T.dot(X.dot(theta)-y)\n",
    "    index = 0\n",
    "    gradient = generate_gradient(X, theta, y)  # 计算梯度\n",
    "    while not np.all(np.absolute(gradient) <= 1e-5):  # 梯度小于 0.00001 时计算结束\n",
    "        theta = theta - alpha * gradient\n",
    "        gradient = generate_gradient(X, theta, y)  # 计算新梯度\n",
    "        # 计算损失函数，等于真实值与预测值差的平方(y^i-h(x^i))^2\n",
    "        Jtheta = (X.dot(theta)-y).T.dot(X.dot(theta)-y)\n",
    "        if (index+1) % 10 == 0:\n",
    "            Jthetas.append((index, Jtheta[0]))  # 每 10 次计算记录一次结果\n",
    "        index += 1\n",
    "    return theta, Jthetas\n"
   ]
  },
  {
   "cell_type": "code",
   "execution_count": null,
   "metadata": {},
   "outputs": [],
   "source": [
    "# 定义函数，可视化损失函数变化曲线\n",
    "# 展示损失函数变化曲线图\n",
    "def showJTheta(diff_value):\n",
    "    p_x = []\n",
    "    p_y = []\n",
    "    for (index, sum) in diff_value:\n",
    "        p_x.append(index)\n",
    "        p_y.append(sum)\n",
    "    plt.plot(p_x, p_y, color='b')\n",
    "    plt.xlabel('steps')\n",
    "    plt.ylabel('loss funtion')\n",
    "    plt.title('step - loss function curve')\n",
    "    plt.show()\n"
   ]
  },
  {
   "cell_type": "code",
   "execution_count": null,
   "metadata": {},
   "outputs": [],
   "source": [
    "# 定义函数，可视化数据点及拟合的曲线\n",
    "# 展示实际数据点以及拟合出的曲线图\n",
    "def showlinercurve(theta, sample_training_set):\n",
    "    x, y = sample_training_set[:, 1], sample_training_set[:, 2]\n",
    "    z = theta[0] + theta[1] * x\n",
    "    plt.scatter(x, y, color='b', marker='x', label=\"sample data\")\n",
    "    plt.plot(x, z, 'r', color=\"r\", label=\"regression curve\")\n",
    "    plt.xlabel('x')\n",
    "    plt.ylabel('y')\n",
    "    plt.title('liner regression curve')\n",
    "    plt.legend()\n",
    "\n",
    "\n",
    "plt.show()\n"
   ]
  },
  {
   "cell_type": "code",
   "execution_count": null,
   "metadata": {},
   "outputs": [],
   "source": [
    "# 最终展示\n",
    "# 读取数据集\n",
    "training_data_include_y, training_x, y = get_training_data(\n",
    "    \"./ML/02/lr2_data.txt\")\n",
    "# 获取数据集数量及特征数\n",
    "sample_count, feature_count = training_x.shape\n",
    "# 定义学习步长 α\n",
    "alpha = 0.01\n",
    "# 初始化 Ɵ\n",
    "theta = init_theta(feature_count)\n",
    "# 获取最终的参数 Ɵ 及代价\n",
    "result_theta, Jthetas = gradient_descending(training_x, y, theta, alpha)\n",
    "# 打印参数\n",
    "print(\"w:{}\".format(result_theta[0][0]), \"b:{}\".format(result_theta[1][0]))\n",
    "showJTheta(Jthetas)\n",
    "showlinercurve(result_theta, training_data_include_y)\n"
   ]
  }
 ],
 "metadata": {
  "kernelspec": {
   "display_name": "base",
   "language": "python",
   "name": "python3"
  },
  "language_info": {
   "codemirror_mode": {
    "name": "ipython",
    "version": 3
   },
   "file_extension": ".py",
   "mimetype": "text/x-python",
   "name": "python",
   "nbconvert_exporter": "python",
   "pygments_lexer": "ipython3",
   "version": "3.10.9"
  },
  "orig_nbformat": 4
 },
 "nbformat": 4,
 "nbformat_minor": 2
}
