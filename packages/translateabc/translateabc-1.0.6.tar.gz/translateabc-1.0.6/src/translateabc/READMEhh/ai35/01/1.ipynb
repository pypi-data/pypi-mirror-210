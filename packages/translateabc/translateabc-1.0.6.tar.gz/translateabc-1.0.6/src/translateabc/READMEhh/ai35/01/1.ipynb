{
 "cells": [
  {
   "cell_type": "code",
   "execution_count": null,
   "metadata": {},
   "outputs": [],
   "source": [
    "# 线性回归 构建房价数据集并可视化\n",
    "from sklearn.linear_model import LinearRegression  # 导入线性回归模型\n",
    "import matplotlib.pyplot as plt  # 绘图库\n",
    "import numpy as np\n"
   ]
  },
  {
   "cell_type": "code",
   "execution_count": null,
   "metadata": {},
   "outputs": [],
   "source": [
    "#  构建房价数据集并可视化\n",
    "x = np.array([121, 125, 131, 141, 152, 161]).reshape(-1, 1)  # x 是房屋面积，作为特征\n",
    "y = np.array([300, 350, 425, 405, 496, 517])  # y 是房屋的\n",
    "plt.scatter(x, y)\n",
    "plt.xlabel(\"area\")  # 添加横坐标面积\n",
    "plt.ylabel(\"price\")  # 添加纵坐标价格\n",
    "\n",
    "plt.show()"
   ]
  },
  {
   "cell_type": "code",
   "execution_count": null,
   "metadata": {},
   "outputs": [],
   "source": [
    "#  模型训练\n",
    "lr = LinearRegression()  # 将线性回归模型封装为对象\n",
    "lr.fit(x, y)  # 模型在数据上训练\n"
   ]
  },
  {
   "cell_type": "code",
   "execution_count": null,
   "metadata": {},
   "outputs": [],
   "source": [
    "# 模型的可视化\n",
    "w = lr.coef_  # 存储模型的斜率\n",
    "b = lr.intercept_  # 存储模型的截距\n",
    "print('斜率:', w)\n",
    "print('截距:', b)\n",
    "\n",
    "plt.scatter(x, y)\n",
    "plt.xlabel(\"area\")  # 添加横坐标面积\n",
    "plt.ylabel(\"price\")  # 添加纵坐标价格\n",
    "plt.plot([x[0], x[-1]], [x[0]*w+b, x[-1]*w+b])\n"
   ]
  },
  {
   "cell_type": "code",
   "execution_count": null,
   "metadata": {},
   "outputs": [],
   "source": [
    "# 模型预测\n",
    "testX = np.array([[130]])  # 测试样本，面积为 130\n",
    "lr.predict(testX)  # 模型预测获得样本的房价\n"
   ]
  },
  {
   "cell_type": "code",
   "execution_count": null,
   "metadata": {},
   "outputs": [],
   "source": []
  }
 ],
 "metadata": {
  "kernelspec": {
   "display_name": "base",
   "language": "python",
   "name": "python3"
  },
  "language_info": {
   "codemirror_mode": {
    "name": "ipython",
    "version": 3
   },
   "file_extension": ".py",
   "mimetype": "text/x-python",
   "name": "python",
   "nbconvert_exporter": "python",
   "pygments_lexer": "ipython3",
   "version": "3.10.9"
  },
  "orig_nbformat": 4
 },
 "nbformat": 4,
 "nbformat_minor": 2
}
