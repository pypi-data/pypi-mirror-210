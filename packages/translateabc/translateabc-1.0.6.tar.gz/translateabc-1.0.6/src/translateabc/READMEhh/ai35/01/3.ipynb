{
 "cells": [
  {
   "cell_type": "code",
   "execution_count": null,
   "metadata": {},
   "outputs": [],
   "source": [
    "# 逻辑回归\n",
    "\n",
    "# 从 sklearn.preprocessing 里导入 StandardScaler。\n",
    "from sklearn.preprocessing import StandardScaler\n",
    "# 从 sklearn.linear_model 里导入 LogisticRegression\n",
    "from sklearn.linear_model import LogisticRegression\n"
   ]
  },
  {
   "cell_type": "code",
   "execution_count": null,
   "metadata": {},
   "outputs": [],
   "source": [
    "# 自定义数据集\n",
    "# X：每一项表示租金和面积\n",
    "# y：表示是否租赁该房间（0：不租，1：租）\n",
    "X = [[2200, 15], [2750, 20], [5000, 40], [4000, 20], [3300, 20], [2000, 10], [2500, 12], [12000, 80],\n",
    "     [2880, 10], [2300, 15], [1500, 10], [3000, 8], [\n",
    "         2000, 14], [2000, 10], [2150, 8], [3400, 20],\n",
    "     [5000, 20], [4000, 10], [3300, 15], [2000, 12], [\n",
    "    2500, 14], [10000, 100], [3150, 10],\n",
    "    [2950, 15], [1500, 5], [3000, 18], [8000, 12], [\n",
    "    2220, 14], [6000, 100], [3050, 10]\n",
    "]\n",
    "y = [1, 1, 0, 0, 1, 1, 1, 1, 0, 1, 1, 0, 1, 1, 0,\n",
    "     1, 0, 0, 0, 1, 1, 1, 0, 1, 0, 1, 0, 1, 1, 0]\n"
   ]
  },
  {
   "cell_type": "code",
   "execution_count": null,
   "metadata": {},
   "outputs": [],
   "source": [
    "# 数据预处理\n",
    "ss = StandardScaler()\n",
    "X_train = ss.fit_transform(X)\n",
    "print(X_train)\n"
   ]
  },
  {
   "cell_type": "code",
   "execution_count": null,
   "metadata": {},
   "outputs": [],
   "source": [
    "# 数据拟合\n",
    "# 调用 Lr 中的 fit 模块训练模型参数\n",
    "lr = LogisticRegression()\n",
    "lr.fit(X_train, y)\n"
   ]
  },
  {
   "cell_type": "code",
   "execution_count": null,
   "metadata": {},
   "outputs": [],
   "source": [
    "# 数据预测\n",
    "testX = [[2000, 8]]\n",
    "X_test = ss.transform(testX)\n",
    "print(\"待预测的值：\", X_test)\n",
    "label = lr.predict(X_test)\n",
    "print(\"predicted label = \", label)\n",
    "# 输出预测概率\n",
    "prob = lr.predict_proba(X_test)\n",
    "print(\"probability = \", prob)\n"
   ]
  }
 ],
 "metadata": {
  "kernelspec": {
   "display_name": "base",
   "language": "python",
   "name": "python3"
  },
  "language_info": {
   "codemirror_mode": {
    "name": "ipython",
    "version": 3
   },
   "file_extension": ".py",
   "mimetype": "text/x-python",
   "name": "python",
   "nbconvert_exporter": "python",
   "pygments_lexer": "ipython3",
   "version": "3.10.9"
  },
  "orig_nbformat": 4
 },
 "nbformat": 4,
 "nbformat_minor": 2
}
