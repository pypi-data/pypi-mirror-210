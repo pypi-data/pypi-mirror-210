{
 "cells": [
  {
   "cell_type": "code",
   "execution_count": 1,
   "metadata": {},
   "outputs": [],
   "source": [
    "from sommify.recipes import reader\n",
    "from sommify.recipes.reader import RecipeReader\n",
    "\n",
    "from elasticsearch import Elasticsearch\n",
    "from collections import Counter\n",
    "import numpy as np\n",
    "from sommify.data.meat import dictionary\n",
    "from sommify.recipes import elastic"
   ]
  },
  {
   "cell_type": "code",
   "execution_count": 4,
   "metadata": {},
   "outputs": [
    {
     "name": "stderr",
     "output_type": "stream",
     "text": [
      "{'cluster_name': '3ccb03fd7e6347ee80684e0f10f73f55', 'status': 'red', 'timed_out': False, 'number_of_nodes': 1, 'number_of_data_nodes': 1, 'active_primary_shards': 41, 'active_shards': 41, 'relocating_shards': 0, 'initializing_shards': 0, 'unassigned_shards': 57, 'delayed_unassigned_shards': 0, 'number_of_pending_tasks': 0, 'number_of_in_flight_fetch': 0, 'task_max_waiting_in_queue_millis': 0, 'active_shards_percent_as_number': 41.83673469387755}\n",
      "INPUT TERM : fillet from fish | TERM LEN :3\n",
      "Max number of ings : 71 | upper_fence : 9.5\n",
      "Recipe title : Spicy Pickled Fish\n"
     ]
    },
    {
     "data": {
      "text/plain": [
       "('Spicy Pickled Fish',\n",
       " ['lean fish',\n",
       "  'oil',\n",
       "  'salt',\n",
       "  'butter',\n",
       "  'sugar',\n",
       "  'cilantro',\n",
       "  'flour',\n",
       "  'onion',\n",
       "  'water',\n",
       "  'soy sauce',\n",
       "  'parsley',\n",
       "  'pepper',\n",
       "  'lemon juice',\n",
       "  'ginger',\n",
       "  'tomato',\n",
       "  'spicy powder',\n",
       "  'lime juice',\n",
       "  'mayonnaise'],\n",
       " ['Cut fish fillet to small pieces',\n",
       "  'Dip each fish piece into the beaten egg, coat it evenly and drip off excess',\n",
       "  'Next coat fish pieces in salt and flour mixture',\n",
       "  'Shake off excess',\n",
       "  'In a bowl, mix together seasoning sauce- chilli sauce, tomato ketchup, lemon juice, sugar and sesame oil',\n",
       "  'Mix well',\n",
       "  'Set aside',\n",
       "  'Heat oil in a frying pan',\n",
       "  'Deep fry fish fillet, drain',\n",
       "  'In a saucepan, simmer seasoning sauce, stirring to thicken sauce',\n",
       "  'Once sauce thickens, remove from heat',\n",
       "  'Pour sauce over fish fillet',\n",
       "  'Sprinkle spring onion on top as garnish and serve immediately',\n",
       "  ''])"
      ]
     },
     "execution_count": 4,
     "metadata": {},
     "output_type": "execute_result"
    }
   ],
   "source": [
    "ELASTIC_PASSWORD=\"qdpgMlSrNBspS7e4GKwLSouf\"\n",
    "ELASTIC_CLOUD_ID=\"sommify-elastic:d2VzdGV1cm9wZS5henVyZS5lbGFzdGljLWNsb3VkLmNvbTo0NDMkM2NjYjAzZmQ3ZTYzNDdlZTgwNjg0ZTBmMTBmNzNmNTUkYzEyYzUzYzUyN2I4NGQ4OWJjNjZkMDMwZmE2ZTNjMjg=\"\n",
    "r = RecipeReader(ELASTIC_PASSWORD, ELASTIC_CLOUD_ID)\n",
    "\n",
    "import logging\n",
    "elastic.search_by_query_term(r.es,\"fillet from fish\")"
   ]
  }
 ],
 "metadata": {
  "kernelspec": {
   "display_name": "ps-models",
   "language": "python",
   "name": "python3"
  },
  "language_info": {
   "codemirror_mode": {
    "name": "ipython",
    "version": 3
   },
   "file_extension": ".py",
   "mimetype": "text/x-python",
   "name": "python",
   "nbconvert_exporter": "python",
   "pygments_lexer": "ipython3",
   "version": "3.9.16"
  },
  "orig_nbformat": 4
 },
 "nbformat": 4,
 "nbformat_minor": 2
}
