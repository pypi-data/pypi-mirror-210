{
 "cells": [
  {
   "attachments": {},
   "cell_type": "markdown",
   "metadata": {},
   "source": [
    "# Tier Wrapper generator\n",
    "\n",
    "The following notebook generates the wrapping code to make C++ available to the pyclesperanto python code.\n",
    "This notebook is to be runned for each Tiers (1,2,3, etc.) and will generate the corresponding wrapping code.\n",
    "It only need to be runned when a Tier is updated.\n",
    "\n",
    "__*WARNING*__: this can break the code if the python package is not update consequently. Please check the code and run the tests before pushing."
   ]
  },
  {
   "cell_type": "code",
   "execution_count": 1,
   "metadata": {},
   "outputs": [],
   "source": [
    "import glob\n",
    "import os\n",
    "import sys\n",
    "import numpy as np\n",
    "\n",
    "# define __file__ if it is not defined\n",
    "if '__file__' not in globals():\n",
    "    __file__ = os.path.abspath('generate-tiers-package.ipynb')\n",
    "\n",
    "# get platform linux, windows, darwin\n",
    "platform = sys.platform\n",
    "# get platform architecture x86_64, x86, armv7l\n",
    "architecture = os.uname().machine\n",
    "# get the python version\n",
    "python_version = sys.version_info"
   ]
  },
  {
   "attachments": {},
   "cell_type": "markdown",
   "metadata": {},
   "source": [
    "Get the list of hpp files in the tiers directory and sort them by name."
   ]
  },
  {
   "cell_type": "code",
   "execution_count": 2,
   "metadata": {},
   "outputs": [
    {
     "name": "stdout",
     "output_type": "stream",
     "text": [
      "['/mnt/data/Clesperanto/repo/pyclesperanto/scripts/../_skbuild/linux-x86_64-3.10/cmake-build/_deps/clic_lib-src/clic/include/tier3/cleCloseIndexGapsInLabelMapKernel.hpp', '/mnt/data/Clesperanto/repo/pyclesperanto/scripts/../_skbuild/linux-x86_64-3.10/cmake-build/_deps/clic_lib-src/clic/include/tier3/cleDifferenceOfGaussianKernel.hpp', '/mnt/data/Clesperanto/repo/pyclesperanto/scripts/../_skbuild/linux-x86_64-3.10/cmake-build/_deps/clic_lib-src/clic/include/tier3/cleHistogramKernel.hpp']\n"
     ]
    }
   ],
   "source": [
    "# get first argument of the script\n",
    "tier = 3 #sys.argv[1]\n",
    "\n",
    "# get current directory\n",
    "current_dir = os.path.dirname(os.path.abspath(__file__))\n",
    "# get the relative path to directory and add 'tier' plus the number of the tier\n",
    "tier_dir = os.path.join(current_dir, '..', '_skbuild', 'linux-x86_64-3.10', 'cmake-build', '_deps', 'clic_lib-src', 'clic', 'include', 'tier' + str(tier))\n",
    "# list all files in the tier_dir\n",
    "files = glob.glob(tier_dir + '/*.hpp')\n",
    "files.sort()\n",
    "print(files)"
   ]
  },
  {
   "attachments": {},
   "cell_type": "markdown",
   "metadata": {},
   "source": [
    "Define a set of function to parse the hpp files and extract the information we need."
   ]
  },
  {
   "cell_type": "code",
   "execution_count": 3,
   "metadata": {},
   "outputs": [],
   "source": [
    "def read_function_signature(file, function_name):\n",
    "    with open(file, 'r') as f:\n",
    "        # read the file content\n",
    "        content = f.read()\n",
    "        # find the position of the function of interest\n",
    "        start = content.find(function_name + 'Kernel_Call')\n",
    "        # find the position of the function signature\n",
    "        start = content.find('(', start)\n",
    "        # find the position of the end of the function signature\n",
    "        end = content.find(')', start)\n",
    "        # extract the function signature\n",
    "        function_signature = content[start:end+1]\n",
    "        # remove the prefix 'cle' from the function signature\n",
    "        function_signature = function_signature.replace('cle', '')\n",
    "        # remove the suffix 'Kernel_Call' from the function signature\n",
    "        function_signature = function_signature.replace('Kernel_Call', '')\n",
    "    return function_signature\n",
    "\n",
    "def get_parameter_names(function_signature):\n",
    "    # split the function signature into a list of parameters\n",
    "    parameters = function_signature[1:-1].split(',')\n",
    "    # get the parameter names\n",
    "    parameter_names = [p.split(' ')[-1] for p in parameters]\n",
    "    return parameter_names\n",
    "\n",
    "def generate_wrapper_function(function_name, parameter_names):\n",
    "    # generate the function name for python and c++\n",
    "    py_function_name = '_' + function_name + 'Kernel_Call'\n",
    "    cpp_function_name = function_name + 'Kernel_Call'\n",
    "    # generate the function body for the wrapper\n",
    "    wrapper_function = \"m.def(\\\"\" + py_function_name + \"\\\", &cle::\" + cpp_function_name + \", \\\"Call \" + cpp_function_name + \" from C++.\\\",\\n\"\n",
    "    wrapper_function += \"pybind11::arg(\\\"\"+ parameter_names[0] +\"\\\")\"\n",
    "    for parameter_name in parameter_names[1:]:\n",
    "        wrapper_function += \", pybind11::arg(\\\"\"\n",
    "        wrapper_function += parameter_name\n",
    "        wrapper_function += \"\\\")\"\n",
    "    wrapper_function += \");\"\n",
    "    return wrapper_function\n"
   ]
  },
  {
   "attachments": {},
   "cell_type": "markdown",
   "metadata": {},
   "source": [
    "For each files, we extract the name of the function it contains as well as its signature. From both we build the wrapper code to make the function visible in Python."
   ]
  },
  {
   "cell_type": "code",
   "execution_count": 4,
   "metadata": {},
   "outputs": [
    {
     "name": "stdout",
     "output_type": "stream",
     "text": [
      "\t m.def(\"_CloseIndexGapsInLabelMapKernel_Call\", &cle::CloseIndexGapsInLabelMapKernel_Call, \"Call CloseIndexGapsInLabelMapKernel_Call from C++.\",\n",
      "pybind11::arg(\"device\"), pybind11::arg(\"src\"), pybind11::arg(\"dst\"), pybind11::arg(\"value\"));\n",
      "\t m.def(\"_DifferenceOfGaussianKernel_Call\", &cle::DifferenceOfGaussianKernel_Call, \"Call DifferenceOfGaussianKernel_Call from C++.\",\n",
      "pybind11::arg(\"device\"), pybind11::arg(\"src\"), pybind11::arg(\"dst\"), pybind11::arg(\"sigma1_x\"), pybind11::arg(\"sigma1_y\"), pybind11::arg(\"sigma1_z\"), pybind11::arg(\"sigma2_x\"), pybind11::arg(\"sigma2_y\"), pybind11::arg(\"sigma2_z\"));\n",
      "\t m.def(\"_HistogramKernel_Call\", &cle::HistogramKernel_Call, \"Call HistogramKernel_Call from C++.\",\n",
      "pybind11::arg(\"device\"), pybind11::arg(\"src\"), pybind11::arg(\"dst\"), pybind11::arg(\"min_value\"), pybind11::arg(\"max_value\"), pybind11::arg(\"bin\"));\n"
     ]
    }
   ],
   "source": [
    "wrapper_functions = []\n",
    "# we loop on all the tier files\n",
    "for file in files:\n",
    "    # get the function name without the prefix 'cle' and the suffix 'Kernel_Call'\n",
    "    function_name = os.path.basename(file)[3:-10]\n",
    "    # print(function_name)\n",
    "\n",
    "    # read the function signature from the file\n",
    "    function_signature = read_function_signature(file, function_name)\n",
    "    # print(function_signature)\n",
    "\n",
    "    # get the parameter names\n",
    "    parameter_names = get_parameter_names(function_signature)\n",
    "    # print(parameter_names)\n",
    "\n",
    "    # generate the wrapper function\n",
    "    wrapper_function = generate_wrapper_function(function_name, parameter_names)\n",
    "    # print(wrapper_function)\n",
    "\n",
    "    # add the wrapper function to the list of wrapper functions\n",
    "    wrapper_functions.append(wrapper_function)\n",
    "\n",
    "# print each wrapper function on a new line \n",
    "for wrapper_function in wrapper_functions:\n",
    "    print(\"\\t\",wrapper_function)"
   ]
  },
  {
   "attachments": {},
   "cell_type": "markdown",
   "metadata": {},
   "source": [
    "We create the wrapper file to contains the Tier functions currently processed. And for each function, we add the wrapper code to the file."
   ]
  },
  {
   "cell_type": "code",
   "execution_count": 5,
   "metadata": {},
   "outputs": [],
   "source": [
    "# create a cpp file for the current tier call cleTierX.cpp\n",
    "\n",
    "# get the path to the current directory\n",
    "current_dir = os.path.dirname(os.path.abspath(__file__))\n",
    "# get the path to the directory where the cpp file should be stored\n",
    "cpp_dir = os.path.join(current_dir, '..', 'wrapper')\n",
    "# create the cpp file\n",
    "cpp_file = os.path.join(cpp_dir, 'cleTier' + str(tier) + '.cpp')\n",
    "\n",
    "# if the file already exists, rename it to cleTierX_old.cpp\n",
    "if os.path.exists(cpp_file):\n",
    "    os.rename(cpp_file, cpp_file.replace('.cpp', '_old.cpp'))\n",
    "\n",
    "with open(cpp_file, 'w') as f:\n",
    "    # write the header for pyclesperanto\n",
    "    f.write('#include \"pyclesperanto.hpp\"\\n')\n",
    "    f.write('#include \"cleKernelList.hpp\"\\n')\n",
    "    # skip a line\n",
    "    f.write('\\n')\n",
    "    # write the module function\n",
    "    f.write('auto init_cleTier' + str(tier) + '(pybind11::module_ &m) -> void\\n{\\n')\n",
    "    # skip a line\n",
    "    f.write('\\n')\n",
    "    # write the wrapper functions\n",
    "    for wrapper_function in wrapper_functions:\n",
    "        f.write('\\t' + wrapper_function + '\\n')\n",
    "        f.write('\\n')\n",
    "    # close the module function\n",
    "    f.write('}')"
   ]
  }
 ],
 "metadata": {
  "kernelspec": {
   "display_name": "skbuild",
   "language": "python",
   "name": "python3"
  },
  "language_info": {
   "codemirror_mode": {
    "name": "ipython",
    "version": 3
   },
   "file_extension": ".py",
   "mimetype": "text/x-python",
   "name": "python",
   "nbconvert_exporter": "python",
   "pygments_lexer": "ipython3",
   "version": "3.10.4"
  },
  "orig_nbformat": 4,
  "vscode": {
   "interpreter": {
    "hash": "1bf89b5e425e511e6208a82dd7a3225392f448ad069ddd9557f507f6073233bf"
   }
  }
 },
 "nbformat": 4,
 "nbformat_minor": 2
}
