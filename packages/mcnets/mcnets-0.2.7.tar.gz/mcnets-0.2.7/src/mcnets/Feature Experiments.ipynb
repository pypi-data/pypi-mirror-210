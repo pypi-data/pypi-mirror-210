{
 "cells": [
  {
   "cell_type": "code",
   "execution_count": 2,
   "metadata": {},
   "outputs": [],
   "source": [
    "import matplotlib.pyplot as plt\n",
    "from main import *\n",
    "import numpy as np\n",
    "import random as rn\n",
    "import math as m\n",
    "from time import perf_counter as pc"
   ]
  },
  {
   "cell_type": "code",
   "execution_count": 2,
   "metadata": {},
   "outputs": [
    {
     "name": "stdout",
     "output_type": "stream",
     "text": [
      "================================================================\n",
      "                  Neural Net Characteristics:                   \n",
      "1. Layer Sizes = [1, 20, 20, 20, 1]\n",
      "2. Weight Medians = [0.09, -0.03, 0.01, -0.04]\n",
      "3. Number of Parameters: 840\n",
      "4. Activation Functions: ['ATAN', 'ELU', 'ATAN', 'NONE']\n",
      "================================================================\n",
      "R2: 0.892506 | Training: ========================================\n"
     ]
    },
    {
     "data": {
      "image/png": "[encoded data removed]",
      "text/plain": [
       "<Figure size 432x288 with 1 Axes>"
      ]
     },
     "metadata": {
      "needs_background": "light"
     },
     "output_type": "display_data"
    }
   ],
   "source": [
    "## Training Tests ##\n",
    "\n",
    "# Setup net\n",
    "NN = AdvNet(1, [20]*3, 1, [\"ATAN\", \"ELU\", \"ATAN\", \"NONE\"])\n",
    "print(NN)\n",
    "\n",
    "# Make X and Y data\n",
    "xArr = np.linspace(0, 11)\n",
    "\n",
    "yT = [m.sin(i + 4) - i**2/10 + i for i in xArr]\n",
    "yArr = np.array(yT)\n",
    "yArr = yArr / np.max(yArr)\n",
    "\n",
    "# Thin data\n",
    "xThin, yThin, xPlot = thinData(xArr, yArr, 10)\n",
    "\n",
    "# Train net\n",
    "NN, R2 = genTrain(NN, xThin, yThin, batchSize=50, iterations=420)\n",
    "\n",
    "# Net Predictions\n",
    "yHatThin = Forecast(NN, xThin, plotResults=False)\n",
    "\n",
    "# Plot predictions and such\n",
    "plt.plot(xPlot, yHatThin)\n",
    "plt.plot(xPlot, yThin, 'X')\n",
    "plt.plot(xArr*50/11, yArr, '--')\n",
    "plt.legend([\"Predictions\", \"Train Data\", \"True Data\"])\n",
    "plt.title(\"Net Predictions vs Train / True Data\")\n",
    "plt.show()"
   ]
  },
  {
   "cell_type": "code",
   "execution_count": 38,
   "metadata": {},
   "outputs": [
    {
     "name": "stdout",
     "output_type": "stream",
     "text": [
      "Initial Score: 16.307604159500553\n",
      "\n",
      "Score 1: 11.745016447379008\n",
      "Score 2: 11.738644745022901\n"
     ]
    },
    {
     "ename": "KeyboardInterrupt",
     "evalue": "",
     "output_type": "error",
     "traceback": [
      "\u001b[1;31m---------------------------------------------------------------------------\u001b[0m",
      "\u001b[1;31mKeyboardInterrupt\u001b[0m                         Traceback (most recent call last)",
      "\u001b[1;32md:\\OneDrive\\Documents (Cloud)\\Hobby Things\\Codes\\~~~PyPi\\NeuralNet\\src\\mcnets\\Feature Experiments.ipynb Cell 3\u001b[0m in \u001b[0;36m<cell line: 23>\u001b[1;34m()\u001b[0m\n\u001b[0;32m     <a href='vscode-notebook-cell:/d%3A/OneDrive/Documents%20%28Cloud%29/Hobby%20Things/Codes/~~~PyPi/NeuralNet/src/mcnets/Feature%20Experiments.ipynb#X10sZmlsZQ%3D%3D?line=23'>24</a>\u001b[0m newScore \u001b[39m=\u001b[39m best \u001b[39m+\u001b[39m \u001b[39m1\u001b[39m\n\u001b[0;32m     <a href='vscode-notebook-cell:/d%3A/OneDrive/Documents%20%28Cloud%29/Hobby%20Things/Codes/~~~PyPi/NeuralNet/src/mcnets/Feature%20Experiments.ipynb#X10sZmlsZQ%3D%3D?line=24'>25</a>\u001b[0m \u001b[39mwhile\u001b[39;00m newScore \u001b[39m>\u001b[39m best:\n\u001b[1;32m---> <a href='vscode-notebook-cell:/d%3A/OneDrive/Documents%20%28Cloud%29/Hobby%20Things/Codes/~~~PyPi/NeuralNet/src/mcnets/Feature%20Experiments.ipynb#X10sZmlsZQ%3D%3D?line=25'>26</a>\u001b[0m     net2 \u001b[39m=\u001b[39m net\u001b[39m.\u001b[39;49mCopyNet()\n\u001b[0;32m     <a href='vscode-notebook-cell:/d%3A/OneDrive/Documents%20%28Cloud%29/Hobby%20Things/Codes/~~~PyPi/NeuralNet/src/mcnets/Feature%20Experiments.ipynb#X10sZmlsZQ%3D%3D?line=26'>27</a>\u001b[0m     net2\u001b[39m.\u001b[39mTweakWeights(\u001b[39m1\u001b[39m\u001b[39m/\u001b[39m(i\u001b[39m+\u001b[39m\u001b[39m1\u001b[39m))\n\u001b[0;32m     <a href='vscode-notebook-cell:/d%3A/OneDrive/Documents%20%28Cloud%29/Hobby%20Things/Codes/~~~PyPi/NeuralNet/src/mcnets/Feature%20Experiments.ipynb#X10sZmlsZQ%3D%3D?line=27'>28</a>\u001b[0m     newScore \u001b[39m=\u001b[39m getScore(xData, yTrue, net2)\n",
      "File \u001b[1;32md:\\OneDrive\\Documents (Cloud)\\Hobby Things\\Codes\\~~~PyPi\\NeuralNet\\src\\mcnets\\main.py:315\u001b[0m, in \u001b[0;36mAdvNet.CopyNet\u001b[1;34m(self)\u001b[0m\n\u001b[0;32m    313\u001b[0m \u001b[39m# Setup weights\u001b[39;00m\n\u001b[0;32m    314\u001b[0m \u001b[39mfor\u001b[39;00m i \u001b[39min\u001b[39;00m \u001b[39mrange\u001b[39m(\u001b[39mlen\u001b[39m(newSizes) \u001b[39m-\u001b[39m \u001b[39m1\u001b[39m):\n\u001b[1;32m--> 315\u001b[0m     newNet\u001b[39m.\u001b[39mweights[i] \u001b[39m=\u001b[39m \u001b[39mself\u001b[39;49m\u001b[39m.\u001b[39;49mweights[i]\u001b[39m.\u001b[39;49mcopy()\n\u001b[0;32m    317\u001b[0m \u001b[39m# Return the copied net\u001b[39;00m\n\u001b[0;32m    318\u001b[0m \u001b[39mreturn\u001b[39;00m newNet\n",
      "\u001b[1;31mKeyboardInterrupt\u001b[0m: "
     ]
    }
   ],
   "source": [
    "# Net\n",
    "size = 3\n",
    "acts = [\"ATAN\"]\n",
    "net = AdvNet(1, [15]*(size-1), 1, [rn.choice(acts) for _ in range(size)])\n",
    "\n",
    "# Data\n",
    "xData = np.arange(0, 3, 0.5).tolist()\n",
    "yTrue = [(xi+(rn.random()-0.5))**2 for xi in xData]\n",
    "\n",
    "# Functions\n",
    "def getScore(X, Y, NN):\n",
    "    yHat = [NN.Calculate(xi) for xi in X]\n",
    "    diffs = [abs(yi-yhi) for yi, yhi in zip(Y, yHat)]\n",
    "    return sum(diffs)\n",
    "\n",
    "# Training\n",
    "# Initial Score\n",
    "best = getScore(xData, yTrue, net)\n",
    "bestCopy = best\n",
    "print(f\"Initial Score: {best}\\n\")\n",
    "\n",
    "# Training (Standard single batch)\n",
    "for i in range(3):\n",
    "    newScore = best + 1\n",
    "    while newScore > best:\n",
    "        net2 = net.CopyNet()\n",
    "        net2.TweakWeights(1/(i+1))\n",
    "        newScore = getScore(xData, yTrue, net2)\n",
    "    best = newScore\n",
    "    print(f\"Score {i+1}: {best}\")\n",
    "print()\n",
    "\n",
    "# Training (gradient)\n",
    "print(\"With Gradient:\")\n",
    "dW = None\n",
    "for i in range(3):\n",
    "    newScore = bestCopy + 1\n",
    "    if dW == None:\n",
    "        while newScore > bestCopy:\n",
    "            net3 = net.CopyNet()\n",
    "            dW = net3.TweakWeights(1/(i+1), returnChange=True)\n",
    "            newScore = getScore(xData, yTrue, net3)\n",
    "    else:\n",
    "        for _ in range(20):\n",
    "            done = False\n",
    "            dW = [wi/(1.05) for wi in dW]\n",
    "            net3 = net.CopyNet()\n",
    "            net3.ApplyTweak(dW)\n",
    "            newScore = getScore(xData, yTrue, net3)\n",
    "            if newScore < bestCopy:\n",
    "                done = True\n",
    "                print(\"Used Gradient\")\n",
    "                break\n",
    "        if not done:\n",
    "            while newScore > bestCopy:\n",
    "                net3 = net.CopyNet()\n",
    "                dW = net3.TweakWeights(1/(i+1), returnChange=True)\n",
    "                newScore = getScore(xData, yTrue, net3)\n",
    "    bestCopy = newScore\n",
    "    print(f\"Score {i+1}: {bestCopy}\")\n"
   ]
  },
  {
   "cell_type": "code",
   "execution_count": 17,
   "metadata": {},
   "outputs": [
    {
     "name": "stdout",
     "output_type": "stream",
     "text": [
      "================================================================\n",
      "                  Neural Net Characteristics:                   \n",
      "1. Layer Sizes = [4, 10, 10, 1]\n",
      "2. Weight Medians = [-0.01, 0.03, -0.1]\n",
      "3. Number of Parameters: 150\n",
      "4. Activation Functions: ['NONE', 'ELU', 'ELU']\n",
      "================================================================\n",
      "[[1. 1. 1. 1.]\n",
      " [1. 1. 1. 1.]\n",
      " [1. 1. 1. 1.]\n",
      " [1. 1. 1. 1.]\n",
      " [1. 1. 1. 1.]\n",
      " [1. 1. 1. 1.]\n",
      " [1. 1. 1. 1.]\n",
      " [1. 1. 1. 1.]\n",
      " [1. 1. 1. 1.]\n",
      " [1. 1. 1. 1.]]\n",
      "[1. 1. 1. 1.]\n"
     ]
    }
   ],
   "source": [
    "model = AdvNet(4, [10, 10], 1, [\"NONE\", 'ELU', 'ELU'])\n",
    "\n",
    "X = np.ones((10, 4))\n",
    "\n",
    "\n",
    "print(model)\n",
    "print(X)\n",
    "print(X[0])"
   ]
  },
  {
   "cell_type": "code",
   "execution_count": 18,
   "metadata": {},
   "outputs": [
    {
     "data": {
      "text/plain": [
       "0.01428002049026933"
      ]
     },
     "execution_count": 18,
     "metadata": {},
     "output_type": "execute_result"
    }
   ],
   "source": [
    "model.Calculate(X[0])"
   ]
  },
  {
   "cell_type": "code",
   "execution_count": 3,
   "metadata": {},
   "outputs": [
    {
     "name": "stdout",
     "output_type": "stream",
     "text": [
      "================================================================\n",
      "                  Neural Net Characteristics:                   \n",
      "1. Layer Sizes = [1, 1, 1, 1, 1, 1, 1, 1, 1, 1, 1, 1]\n",
      "2. Weight Medians = [0.25, 0.04, -0.05, -0.18, 0.4, 0.31,\n",
      "-0.26, -0.21, 0.29, 0.44, 0.31]\n",
      "3. Number of Parameters: 11\n",
      "4. Activation Functions: ['RELU', 'RELU', 'RELU', 'RELU',\n",
      "'RELU', 'RELU', 'RELU', 'RELU', 'RELU', 'RELU', 'RELU']\n",
      "================================================================\n",
      "================================================================\n",
      "                  Neural Net Characteristics:                   \n",
      "1. Layer Sizes = [1, 1, 1, 1, 1, 1, 1, 1, 1, 1, 1, 1]\n",
      "2. Weight Medians = [0.25, 0.04, -0.05, -0.18, 0.4, 0.31,\n",
      "-0.26, -0.21, 0.29, 0.44, 0.31]\n",
      "3. Number of Parameters: 11\n",
      "4. Activation Functions: ['RELU', 'RELU', 'RELU', 'RELU',\n",
      "'RELU', 'RELU', 'RELU', 'RELU', 'RELU', 'RELU', 'RELU']\n",
      "================================================================\n"
     ]
    }
   ],
   "source": [
    "from main import *\n",
    "\n",
    "nn = AdvNet(1, [], 1, \"RELU\")\n",
    "print(nn)\n",
    "nn.SaveNN(\"Test1\")\n",
    "print(LoadNet(\"Test1\"))"
   ]
  }
 ],
 "metadata": {
  "kernelspec": {
   "display_name": "Python 3",
   "language": "python",
   "name": "python3"
  },
  "language_info": {
   "codemirror_mode": {
    "name": "ipython",
    "version": 3
   },
   "file_extension": ".py",
   "mimetype": "text/x-python",
   "name": "python",
   "nbconvert_exporter": "python",
   "pygments_lexer": "ipython3",
   "version": "3.8.8"
  },
  "orig_nbformat": 4,
  "vscode": {
   "interpreter": {
    "hash": "0359b4785db930eb8f1ea876bf7ba349bace0e70fea48707a8a08ed9921e0151"
   }
  }
 },
 "nbformat": 4,
 "nbformat_minor": 2
}
